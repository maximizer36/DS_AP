{
 "cells": [
  {
   "cell_type": "markdown",
   "metadata": {},
   "source": [
    "# DS - Application Project <br>\n",
    "# Developement of a Recommender System for Employee Skills - Binary Approach"
   ]
  },
  {
   "cell_type": "markdown",
   "metadata": {},
   "source": [
    "## Preprocessing"
   ]
  },
  {
   "cell_type": "markdown",
   "metadata": {},
   "source": [
    "Packages:"
   ]
  },
  {
   "cell_type": "code",
   "execution_count": 19,
   "metadata": {},
   "outputs": [],
   "source": [
    "import implicit\n",
    "#import h5py\n",
    "import pandas as pd\n",
    "import numpy as np\n",
    "# from implicit.evaluation import train_test_split\n",
    "# from implicit.nearest_neighbours import (\n",
    "#     normalize,\n",
    "#     bm25_weight\n",
    "# )\n",
    "import scipy\n",
    "from scipy.sparse import csr_matrix\n",
    "import scipy.sparse\n",
    "# from implicit.lmf import LogisticMatrixFactorization\n",
    "from implicit.evaluation import precision_at_k,mean_average_precision_at_k, ndcg_at_k\n",
    "from random import shuffle\n",
    "import itertools\n",
    "import copy\n",
    "from matplotlib import pyplot as plt\n"
   ]
  },
  {
   "cell_type": "markdown",
   "metadata": {},
   "source": [
    "Import data:"
   ]
  },
  {
   "cell_type": "code",
   "execution_count": 20,
   "metadata": {},
   "outputs": [
    {
     "data": {
      "text/html": [
       "<div>\n",
       "<style scoped>\n",
       "    .dataframe tbody tr th:only-of-type {\n",
       "        vertical-align: middle;\n",
       "    }\n",
       "\n",
       "    .dataframe tbody tr th {\n",
       "        vertical-align: top;\n",
       "    }\n",
       "\n",
       "    .dataframe thead th {\n",
       "        text-align: right;\n",
       "    }\n",
       "</style>\n",
       "<table border=\"1\" class=\"dataframe\">\n",
       "  <thead>\n",
       "    <tr style=\"text-align: right;\">\n",
       "      <th></th>\n",
       "      <th>person</th>\n",
       "      <th>skill</th>\n",
       "      <th>category</th>\n",
       "    </tr>\n",
       "  </thead>\n",
       "  <tbody>\n",
       "    <tr>\n",
       "      <th>0</th>\n",
       "      <td>12</td>\n",
       "      <td>Windows NT/2000/XP</td>\n",
       "      <td>Betriebssystem</td>\n",
       "    </tr>\n",
       "    <tr>\n",
       "      <th>1</th>\n",
       "      <td>12</td>\n",
       "      <td>MAC OS X</td>\n",
       "      <td>Betriebssystem</td>\n",
       "    </tr>\n",
       "    <tr>\n",
       "      <th>2</th>\n",
       "      <td>12</td>\n",
       "      <td>Windows 7</td>\n",
       "      <td>Betriebssystem</td>\n",
       "    </tr>\n",
       "    <tr>\n",
       "      <th>3</th>\n",
       "      <td>12</td>\n",
       "      <td>Windows 8</td>\n",
       "      <td>Betriebssystem</td>\n",
       "    </tr>\n",
       "    <tr>\n",
       "      <th>4</th>\n",
       "      <td>12</td>\n",
       "      <td>iOS</td>\n",
       "      <td>Betriebssystem</td>\n",
       "    </tr>\n",
       "  </tbody>\n",
       "</table>\n",
       "</div>"
      ],
      "text/plain": [
       "   person               skill        category\n",
       "0      12  Windows NT/2000/XP  Betriebssystem\n",
       "1      12            MAC OS X  Betriebssystem\n",
       "2      12           Windows 7  Betriebssystem\n",
       "3      12           Windows 8  Betriebssystem\n",
       "4      12                 iOS  Betriebssystem"
      ]
     },
     "execution_count": 20,
     "metadata": {},
     "output_type": "execute_result"
    }
   ],
   "source": [
    "df = pd.read_csv(\"data/person-skills_2022-06-27.csv\",sep=\";\") \n",
    "df.head(5)"
   ]
  },
  {
   "cell_type": "markdown",
   "metadata": {},
   "source": [
    "DataFrame that assigns a category to every skill:"
   ]
  },
  {
   "cell_type": "code",
   "execution_count": 21,
   "metadata": {},
   "outputs": [
    {
     "data": {
      "text/html": [
       "<div>\n",
       "<style scoped>\n",
       "    .dataframe tbody tr th:only-of-type {\n",
       "        vertical-align: middle;\n",
       "    }\n",
       "\n",
       "    .dataframe tbody tr th {\n",
       "        vertical-align: top;\n",
       "    }\n",
       "\n",
       "    .dataframe thead th {\n",
       "        text-align: right;\n",
       "    }\n",
       "</style>\n",
       "<table border=\"1\" class=\"dataframe\">\n",
       "  <thead>\n",
       "    <tr style=\"text-align: right;\">\n",
       "      <th></th>\n",
       "      <th>skill</th>\n",
       "      <th>category</th>\n",
       "    </tr>\n",
       "  </thead>\n",
       "  <tbody>\n",
       "    <tr>\n",
       "      <th>0</th>\n",
       "      <td>Windows NT/2000/XP</td>\n",
       "      <td>Betriebssystem</td>\n",
       "    </tr>\n",
       "    <tr>\n",
       "      <th>1</th>\n",
       "      <td>MAC OS X</td>\n",
       "      <td>Betriebssystem</td>\n",
       "    </tr>\n",
       "    <tr>\n",
       "      <th>2</th>\n",
       "      <td>Windows 7</td>\n",
       "      <td>Betriebssystem</td>\n",
       "    </tr>\n",
       "    <tr>\n",
       "      <th>3</th>\n",
       "      <td>Windows 8</td>\n",
       "      <td>Betriebssystem</td>\n",
       "    </tr>\n",
       "    <tr>\n",
       "      <th>4</th>\n",
       "      <td>iOS</td>\n",
       "      <td>Betriebssystem</td>\n",
       "    </tr>\n",
       "  </tbody>\n",
       "</table>\n",
       "</div>"
      ],
      "text/plain": [
       "                skill        category\n",
       "0  Windows NT/2000/XP  Betriebssystem\n",
       "1            MAC OS X  Betriebssystem\n",
       "2           Windows 7  Betriebssystem\n",
       "3           Windows 8  Betriebssystem\n",
       "4                 iOS  Betriebssystem"
      ]
     },
     "execution_count": 21,
     "metadata": {},
     "output_type": "execute_result"
    }
   ],
   "source": [
    "data_categories = df[[\"skill\",\"category\"]].drop_duplicates()\n",
    "data_categories.head(5)"
   ]
  },
  {
   "cell_type": "code",
   "execution_count": 22,
   "metadata": {},
   "outputs": [
    {
     "data": {
      "text/html": [
       "<div>\n",
       "<style scoped>\n",
       "    .dataframe tbody tr th:only-of-type {\n",
       "        vertical-align: middle;\n",
       "    }\n",
       "\n",
       "    .dataframe tbody tr th {\n",
       "        vertical-align: top;\n",
       "    }\n",
       "\n",
       "    .dataframe thead th {\n",
       "        text-align: right;\n",
       "    }\n",
       "</style>\n",
       "<table border=\"1\" class=\"dataframe\">\n",
       "  <thead>\n",
       "    <tr style=\"text-align: right;\">\n",
       "      <th></th>\n",
       "      <th>skill</th>\n",
       "      <th>category</th>\n",
       "    </tr>\n",
       "  </thead>\n",
       "  <tbody>\n",
       "    <tr>\n",
       "      <th>19</th>\n",
       "      <td>NetBeans</td>\n",
       "      <td>Umgebungen</td>\n",
       "    </tr>\n",
       "    <tr>\n",
       "      <th>20</th>\n",
       "      <td>IntelliJ(Idea)</td>\n",
       "      <td>Umgebungen</td>\n",
       "    </tr>\n",
       "    <tr>\n",
       "      <th>77</th>\n",
       "      <td>Visual Studio</td>\n",
       "      <td>Umgebungen</td>\n",
       "    </tr>\n",
       "    <tr>\n",
       "      <th>155</th>\n",
       "      <td>PhpStorm</td>\n",
       "      <td>Umgebungen</td>\n",
       "    </tr>\n",
       "    <tr>\n",
       "      <th>175</th>\n",
       "      <td>Workbench</td>\n",
       "      <td>Umgebungen</td>\n",
       "    </tr>\n",
       "    <tr>\n",
       "      <th>204</th>\n",
       "      <td>Pimcore</td>\n",
       "      <td>Umgebungen</td>\n",
       "    </tr>\n",
       "    <tr>\n",
       "      <th>237</th>\n",
       "      <td>JBuilder</td>\n",
       "      <td>Umgebungen</td>\n",
       "    </tr>\n",
       "    <tr>\n",
       "      <th>238</th>\n",
       "      <td>Ultra Edit</td>\n",
       "      <td>Umgebungen</td>\n",
       "    </tr>\n",
       "    <tr>\n",
       "      <th>239</th>\n",
       "      <td>Oracle Forms</td>\n",
       "      <td>Umgebungen</td>\n",
       "    </tr>\n",
       "    <tr>\n",
       "      <th>484</th>\n",
       "      <td>SharpDevelop</td>\n",
       "      <td>Umgebungen</td>\n",
       "    </tr>\n",
       "    <tr>\n",
       "      <th>600</th>\n",
       "      <td>Team Developer</td>\n",
       "      <td>Umgebungen</td>\n",
       "    </tr>\n",
       "    <tr>\n",
       "      <th>719</th>\n",
       "      <td>WebStorm</td>\n",
       "      <td>Umgebungen</td>\n",
       "    </tr>\n",
       "    <tr>\n",
       "      <th>1142</th>\n",
       "      <td>Aptana</td>\n",
       "      <td>Umgebungen</td>\n",
       "    </tr>\n",
       "    <tr>\n",
       "      <th>1737</th>\n",
       "      <td>Poseidon</td>\n",
       "      <td>Umgebungen</td>\n",
       "    </tr>\n",
       "    <tr>\n",
       "      <th>1740</th>\n",
       "      <td>MonoDevelop</td>\n",
       "      <td>Umgebungen</td>\n",
       "    </tr>\n",
       "    <tr>\n",
       "      <th>2833</th>\n",
       "      <td>JDeveloper</td>\n",
       "      <td>Umgebungen</td>\n",
       "    </tr>\n",
       "    <tr>\n",
       "      <th>4268</th>\n",
       "      <td>CBuilder</td>\n",
       "      <td>Umgebungen</td>\n",
       "    </tr>\n",
       "    <tr>\n",
       "      <th>6083</th>\n",
       "      <td>Sun Java Studio</td>\n",
       "      <td>Umgebungen</td>\n",
       "    </tr>\n",
       "    <tr>\n",
       "      <th>6321</th>\n",
       "      <td>SAP NWDI</td>\n",
       "      <td>Umgebungen</td>\n",
       "    </tr>\n",
       "    <tr>\n",
       "      <th>10228</th>\n",
       "      <td>Sofon</td>\n",
       "      <td>Umgebungen</td>\n",
       "    </tr>\n",
       "    <tr>\n",
       "      <th>18253</th>\n",
       "      <td>SAP NWDS</td>\n",
       "      <td>Umgebungen</td>\n",
       "    </tr>\n",
       "  </tbody>\n",
       "</table>\n",
       "</div>"
      ],
      "text/plain": [
       "                 skill    category\n",
       "19            NetBeans  Umgebungen\n",
       "20      IntelliJ(Idea)  Umgebungen\n",
       "77       Visual Studio  Umgebungen\n",
       "155           PhpStorm  Umgebungen\n",
       "175          Workbench  Umgebungen\n",
       "204            Pimcore  Umgebungen\n",
       "237           JBuilder  Umgebungen\n",
       "238         Ultra Edit  Umgebungen\n",
       "239       Oracle Forms  Umgebungen\n",
       "484       SharpDevelop  Umgebungen\n",
       "600     Team Developer  Umgebungen\n",
       "719           WebStorm  Umgebungen\n",
       "1142            Aptana  Umgebungen\n",
       "1737          Poseidon  Umgebungen\n",
       "1740       MonoDevelop  Umgebungen\n",
       "2833        JDeveloper  Umgebungen\n",
       "4268          CBuilder  Umgebungen\n",
       "6083   Sun Java Studio  Umgebungen\n",
       "6321          SAP NWDI  Umgebungen\n",
       "10228            Sofon  Umgebungen\n",
       "18253         SAP NWDS  Umgebungen"
      ]
     },
     "execution_count": 22,
     "metadata": {},
     "output_type": "execute_result"
    }
   ],
   "source": [
    "data_categories[data_categories.category==\"Umgebungen\"]"
   ]
  },
  {
   "cell_type": "markdown",
   "metadata": {},
   "source": [
    "Declaring various aiding variables"
   ]
  },
  {
   "cell_type": "code",
   "execution_count": 23,
   "metadata": {},
   "outputs": [],
   "source": [
    "PERSONS = df[\"person\"].unique()\n",
    "SKILLS = sorted(df[\"skill\"].unique())\n",
    "CATEGORIES = df[\"category\"].unique()\n",
    "employee_dict = {}\n",
    "for n in range(0,len(PERSONS)):\n",
    "    employee_dict[n] = PERSONS[n]"
   ]
  },
  {
   "cell_type": "code",
   "execution_count": 24,
   "metadata": {},
   "outputs": [],
   "source": [
    "skills_to_category = pd.read_csv(\"data/mitarbeiterportal-skills_2022-06-21.csv\",sep=\";\",header=None)\n",
    "category_dict = dict(zip(skills_to_category[0],skills_to_category[1]))"
   ]
  },
  {
   "cell_type": "markdown",
   "metadata": {},
   "source": [
    "Data cleaning: <br> <br>\n",
    "In order to evaluate the effect of inputmatrices  (APPENDIX XY) with a different level of sparsity, it is reasonable to introduce a function, that allows us to drop rare skills, that occur less than x times in the dataset. Sparsity is here defined as the relationship of ones and zeros inside a user-item-matrix, where ones represent, that a user is proficient in a certain skill. On the other hand a zero inside a user-item-matrix represents that a user has no knowledge about cetrain skill. Accordingly rare skills are responsible for many zeros inside the user-item-matrix. By dropping these rare skills the total amount of zeros is reduced and therefore the matrix becomes less sparse."
   ]
  },
  {
   "cell_type": "code",
   "execution_count": 25,
   "metadata": {},
   "outputs": [],
   "source": [
    "def get_rare_skills(data:pd.DataFrame, n:int):\n",
    "    '''\n",
    "    Function to determine all skills which occur less than n times in a given dataset.\n",
    "    Dataset must be a pandas Dataframe with columns: person, skill.\n",
    "    ----------\n",
    "    Parameters: \n",
    "    data : pd.DataFrame\n",
    "    The data in which rare skills are to be determined. \n",
    "    n : int \n",
    "    The threshold frequency.\n",
    "    ----------\n",
    "    Returns: \n",
    "    List of skills occuring less than n times in dataset.\n",
    "    '''\n",
    "    skill_frequency = {}\n",
    "    for skill in data[\"skill\"].unique():\n",
    "        skill_frequency[skill] = data[data[\"skill\"] == skill][\"person\"].nunique()\n",
    "\n",
    "    return [s for s,f in skill_frequency.items() if f <= n]\n"
   ]
  },
  {
   "cell_type": "markdown",
   "metadata": {},
   "source": [
    "***for insights in why no skills are dropped please refer to Appendix I***"
   ]
  },
  {
   "cell_type": "code",
   "execution_count": 26,
   "metadata": {},
   "outputs": [],
   "source": [
    "rare_skills = get_rare_skills(df,0)\n",
    "df = df[~df[\"skill\"].isin(rare_skills)]\n"
   ]
  },
  {
   "cell_type": "code",
   "execution_count": 27,
   "metadata": {},
   "outputs": [
    {
     "data": {
      "text/plain": [
       "(24586, 3)"
      ]
     },
     "execution_count": 27,
     "metadata": {},
     "output_type": "execute_result"
    }
   ],
   "source": [
    "df.shape"
   ]
  },
  {
   "cell_type": "markdown",
   "metadata": {},
   "source": [
    "The implicit library works with sparse-matrices. In order to transform a dataset into its sparse representation the dataset must be restructured in the following way: <br>\n",
    "* Each row represents a user\n",
    "* Each column represents a item/skill\n",
    "* Each entity represents whether a user is proficient in a skill or not"
   ]
  },
  {
   "cell_type": "code",
   "execution_count": 28,
   "metadata": {},
   "outputs": [
    {
     "data": {
      "text/html": [
       "<div>\n",
       "<style scoped>\n",
       "    .dataframe tbody tr th:only-of-type {\n",
       "        vertical-align: middle;\n",
       "    }\n",
       "\n",
       "    .dataframe tbody tr th {\n",
       "        vertical-align: top;\n",
       "    }\n",
       "\n",
       "    .dataframe thead th {\n",
       "        text-align: right;\n",
       "    }\n",
       "</style>\n",
       "<table border=\"1\" class=\"dataframe\">\n",
       "  <thead>\n",
       "    <tr style=\"text-align: right;\">\n",
       "      <th>skill</th>\n",
       "      <th>.NET Compact Framework</th>\n",
       "      <th>.NET Core</th>\n",
       "      <th>.NET Framework</th>\n",
       "      <th>3D-Modellierung</th>\n",
       "      <th>ABAP</th>\n",
       "      <th>ADO.NET</th>\n",
       "      <th>AIX</th>\n",
       "      <th>ARIS</th>\n",
       "      <th>ARIS ITArchitect</th>\n",
       "      <th>AS400</th>\n",
       "      <th>...</th>\n",
       "      <th>ramda.js</th>\n",
       "      <th>ranorex</th>\n",
       "      <th>samba</th>\n",
       "      <th>script.aculo.us</th>\n",
       "      <th>varnish</th>\n",
       "      <th>visual paradigm</th>\n",
       "      <th>vnc</th>\n",
       "      <th>vs code</th>\n",
       "      <th>xHTML</th>\n",
       "      <th>xtCommerce</th>\n",
       "    </tr>\n",
       "    <tr>\n",
       "      <th>userids</th>\n",
       "      <th></th>\n",
       "      <th></th>\n",
       "      <th></th>\n",
       "      <th></th>\n",
       "      <th></th>\n",
       "      <th></th>\n",
       "      <th></th>\n",
       "      <th></th>\n",
       "      <th></th>\n",
       "      <th></th>\n",
       "      <th></th>\n",
       "      <th></th>\n",
       "      <th></th>\n",
       "      <th></th>\n",
       "      <th></th>\n",
       "      <th></th>\n",
       "      <th></th>\n",
       "      <th></th>\n",
       "      <th></th>\n",
       "      <th></th>\n",
       "      <th></th>\n",
       "    </tr>\n",
       "  </thead>\n",
       "  <tbody>\n",
       "    <tr>\n",
       "      <th>0</th>\n",
       "      <td>0</td>\n",
       "      <td>0</td>\n",
       "      <td>0</td>\n",
       "      <td>0</td>\n",
       "      <td>0</td>\n",
       "      <td>0</td>\n",
       "      <td>0</td>\n",
       "      <td>0</td>\n",
       "      <td>0</td>\n",
       "      <td>0</td>\n",
       "      <td>...</td>\n",
       "      <td>0</td>\n",
       "      <td>0</td>\n",
       "      <td>0</td>\n",
       "      <td>0</td>\n",
       "      <td>0</td>\n",
       "      <td>0</td>\n",
       "      <td>0</td>\n",
       "      <td>0</td>\n",
       "      <td>0</td>\n",
       "      <td>0</td>\n",
       "    </tr>\n",
       "    <tr>\n",
       "      <th>1</th>\n",
       "      <td>0</td>\n",
       "      <td>0</td>\n",
       "      <td>1</td>\n",
       "      <td>0</td>\n",
       "      <td>0</td>\n",
       "      <td>1</td>\n",
       "      <td>0</td>\n",
       "      <td>0</td>\n",
       "      <td>0</td>\n",
       "      <td>0</td>\n",
       "      <td>...</td>\n",
       "      <td>0</td>\n",
       "      <td>0</td>\n",
       "      <td>0</td>\n",
       "      <td>0</td>\n",
       "      <td>0</td>\n",
       "      <td>0</td>\n",
       "      <td>0</td>\n",
       "      <td>0</td>\n",
       "      <td>0</td>\n",
       "      <td>0</td>\n",
       "    </tr>\n",
       "    <tr>\n",
       "      <th>2</th>\n",
       "      <td>0</td>\n",
       "      <td>0</td>\n",
       "      <td>0</td>\n",
       "      <td>1</td>\n",
       "      <td>0</td>\n",
       "      <td>0</td>\n",
       "      <td>0</td>\n",
       "      <td>0</td>\n",
       "      <td>0</td>\n",
       "      <td>0</td>\n",
       "      <td>...</td>\n",
       "      <td>0</td>\n",
       "      <td>0</td>\n",
       "      <td>0</td>\n",
       "      <td>0</td>\n",
       "      <td>0</td>\n",
       "      <td>0</td>\n",
       "      <td>0</td>\n",
       "      <td>0</td>\n",
       "      <td>1</td>\n",
       "      <td>0</td>\n",
       "    </tr>\n",
       "    <tr>\n",
       "      <th>3</th>\n",
       "      <td>0</td>\n",
       "      <td>0</td>\n",
       "      <td>0</td>\n",
       "      <td>0</td>\n",
       "      <td>0</td>\n",
       "      <td>0</td>\n",
       "      <td>0</td>\n",
       "      <td>0</td>\n",
       "      <td>0</td>\n",
       "      <td>0</td>\n",
       "      <td>...</td>\n",
       "      <td>0</td>\n",
       "      <td>0</td>\n",
       "      <td>0</td>\n",
       "      <td>0</td>\n",
       "      <td>0</td>\n",
       "      <td>0</td>\n",
       "      <td>0</td>\n",
       "      <td>0</td>\n",
       "      <td>0</td>\n",
       "      <td>0</td>\n",
       "    </tr>\n",
       "    <tr>\n",
       "      <th>4</th>\n",
       "      <td>0</td>\n",
       "      <td>0</td>\n",
       "      <td>0</td>\n",
       "      <td>0</td>\n",
       "      <td>0</td>\n",
       "      <td>0</td>\n",
       "      <td>0</td>\n",
       "      <td>0</td>\n",
       "      <td>0</td>\n",
       "      <td>0</td>\n",
       "      <td>...</td>\n",
       "      <td>0</td>\n",
       "      <td>0</td>\n",
       "      <td>0</td>\n",
       "      <td>0</td>\n",
       "      <td>0</td>\n",
       "      <td>0</td>\n",
       "      <td>0</td>\n",
       "      <td>0</td>\n",
       "      <td>0</td>\n",
       "      <td>0</td>\n",
       "    </tr>\n",
       "    <tr>\n",
       "      <th>...</th>\n",
       "      <td>...</td>\n",
       "      <td>...</td>\n",
       "      <td>...</td>\n",
       "      <td>...</td>\n",
       "      <td>...</td>\n",
       "      <td>...</td>\n",
       "      <td>...</td>\n",
       "      <td>...</td>\n",
       "      <td>...</td>\n",
       "      <td>...</td>\n",
       "      <td>...</td>\n",
       "      <td>...</td>\n",
       "      <td>...</td>\n",
       "      <td>...</td>\n",
       "      <td>...</td>\n",
       "      <td>...</td>\n",
       "      <td>...</td>\n",
       "      <td>...</td>\n",
       "      <td>...</td>\n",
       "      <td>...</td>\n",
       "      <td>...</td>\n",
       "    </tr>\n",
       "    <tr>\n",
       "      <th>399</th>\n",
       "      <td>0</td>\n",
       "      <td>0</td>\n",
       "      <td>0</td>\n",
       "      <td>0</td>\n",
       "      <td>0</td>\n",
       "      <td>0</td>\n",
       "      <td>0</td>\n",
       "      <td>0</td>\n",
       "      <td>0</td>\n",
       "      <td>0</td>\n",
       "      <td>...</td>\n",
       "      <td>0</td>\n",
       "      <td>0</td>\n",
       "      <td>0</td>\n",
       "      <td>0</td>\n",
       "      <td>0</td>\n",
       "      <td>0</td>\n",
       "      <td>0</td>\n",
       "      <td>0</td>\n",
       "      <td>0</td>\n",
       "      <td>0</td>\n",
       "    </tr>\n",
       "    <tr>\n",
       "      <th>400</th>\n",
       "      <td>0</td>\n",
       "      <td>0</td>\n",
       "      <td>0</td>\n",
       "      <td>0</td>\n",
       "      <td>0</td>\n",
       "      <td>0</td>\n",
       "      <td>0</td>\n",
       "      <td>0</td>\n",
       "      <td>0</td>\n",
       "      <td>0</td>\n",
       "      <td>...</td>\n",
       "      <td>0</td>\n",
       "      <td>0</td>\n",
       "      <td>0</td>\n",
       "      <td>0</td>\n",
       "      <td>0</td>\n",
       "      <td>0</td>\n",
       "      <td>0</td>\n",
       "      <td>0</td>\n",
       "      <td>0</td>\n",
       "      <td>0</td>\n",
       "    </tr>\n",
       "    <tr>\n",
       "      <th>401</th>\n",
       "      <td>0</td>\n",
       "      <td>0</td>\n",
       "      <td>0</td>\n",
       "      <td>0</td>\n",
       "      <td>0</td>\n",
       "      <td>0</td>\n",
       "      <td>0</td>\n",
       "      <td>0</td>\n",
       "      <td>0</td>\n",
       "      <td>0</td>\n",
       "      <td>...</td>\n",
       "      <td>0</td>\n",
       "      <td>0</td>\n",
       "      <td>0</td>\n",
       "      <td>0</td>\n",
       "      <td>0</td>\n",
       "      <td>0</td>\n",
       "      <td>0</td>\n",
       "      <td>0</td>\n",
       "      <td>0</td>\n",
       "      <td>0</td>\n",
       "    </tr>\n",
       "    <tr>\n",
       "      <th>402</th>\n",
       "      <td>0</td>\n",
       "      <td>1</td>\n",
       "      <td>1</td>\n",
       "      <td>0</td>\n",
       "      <td>0</td>\n",
       "      <td>0</td>\n",
       "      <td>0</td>\n",
       "      <td>0</td>\n",
       "      <td>0</td>\n",
       "      <td>0</td>\n",
       "      <td>...</td>\n",
       "      <td>0</td>\n",
       "      <td>0</td>\n",
       "      <td>0</td>\n",
       "      <td>0</td>\n",
       "      <td>0</td>\n",
       "      <td>0</td>\n",
       "      <td>0</td>\n",
       "      <td>0</td>\n",
       "      <td>0</td>\n",
       "      <td>0</td>\n",
       "    </tr>\n",
       "    <tr>\n",
       "      <th>403</th>\n",
       "      <td>0</td>\n",
       "      <td>0</td>\n",
       "      <td>0</td>\n",
       "      <td>0</td>\n",
       "      <td>1</td>\n",
       "      <td>0</td>\n",
       "      <td>0</td>\n",
       "      <td>0</td>\n",
       "      <td>0</td>\n",
       "      <td>0</td>\n",
       "      <td>...</td>\n",
       "      <td>0</td>\n",
       "      <td>0</td>\n",
       "      <td>0</td>\n",
       "      <td>0</td>\n",
       "      <td>0</td>\n",
       "      <td>1</td>\n",
       "      <td>0</td>\n",
       "      <td>0</td>\n",
       "      <td>0</td>\n",
       "      <td>0</td>\n",
       "    </tr>\n",
       "  </tbody>\n",
       "</table>\n",
       "<p>404 rows × 734 columns</p>\n",
       "</div>"
      ],
      "text/plain": [
       "skill    .NET Compact Framework  .NET Core  .NET Framework  3D-Modellierung  \\\n",
       "userids                                                                       \n",
       "0                             0          0               0                0   \n",
       "1                             0          0               1                0   \n",
       "2                             0          0               0                1   \n",
       "3                             0          0               0                0   \n",
       "4                             0          0               0                0   \n",
       "...                         ...        ...             ...              ...   \n",
       "399                           0          0               0                0   \n",
       "400                           0          0               0                0   \n",
       "401                           0          0               0                0   \n",
       "402                           0          1               1                0   \n",
       "403                           0          0               0                0   \n",
       "\n",
       "skill    ABAP  ADO.NET  AIX  ARIS  ARIS ITArchitect  AS400  ...  ramda.js  \\\n",
       "userids                                                     ...             \n",
       "0           0        0    0     0                 0      0  ...         0   \n",
       "1           0        1    0     0                 0      0  ...         0   \n",
       "2           0        0    0     0                 0      0  ...         0   \n",
       "3           0        0    0     0                 0      0  ...         0   \n",
       "4           0        0    0     0                 0      0  ...         0   \n",
       "...       ...      ...  ...   ...               ...    ...  ...       ...   \n",
       "399         0        0    0     0                 0      0  ...         0   \n",
       "400         0        0    0     0                 0      0  ...         0   \n",
       "401         0        0    0     0                 0      0  ...         0   \n",
       "402         0        0    0     0                 0      0  ...         0   \n",
       "403         1        0    0     0                 0      0  ...         0   \n",
       "\n",
       "skill    ranorex  samba  script.aculo.us  varnish  visual paradigm  vnc  \\\n",
       "userids                                                                   \n",
       "0              0      0                0        0                0    0   \n",
       "1              0      0                0        0                0    0   \n",
       "2              0      0                0        0                0    0   \n",
       "3              0      0                0        0                0    0   \n",
       "4              0      0                0        0                0    0   \n",
       "...          ...    ...              ...      ...              ...  ...   \n",
       "399            0      0                0        0                0    0   \n",
       "400            0      0                0        0                0    0   \n",
       "401            0      0                0        0                0    0   \n",
       "402            0      0                0        0                0    0   \n",
       "403            0      0                0        0                1    0   \n",
       "\n",
       "skill    vs code  xHTML  xtCommerce  \n",
       "userids                              \n",
       "0              0      0           0  \n",
       "1              0      0           0  \n",
       "2              0      1           0  \n",
       "3              0      0           0  \n",
       "4              0      0           0  \n",
       "...          ...    ...         ...  \n",
       "399            0      0           0  \n",
       "400            0      0           0  \n",
       "401            0      0           0  \n",
       "402            0      0           0  \n",
       "403            0      0           0  \n",
       "\n",
       "[404 rows x 734 columns]"
      ]
     },
     "execution_count": 28,
     "metadata": {},
     "output_type": "execute_result"
    }
   ],
   "source": [
    "# Create a user-item matrix\n",
    "df[\"count\"] = 1\n",
    "data_skills = df.pivot_table('count', index='person', columns=\"skill\").fillna(0).astype(int).reset_index(drop=True)\n",
    "#Set the index name = \"userid\"\n",
    "data_skills.index.names = [\"userids\"]\n",
    "data_skills"
   ]
  },
  {
   "cell_type": "markdown",
   "metadata": {},
   "source": [
    "Now the matrix can be transformed into its sparse representation"
   ]
  },
  {
   "cell_type": "code",
   "execution_count": 29,
   "metadata": {},
   "outputs": [
    {
     "data": {
      "text/plain": [
       "scipy.sparse._csr.csr_matrix"
      ]
     },
     "execution_count": 29,
     "metadata": {},
     "output_type": "execute_result"
    }
   ],
   "source": [
    "data_skills_csr = scipy.sparse.csr_matrix(data_skills.values)\n",
    "type(data_skills_csr)"
   ]
  },
  {
   "cell_type": "markdown",
   "metadata": {},
   "source": [
    "Normalizing the data:\n",
    "\n",
    "In the following a function will be introduced that performs different normalization techniques on the dataset. The idea behind **row normalization** in its simples form (here: implicit.nearest_neighbours.normalizeI) is, that a certain skill is more valuable for a user with a small skill set than for a user with a very large skill set. The following toy example will demonstrate this effect:\n",
    "* Lets assume, that we want to investigate how important the skill \"Python\" is for user A and user B.\n",
    "* The skill set of user A includes 10 different skills.\n",
    "* The skill set of user B includes 100 different skills\n",
    "* In our unnormalized dataset the importance of Python would be represented by a 1 for both users - no matter how large their skill set is. Hence the importance for both users is equal.\n",
    "* However on the normalized dataset importance of \"Python\" would be larger for user A than for user B, because of the different size of their skillset.\n",
    "\n",
    "While normalization only respects a single skill set at once in its calculation, the techniques **TF-IDF** and **bm25** techniques expand the idea of measureing skill importance by considering all skill sets in their computation. <br>\n",
    "\n",
    "***For more detailed insights in these techniques please have a look at our documentation.*** \n"
   ]
  },
  {
   "cell_type": "code",
   "execution_count": 30,
   "metadata": {},
   "outputs": [],
   "source": [
    "bm25_grid  = {\n",
    "            'K1': [50,100,120]#,20,50,100\n",
    "            ,'B': [0.75,1] # 0.4,0.8,1\n",
    "            }\n",
    "\n",
    "# param_grid_bm25  = {'K1': [2,50,100], #2,20,50,100\n",
    "#                     'B': [ 0.4,0.8,1] # 0.4,0.8,1\n",
    "#                     }"
   ]
  },
  {
   "cell_type": "code",
   "execution_count": 31,
   "metadata": {},
   "outputs": [],
   "source": [
    "def normalizer (data:csr_matrix ,param_grid:dict):\n",
    "    '''\n",
    "    Function to perform different normalization techniques on a user-item-matrix, where the users are represented in the rows and the items in the columns.\n",
    "    The following techniques will be performed:\n",
    "    - Raw (no normalization technique)\n",
    "    - Normalization\n",
    "    - tfidf\n",
    "    - bm25\n",
    "    ----------\n",
    "    Parameters: \n",
    "    data : csr_matrix\n",
    "    The data in sparse csr format which will be normalized. \n",
    "    param_grid : dict \n",
    "    A dictonary that holds different values for the parameters of implicit's bm25_weight.\n",
    "    The dictonary must consist of the following key value pairs:\n",
    "    - K1 : list of floats\n",
    "    - B : list of floats\n",
    "    ----------\n",
    "    Returns: \n",
    "    - List holding the transformed dataset.\n",
    "    - Pandas DataFrame, where each row provides information about the performed transformation. \n",
    "      The first row provides information about the first element in the returned list, the second row about the second element in the returned list and so on. \n",
    "    '''\n",
    "    data_representations = ['Raw','Normalized', 'tfidf', 'bm25']    \n",
    "    df_list = []\n",
    "    data_list = []\n",
    "\n",
    "\n",
    "    for representation in data_representations:\n",
    "        df = pd.DataFrame(columns = ['data_representations', 'K1', 'B'])\n",
    "\n",
    "        if representation == 'bm25':\n",
    "            keys, values = zip(*param_grid.items())\n",
    "            for c,v in enumerate(itertools.product(*values)):\n",
    "                params = dict(zip(keys, v))\n",
    "                \n",
    "                #############\n",
    "                # Initiate df for the parameter combination\n",
    "                #############\n",
    "                df = pd.DataFrame()\n",
    "                df = pd.DataFrame(params, index =  [c])\n",
    "                df[\"data_representations\"] = [representation]\n",
    "                df_list.append(df)\n",
    "\n",
    "                #############\n",
    "                # Add key value pair to the dictonary and initiate the bm25_weight function for every parameter combination\n",
    "                #############\n",
    "                params['X'] = data\n",
    "                data_transf = implicit.nearest_neighbours.bm25_weight(**params)\n",
    "                data_list.append(data_transf)\n",
    "        else:\n",
    "\n",
    "            match representation:\n",
    "                case 'Normalized':\n",
    "                    data_transf = implicit.nearest_neighbours.normalize(data)\n",
    "                case 'tfidf':\n",
    "                    data_transf = implicit.nearest_neighbours.tfidf_weight(data)\n",
    "                case 'Raw':\n",
    "                    data_transf = data\n",
    "            df[\"data_representations\"] = [representation]\n",
    "            df[\"K1\"] = np.nan\n",
    "            df[\"B\"] = np.nan  \n",
    "            df_list.append(df)\n",
    "            data_list.append(data_transf)\n",
    "\n",
    "    return data_list, pd.concat(df_list).reset_index().drop(columns = ['index'])"
   ]
  },
  {
   "cell_type": "code",
   "execution_count": 32,
   "metadata": {},
   "outputs": [
    {
     "data": {
      "text/html": [
       "<div>\n",
       "<style scoped>\n",
       "    .dataframe tbody tr th:only-of-type {\n",
       "        vertical-align: middle;\n",
       "    }\n",
       "\n",
       "    .dataframe tbody tr th {\n",
       "        vertical-align: top;\n",
       "    }\n",
       "\n",
       "    .dataframe thead th {\n",
       "        text-align: right;\n",
       "    }\n",
       "</style>\n",
       "<table border=\"1\" class=\"dataframe\">\n",
       "  <thead>\n",
       "    <tr style=\"text-align: right;\">\n",
       "      <th></th>\n",
       "      <th>data_representations</th>\n",
       "      <th>K1</th>\n",
       "      <th>B</th>\n",
       "    </tr>\n",
       "  </thead>\n",
       "  <tbody>\n",
       "    <tr>\n",
       "      <th>0</th>\n",
       "      <td>Raw</td>\n",
       "      <td>NaN</td>\n",
       "      <td>NaN</td>\n",
       "    </tr>\n",
       "    <tr>\n",
       "      <th>1</th>\n",
       "      <td>Normalized</td>\n",
       "      <td>NaN</td>\n",
       "      <td>NaN</td>\n",
       "    </tr>\n",
       "    <tr>\n",
       "      <th>2</th>\n",
       "      <td>tfidf</td>\n",
       "      <td>NaN</td>\n",
       "      <td>NaN</td>\n",
       "    </tr>\n",
       "    <tr>\n",
       "      <th>3</th>\n",
       "      <td>bm25</td>\n",
       "      <td>50.0</td>\n",
       "      <td>0.75</td>\n",
       "    </tr>\n",
       "    <tr>\n",
       "      <th>4</th>\n",
       "      <td>bm25</td>\n",
       "      <td>50.0</td>\n",
       "      <td>1.00</td>\n",
       "    </tr>\n",
       "    <tr>\n",
       "      <th>5</th>\n",
       "      <td>bm25</td>\n",
       "      <td>100.0</td>\n",
       "      <td>0.75</td>\n",
       "    </tr>\n",
       "    <tr>\n",
       "      <th>6</th>\n",
       "      <td>bm25</td>\n",
       "      <td>100.0</td>\n",
       "      <td>1.00</td>\n",
       "    </tr>\n",
       "    <tr>\n",
       "      <th>7</th>\n",
       "      <td>bm25</td>\n",
       "      <td>120.0</td>\n",
       "      <td>0.75</td>\n",
       "    </tr>\n",
       "    <tr>\n",
       "      <th>8</th>\n",
       "      <td>bm25</td>\n",
       "      <td>120.0</td>\n",
       "      <td>1.00</td>\n",
       "    </tr>\n",
       "  </tbody>\n",
       "</table>\n",
       "</div>"
      ],
      "text/plain": [
       "  data_representations     K1     B\n",
       "0                  Raw    NaN   NaN\n",
       "1           Normalized    NaN   NaN\n",
       "2                tfidf    NaN   NaN\n",
       "3                 bm25   50.0  0.75\n",
       "4                 bm25   50.0  1.00\n",
       "5                 bm25  100.0  0.75\n",
       "6                 bm25  100.0  1.00\n",
       "7                 bm25  120.0  0.75\n",
       "8                 bm25  120.0  1.00"
      ]
     },
     "execution_count": 32,
     "metadata": {},
     "output_type": "execute_result"
    }
   ],
   "source": [
    "data, df_rep = normalizer(data_skills_csr, bm25_grid)\n",
    "df_rep"
   ]
  },
  {
   "cell_type": "markdown",
   "metadata": {},
   "source": [
    "## Implicit Library - Model Selection"
   ]
  },
  {
   "cell_type": "markdown",
   "metadata": {},
   "source": [
    "In this section different recommender systems will be compared to each other. The comparison will be organized through a gridsearch. Conventionally a gridsearch is processed in combination with a cross validation.The goal of the gridsearch is to find the best possible parametrization (within the grid) for the model. The goal of the cross-validation is to reduce the impact of randomness on the model evaluation, which occurs when the data is splitted into train and test data. <br>\n",
    "\n",
    "Since the algorithms of the implicit library perform different matrix factorization methods, the data can not be splitted into k-subsets during the cross-validation. A traditional KFold cross-validation is impractical for models, that use matrix factorization, because they need to decompose the whole dataset at once in order to make recommendations for every user and item within the dataset. The model could not make recommendations for users, if they are excluded in the traingsdata. <br>\n",
    "\n",
    "Therefore a different cross-validation scheme will be introduced to reduce the effect of randomness on the model results. The cross-validation in our setup is organized by performing the **train.test-split of the implicit** library 5 times with a different random state on each iteration. This train-test-split does not exclude users from the trainingsdata. Instead the split is performed on user-item-interactions. Hence the traingsdata still includes every user and every item, but not every user-item-interaction. Metaphorically speaking the train-test-split replaces interaction (e.g. ones) with zeros. The replaced interactions are retained in the testdata. The model is evaluated on how well it can replicate the retrained user-item-interactions."
   ]
  },
  {
   "cell_type": "code",
   "execution_count": 33,
   "metadata": {},
   "outputs": [],
   "source": [
    "NUM_TRIALS = 5"
   ]
  },
  {
   "cell_type": "code",
   "execution_count": 34,
   "metadata": {},
   "outputs": [],
   "source": [
    "def gridsearch_cv_implicit(data:csr_matrix, algorithm, param_grid: dict, k:int):\n",
    "    '''\n",
    "    This function will call the \"normalizer\" function in order to produce different transformations of the inserted user-item-matrix. \n",
    "    For more details about the transformationprocess check the documentation of the \"normalizer\" function.\n",
    "    For each version of the user-item-matrix a gridsearch and a cross validation will be executed.\n",
    "    This function uses the train-test-split of the implicit library to perform the cross validation.\n",
    "    This train-test-split does not exclude whole users from the training set,but user-item-interactions. \n",
    "    The model is evaluated on how well it predicts the user-item-interactions that were excluded from the training set. \n",
    "    ----------\n",
    "    Parameters: \n",
    "    data : csr_matrix\n",
    "    The data in sparse csr format which will be normalized. \n",
    "    algorithm : \n",
    "    A algorithm from the implicit library.\n",
    "    param_grid : dict \n",
    "    A dictonary that holds different values for the parameters of the algorithm.\n",
    "    k : int\n",
    "    The number of recommendations that will be made for each user in order to evaluate the model.\n",
    "    ----------\n",
    "    Returns: \n",
    "    - Pandas DataFrame that contains the results for each parametrization of the algorithm.\n",
    "    '''\n",
    "    df_result = pd.DataFrame()\n",
    "    \n",
    "    datasets, results = normalizer(data, bm25_grid)\n",
    "\n",
    "    \n",
    "    for i,data_rep in enumerate(datasets):\n",
    "        row = results.loc[i].to_frame().T\n",
    "\n",
    "        #############\n",
    "        # Create tuples of my gird\n",
    "        # E.g. keys = ('factors','alpha') ; values = ([10,20],[1])\n",
    "        #############\n",
    "        keys, values = zip(*param_grid.items())\n",
    "        for val in itertools.product(*values):\n",
    "\n",
    "            #############\n",
    "            # This loop produces every possible combination of the hyperparameters as a dictonary\n",
    "            #############\n",
    "            params = dict(zip(keys, val))\n",
    "            this_model = copy.deepcopy(algorithm)\n",
    "            df_params = pd.DataFrame(params, index =  [i])\n",
    "    \n",
    "\n",
    "            for hyper_p,hyper_v  in params.items():\n",
    "                #############\n",
    "                # This loop unpacks the diconary by each parameter and initiates the model for each hpyerparameter of the corresponding dictonary\n",
    "                #############\n",
    "                setattr(this_model, hyper_p, hyper_v)\n",
    "\n",
    "            ############\n",
    "            # lists to store the results after each train_test_split under different random seed (c.p)\n",
    "            ############\n",
    "            p_train_test_results = np.zeros(NUM_TRIALS)\n",
    "            map_train_test_results = np.zeros(NUM_TRIALS)\n",
    "            ndcg_train_test_results = np.zeros(NUM_TRIALS)\n",
    "\n",
    "\n",
    "            for seed in range(NUM_TRIALS):\n",
    "                #############\n",
    "                # Initiate the train_test_split\n",
    "                #############\n",
    "                train_mat, test_mat = implicit.evaluation.train_test_split(data_rep, train_percentage =  0.8, random_state = seed)\n",
    "                this_model.fit(train_mat,show_progress=False)\n",
    "\n",
    "                #############\n",
    "                # measure evaluation metrixs for each possible hyperparameter combination\n",
    "                #############\n",
    "                p_at_k =  precision_at_k(this_model, train_user_items=train_mat, test_user_items=test_mat, K=k ,show_progress=False)\n",
    "                map_at_k = mean_average_precision_at_k(this_model, train_user_items=train_mat, test_user_items=test_mat, K=k,show_progress=False)\n",
    "                #var_ndcg_at_k = ndcg_at_k(this_model, train_user_items=train_mat, test_user_items=test_mat, K=k,show_progress=False)\n",
    "\n",
    "\n",
    "                #############\n",
    "                # To list\n",
    "                #############\n",
    "                p_train_test_results[seed] = p_at_k\n",
    "                map_train_test_results[seed] = map_at_k \n",
    "                #ndcg_train_test_results[seed] = var_ndcg_at_k\n",
    "\n",
    "            #############\n",
    "            # Create columns to store the scores for each hyperparameter combination after 5 different train_test_splits\n",
    "            #############\n",
    "            df_params[\"precision_at_k\"] = np.mean(p_train_test_results)\n",
    "            df_params[\"map_at_k\"]  = np.mean(map_train_test_results)\n",
    "            #df_params[\"ndcg_at_k\"] = np.mean(ndcg_train_test_results)\n",
    "\n",
    "            df_result = pd.concat([df_result,pd.concat([row,df_params],axis = 1)],axis = 0,ignore_index=True)\n",
    "\n",
    "    return  df_result"
   ]
  },
  {
   "cell_type": "markdown",
   "metadata": {},
   "source": [
    "### Alternating Least Squares"
   ]
  },
  {
   "cell_type": "markdown",
   "metadata": {},
   "source": [
    "Define the parameter-grid"
   ]
  },
  {
   "cell_type": "code",
   "execution_count": 35,
   "metadata": {},
   "outputs": [],
   "source": [
    "als_grid = {\n",
    "              'factors': [3,6,7,8,9,10,15],\n",
    "              'regularization': [0.005,0.01,0.02],\n",
    "              'iterations' : [10,15,30]\n",
    "              }           "
   ]
  },
  {
   "cell_type": "markdown",
   "metadata": {},
   "source": [
    "Initiate the Alternating Least Squares algorithm from the implicit library"
   ]
  },
  {
   "cell_type": "code",
   "execution_count": 36,
   "metadata": {},
   "outputs": [
    {
     "data": {
      "text/html": [
       "<div>\n",
       "<style scoped>\n",
       "    .dataframe tbody tr th:only-of-type {\n",
       "        vertical-align: middle;\n",
       "    }\n",
       "\n",
       "    .dataframe tbody tr th {\n",
       "        vertical-align: top;\n",
       "    }\n",
       "\n",
       "    .dataframe thead th {\n",
       "        text-align: right;\n",
       "    }\n",
       "</style>\n",
       "<table border=\"1\" class=\"dataframe\">\n",
       "  <thead>\n",
       "    <tr style=\"text-align: right;\">\n",
       "      <th></th>\n",
       "      <th>data_representations</th>\n",
       "      <th>K1</th>\n",
       "      <th>B</th>\n",
       "      <th>factors</th>\n",
       "      <th>regularization</th>\n",
       "      <th>iterations</th>\n",
       "      <th>precision_at_k</th>\n",
       "      <th>map_at_k</th>\n",
       "    </tr>\n",
       "  </thead>\n",
       "  <tbody>\n",
       "    <tr>\n",
       "      <th>0</th>\n",
       "      <td>Raw</td>\n",
       "      <td>NaN</td>\n",
       "      <td>NaN</td>\n",
       "      <td>3</td>\n",
       "      <td>0.005</td>\n",
       "      <td>10</td>\n",
       "      <td>0.504628</td>\n",
       "      <td>0.401247</td>\n",
       "    </tr>\n",
       "    <tr>\n",
       "      <th>1</th>\n",
       "      <td>Raw</td>\n",
       "      <td>NaN</td>\n",
       "      <td>NaN</td>\n",
       "      <td>3</td>\n",
       "      <td>0.005</td>\n",
       "      <td>15</td>\n",
       "      <td>0.506165</td>\n",
       "      <td>0.403019</td>\n",
       "    </tr>\n",
       "    <tr>\n",
       "      <th>2</th>\n",
       "      <td>Raw</td>\n",
       "      <td>NaN</td>\n",
       "      <td>NaN</td>\n",
       "      <td>3</td>\n",
       "      <td>0.005</td>\n",
       "      <td>30</td>\n",
       "      <td>0.507347</td>\n",
       "      <td>0.404118</td>\n",
       "    </tr>\n",
       "    <tr>\n",
       "      <th>3</th>\n",
       "      <td>Raw</td>\n",
       "      <td>NaN</td>\n",
       "      <td>NaN</td>\n",
       "      <td>3</td>\n",
       "      <td>0.010</td>\n",
       "      <td>10</td>\n",
       "      <td>0.504628</td>\n",
       "      <td>0.401247</td>\n",
       "    </tr>\n",
       "    <tr>\n",
       "      <th>4</th>\n",
       "      <td>Raw</td>\n",
       "      <td>NaN</td>\n",
       "      <td>NaN</td>\n",
       "      <td>3</td>\n",
       "      <td>0.010</td>\n",
       "      <td>15</td>\n",
       "      <td>0.506165</td>\n",
       "      <td>0.403019</td>\n",
       "    </tr>\n",
       "    <tr>\n",
       "      <th>...</th>\n",
       "      <td>...</td>\n",
       "      <td>...</td>\n",
       "      <td>...</td>\n",
       "      <td>...</td>\n",
       "      <td>...</td>\n",
       "      <td>...</td>\n",
       "      <td>...</td>\n",
       "      <td>...</td>\n",
       "    </tr>\n",
       "    <tr>\n",
       "      <th>562</th>\n",
       "      <td>bm25</td>\n",
       "      <td>120.0</td>\n",
       "      <td>1.0</td>\n",
       "      <td>15</td>\n",
       "      <td>0.010</td>\n",
       "      <td>15</td>\n",
       "      <td>0.519482</td>\n",
       "      <td>0.405056</td>\n",
       "    </tr>\n",
       "    <tr>\n",
       "      <th>563</th>\n",
       "      <td>bm25</td>\n",
       "      <td>120.0</td>\n",
       "      <td>1.0</td>\n",
       "      <td>15</td>\n",
       "      <td>0.010</td>\n",
       "      <td>30</td>\n",
       "      <td>0.517140</td>\n",
       "      <td>0.403314</td>\n",
       "    </tr>\n",
       "    <tr>\n",
       "      <th>564</th>\n",
       "      <td>bm25</td>\n",
       "      <td>120.0</td>\n",
       "      <td>1.0</td>\n",
       "      <td>15</td>\n",
       "      <td>0.020</td>\n",
       "      <td>10</td>\n",
       "      <td>0.517832</td>\n",
       "      <td>0.402389</td>\n",
       "    </tr>\n",
       "    <tr>\n",
       "      <th>565</th>\n",
       "      <td>bm25</td>\n",
       "      <td>120.0</td>\n",
       "      <td>1.0</td>\n",
       "      <td>15</td>\n",
       "      <td>0.020</td>\n",
       "      <td>15</td>\n",
       "      <td>0.517245</td>\n",
       "      <td>0.403332</td>\n",
       "    </tr>\n",
       "    <tr>\n",
       "      <th>566</th>\n",
       "      <td>bm25</td>\n",
       "      <td>120.0</td>\n",
       "      <td>1.0</td>\n",
       "      <td>15</td>\n",
       "      <td>0.020</td>\n",
       "      <td>30</td>\n",
       "      <td>0.516322</td>\n",
       "      <td>0.402971</td>\n",
       "    </tr>\n",
       "  </tbody>\n",
       "</table>\n",
       "<p>567 rows × 8 columns</p>\n",
       "</div>"
      ],
      "text/plain": [
       "    data_representations     K1    B  factors  regularization  iterations  \\\n",
       "0                    Raw    NaN  NaN        3           0.005          10   \n",
       "1                    Raw    NaN  NaN        3           0.005          15   \n",
       "2                    Raw    NaN  NaN        3           0.005          30   \n",
       "3                    Raw    NaN  NaN        3           0.010          10   \n",
       "4                    Raw    NaN  NaN        3           0.010          15   \n",
       "..                   ...    ...  ...      ...             ...         ...   \n",
       "562                 bm25  120.0  1.0       15           0.010          15   \n",
       "563                 bm25  120.0  1.0       15           0.010          30   \n",
       "564                 bm25  120.0  1.0       15           0.020          10   \n",
       "565                 bm25  120.0  1.0       15           0.020          15   \n",
       "566                 bm25  120.0  1.0       15           0.020          30   \n",
       "\n",
       "     precision_at_k  map_at_k  \n",
       "0          0.504628  0.401247  \n",
       "1          0.506165  0.403019  \n",
       "2          0.507347  0.404118  \n",
       "3          0.504628  0.401247  \n",
       "4          0.506165  0.403019  \n",
       "..              ...       ...  \n",
       "562        0.519482  0.405056  \n",
       "563        0.517140  0.403314  \n",
       "564        0.517832  0.402389  \n",
       "565        0.517245  0.403332  \n",
       "566        0.516322  0.402971  \n",
       "\n",
       "[567 rows x 8 columns]"
      ]
     },
     "execution_count": 36,
     "metadata": {},
     "output_type": "execute_result"
    }
   ],
   "source": [
    "model = implicit.als.AlternatingLeastSquares(random_state= 42)\n",
    "results_als = gridsearch_cv_implicit(data_skills_csr, model, als_grid, k = 5)\n",
    "results_als"
   ]
  },
  {
   "cell_type": "code",
   "execution_count": 37,
   "metadata": {},
   "outputs": [],
   "source": [
    "results_als.to_csv(\"results_als.csv\")\n",
    "#results_als = pd.read_csv(\"results_als.csv\", index_col=0)\n",
    "#results_als.iloc[results_als.map_at_k.idxmax()]"
   ]
  },
  {
   "attachments": {},
   "cell_type": "markdown",
   "metadata": {},
   "source": [
    "Extracting the parametrization of the model with the best MAP at k score"
   ]
  },
  {
   "cell_type": "code",
   "execution_count": 38,
   "metadata": {},
   "outputs": [
    {
     "data": {
      "text/plain": [
       "data_representations         Raw\n",
       "K1                           NaN\n",
       "B                            NaN\n",
       "factors                        8\n",
       "regularization             0.005\n",
       "iterations                    10\n",
       "precision_at_k          0.571195\n",
       "map_at_k                 0.46472\n",
       "Name: 27, dtype: object"
      ]
     },
     "execution_count": 38,
     "metadata": {},
     "output_type": "execute_result"
    }
   ],
   "source": [
    "best_model_als = results_als.iloc[results_als.map_at_k.idxmax()]\n",
    "best_model_als"
   ]
  },
  {
   "cell_type": "markdown",
   "metadata": {},
   "source": [
    "### Logistic Matrix Factorization\n"
   ]
  },
  {
   "cell_type": "markdown",
   "metadata": {},
   "source": [
    "Define the parameter-grid"
   ]
  },
  {
   "cell_type": "code",
   "execution_count": 39,
   "metadata": {},
   "outputs": [],
   "source": [
    "lmf_grid = {\n",
    "              'factors': [3,6,7,8,9,10,15],\n",
    "              'regularization': [0.005,0.01,0.02],\n",
    "              'iterations' : [10,15,30]\n",
    "}\n"
   ]
  },
  {
   "cell_type": "markdown",
   "metadata": {},
   "source": [
    "Initiate the Logistic Matrix Factorization algorithm from the implicit library"
   ]
  },
  {
   "cell_type": "code",
   "execution_count": 40,
   "metadata": {},
   "outputs": [
    {
     "data": {
      "text/html": [
       "<div>\n",
       "<style scoped>\n",
       "    .dataframe tbody tr th:only-of-type {\n",
       "        vertical-align: middle;\n",
       "    }\n",
       "\n",
       "    .dataframe tbody tr th {\n",
       "        vertical-align: top;\n",
       "    }\n",
       "\n",
       "    .dataframe thead th {\n",
       "        text-align: right;\n",
       "    }\n",
       "</style>\n",
       "<table border=\"1\" class=\"dataframe\">\n",
       "  <thead>\n",
       "    <tr style=\"text-align: right;\">\n",
       "      <th></th>\n",
       "      <th>data_representations</th>\n",
       "      <th>K1</th>\n",
       "      <th>B</th>\n",
       "      <th>factors</th>\n",
       "      <th>regularization</th>\n",
       "      <th>iterations</th>\n",
       "      <th>precision_at_k</th>\n",
       "      <th>map_at_k</th>\n",
       "    </tr>\n",
       "  </thead>\n",
       "  <tbody>\n",
       "    <tr>\n",
       "      <th>0</th>\n",
       "      <td>Raw</td>\n",
       "      <td>NaN</td>\n",
       "      <td>NaN</td>\n",
       "      <td>3</td>\n",
       "      <td>0.005</td>\n",
       "      <td>10</td>\n",
       "      <td>0.296645</td>\n",
       "      <td>0.199434</td>\n",
       "    </tr>\n",
       "    <tr>\n",
       "      <th>1</th>\n",
       "      <td>Raw</td>\n",
       "      <td>NaN</td>\n",
       "      <td>NaN</td>\n",
       "      <td>3</td>\n",
       "      <td>0.005</td>\n",
       "      <td>15</td>\n",
       "      <td>0.317075</td>\n",
       "      <td>0.214490</td>\n",
       "    </tr>\n",
       "    <tr>\n",
       "      <th>2</th>\n",
       "      <td>Raw</td>\n",
       "      <td>NaN</td>\n",
       "      <td>NaN</td>\n",
       "      <td>3</td>\n",
       "      <td>0.005</td>\n",
       "      <td>30</td>\n",
       "      <td>0.310359</td>\n",
       "      <td>0.209155</td>\n",
       "    </tr>\n",
       "    <tr>\n",
       "      <th>3</th>\n",
       "      <td>Raw</td>\n",
       "      <td>NaN</td>\n",
       "      <td>NaN</td>\n",
       "      <td>3</td>\n",
       "      <td>0.010</td>\n",
       "      <td>10</td>\n",
       "      <td>0.301123</td>\n",
       "      <td>0.205383</td>\n",
       "    </tr>\n",
       "    <tr>\n",
       "      <th>4</th>\n",
       "      <td>Raw</td>\n",
       "      <td>NaN</td>\n",
       "      <td>NaN</td>\n",
       "      <td>3</td>\n",
       "      <td>0.010</td>\n",
       "      <td>15</td>\n",
       "      <td>0.318851</td>\n",
       "      <td>0.213527</td>\n",
       "    </tr>\n",
       "    <tr>\n",
       "      <th>...</th>\n",
       "      <td>...</td>\n",
       "      <td>...</td>\n",
       "      <td>...</td>\n",
       "      <td>...</td>\n",
       "      <td>...</td>\n",
       "      <td>...</td>\n",
       "      <td>...</td>\n",
       "      <td>...</td>\n",
       "    </tr>\n",
       "    <tr>\n",
       "      <th>562</th>\n",
       "      <td>bm25</td>\n",
       "      <td>120.0</td>\n",
       "      <td>1.0</td>\n",
       "      <td>15</td>\n",
       "      <td>0.010</td>\n",
       "      <td>15</td>\n",
       "      <td>0.191443</td>\n",
       "      <td>0.105793</td>\n",
       "    </tr>\n",
       "    <tr>\n",
       "      <th>563</th>\n",
       "      <td>bm25</td>\n",
       "      <td>120.0</td>\n",
       "      <td>1.0</td>\n",
       "      <td>15</td>\n",
       "      <td>0.010</td>\n",
       "      <td>30</td>\n",
       "      <td>0.172647</td>\n",
       "      <td>0.097386</td>\n",
       "    </tr>\n",
       "    <tr>\n",
       "      <th>564</th>\n",
       "      <td>bm25</td>\n",
       "      <td>120.0</td>\n",
       "      <td>1.0</td>\n",
       "      <td>15</td>\n",
       "      <td>0.020</td>\n",
       "      <td>10</td>\n",
       "      <td>0.178262</td>\n",
       "      <td>0.099788</td>\n",
       "    </tr>\n",
       "    <tr>\n",
       "      <th>565</th>\n",
       "      <td>bm25</td>\n",
       "      <td>120.0</td>\n",
       "      <td>1.0</td>\n",
       "      <td>15</td>\n",
       "      <td>0.020</td>\n",
       "      <td>15</td>\n",
       "      <td>0.188320</td>\n",
       "      <td>0.101774</td>\n",
       "    </tr>\n",
       "    <tr>\n",
       "      <th>566</th>\n",
       "      <td>bm25</td>\n",
       "      <td>120.0</td>\n",
       "      <td>1.0</td>\n",
       "      <td>15</td>\n",
       "      <td>0.020</td>\n",
       "      <td>30</td>\n",
       "      <td>0.170986</td>\n",
       "      <td>0.096610</td>\n",
       "    </tr>\n",
       "  </tbody>\n",
       "</table>\n",
       "<p>567 rows × 8 columns</p>\n",
       "</div>"
      ],
      "text/plain": [
       "    data_representations     K1    B  factors  regularization  iterations  \\\n",
       "0                    Raw    NaN  NaN        3           0.005          10   \n",
       "1                    Raw    NaN  NaN        3           0.005          15   \n",
       "2                    Raw    NaN  NaN        3           0.005          30   \n",
       "3                    Raw    NaN  NaN        3           0.010          10   \n",
       "4                    Raw    NaN  NaN        3           0.010          15   \n",
       "..                   ...    ...  ...      ...             ...         ...   \n",
       "562                 bm25  120.0  1.0       15           0.010          15   \n",
       "563                 bm25  120.0  1.0       15           0.010          30   \n",
       "564                 bm25  120.0  1.0       15           0.020          10   \n",
       "565                 bm25  120.0  1.0       15           0.020          15   \n",
       "566                 bm25  120.0  1.0       15           0.020          30   \n",
       "\n",
       "     precision_at_k  map_at_k  \n",
       "0          0.296645  0.199434  \n",
       "1          0.317075  0.214490  \n",
       "2          0.310359  0.209155  \n",
       "3          0.301123  0.205383  \n",
       "4          0.318851  0.213527  \n",
       "..              ...       ...  \n",
       "562        0.191443  0.105793  \n",
       "563        0.172647  0.097386  \n",
       "564        0.178262  0.099788  \n",
       "565        0.188320  0.101774  \n",
       "566        0.170986  0.096610  \n",
       "\n",
       "[567 rows x 8 columns]"
      ]
     },
     "execution_count": 40,
     "metadata": {},
     "output_type": "execute_result"
    }
   ],
   "source": [
    "model = implicit.lmf.LogisticMatrixFactorization(random_state= 42)\n",
    "results_lmf= gridsearch_cv_implicit(data_skills_csr, algorithm = model,param_grid =  lmf_grid, k = 5)\n",
    "results_lmf"
   ]
  },
  {
   "cell_type": "code",
   "execution_count": 41,
   "metadata": {},
   "outputs": [],
   "source": [
    "results_lmf.to_csv('results_lmf.csv')\n",
    "#results_lmf = pd.read_csv('results_lmf.csv', index_col = 0)\n",
    "#results_lmf"
   ]
  },
  {
   "attachments": {},
   "cell_type": "markdown",
   "metadata": {},
   "source": [
    "Extracting the parametrization of the model with the best MAP at k score"
   ]
  },
  {
   "cell_type": "code",
   "execution_count": 42,
   "metadata": {},
   "outputs": [
    {
     "data": {
      "text/plain": [
       "data_representations    Normalized\n",
       "K1                             NaN\n",
       "B                              NaN\n",
       "factors                          7\n",
       "regularization                0.02\n",
       "iterations                      15\n",
       "precision_at_k            0.342807\n",
       "map_at_k                  0.236807\n",
       "Name: 88, dtype: object"
      ]
     },
     "execution_count": 42,
     "metadata": {},
     "output_type": "execute_result"
    }
   ],
   "source": [
    "best_model_lmf = results_lmf.iloc[results_lmf.map_at_k.idxmax()]\n",
    "best_model_lmf"
   ]
  },
  {
   "cell_type": "markdown",
   "metadata": {},
   "source": [
    "### Bayesian Personalized Ranking"
   ]
  },
  {
   "cell_type": "markdown",
   "metadata": {},
   "source": [
    "Define the parameter-grid"
   ]
  },
  {
   "cell_type": "code",
   "execution_count": 43,
   "metadata": {},
   "outputs": [],
   "source": [
    "bpr_grid = {\n",
    "              'factors': [3,6,7,8,9,10,15],\n",
    "              'regularization': [0.005,0.01,0.02],\n",
    "              'iterations' : [10,15,30], \n",
    "}"
   ]
  },
  {
   "cell_type": "markdown",
   "metadata": {},
   "source": [
    "Initiate the Logisitic Matrix Factorization algorithm from the implicit library"
   ]
  },
  {
   "cell_type": "code",
   "execution_count": 44,
   "metadata": {},
   "outputs": [
    {
     "data": {
      "text/html": [
       "<div>\n",
       "<style scoped>\n",
       "    .dataframe tbody tr th:only-of-type {\n",
       "        vertical-align: middle;\n",
       "    }\n",
       "\n",
       "    .dataframe tbody tr th {\n",
       "        vertical-align: top;\n",
       "    }\n",
       "\n",
       "    .dataframe thead th {\n",
       "        text-align: right;\n",
       "    }\n",
       "</style>\n",
       "<table border=\"1\" class=\"dataframe\">\n",
       "  <thead>\n",
       "    <tr style=\"text-align: right;\">\n",
       "      <th></th>\n",
       "      <th>data_representations</th>\n",
       "      <th>K1</th>\n",
       "      <th>B</th>\n",
       "      <th>factors</th>\n",
       "      <th>regularization</th>\n",
       "      <th>iterations</th>\n",
       "      <th>precision_at_k</th>\n",
       "      <th>map_at_k</th>\n",
       "    </tr>\n",
       "  </thead>\n",
       "  <tbody>\n",
       "    <tr>\n",
       "      <th>0</th>\n",
       "      <td>Raw</td>\n",
       "      <td>NaN</td>\n",
       "      <td>NaN</td>\n",
       "      <td>3</td>\n",
       "      <td>0.005</td>\n",
       "      <td>10</td>\n",
       "      <td>0.475172</td>\n",
       "      <td>0.369481</td>\n",
       "    </tr>\n",
       "    <tr>\n",
       "      <th>1</th>\n",
       "      <td>Raw</td>\n",
       "      <td>NaN</td>\n",
       "      <td>NaN</td>\n",
       "      <td>3</td>\n",
       "      <td>0.005</td>\n",
       "      <td>15</td>\n",
       "      <td>0.467071</td>\n",
       "      <td>0.359369</td>\n",
       "    </tr>\n",
       "    <tr>\n",
       "      <th>2</th>\n",
       "      <td>Raw</td>\n",
       "      <td>NaN</td>\n",
       "      <td>NaN</td>\n",
       "      <td>3</td>\n",
       "      <td>0.005</td>\n",
       "      <td>30</td>\n",
       "      <td>0.426286</td>\n",
       "      <td>0.321986</td>\n",
       "    </tr>\n",
       "    <tr>\n",
       "      <th>3</th>\n",
       "      <td>Raw</td>\n",
       "      <td>NaN</td>\n",
       "      <td>NaN</td>\n",
       "      <td>3</td>\n",
       "      <td>0.010</td>\n",
       "      <td>10</td>\n",
       "      <td>0.475642</td>\n",
       "      <td>0.369738</td>\n",
       "    </tr>\n",
       "    <tr>\n",
       "      <th>4</th>\n",
       "      <td>Raw</td>\n",
       "      <td>NaN</td>\n",
       "      <td>NaN</td>\n",
       "      <td>3</td>\n",
       "      <td>0.010</td>\n",
       "      <td>15</td>\n",
       "      <td>0.468024</td>\n",
       "      <td>0.359716</td>\n",
       "    </tr>\n",
       "    <tr>\n",
       "      <th>...</th>\n",
       "      <td>...</td>\n",
       "      <td>...</td>\n",
       "      <td>...</td>\n",
       "      <td>...</td>\n",
       "      <td>...</td>\n",
       "      <td>...</td>\n",
       "      <td>...</td>\n",
       "      <td>...</td>\n",
       "    </tr>\n",
       "    <tr>\n",
       "      <th>562</th>\n",
       "      <td>bm25</td>\n",
       "      <td>120.0</td>\n",
       "      <td>1.0</td>\n",
       "      <td>15</td>\n",
       "      <td>0.010</td>\n",
       "      <td>15</td>\n",
       "      <td>0.494140</td>\n",
       "      <td>0.388291</td>\n",
       "    </tr>\n",
       "    <tr>\n",
       "      <th>563</th>\n",
       "      <td>bm25</td>\n",
       "      <td>120.0</td>\n",
       "      <td>1.0</td>\n",
       "      <td>15</td>\n",
       "      <td>0.010</td>\n",
       "      <td>30</td>\n",
       "      <td>0.483353</td>\n",
       "      <td>0.376065</td>\n",
       "    </tr>\n",
       "    <tr>\n",
       "      <th>564</th>\n",
       "      <td>bm25</td>\n",
       "      <td>120.0</td>\n",
       "      <td>1.0</td>\n",
       "      <td>15</td>\n",
       "      <td>0.020</td>\n",
       "      <td>10</td>\n",
       "      <td>0.471466</td>\n",
       "      <td>0.368409</td>\n",
       "    </tr>\n",
       "    <tr>\n",
       "      <th>565</th>\n",
       "      <td>bm25</td>\n",
       "      <td>120.0</td>\n",
       "      <td>1.0</td>\n",
       "      <td>15</td>\n",
       "      <td>0.020</td>\n",
       "      <td>15</td>\n",
       "      <td>0.485298</td>\n",
       "      <td>0.381134</td>\n",
       "    </tr>\n",
       "    <tr>\n",
       "      <th>566</th>\n",
       "      <td>bm25</td>\n",
       "      <td>120.0</td>\n",
       "      <td>1.0</td>\n",
       "      <td>15</td>\n",
       "      <td>0.020</td>\n",
       "      <td>30</td>\n",
       "      <td>0.476055</td>\n",
       "      <td>0.369682</td>\n",
       "    </tr>\n",
       "  </tbody>\n",
       "</table>\n",
       "<p>567 rows × 8 columns</p>\n",
       "</div>"
      ],
      "text/plain": [
       "    data_representations     K1    B  factors  regularization  iterations  \\\n",
       "0                    Raw    NaN  NaN        3           0.005          10   \n",
       "1                    Raw    NaN  NaN        3           0.005          15   \n",
       "2                    Raw    NaN  NaN        3           0.005          30   \n",
       "3                    Raw    NaN  NaN        3           0.010          10   \n",
       "4                    Raw    NaN  NaN        3           0.010          15   \n",
       "..                   ...    ...  ...      ...             ...         ...   \n",
       "562                 bm25  120.0  1.0       15           0.010          15   \n",
       "563                 bm25  120.0  1.0       15           0.010          30   \n",
       "564                 bm25  120.0  1.0       15           0.020          10   \n",
       "565                 bm25  120.0  1.0       15           0.020          15   \n",
       "566                 bm25  120.0  1.0       15           0.020          30   \n",
       "\n",
       "     precision_at_k  map_at_k  \n",
       "0          0.475172  0.369481  \n",
       "1          0.467071  0.359369  \n",
       "2          0.426286  0.321986  \n",
       "3          0.475642  0.369738  \n",
       "4          0.468024  0.359716  \n",
       "..              ...       ...  \n",
       "562        0.494140  0.388291  \n",
       "563        0.483353  0.376065  \n",
       "564        0.471466  0.368409  \n",
       "565        0.485298  0.381134  \n",
       "566        0.476055  0.369682  \n",
       "\n",
       "[567 rows x 8 columns]"
      ]
     },
     "execution_count": 44,
     "metadata": {},
     "output_type": "execute_result"
    }
   ],
   "source": [
    "model = implicit.bpr.BayesianPersonalizedRanking(random_state= 42)\n",
    "results_bpr= gridsearch_cv_implicit(data_skills_csr, algorithm = model,param_grid =  bpr_grid, k = 5)\n",
    "results_bpr"
   ]
  },
  {
   "cell_type": "code",
   "execution_count": 45,
   "metadata": {},
   "outputs": [],
   "source": [
    "results_bpr.to_csv('results_bpr.csv')\n",
    "#results_bpr = pd.read_csv('results_bpr.csv', index_col = 0)\n",
    "#results_bpr"
   ]
  },
  {
   "attachments": {},
   "cell_type": "markdown",
   "metadata": {},
   "source": [
    "Extracting the parametrization of the model with the best MAP at k score"
   ]
  },
  {
   "cell_type": "code",
   "execution_count": 46,
   "metadata": {},
   "outputs": [
    {
     "data": {
      "text/plain": [
       "data_representations        bm25\n",
       "K1                         100.0\n",
       "B                           0.75\n",
       "factors                       15\n",
       "regularization             0.005\n",
       "iterations                    15\n",
       "precision_at_k          0.499791\n",
       "map_at_k                0.393606\n",
       "Name: 370, dtype: object"
      ]
     },
     "execution_count": 46,
     "metadata": {},
     "output_type": "execute_result"
    }
   ],
   "source": [
    "best_model_bpr = results_bpr.iloc[results_bpr.map_at_k.idxmax()]\n",
    "best_model_bpr"
   ]
  },
  {
   "cell_type": "markdown",
   "metadata": {},
   "source": [
    "### Comparison of the best models across the algorithms"
   ]
  },
  {
   "cell_type": "markdown",
   "metadata": {},
   "source": [
    "This section will identify the best model over all algortihms, which were used.\n",
    "Therefore two dictonaries are created.\n",
    "\n",
    "The dictonary \"comparision_dict\" is used to compare the results of the best performing models of each algorithm.\n",
    "\n",
    "The dictonary \"best_dict\" is then used to determine the best model across all different algortihms."
   ]
  },
  {
   "cell_type": "code",
   "execution_count": 47,
   "metadata": {},
   "outputs": [
    {
     "data": {
      "text/html": [
       "<div>\n",
       "<style scoped>\n",
       "    .dataframe tbody tr th:only-of-type {\n",
       "        vertical-align: middle;\n",
       "    }\n",
       "\n",
       "    .dataframe tbody tr th {\n",
       "        vertical-align: top;\n",
       "    }\n",
       "\n",
       "    .dataframe thead th {\n",
       "        text-align: right;\n",
       "    }\n",
       "</style>\n",
       "<table border=\"1\" class=\"dataframe\">\n",
       "  <thead>\n",
       "    <tr style=\"text-align: right;\">\n",
       "      <th></th>\n",
       "      <th>model</th>\n",
       "      <th>data_representation</th>\n",
       "      <th>factors</th>\n",
       "      <th>regularization</th>\n",
       "      <th>map_at_k</th>\n",
       "      <th>precision_at_k</th>\n",
       "    </tr>\n",
       "  </thead>\n",
       "  <tbody>\n",
       "    <tr>\n",
       "      <th>0</th>\n",
       "      <td>als</td>\n",
       "      <td>Raw</td>\n",
       "      <td>8</td>\n",
       "      <td>0.005</td>\n",
       "      <td>0.464720</td>\n",
       "      <td>0.571195</td>\n",
       "    </tr>\n",
       "    <tr>\n",
       "      <th>1</th>\n",
       "      <td>lmf</td>\n",
       "      <td>Normalized</td>\n",
       "      <td>7</td>\n",
       "      <td>0.020</td>\n",
       "      <td>0.236807</td>\n",
       "      <td>0.342807</td>\n",
       "    </tr>\n",
       "    <tr>\n",
       "      <th>2</th>\n",
       "      <td>bpr</td>\n",
       "      <td>bm25</td>\n",
       "      <td>15</td>\n",
       "      <td>0.005</td>\n",
       "      <td>0.393606</td>\n",
       "      <td>0.499791</td>\n",
       "    </tr>\n",
       "  </tbody>\n",
       "</table>\n",
       "</div>"
      ],
      "text/plain": [
       "  model data_representation  factors  regularization  map_at_k  precision_at_k\n",
       "0   als                 Raw        8           0.005  0.464720        0.571195\n",
       "1   lmf          Normalized        7           0.020  0.236807        0.342807\n",
       "2   bpr                bm25       15           0.005  0.393606        0.499791"
      ]
     },
     "execution_count": 47,
     "metadata": {},
     "output_type": "execute_result"
    }
   ],
   "source": [
    "comparison_dict= {\n",
    "            'model': ['als','lmf','bpr']\n",
    "            ,'data_representation': [best_model_als.data_representations, best_model_lmf.data_representations, best_model_bpr.data_representations]\n",
    "            ,'factors': [best_model_als.factors, best_model_lmf.factors, best_model_bpr.factors]\n",
    "            ,'regularization': [best_model_als.regularization, best_model_lmf.regularization, best_model_bpr.regularization]    \n",
    "            ,'map_at_k': [best_model_als.map_at_k, best_model_lmf.map_at_k, best_model_bpr.map_at_k]\n",
    "            ,'precision_at_k': [best_model_als.precision_at_k, best_model_lmf.precision_at_k, best_model_bpr.precision_at_k]\n",
    "            }\n",
    "            \n",
    "best_dict = {\n",
    "            'als':best_model_als\n",
    "            ,'lmf':best_model_lmf\n",
    "            ,'bpr':best_model_bpr\n",
    "            }\n",
    "\n",
    "\n",
    "\n",
    "best_model_comparison = pd.DataFrame(comparison_dict)\n",
    "best_model_comparison"
   ]
  },
  {
   "cell_type": "code",
   "execution_count": 48,
   "metadata": {},
   "outputs": [
    {
     "data": {
      "text/plain": [
       "data_representations         Raw\n",
       "K1                           NaN\n",
       "B                            NaN\n",
       "factors                        8\n",
       "regularization             0.005\n",
       "iterations                    10\n",
       "precision_at_k          0.571195\n",
       "map_at_k                 0.46472\n",
       "Name: 27, dtype: object"
      ]
     },
     "execution_count": 48,
     "metadata": {},
     "output_type": "execute_result"
    }
   ],
   "source": [
    "best_key = best_model_comparison.iloc[best_model_comparison.map_at_k.idxmax()][\"model\"]\n",
    "best_model = best_dict[best_key]\n",
    "best_model"
   ]
  },
  {
   "attachments": {},
   "cell_type": "markdown",
   "metadata": {},
   "source": [
    "### Plotting the Effect of Latent Factors on Evaluation Metrics"
   ]
  },
  {
   "attachments": {},
   "cell_type": "markdown",
   "metadata": {},
   "source": [
    "In order to better assess the effect of the latent factors on the performance of the ALS algorithm, all parameterizations of the best model are kept and only the number of latent factors is changed (cet. par.):"
   ]
  },
  {
   "cell_type": "code",
   "execution_count": 49,
   "metadata": {},
   "outputs": [
    {
     "data": {
      "text/html": [
       "<div>\n",
       "<style scoped>\n",
       "    .dataframe tbody tr th:only-of-type {\n",
       "        vertical-align: middle;\n",
       "    }\n",
       "\n",
       "    .dataframe tbody tr th {\n",
       "        vertical-align: top;\n",
       "    }\n",
       "\n",
       "    .dataframe thead th {\n",
       "        text-align: right;\n",
       "    }\n",
       "</style>\n",
       "<table border=\"1\" class=\"dataframe\">\n",
       "  <thead>\n",
       "    <tr style=\"text-align: right;\">\n",
       "      <th></th>\n",
       "      <th>data_representations</th>\n",
       "      <th>K1</th>\n",
       "      <th>B</th>\n",
       "      <th>factors</th>\n",
       "      <th>regularization</th>\n",
       "      <th>iterations</th>\n",
       "      <th>precision_at_k</th>\n",
       "      <th>map_at_k</th>\n",
       "    </tr>\n",
       "  </thead>\n",
       "  <tbody>\n",
       "    <tr>\n",
       "      <th>0</th>\n",
       "      <td>Raw</td>\n",
       "      <td>NaN</td>\n",
       "      <td>NaN</td>\n",
       "      <td>3</td>\n",
       "      <td>0.005</td>\n",
       "      <td>10</td>\n",
       "      <td>0.504628</td>\n",
       "      <td>0.401247</td>\n",
       "    </tr>\n",
       "    <tr>\n",
       "      <th>9</th>\n",
       "      <td>Raw</td>\n",
       "      <td>NaN</td>\n",
       "      <td>NaN</td>\n",
       "      <td>6</td>\n",
       "      <td>0.005</td>\n",
       "      <td>10</td>\n",
       "      <td>0.551801</td>\n",
       "      <td>0.447232</td>\n",
       "    </tr>\n",
       "    <tr>\n",
       "      <th>18</th>\n",
       "      <td>Raw</td>\n",
       "      <td>NaN</td>\n",
       "      <td>NaN</td>\n",
       "      <td>7</td>\n",
       "      <td>0.005</td>\n",
       "      <td>10</td>\n",
       "      <td>0.560862</td>\n",
       "      <td>0.455209</td>\n",
       "    </tr>\n",
       "    <tr>\n",
       "      <th>27</th>\n",
       "      <td>Raw</td>\n",
       "      <td>NaN</td>\n",
       "      <td>NaN</td>\n",
       "      <td>8</td>\n",
       "      <td>0.005</td>\n",
       "      <td>10</td>\n",
       "      <td>0.571195</td>\n",
       "      <td>0.464720</td>\n",
       "    </tr>\n",
       "    <tr>\n",
       "      <th>36</th>\n",
       "      <td>Raw</td>\n",
       "      <td>NaN</td>\n",
       "      <td>NaN</td>\n",
       "      <td>9</td>\n",
       "      <td>0.005</td>\n",
       "      <td>10</td>\n",
       "      <td>0.570045</td>\n",
       "      <td>0.463499</td>\n",
       "    </tr>\n",
       "    <tr>\n",
       "      <th>45</th>\n",
       "      <td>Raw</td>\n",
       "      <td>NaN</td>\n",
       "      <td>NaN</td>\n",
       "      <td>10</td>\n",
       "      <td>0.005</td>\n",
       "      <td>10</td>\n",
       "      <td>0.566859</td>\n",
       "      <td>0.459463</td>\n",
       "    </tr>\n",
       "    <tr>\n",
       "      <th>54</th>\n",
       "      <td>Raw</td>\n",
       "      <td>NaN</td>\n",
       "      <td>NaN</td>\n",
       "      <td>15</td>\n",
       "      <td>0.005</td>\n",
       "      <td>10</td>\n",
       "      <td>0.554612</td>\n",
       "      <td>0.442815</td>\n",
       "    </tr>\n",
       "  </tbody>\n",
       "</table>\n",
       "</div>"
      ],
      "text/plain": [
       "   data_representations   K1    B  factors  regularization  iterations  \\\n",
       "0                   Raw  NaN  NaN        3           0.005          10   \n",
       "9                   Raw  NaN  NaN        6           0.005          10   \n",
       "18                  Raw  NaN  NaN        7           0.005          10   \n",
       "27                  Raw  NaN  NaN        8           0.005          10   \n",
       "36                  Raw  NaN  NaN        9           0.005          10   \n",
       "45                  Raw  NaN  NaN       10           0.005          10   \n",
       "54                  Raw  NaN  NaN       15           0.005          10   \n",
       "\n",
       "    precision_at_k  map_at_k  \n",
       "0         0.504628  0.401247  \n",
       "9         0.551801  0.447232  \n",
       "18        0.560862  0.455209  \n",
       "27        0.571195  0.464720  \n",
       "36        0.570045  0.463499  \n",
       "45        0.566859  0.459463  \n",
       "54        0.554612  0.442815  "
      ]
     },
     "execution_count": 49,
     "metadata": {},
     "output_type": "execute_result"
    }
   ],
   "source": [
    "results_plot = results_als[(results_als.regularization == 0.005) & (results_als.data_representations == \"Raw\") & (results_als.iterations == 10)]\n",
    "results_plot"
   ]
  },
  {
   "cell_type": "code",
   "execution_count": 50,
   "metadata": {},
   "outputs": [],
   "source": [
    "import matplotlib.ticker as mtick"
   ]
  },
  {
   "cell_type": "code",
   "execution_count": 51,
   "metadata": {},
   "outputs": [
    {
     "data": {
      "image/png": "[encoded data removed]",
      "text/plain": [
       "<Figure size 1200x800 with 1 Axes>"
      ]
     },
     "metadata": {},
     "output_type": "display_data"
    }
   ],
   "source": [
    "fig = plt.figure(figsize=(12, 8))\n",
    "ax = fig.add_subplot(1,1,1)\n",
    "plt.plot(results_plot.factors,results_plot.map_at_k  ,color=\"#112e51\",alpha=0.8, marker=\"o\",label=\"MAP@K\")\n",
    "plt.plot(results_plot.factors,results_plot.precision_at_k  ,color=\"#48b2f0\",alpha=0.8, marker=\"o\",label=\"P@K\")\n",
    "plt.title(\"Effect of Laten Factors on Evaluation Metrics\",size = 20)\n",
    "plt.xlabel(\"Latent Factors\",size=15)\n",
    "plt.xticks(np.arange(3,16,1),fontsize=15)\n",
    "plt.yticks(fontsize=15)\n",
    "plt.legend(loc= \"right\")\n",
    "plt.tight_layout()\n",
    "ax.yaxis.set_major_formatter(mtick.PercentFormatter( xmax=1))\n",
    "#plt.savefig(\"Evaluation of ALS Model with Different Factors.png\",dpi=300)\n"
   ]
  },
  {
   "attachments": {},
   "cell_type": "markdown",
   "metadata": {},
   "source": [
    "**Description and Interpretation:** <br>\n",
    "The figure \"Effect of Latent Factors on Evaluation Metrics\" shows on the one hand that the precision at k is always higher than the MAP. Although the values of both metrics differ, the shapes of the plots representing precision at k and MAP are similar or almost congruent. On the other hand, the figure shows that precision and map increase continuously as the number of latent factors increases until a high point is reached with 8 latent factors. If the number of latent factors is greater than 8, precision and MAP decrease, albeit only slightly. This behavior of the evaluation metrics can be explained by the fact that the model overfits on the data used for training as soon as more than 8 latent factors are set up. Due to the overfitting, the model ultimately achieves worse results on the unseen test data"
   ]
  },
  {
   "cell_type": "markdown",
   "metadata": {},
   "source": [
    "### Initiate the best model"
   ]
  },
  {
   "cell_type": "markdown",
   "metadata": {},
   "source": [
    "Get the representation of the data, that performed the best (raw, normalized, tf-idf or bm25)"
   ]
  },
  {
   "cell_type": "code",
   "execution_count": 52,
   "metadata": {},
   "outputs": [],
   "source": [
    "best_grid_bm25  = { 'X': data_skills_csr,\n",
    "                    'K1': best_model[\"K1\"], \n",
    "                    'B': best_model[\"B\"] \n",
    "                    }"
   ]
  },
  {
   "cell_type": "code",
   "execution_count": 53,
   "metadata": {},
   "outputs": [],
   "source": [
    "data_representation_dict  = {'Raw':data_skills_csr\n",
    "                            ,'Normalized':  implicit.nearest_neighbours.normalize(data_skills_csr)\n",
    "                            , 'tfidf':implicit.nearest_neighbours.tfidf_weight(data_skills_csr)\n",
    "                            , 'bm25':implicit.nearest_neighbours.bm25_weight(**best_grid_bm25)\n",
    "                            }    "
   ]
  },
  {
   "cell_type": "code",
   "execution_count": 54,
   "metadata": {},
   "outputs": [],
   "source": [
    "best_data = data_representation_dict[best_model[\"data_representations\"]]\n",
    "best_data = best_data.tocsr()"
   ]
  },
  {
   "cell_type": "markdown",
   "metadata": {},
   "source": [
    "Initiate a train-test-split:"
   ]
  },
  {
   "cell_type": "code",
   "execution_count": 55,
   "metadata": {},
   "outputs": [],
   "source": [
    "train_mat, test_mat = implicit.evaluation.train_test_split(best_data, train_percentage =  0.8, random_state = 42)"
   ]
  },
  {
   "cell_type": "markdown",
   "metadata": {},
   "source": [
    "### Initiate that model"
   ]
  },
  {
   "cell_type": "code",
   "execution_count": 56,
   "metadata": {},
   "outputs": [],
   "source": [
    "def initiate_best_model(key:str , model_params:pd.Series, data:csr_matrix):\n",
    "    '''\n",
    "    This function initiates a model based on the algorithm, that is represented by the parameter 'key'.\n",
    "    The model will be initiated with the given parameters and will be fitted on the given data. \n",
    "    ----------\n",
    "    Parameters: \n",
    "    key: str \n",
    "    A string that determines which algorithm will be used.\n",
    "    model_params : pd.Series \n",
    "    A pandas Series holding the parameters for the algorithm.\n",
    "    data : csr_matrix\n",
    "    The trainingsdata to fit the model on. \n",
    "    ----------\n",
    "    Returns: \n",
    "    - A fitted model of the implicit library, that is initiated with and fitted on the given data. This model can be used to recommend skills to users.\n",
    "    '''\n",
    "    if key == 'als':\n",
    "        model = implicit.als.AlternatingLeastSquares(factors = model_params[\"factors\"], regularization = model_params[\"regularization\"], iterations = model_params[\"iterations\"],  random_state= 42) #,alpha= model_params[\"alpha\"]\n",
    "    elif key == 'lmf':\n",
    "        model = implicit.lmf.LogisticMatrixFactorization(factors = model_params[\"factors\"], regularization = model_params[\"regularization\"], iterations = model_params[\"iterations\"], random_state= 42)#,alpha= model_params[\"alpha\"]\n",
    "    elif key == 'bpr':\n",
    "        model = implicit.bpr.BayesianPersonalizedRanking(factors = model_params[\"factors\"], regularization = model_params[\"regularization\"], iterations = model_params[\"iterations\"], random_state= 42)\n",
    "    model.fit(data, show_progress= False)\n",
    "    return model"
   ]
  },
  {
   "cell_type": "code",
   "execution_count": 57,
   "metadata": {},
   "outputs": [],
   "source": [
    "model = initiate_best_model(best_key, best_model, train_mat)"
   ]
  },
  {
   "cell_type": "markdown",
   "metadata": {},
   "source": [
    "## Evaluation"
   ]
  },
  {
   "cell_type": "markdown",
   "metadata": {},
   "source": [
    "Comparing the model to the baseline of most often occuring skills:"
   ]
  },
  {
   "cell_type": "code",
   "execution_count": 58,
   "metadata": {},
   "outputs": [],
   "source": [
    "def prec_at_k(actual:list, predicted:list, k:int=5):\n",
    "    \"\"\"\n",
    "    Computes the precision at k.\n",
    "    This function computes the average prescision at k between two lists of\n",
    "    items.\n",
    "    Parameters\n",
    "    ----------\n",
    "    actual : list\n",
    "             A list of elements that are to be predicted (order doesn't matter)\n",
    "    predicted : list\n",
    "                A list of predicted elements (order does matter)\n",
    "    k : int, optional\n",
    "        The maximum number of predicted elements\n",
    "    Returns\n",
    "    -------\n",
    "    score : double\n",
    "            The average precision at k over the input lists\n",
    "    \"\"\"\n",
    "    if not actual:\n",
    "        return 0.0\n",
    "        \n",
    "    if len(predicted)>k:\n",
    "        predicted = predicted[:k]\n",
    "\n",
    "    score = 0.0\n",
    "    for i,p in enumerate(predicted):\n",
    "        # first condition checks whether it is valid prediction\n",
    "        # second condition checks if prediction is not repeated\n",
    "        if p in actual and p not in predicted[:i]:\n",
    "            score += 1.0\n",
    "    return score / min(len(actual), k)\n",
    "    "
   ]
  },
  {
   "cell_type": "code",
   "execution_count": 59,
   "metadata": {},
   "outputs": [],
   "source": [
    "def average_precision_at_k(actual:list, predicted:list, k:int=10):\n",
    "    \"\"\"\n",
    "    Computes the average precision at k.\n",
    "    This function computes the average prescision at k between two lists of\n",
    "    items.\n",
    "    Parameters\n",
    "    ----------\n",
    "    actual : list\n",
    "             A list of elements that are to be predicted (order doesn't matter)\n",
    "    predicted : list\n",
    "                A list of predicted elements (order does matter)\n",
    "    k : int, optional\n",
    "        The maximum number of predicted elements\n",
    "    Returns\n",
    "    -------\n",
    "    score : double\n",
    "            The average precision at k over the input lists\n",
    "    \"\"\"\n",
    "    if not actual:\n",
    "        return 0.0\n",
    "\n",
    "    if len(predicted)>k:\n",
    "        predicted = predicted[:k]\n",
    "\n",
    "    score = 0.0\n",
    "    num_hits = 0.0\n",
    "\n",
    "    for i,p in enumerate(predicted):\n",
    "        # first condition checks whether it is valid prediction\n",
    "        # second condition checks if prediction is not repeated\n",
    "        if p in actual and p not in predicted[:i]:\n",
    "            num_hits += 1.0\n",
    "            score += num_hits / (i+1.0)\n",
    "\n",
    "    return score / min(len(actual), k)"
   ]
  },
  {
   "cell_type": "code",
   "execution_count": 60,
   "metadata": {},
   "outputs": [],
   "source": [
    "def baseline_at_k(n):\n",
    "    '''\n",
    "    This function calculates the precision and MAP at k for the baseline model \"most common skills\",\n",
    "    which is a simple recommendation strategy that involves recommending the most popular or frequent skills to all users.\n",
    "    ----------\n",
    "    Parameters: \n",
    "    k: int \n",
    "    The number of recommended skills per user.\n",
    "    ----------\n",
    "    Returns: \n",
    "    - The precision at k for the baseline model.\n",
    "    '''\n",
    "    #########\n",
    "    # Get the most common skills\n",
    "    #########\n",
    "    most_common_skills = data_skills.sum(axis=0).nlargest(n).index.to_list()\t\n",
    "\n",
    "\n",
    "    #########\n",
    "    # Create a list to store the precision at k for each user\n",
    "    #########\n",
    "    p_at_baseline_list  = np.zeros(len(PERSONS))\n",
    "    map_at_baseline_list = np.zeros(len(PERSONS))\n",
    "\n",
    "    for i in range(0,len(PERSONS)):\n",
    "\n",
    "        #########\n",
    "        # Get all user-item-interactions for a user within the test set\n",
    "        #########\n",
    "        user_series = pd.DataFrame.sparse.from_spmatrix(test_mat, columns=data_skills.columns).loc[i]\n",
    "\n",
    "        #########\n",
    "        # Get all user-item-interactions > 0 for a user\n",
    "        #########\n",
    "        user_known_skills = user_series[user_series > 0]\n",
    "\n",
    "        user_known_skills = user_known_skills.index.to_list()\n",
    "\n",
    "        p_at_baseline_list[i] = prec_at_k(user_known_skills, most_common_skills, k=n)\n",
    "        map_at_baseline_list[i] = average_precision_at_k(user_known_skills, most_common_skills, k=n)\n",
    "    return p_at_baseline_list.mean(), map_at_baseline_list.mean()\n"
   ]
  },
  {
   "cell_type": "markdown",
   "metadata": {},
   "source": [
    "Precision at k = 10 of the baseline:"
   ]
  },
  {
   "cell_type": "code",
   "execution_count": 61,
   "metadata": {},
   "outputs": [],
   "source": [
    "baseline_p_at_10 , basline_map_at_10 = baseline_at_k(10)"
   ]
  },
  {
   "cell_type": "code",
   "execution_count": 62,
   "metadata": {},
   "outputs": [
    {
     "name": "stdout",
     "output_type": "stream",
     "text": [
      "The precision at 10f or the baseline model is 15.94%. The MAP at 10 for the baseline model is 7.1%\n"
     ]
    }
   ],
   "source": [
    "print(f'The precision at 10f or the baseline model is {round(baseline_p_at_10*100,2)}%. The MAP at 10 for the baseline model is {round(basline_map_at_10*100,2)}%')"
   ]
  },
  {
   "cell_type": "markdown",
   "metadata": {},
   "source": [
    "Precision at k = 10 of our model"
   ]
  },
  {
   "cell_type": "code",
   "execution_count": 63,
   "metadata": {},
   "outputs": [],
   "source": [
    "model_p_at_10 =  implicit.evaluation.precision_at_k(model, train_user_items=train_mat, test_user_items=test_mat, K=10,show_progress=False)\n",
    "model_map_at_10 =  implicit.evaluation.mean_average_precision_at_k(model, train_user_items=train_mat, test_user_items=test_mat, K=10,show_progress=False)"
   ]
  },
  {
   "cell_type": "code",
   "execution_count": 64,
   "metadata": {},
   "outputs": [
    {
     "name": "stdout",
     "output_type": "stream",
     "text": [
      "The precision at 10 for our best model is 52.96%. The MAP at 10 for our best model is 36.97%\n"
     ]
    }
   ],
   "source": [
    "print(f'The precision at 10 for our best model is {round(model_p_at_10*100,2)}%. The MAP at 10 for our best model is {round(model_map_at_10*100,2)}%')"
   ]
  },
  {
   "cell_type": "markdown",
   "metadata": {},
   "source": [
    "Precision at k = 5 of the baseline:"
   ]
  },
  {
   "cell_type": "code",
   "execution_count": 65,
   "metadata": {},
   "outputs": [],
   "source": [
    "baseline_p_at_5 , basline_map_at_5 = baseline_at_k(5)"
   ]
  },
  {
   "cell_type": "code",
   "execution_count": 66,
   "metadata": {},
   "outputs": [
    {
     "name": "stdout",
     "output_type": "stream",
     "text": [
      "The precision at 5 for the baseline model is 15.95%. The MAP at 5 for the baseline model is 9.21%\n"
     ]
    }
   ],
   "source": [
    "print(f'The precision at 5 for the baseline model is {round(baseline_p_at_5*100,2)}%. The MAP at 5 for the baseline model is {round(basline_map_at_5*100,2)}%')"
   ]
  },
  {
   "cell_type": "markdown",
   "metadata": {},
   "source": [
    "Precision at k = 5 of our model:"
   ]
  },
  {
   "cell_type": "code",
   "execution_count": 67,
   "metadata": {},
   "outputs": [],
   "source": [
    "model_p_at_5 =  implicit.evaluation.precision_at_k(model, train_user_items=train_mat, test_user_items=test_mat, K=5,show_progress=False)\n",
    "model_map_at_5 =  implicit.evaluation.mean_average_precision_at_k(model, train_user_items=train_mat, test_user_items=test_mat, K=5,show_progress=False)"
   ]
  },
  {
   "cell_type": "code",
   "execution_count": 68,
   "metadata": {},
   "outputs": [
    {
     "name": "stdout",
     "output_type": "stream",
     "text": [
      "The precision at 5 for our best model is 56.14%. The MAP at 5 for our best model is 45.32%\n"
     ]
    }
   ],
   "source": [
    "print(f'The precision at 5 for our best model is {round(model_p_at_5*100,2)}%. The MAP at 5 for our best model is {round(model_map_at_5*100,2)}%')"
   ]
  },
  {
   "attachments": {},
   "cell_type": "markdown",
   "metadata": {},
   "source": [
    "**Comparison between our model and the baseline:**  <br>\n",
    "Choosing k = 5, the baseline of most common skills achieves a Precision of 15.95\\% and a MAP of 9.21\\%. In contrast, our model has a Precision of 56.14\\% and a MAP of 45.32\\% and therefore performs significantly better than the baseline, where the recommendations are additionally differentiated and personalized. This demonstrated how a recommender system that processes implicit feedback can be successfully calibrated to suggest skills for employee trainin"
   ]
  },
  {
   "cell_type": "markdown",
   "metadata": {},
   "source": [
    "## Recommendations"
   ]
  },
  {
   "cell_type": "markdown",
   "metadata": {},
   "source": [
    "### Get Recommendations for a known user"
   ]
  },
  {
   "cell_type": "markdown",
   "metadata": {},
   "source": [
    "Create a dictonary that holds the id of a skill as key and the name of a skill as value. <br>\n",
    "This function is necassary to exclude certain skills from the recommendations later on."
   ]
  },
  {
   "cell_type": "code",
   "execution_count": 69,
   "metadata": {},
   "outputs": [],
   "source": [
    "# Id and skills\n",
    "dict_skills_id = {}\n",
    "for c,skill in enumerate(data_skills.columns):\n",
    "        dict_skills_id[c] = skill"
   ]
  },
  {
   "cell_type": "code",
   "execution_count": 70,
   "metadata": {},
   "outputs": [],
   "source": [
    "def get_key_from_value(dictonary: dict, values:list):\n",
    "    '''\n",
    "    This function returns the key of a dictionary, that is associated with the given value. \n",
    "    ----------\n",
    "    Parameters: \n",
    "    dict_skills_id: dict \n",
    "    A dictionary with skills as keys and ids as values.\n",
    "    values : str \n",
    "    A string that is associated with a key in the dictionary.\n",
    "    ----------\n",
    "    Returns: \n",
    "    - A list holding the keys to the corresponding values.\n",
    "    '''\n",
    "    output = [k for k,v in dictonary.items() for val in values if v == val]\n",
    "    return output"
   ]
  },
  {
   "cell_type": "code",
   "execution_count": 71,
   "metadata": {},
   "outputs": [],
   "source": [
    "def get_recommendations (model,userids:list, mat:csr_matrix ,eval_mat:csr_matrix = None ,items_to_exclude:list = None ,n:int = 5):\n",
    "    '''\n",
    "    This function produces recommendations for known user. \n",
    "    ----------\n",
    "    Parameters: \n",
    "    model :\n",
    "    A trained model from the implicit library.\n",
    "    userids : list\n",
    "    A list that holds the userids for which recommendations will be generated. \n",
    "    train_mat : csr_matrix\n",
    "    A user-item matrix that holds the known items for the given users.\n",
    "    test_mat : csr_matrix\n",
    "    Optional: A user-item matrix that holds user-item interactions and can be used for evaluation.\n",
    "    items_to_exclude : list\n",
    "    Optional: A list that holds the items that should be excluded from the recommendations.\n",
    "    n : int\n",
    "    Optional: The number of recommendations that will be generated\n",
    "    .\n",
    "    ----------\n",
    "    Returns: \n",
    "    - A pandas DataFrame that holds the recommendations for the given users.\n",
    "    '''\n",
    "    output = pd.DataFrame()\n",
    "    if items_to_exclude is not None:\n",
    "        items_to_exclude  = get_key_from_value(dict_skills_id,items_to_exclude)\n",
    "\n",
    "    for u in userids:\n",
    "        \n",
    "        \n",
    "        #############\n",
    "        # Do recommendations for every user in the list. The known items are in the matrix the model was trained on\n",
    "        #############\n",
    "\n",
    "        skill_ids, scores  = model.recommend(u, user_items= mat[u], N = n , filter_already_liked_items=True, filter_items = items_to_exclude)\n",
    "        recommendations_df = pd.DataFrame({\"skill\": [dict_skills_id[skill] for skill in skill_ids], \"score\": scores})\n",
    "\n",
    "        #############\n",
    "        # Get all known skills for each user by indexing the full data matrix\n",
    "        #############\n",
    "        \n",
    "        if eval_mat is not None:\n",
    "            eval_data = pd.DataFrame.sparse.from_spmatrix(data = eval_mat.tocsr()[u],columns=data_skills.columns).T.reset_index().rename(columns = {\"index\": \"skill\",0: \"rating\"}).sort_values(by = \"rating\", ascending = False)\n",
    "   \n",
    "            #############\n",
    "            # Merge both df in order to see, if the recommended skills are the skills, which the user already knows, but were left out in the trainings data\n",
    "            #############\n",
    "            recommendations_df = recommendations_df.merge(eval_data, on = [\"skill\"], how = \"left\").rename(columns = {\"rating\": \"rating_in_test_data\"})\n",
    "\n",
    "\n",
    "        #############\n",
    "        # Merge the category information to the recommendations\n",
    "        #############\n",
    "        recommendations_df = recommendations_df.merge(data_categories, on = \"skill\", how = \"left\")\n",
    "        recommendations_df[\"user_id\"]  = u\n",
    "        recommendations_df = recommendations_df.set_index(\"user_id\")\n",
    "        output = pd.concat([output, recommendations_df])\n",
    "    \n",
    "    return output"
   ]
  },
  {
   "cell_type": "code",
   "execution_count": 72,
   "metadata": {},
   "outputs": [
    {
     "data": {
      "text/html": [
       "<div>\n",
       "<style scoped>\n",
       "    .dataframe tbody tr th:only-of-type {\n",
       "        vertical-align: middle;\n",
       "    }\n",
       "\n",
       "    .dataframe tbody tr th {\n",
       "        vertical-align: top;\n",
       "    }\n",
       "\n",
       "    .dataframe thead th {\n",
       "        text-align: right;\n",
       "    }\n",
       "</style>\n",
       "<table border=\"1\" class=\"dataframe\">\n",
       "  <thead>\n",
       "    <tr style=\"text-align: right;\">\n",
       "      <th></th>\n",
       "      <th>skill</th>\n",
       "      <th>score</th>\n",
       "      <th>rating_in_test_data</th>\n",
       "      <th>category</th>\n",
       "    </tr>\n",
       "    <tr>\n",
       "      <th>user_id</th>\n",
       "      <th></th>\n",
       "      <th></th>\n",
       "      <th></th>\n",
       "      <th></th>\n",
       "    </tr>\n",
       "  </thead>\n",
       "  <tbody>\n",
       "    <tr>\n",
       "      <th>0</th>\n",
       "      <td>REST</td>\n",
       "      <td>0.885694</td>\n",
       "      <td>1</td>\n",
       "      <td>Standards</td>\n",
       "    </tr>\n",
       "    <tr>\n",
       "      <th>0</th>\n",
       "      <td>SCRUM</td>\n",
       "      <td>0.812002</td>\n",
       "      <td>1</td>\n",
       "      <td>Projektmanagement / Vorgehensmodelle</td>\n",
       "    </tr>\n",
       "    <tr>\n",
       "      <th>0</th>\n",
       "      <td>Unit Tests (Komponententests)</td>\n",
       "      <td>0.803812</td>\n",
       "      <td>1</td>\n",
       "      <td>Methoden und Praktiken</td>\n",
       "    </tr>\n",
       "    <tr>\n",
       "      <th>0</th>\n",
       "      <td>MySQL</td>\n",
       "      <td>0.704764</td>\n",
       "      <td>1</td>\n",
       "      <td>Datenbank</td>\n",
       "    </tr>\n",
       "    <tr>\n",
       "      <th>0</th>\n",
       "      <td>Windows 7</td>\n",
       "      <td>0.662781</td>\n",
       "      <td>1</td>\n",
       "      <td>Betriebssystem</td>\n",
       "    </tr>\n",
       "  </tbody>\n",
       "</table>\n",
       "</div>"
      ],
      "text/plain": [
       "                                 skill     score  rating_in_test_data  \\\n",
       "user_id                                                                 \n",
       "0                                 REST  0.885694                    1   \n",
       "0                                SCRUM  0.812002                    1   \n",
       "0        Unit Tests (Komponententests)  0.803812                    1   \n",
       "0                                MySQL  0.704764                    1   \n",
       "0                            Windows 7  0.662781                    1   \n",
       "\n",
       "                                     category  \n",
       "user_id                                        \n",
       "0                                   Standards  \n",
       "0        Projektmanagement / Vorgehensmodelle  \n",
       "0                      Methoden und Praktiken  \n",
       "0                                   Datenbank  \n",
       "0                              Betriebssystem  "
      ]
     },
     "execution_count": 72,
     "metadata": {},
     "output_type": "execute_result"
    }
   ],
   "source": [
    "userid= [0]\n",
    "get_recommendations(model, userid, train_mat,test_mat,  n = 5)\n"
   ]
  },
  {
   "attachments": {},
   "cell_type": "markdown",
   "metadata": {},
   "source": [
    "### Plotting the recommendations in the context of users main category"
   ]
  },
  {
   "attachments": {},
   "cell_type": "markdown",
   "metadata": {},
   "source": [
    "Get recommendations for every employee:"
   ]
  },
  {
   "cell_type": "code",
   "execution_count": 73,
   "metadata": {},
   "outputs": [],
   "source": [
    "occurence = np.zeros(len(PERSONS))\n",
    "for i,p in enumerate(PERSONS):\n",
    "    main_cat = df[df[\"person\"] == p][\"category\"].value_counts().index[0]\n",
    "    recommended_cat = get_recommendations(model, [i], train_mat, items_to_exclude = [\"SCRUM\"], n = 10)[\"skill\"].apply(lambda x : category_dict[x]).to_numpy()\n",
    "    count = 0\n",
    "    for cat in recommended_cat:\n",
    "        if cat == main_cat:\n",
    "            count += 1\n",
    "    occurence[i] = count"
   ]
  },
  {
   "cell_type": "code",
   "execution_count": 74,
   "metadata": {},
   "outputs": [
    {
     "data": {
      "text/plain": [
       "(404,)"
      ]
     },
     "execution_count": 74,
     "metadata": {},
     "output_type": "execute_result"
    }
   ],
   "source": [
    "occurence.shape"
   ]
  },
  {
   "attachments": {},
   "cell_type": "markdown",
   "metadata": {},
   "source": [
    "Check if the recommendations are skills of a users main category:"
   ]
  },
  {
   "cell_type": "code",
   "execution_count": 75,
   "metadata": {},
   "outputs": [
    {
     "data": {
      "image/png": "[encoded data removed]",
      "text/plain": [
       "<Figure size 640x480 with 1 Axes>"
      ]
     },
     "metadata": {},
     "output_type": "display_data"
    }
   ],
   "source": [
    "plt.hist(occurence,color=\"#112e51\",alpha=0.8,edgecolor='k',align=\"left\", bins=range(11))\n",
    "plt.title(\"Categories of Top 10 Recommended Skill - Implicit Approach\")\n",
    "plt.xlabel(\"Amount Recommended Skills in Users Main Category\")\n",
    "plt.xticks(np.arange(0,11,1))\n",
    "plt.tight_layout()\n",
    "plt.savefig(\"categories_of_top_10_recommended_skill_binary.png\",dpi=300)"
   ]
  },
  {
   "attachments": {},
   "cell_type": "markdown",
   "metadata": {},
   "source": [
    "**Description and Interpretation:** <br>\n",
    "The visualization displays in how far the recommendations depend on the main category of each user which is defined as the category, which makes up the relative majority of a user’s skills. <br>\n",
    "As seen in the plot above, the recommendations of the implicit model have little to no connection to the main category of the users. This is expressed by the fact that the majority of users receive two or less recommendation which are from their main category. This observation leads to the assumption that the recommendations of the implicit approach follow a rather explorative approach and do not delve into the exact skill field a user is already experienced in."
   ]
  },
  {
   "cell_type": "markdown",
   "metadata": {},
   "source": [
    "### Get recommendations for a new user"
   ]
  },
  {
   "cell_type": "markdown",
   "metadata": {},
   "source": [
    "Initiate a new user "
   ]
  },
  {
   "cell_type": "code",
   "execution_count": 76,
   "metadata": {},
   "outputs": [],
   "source": [
    "new_id = 404\n",
    "new_skills = {\n",
    "                \"Englisch\":1,\n",
    "                \"Deutsch\":1,\n",
    "                \"Python\":1,\n",
    "                \"MySQL\":1,\n",
    "                \"MongoDB\":1,\n",
    "                \"vs code\":1,\n",
    "                \"Docker\":1,\n",
    "                \"GIT\":1,\n",
    "                \"GitHub\":1\n",
    "            }"
   ]
  },
  {
   "attachments": {},
   "cell_type": "markdown",
   "metadata": {},
   "source": [
    "Initiate a new user. For sake of qualitative evaluation, we initiate a stereotypical datascience student as new user: "
   ]
  },
  {
   "cell_type": "code",
   "execution_count": 77,
   "metadata": {},
   "outputs": [],
   "source": [
    "def get_recommendations_new_user(model, userid:int, user_skills:dict, old_user_mat:csr_matrix, items_to_exclude:list = None ,n:int = 5):\n",
    "    '''\n",
    "    This function produces recommendations for a new user. \n",
    "    ----------\n",
    "    Parameters: \n",
    "    model :\n",
    "    A trained model from the implicit library.\n",
    "    userid : int\n",
    "    The id of the new user. \n",
    "    user_skills : dict\n",
    "    A dictonary contain.\n",
    "    old_user_mat : csr_matrix\n",
    "    Optional: A user-item matrix on which the model was trained on.\n",
    "    items_to_exclude : list\n",
    "    Optional: A list that holds the items that should be excluded from the recommendations.\n",
    "    n : int\n",
    "    Optional: The number of recommendations that will be generated\n",
    "    .\n",
    "    ----------\n",
    "    Returns: \n",
    "    - A pandas DataFrame that holds the recommendations for a new users.\n",
    "    '''\n",
    "    if items_to_exclude is not None:\n",
    "        items_to_exclude  = get_key_from_value(dict_skills_id,items_to_exclude)\n",
    "    #############\n",
    "    # Create a new user as dataframe, where a row represents a user and the columns represent the skills of that user\n",
    "    #############\n",
    "    new_user = pd.DataFrame(user_skills, index = [userid])\n",
    "\n",
    "\n",
    "    #############\n",
    "    # Append the new user to the old user matrix and fill the missing values with 0\n",
    "    #############\n",
    "    mat = pd.concat([old_user_mat,new_user]).sort_index().fillna(0).astype(int)\n",
    "    mat = scipy.sparse.csr_matrix(mat.values)\n",
    "\n",
    "    #############\n",
    "    # Transform the matrix which contains the new user according to the results of the grid search\n",
    "    #############\n",
    "    best_grid_bm25  = { 'X': mat, 'K1': best_model[\"K1\"], 'B': best_model[\"B\"] }\n",
    "    \n",
    "    data_representation_dict  = {\n",
    "                                'Raw':mat\n",
    "                                ,'Normalized':  implicit.nearest_neighbours.normalize(mat)\n",
    "                                ,'tfidf':implicit.nearest_neighbours.tfidf_weight(mat)\n",
    "                                ,'bm25':implicit.nearest_neighbours.bm25_weight(**best_grid_bm25)\n",
    "                                }   \n",
    " \n",
    "    mat = data_representation_dict[best_model[\"data_representations\"]]\n",
    "    mat = mat.tocsr()\n",
    "\n",
    "    #############\n",
    "    # Do recommendations for the new user\n",
    "    #############\n",
    "\n",
    "    skill_ids, scores  = model.recommend(userid, user_items= mat[userid], N = n , filter_already_liked_items=True, filter_items = items_to_exclude, recalculate_user=True)\n",
    "    recommendations_df = pd.DataFrame({\"skill\": [dict_skills_id[skill] for skill in skill_ids], \"score\": scores})\n",
    "\n",
    "    #############\n",
    "    # Merge the category information to the recommendations\n",
    "    #############\n",
    "    recommendations_df = recommendations_df.merge(data_categories, on = \"skill\", how = \"left\")\n",
    "    recommendations_df[\"user_id\"]  = userid\n",
    "    recommendations_df = recommendations_df.set_index(\"user_id\")\n",
    " \n",
    "    return recommendations_df"
   ]
  },
  {
   "cell_type": "code",
   "execution_count": 78,
   "metadata": {},
   "outputs": [
    {
     "data": {
      "text/html": [
       "<div>\n",
       "<style scoped>\n",
       "    .dataframe tbody tr th:only-of-type {\n",
       "        vertical-align: middle;\n",
       "    }\n",
       "\n",
       "    .dataframe tbody tr th {\n",
       "        vertical-align: top;\n",
       "    }\n",
       "\n",
       "    .dataframe thead th {\n",
       "        text-align: right;\n",
       "    }\n",
       "</style>\n",
       "<table border=\"1\" class=\"dataframe\">\n",
       "  <thead>\n",
       "    <tr style=\"text-align: right;\">\n",
       "      <th></th>\n",
       "      <th>skill</th>\n",
       "      <th>score</th>\n",
       "      <th>category</th>\n",
       "    </tr>\n",
       "    <tr>\n",
       "      <th>user_id</th>\n",
       "      <th></th>\n",
       "      <th></th>\n",
       "      <th></th>\n",
       "    </tr>\n",
       "  </thead>\n",
       "  <tbody>\n",
       "    <tr>\n",
       "      <th>404</th>\n",
       "      <td>Gitlab</td>\n",
       "      <td>0.173373</td>\n",
       "      <td>CI/CD, Build- und Versionskontrollsysteme</td>\n",
       "    </tr>\n",
       "    <tr>\n",
       "      <th>404</th>\n",
       "      <td>JavaScript</td>\n",
       "      <td>0.162671</td>\n",
       "      <td>Programmiersprachen / Scriptsprachen</td>\n",
       "    </tr>\n",
       "    <tr>\n",
       "      <th>404</th>\n",
       "      <td>Java</td>\n",
       "      <td>0.159152</td>\n",
       "      <td>Programmiersprachen / Scriptsprachen</td>\n",
       "    </tr>\n",
       "    <tr>\n",
       "      <th>404</th>\n",
       "      <td>SQL</td>\n",
       "      <td>0.151486</td>\n",
       "      <td>Datenbank</td>\n",
       "    </tr>\n",
       "    <tr>\n",
       "      <th>404</th>\n",
       "      <td>JIRA</td>\n",
       "      <td>0.147411</td>\n",
       "      <td>Issue Management</td>\n",
       "    </tr>\n",
       "  </tbody>\n",
       "</table>\n",
       "</div>"
      ],
      "text/plain": [
       "              skill     score                                   category\n",
       "user_id                                                                 \n",
       "404          Gitlab  0.173373  CI/CD, Build- und Versionskontrollsysteme\n",
       "404      JavaScript  0.162671       Programmiersprachen / Scriptsprachen\n",
       "404            Java  0.159152       Programmiersprachen / Scriptsprachen\n",
       "404             SQL  0.151486                                  Datenbank\n",
       "404            JIRA  0.147411                           Issue Management"
      ]
     },
     "execution_count": 78,
     "metadata": {},
     "output_type": "execute_result"
    }
   ],
   "source": [
    "get_recommendations_new_user(model,new_id, new_skills, data_skills,items_to_exclude = [\"SCRUM\"], n = 5)"
   ]
  },
  {
   "attachments": {},
   "cell_type": "markdown",
   "metadata": {},
   "source": [
    "**Interpretation of the recommendations:** <br>\n",
    "Looking at the recommendations produced by ALS using implicit user feedback, the recommended skills make the impression to harmonize with the already possessed skills of the data science student. This is due to the fact that the recommendations Gitlab and SQL can be seen as additions to the already known skills GIT, Github and MySQL. On top of that, recommending popular programming languages, such as JavaScript and Java can be seen as promising, since the user might want to catch up on an additional programming language to round up the individual skill portfolio."
   ]
  },
  {
   "attachments": {},
   "cell_type": "markdown",
   "metadata": {},
   "source": [
    "## Conclusion:"
   ]
  },
  {
   "attachments": {},
   "cell_type": "markdown",
   "metadata": {},
   "source": [
    "The implicit approach produced the best results using the Alternating Least Squares algorithm, using matrix factorization with 8\n",
    "latent factors, scoring a P@K of 57,12% and a MAP@K of 46,47%. Since the precision of the model is very high compared to the baseline \"most common skills\", the modeling of the recommender at the quantitative level can be rated as successful.  <br> Furthermore, the qualitative evaluation showed that complementary and meaningful skills were generated for the stereotypical data science student. For this reason the modeling of the recommender at the quantitative level can be rated as successful aswell. <br>\n",
    "In conclusion, it can be stated that this notebook demonstrates how a recommender system that processes implicit feedback can be successfully calibrated to suggest skills for employee training."
   ]
  },
  {
   "cell_type": "markdown",
   "metadata": {},
   "source": [
    "## Appendix I - Effect of Dropping Rare Skills on Recommender Precision"
   ]
  },
  {
   "attachments": {},
   "cell_type": "markdown",
   "metadata": {},
   "source": [
    "By dropping skills we can investigate the tradeoff between a matrix with a higher level of density and the removal of distinguishing features."
   ]
  },
  {
   "cell_type": "markdown",
   "metadata": {},
   "source": [
    "Infos best model:"
   ]
  },
  {
   "cell_type": "code",
   "execution_count": 79,
   "metadata": {},
   "outputs": [
    {
     "data": {
      "text/plain": [
       "data_representations         Raw\n",
       "K1                           NaN\n",
       "B                            NaN\n",
       "factors                        8\n",
       "regularization             0.005\n",
       "iterations                    10\n",
       "precision_at_k          0.571195\n",
       "map_at_k                 0.46472\n",
       "Name: 27, dtype: object"
      ]
     },
     "execution_count": 79,
     "metadata": {},
     "output_type": "execute_result"
    }
   ],
   "source": [
    "best_model"
   ]
  },
  {
   "cell_type": "code",
   "execution_count": 80,
   "metadata": {},
   "outputs": [],
   "source": [
    "def measure_performance_for_n(min_support:list):\n",
    "    '''\n",
    "    This function measures the performance of a recommender system across matrices with a different level of sparsity. \n",
    "    ----------\n",
    "    Parameters: \n",
    "    min_support : list\n",
    "    A list of integers that represent the minimum absolute support threshold. Items/ skills with a lower absolute support will be removed from the dataset.\n",
    "    ----------\n",
    "    Returns: \n",
    "    - A pandas DataFrame that demonstrates the effect of the sparsity on the performance of the recommender system (c.p.).\n",
    "    '''\n",
    "    output = pd.DataFrame()\n",
    "    for n in min_support:\n",
    "        #############\n",
    "        # Import the data\n",
    "        #############\n",
    "        df = pd.read_csv(\"data/person-skills_2022-06-27.csv\",sep=\";\") \n",
    "\n",
    "        #############\n",
    "        # trim dataset according to min absolute support of skills and insert ratings afterwards\n",
    "        #############\n",
    "        rare_skills = get_rare_skills(df,n)\n",
    "        df = df[~df[\"skill\"].isin(rare_skills)]\n",
    "        unique_skills = df[\"skill\"].nunique()\n",
    "\n",
    "        #############\n",
    "        # Create a user-item matrix\n",
    "        #############\n",
    "        df[\"count\"] = 1\n",
    "        matrix = df.pivot_table('count', index='person', columns=\"skill\").fillna(0).astype(int).reset_index(drop=True)\n",
    "        matrix.index.names = [\"userids\"]\n",
    "        matrix_csr = scipy.sparse.csr_matrix(matrix.values)\n",
    "        \n",
    "        #############\n",
    "        # Measure sparsity (ratio between non-zero and zero value entries) of the trainset\n",
    "        #############\n",
    "        number_of_elements_in_matrix = matrix_csr.shape[0] * matrix_csr.shape[1]\n",
    "        number_of_nonzeros_in_matrix = matrix_csr.sum()\n",
    "\n",
    "        sparsity = 1 - number_of_nonzeros_in_matrix/number_of_elements_in_matrix\n",
    "        sparsity = round(sparsity,4)\n",
    "        #############\n",
    "        # Split the data into train and test set\n",
    "        #############\n",
    "        train_mat, test_mat = implicit.evaluation.train_test_split(matrix_csr, train_percentage =  0.8, random_state = 42)\n",
    "\n",
    "\n",
    "\n",
    "        #############\n",
    "        # Initialize the model\n",
    "        #############\n",
    "        model = initiate_best_model(best_key, best_model, train_mat)\n",
    "\n",
    "        \n",
    "        prec_at_k = implicit.evaluation.precision_at_k(model, train_mat, test_mat, K = 5, show_progress = False)\n",
    "        map_at_k = mean_average_precision_at_k(model, train_mat, test_mat, K = 5, show_progress = False)\n",
    "        result = pd.DataFrame({\n",
    "                                \"unique_skills\":unique_skills\n",
    "                                ,\"sparsity\": sparsity\n",
    "                                ,\"precision_at_k\": prec_at_k\n",
    "                                ,\"map_at_k\": map_at_k\n",
    "                                }, index = [n])\n",
    "\n",
    "        result.index.names = [\"min_support\"] \n",
    "        output = pd.concat([output,result])\n",
    "\n",
    "\n",
    "    return output"
   ]
  },
  {
   "cell_type": "markdown",
   "metadata": {},
   "source": [
    "Minimum absolute support:"
   ]
  },
  {
   "cell_type": "code",
   "execution_count": 81,
   "metadata": {},
   "outputs": [],
   "source": [
    "min_absolute_support = [0, 1, 2, 5, 10, 20]"
   ]
  },
  {
   "cell_type": "code",
   "execution_count": 82,
   "metadata": {},
   "outputs": [
    {
     "data": {
      "text/html": [
       "<div>\n",
       "<style scoped>\n",
       "    .dataframe tbody tr th:only-of-type {\n",
       "        vertical-align: middle;\n",
       "    }\n",
       "\n",
       "    .dataframe tbody tr th {\n",
       "        vertical-align: top;\n",
       "    }\n",
       "\n",
       "    .dataframe thead th {\n",
       "        text-align: right;\n",
       "    }\n",
       "</style>\n",
       "<table border=\"1\" class=\"dataframe\">\n",
       "  <thead>\n",
       "    <tr style=\"text-align: right;\">\n",
       "      <th></th>\n",
       "      <th>unique_skills</th>\n",
       "      <th>sparsity</th>\n",
       "      <th>precision_at_k</th>\n",
       "      <th>map_at_k</th>\n",
       "    </tr>\n",
       "    <tr>\n",
       "      <th>min_support</th>\n",
       "      <th></th>\n",
       "      <th></th>\n",
       "      <th></th>\n",
       "      <th></th>\n",
       "    </tr>\n",
       "  </thead>\n",
       "  <tbody>\n",
       "    <tr>\n",
       "      <th>0</th>\n",
       "      <td>734</td>\n",
       "      <td>0.9185</td>\n",
       "      <td>0.561434</td>\n",
       "      <td>0.453216</td>\n",
       "    </tr>\n",
       "    <tr>\n",
       "      <th>1</th>\n",
       "      <td>665</td>\n",
       "      <td>0.9101</td>\n",
       "      <td>0.592947</td>\n",
       "      <td>0.479543</td>\n",
       "    </tr>\n",
       "    <tr>\n",
       "      <th>2</th>\n",
       "      <td>614</td>\n",
       "      <td>0.9028</td>\n",
       "      <td>0.596108</td>\n",
       "      <td>0.489971</td>\n",
       "    </tr>\n",
       "    <tr>\n",
       "      <th>5</th>\n",
       "      <td>510</td>\n",
       "      <td>0.8849</td>\n",
       "      <td>0.568033</td>\n",
       "      <td>0.454784</td>\n",
       "    </tr>\n",
       "    <tr>\n",
       "      <th>10</th>\n",
       "      <td>392</td>\n",
       "      <td>0.8558</td>\n",
       "      <td>0.574216</td>\n",
       "      <td>0.465308</td>\n",
       "    </tr>\n",
       "    <tr>\n",
       "      <th>20</th>\n",
       "      <td>270</td>\n",
       "      <td>0.8052</td>\n",
       "      <td>0.592089</td>\n",
       "      <td>0.473529</td>\n",
       "    </tr>\n",
       "  </tbody>\n",
       "</table>\n",
       "</div>"
      ],
      "text/plain": [
       "             unique_skills  sparsity  precision_at_k  map_at_k\n",
       "min_support                                                   \n",
       "0                      734    0.9185        0.561434  0.453216\n",
       "1                      665    0.9101        0.592947  0.479543\n",
       "2                      614    0.9028        0.596108  0.489971\n",
       "5                      510    0.8849        0.568033  0.454784\n",
       "10                     392    0.8558        0.574216  0.465308\n",
       "20                     270    0.8052        0.592089  0.473529"
      ]
     },
     "execution_count": 82,
     "metadata": {},
     "output_type": "execute_result"
    }
   ],
   "source": [
    "measure_performance_for_n(min_absolute_support)"
   ]
  },
  {
   "attachments": {},
   "cell_type": "markdown",
   "metadata": {},
   "source": [
    "**Conclusion regarding the effect of dropping rare skills:** <br>\n",
    "We can observe, that lowering the sparsity of a matrix does not necessarily lead to a higher precision at k score. \n",
    "Nevertheless it can still increase the precision at k slightly, but it is important to know that items removed from the dataset will no longer appear in the recommendations. Therefore it is often useful to experiment with different minimum support values to find the optimal balance between diversity and relevance in the recommendations."
   ]
  },
  {
   "cell_type": "markdown",
   "metadata": {},
   "source": [
    "## Appendix II -  Reverse Problem for User Recommendations on Items"
   ]
  },
  {
   "cell_type": "markdown",
   "metadata": {},
   "source": [
    "Transpose the user-item-matrix in order to get a item-user matrix and use the transformation technique on it, that achieved the best results:"
   ]
  },
  {
   "cell_type": "code",
   "execution_count": 83,
   "metadata": {},
   "outputs": [
    {
     "data": {
      "text/plain": [
       "<734x404 sparse matrix of type '<class 'numpy.float64'>'\n",
       "\twith 24156 stored elements in Compressed Sparse Row format>"
      ]
     },
     "execution_count": 83,
     "metadata": {},
     "output_type": "execute_result"
    }
   ],
   "source": [
    "data_best_u = implicit.nearest_neighbours.bm25_weight(data_skills_csr.T, K1 = 100, B = 0.8)\n",
    "data_best_u = data_best_u.tocsr()\n",
    "data_best_u"
   ]
  },
  {
   "cell_type": "markdown",
   "metadata": {},
   "source": [
    "train-test-split:"
   ]
  },
  {
   "cell_type": "code",
   "execution_count": 84,
   "metadata": {},
   "outputs": [],
   "source": [
    "train_mat_u, test_mat_u = implicit.evaluation.train_test_split(data_best_u, train_percentage =  0.8, random_state = 42)"
   ]
  },
  {
   "cell_type": "markdown",
   "metadata": {},
   "source": [
    "fit the model:"
   ]
  },
  {
   "cell_type": "code",
   "execution_count": 85,
   "metadata": {},
   "outputs": [
    {
     "name": "stderr",
     "output_type": "stream",
     "text": [
      "100%|██████████| 15/15 [00:00<00:00, 35.48it/s]\n"
     ]
    }
   ],
   "source": [
    "model_best_u = implicit.als.AlternatingLeastSquares(factors = 30, regularization = 0.01, iterations = 15,random_state = 42)# alpha = 1, \n",
    "model_best_u.fit(train_mat_u)"
   ]
  },
  {
   "cell_type": "code",
   "execution_count": 86,
   "metadata": {},
   "outputs": [],
   "source": [
    "def get_recommendations_reversed (model,skillids:list, mat:csr_matrix ,eval_mat:csr_matrix = None ,items_to_exclude:list = None ,n:int = 5):\n",
    "    '''\n",
    "    This function recommends,which users are most likely qualified to learn a certain skill. \n",
    "    ----------\n",
    "    Parameters: \n",
    "    model :\n",
    "    A trained model from the implicit library.\n",
    "    skillids : list\n",
    "    A list that holds the skill ids for which recommendations will be generated. \n",
    "    mat : csr_matrix\n",
    "    A item-user matrix that holds the known users for the given skill.\n",
    "    eval_mat : csr_matrix\n",
    "    Optional: A item-user matrix that holds item-user interactions and can be used for evaluation.\n",
    "    items_to_exclude : list\n",
    "    Optional: A list that holds the users, who should be excluded from the recommendations.\n",
    "    n : int\n",
    "    Optional: The number of recommendations that will be generated\n",
    "    .\n",
    "    ----------\n",
    "    Returns: \n",
    "    - A pandas DataFrame that holds the recommendations for the given skill.\n",
    "    '''\n",
    "    output = pd.DataFrame()\n",
    "\n",
    "    \n",
    "    #skillids  = get_key_from_value(dict_skills_id,skillids)\n",
    "    #skillids = [s[0] for s in skillids]\n",
    "    for value in skillids:\n",
    "        key  = get_key_from_value(dict_skills_id,[value])\n",
    "        key = key[0]\n",
    "        #############\n",
    "        # Do recommendations for every user in the list. The known items are in the matrix the model was trained on\n",
    "        #############\n",
    "\n",
    "        user_ids, scores  = model.recommend(key, user_items= mat[key], N = n , filter_already_liked_items=True, filter_items = items_to_exclude)\n",
    "        recommendations_df = pd.DataFrame({\"user_id\": user_ids, \"score\": scores})\n",
    "\n",
    "        #############\n",
    "        # Get all known skills for each user by indexing the full data matrix\n",
    "        #############\n",
    "        \n",
    "        if eval_mat is not None:\n",
    "            eval_data = pd.DataFrame.sparse.from_spmatrix(data = eval_mat.tocsr()[s],columns=data_skills.columns).T.reset_index().rename(columns = {\"index\": \"user_id\",0: \"rating\"}).sort_values(by = \"rating\", ascending = False)\n",
    "   \n",
    "            #############\n",
    "            # Merge both df in order to see, if the recommended skills are the skills, which the user already knows, but were left out in the trainings data\n",
    "            #############\n",
    "            recommendations_df = recommendations_df.merge(eval_data, on = [\"user_id\"], how = \"left\").rename(columns = {\"rating\": \"rating_in_test_data\"})\n",
    "\n",
    "\n",
    "\n",
    "        recommendations_df[\"skill_id\"]  = value\n",
    "        recommendations_df = recommendations_df.set_index(\"skill_id\")\n",
    "        output = pd.concat([output, recommendations_df])\n",
    "        \n",
    "    return output"
   ]
  },
  {
   "cell_type": "code",
   "execution_count": 87,
   "metadata": {},
   "outputs": [
    {
     "data": {
      "text/html": [
       "<div>\n",
       "<style scoped>\n",
       "    .dataframe tbody tr th:only-of-type {\n",
       "        vertical-align: middle;\n",
       "    }\n",
       "\n",
       "    .dataframe tbody tr th {\n",
       "        vertical-align: top;\n",
       "    }\n",
       "\n",
       "    .dataframe thead th {\n",
       "        text-align: right;\n",
       "    }\n",
       "</style>\n",
       "<table border=\"1\" class=\"dataframe\">\n",
       "  <thead>\n",
       "    <tr style=\"text-align: right;\">\n",
       "      <th></th>\n",
       "      <th>user_id</th>\n",
       "      <th>score</th>\n",
       "    </tr>\n",
       "    <tr>\n",
       "      <th>skill_id</th>\n",
       "      <th></th>\n",
       "      <th></th>\n",
       "    </tr>\n",
       "  </thead>\n",
       "  <tbody>\n",
       "    <tr>\n",
       "      <th>Python</th>\n",
       "      <td>270</td>\n",
       "      <td>0.713534</td>\n",
       "    </tr>\n",
       "    <tr>\n",
       "      <th>Python</th>\n",
       "      <td>12</td>\n",
       "      <td>0.673033</td>\n",
       "    </tr>\n",
       "    <tr>\n",
       "      <th>Python</th>\n",
       "      <td>309</td>\n",
       "      <td>0.659310</td>\n",
       "    </tr>\n",
       "    <tr>\n",
       "      <th>Python</th>\n",
       "      <td>392</td>\n",
       "      <td>0.614753</td>\n",
       "    </tr>\n",
       "    <tr>\n",
       "      <th>Python</th>\n",
       "      <td>47</td>\n",
       "      <td>0.506845</td>\n",
       "    </tr>\n",
       "    <tr>\n",
       "      <th>Java</th>\n",
       "      <td>239</td>\n",
       "      <td>0.869117</td>\n",
       "    </tr>\n",
       "    <tr>\n",
       "      <th>Java</th>\n",
       "      <td>316</td>\n",
       "      <td>0.688858</td>\n",
       "    </tr>\n",
       "    <tr>\n",
       "      <th>Java</th>\n",
       "      <td>241</td>\n",
       "      <td>0.676700</td>\n",
       "    </tr>\n",
       "    <tr>\n",
       "      <th>Java</th>\n",
       "      <td>353</td>\n",
       "      <td>0.638023</td>\n",
       "    </tr>\n",
       "    <tr>\n",
       "      <th>Java</th>\n",
       "      <td>213</td>\n",
       "      <td>0.620544</td>\n",
       "    </tr>\n",
       "  </tbody>\n",
       "</table>\n",
       "</div>"
      ],
      "text/plain": [
       "          user_id     score\n",
       "skill_id                   \n",
       "Python        270  0.713534\n",
       "Python         12  0.673033\n",
       "Python        309  0.659310\n",
       "Python        392  0.614753\n",
       "Python         47  0.506845\n",
       "Java          239  0.869117\n",
       "Java          316  0.688858\n",
       "Java          241  0.676700\n",
       "Java          353  0.638023\n",
       "Java          213  0.620544"
      ]
     },
     "execution_count": 87,
     "metadata": {},
     "output_type": "execute_result"
    }
   ],
   "source": [
    "get_recommendations_reversed(model_best_u, [\"Python\",\"Java\"],train_mat_u)"
   ]
  },
  {
   "cell_type": "markdown",
   "metadata": {},
   "source": [
    "## Appendix III - Similarities"
   ]
  },
  {
   "attachments": {},
   "cell_type": "markdown",
   "metadata": {},
   "source": [
    "This section introduces the function of the recommender system, which outputs similar users or skills according to the input"
   ]
  },
  {
   "attachments": {},
   "cell_type": "markdown",
   "metadata": {},
   "source": [
    "### Items\n",
    "The function dealing with similar skills can be used to evaluate the quality of the recommender system.  If sufficient domain knowledge is available, a known skill can be passed to the recommender in order to subsequently assess to what extent the skills declared as similar are actually similar."
   ]
  },
  {
   "cell_type": "code",
   "execution_count": 88,
   "metadata": {},
   "outputs": [],
   "source": [
    "def get_similar_items(skill:str, n:int = 5):\n",
    "    skillid = get_key_from_value(dict_skills_id,[skill])[0]\n",
    "    skill_id, sim = model.similar_items(skillid, N=n)\n",
    "    # display the results using pandas for nicer formatting\n",
    "    similarity_df  = pd.DataFrame({\"skill\": data_skills.columns[skill_id], \"score\": sim})\n",
    "    similarity_df = similarity_df.merge(data_categories, how = \"left\", left_on = \"skill\", right_on = \"skill\")\n",
    "    return similarity_df"
   ]
  },
  {
   "cell_type": "code",
   "execution_count": 89,
   "metadata": {},
   "outputs": [
    {
     "data": {
      "text/html": [
       "<div>\n",
       "<style scoped>\n",
       "    .dataframe tbody tr th:only-of-type {\n",
       "        vertical-align: middle;\n",
       "    }\n",
       "\n",
       "    .dataframe tbody tr th {\n",
       "        vertical-align: top;\n",
       "    }\n",
       "\n",
       "    .dataframe thead th {\n",
       "        text-align: right;\n",
       "    }\n",
       "</style>\n",
       "<table border=\"1\" class=\"dataframe\">\n",
       "  <thead>\n",
       "    <tr style=\"text-align: right;\">\n",
       "      <th></th>\n",
       "      <th>skill</th>\n",
       "      <th>score</th>\n",
       "      <th>category</th>\n",
       "    </tr>\n",
       "  </thead>\n",
       "  <tbody>\n",
       "    <tr>\n",
       "      <th>0</th>\n",
       "      <td>SQL</td>\n",
       "      <td>1.000000</td>\n",
       "      <td>Datenbank</td>\n",
       "    </tr>\n",
       "    <tr>\n",
       "      <th>1</th>\n",
       "      <td>Unit Tests (Komponententests)</td>\n",
       "      <td>0.893558</td>\n",
       "      <td>Methoden und Praktiken</td>\n",
       "    </tr>\n",
       "    <tr>\n",
       "      <th>2</th>\n",
       "      <td>REST</td>\n",
       "      <td>0.872100</td>\n",
       "      <td>Standards</td>\n",
       "    </tr>\n",
       "    <tr>\n",
       "      <th>3</th>\n",
       "      <td>JSON</td>\n",
       "      <td>0.868121</td>\n",
       "      <td>Webentwicklung</td>\n",
       "    </tr>\n",
       "    <tr>\n",
       "      <th>4</th>\n",
       "      <td>Test Driven Development (TDD)</td>\n",
       "      <td>0.853206</td>\n",
       "      <td>Methoden und Praktiken</td>\n",
       "    </tr>\n",
       "  </tbody>\n",
       "</table>\n",
       "</div>"
      ],
      "text/plain": [
       "                           skill     score                category\n",
       "0                            SQL  1.000000               Datenbank\n",
       "1  Unit Tests (Komponententests)  0.893558  Methoden und Praktiken\n",
       "2                           REST  0.872100               Standards\n",
       "3                           JSON  0.868121          Webentwicklung\n",
       "4  Test Driven Development (TDD)  0.853206  Methoden und Praktiken"
      ]
     },
     "execution_count": 89,
     "metadata": {},
     "output_type": "execute_result"
    }
   ],
   "source": [
    "get_similar_items(\"SQL\") "
   ]
  },
  {
   "attachments": {},
   "cell_type": "markdown",
   "metadata": {},
   "source": [
    "### User Similarities"
   ]
  },
  {
   "attachments": {},
   "cell_type": "markdown",
   "metadata": {},
   "source": [
    "However, from the company's point of view, the function that issues similar employees is much more interesting. Since the company is in the project business, the problem of an employee being absent due to illness can easily arise. Now the company is faced with the challenge of replacing the employee adequately with another employee so that the project can be completed successfully. Through the addressed function, the company can be suggested which employees are most suitable to replace the absent employee based on their skill portfolio. "
   ]
  },
  {
   "cell_type": "code",
   "execution_count": 90,
   "metadata": {},
   "outputs": [],
   "source": [
    "userid_dictonary =  [dict((k,v) for k,v in enumerate(PERSONS))][0]"
   ]
  },
  {
   "cell_type": "code",
   "execution_count": 91,
   "metadata": {},
   "outputs": [],
   "source": [
    "new_skills = {\n",
    "                \"Windows 11\":1,\n",
    "                \"Englisch\":1,\n",
    "                \"Chinesisch (Mandarin)\":1,\n",
    "                \"Python\":1,\n",
    "                \"MATLAB\":1,\n",
    "                \"Java\":1,\n",
    "                \"MySQL\":1,\n",
    "                \"SQLBase\":1,\n",
    "                \"Microsoft SQL Server\":1,\n",
    "                \"Google Cloud Platform\":1,\n",
    "                \"MongoDB\":1,\n",
    "                \"JSON\":1,\n",
    "                \"Docker\":1,\n",
    "                \"Statische Codeanalyse\": 1,\n",
    "                \"Power BI\":1,\n",
    "                \"Postman\":1,\n",
    "                \"PowerShell\":1,\n",
    "                \"Github actions\":1\n",
    "            }"
   ]
  },
  {
   "cell_type": "code",
   "execution_count": 92,
   "metadata": {},
   "outputs": [],
   "source": [
    "new_user_id_list = list(new_skills.keys())"
   ]
  },
  {
   "cell_type": "code",
   "execution_count": 93,
   "metadata": {},
   "outputs": [],
   "source": [
    "def get_similar_users(userid:int, n:int = 5):\n",
    "    \n",
    "    user_id, sim = model.similar_users(userid, N=n)\n",
    "    # display the results using pandas for nicer formatting\n",
    "    similarity_df  = pd.DataFrame({\"user\": [userid_dictonary[u] for u in user_id], \"score\": sim})\n",
    "    return similarity_df"
   ]
  },
  {
   "cell_type": "code",
   "execution_count": 94,
   "metadata": {},
   "outputs": [
    {
     "data": {
      "text/html": [
       "<div>\n",
       "<style scoped>\n",
       "    .dataframe tbody tr th:only-of-type {\n",
       "        vertical-align: middle;\n",
       "    }\n",
       "\n",
       "    .dataframe tbody tr th {\n",
       "        vertical-align: top;\n",
       "    }\n",
       "\n",
       "    .dataframe thead th {\n",
       "        text-align: right;\n",
       "    }\n",
       "</style>\n",
       "<table border=\"1\" class=\"dataframe\">\n",
       "  <thead>\n",
       "    <tr style=\"text-align: right;\">\n",
       "      <th></th>\n",
       "      <th>user</th>\n",
       "      <th>score</th>\n",
       "    </tr>\n",
       "  </thead>\n",
       "  <tbody>\n",
       "    <tr>\n",
       "      <th>0</th>\n",
       "      <td>12</td>\n",
       "      <td>1.000000</td>\n",
       "    </tr>\n",
       "    <tr>\n",
       "      <th>1</th>\n",
       "      <td>318</td>\n",
       "      <td>0.966558</td>\n",
       "    </tr>\n",
       "    <tr>\n",
       "      <th>2</th>\n",
       "      <td>1488</td>\n",
       "      <td>0.954939</td>\n",
       "    </tr>\n",
       "    <tr>\n",
       "      <th>3</th>\n",
       "      <td>798</td>\n",
       "      <td>0.944366</td>\n",
       "    </tr>\n",
       "    <tr>\n",
       "      <th>4</th>\n",
       "      <td>194</td>\n",
       "      <td>0.933300</td>\n",
       "    </tr>\n",
       "  </tbody>\n",
       "</table>\n",
       "</div>"
      ],
      "text/plain": [
       "   user     score\n",
       "0    12  1.000000\n",
       "1   318  0.966558\n",
       "2  1488  0.954939\n",
       "3   798  0.944366\n",
       "4   194  0.933300"
      ]
     },
     "execution_count": 94,
     "metadata": {},
     "output_type": "execute_result"
    }
   ],
   "source": [
    "get_similar_users(0)"
   ]
  },
  {
   "cell_type": "code",
   "execution_count": 95,
   "metadata": {},
   "outputs": [],
   "source": [
    "def evaluate_employee_recoms(userid:int , second_userid:int):\n",
    "    '''\n",
    "    Function showing recommendation along with actually possessed skills and categories to provide some context.  \n",
    "    ----------\n",
    "    Parameters: \n",
    "    userid : int\n",
    "    The user id of the employee who's recommendation are to be evaluated.  \n",
    "    n : int \n",
    "    Amount recommendation and skills to be shown. \n",
    "    ----------\n",
    "    Returns: \n",
    "    DataFrame containing recommendations and actually possessed skills.  \n",
    "    '''\n",
    "    fig, ax1 = plt.subplots(1, 1)\n",
    "    skill_catgegories = df[df[\"person\"] == userid][\"category\"].value_counts()\n",
    "\n",
    "    # Plot the first dataset on the first subplot\n",
    "\n",
    "    skill_catgegories_second_user = df[df[\"person\"] == second_userid][\"category\"].value_counts()\n",
    "    \n",
    "    # reducte the categories of user 2 to the categories of user 1\n",
    "    skill_catgegories_second_user = skill_catgegories_second_user[skill_catgegories_second_user.index.isin(skill_catgegories.index)]\n",
    "\n",
    "    # Merge the two datasets\n",
    "    comparison_df = pd.concat([skill_catgegories,skill_catgegories_second_user,], axis=1)\n",
    "    comparison_df.columns = [f\"user {userid}\", f\"user {second_userid}\"]\n",
    "\n",
    "    comparison_df.plot(kind=\"barh\", ax=ax1)\n",
    "    ax1.set_title(\"Comparison of skills of two employees\")\n",
    "    ax1.set_xlabel(\"Amount of skills in category\")\n",
    " #   plt.tight_layout()\n",
    "#    plt.savefig(\"Comparison of skills of two employees.png\",dpi=300)\n",
    "    return  "
   ]
  },
  {
   "cell_type": "code",
   "execution_count": 96,
   "metadata": {},
   "outputs": [
    {
     "data": {
      "image/png": "[encoded data removed]",
      "text/plain": [
       "<Figure size 640x480 with 1 Axes>"
      ]
     },
     "metadata": {},
     "output_type": "display_data"
    }
   ],
   "source": [
    "evaluate_employee_recoms(12,318)"
   ]
  },
  {
   "attachments": {},
   "cell_type": "markdown",
   "metadata": {},
   "source": [
    "**Description and Interpretation:** <br>\n",
    "The visualization contrasts a user (ID = 12) with his most similar user (ID = 318) according to the recommender system. For the sake of simplicity, the employee with ID = 12 will be understood as \"employee\" and the user with ID = 318 will be understood as \"representative\" in the following. The comparison of both users is based on the skills and skill categories of the employee. While the Y-axis shows the employee's skill categories, the X-axis represents how many skills the employee or representative has in the respective category. The visualization shows that the representative possesses skills in 17 of the 22 categories listed, which tends to indicate that the representative is to some extent similar to the employee in terms of skills. In order to be able to make a final assessment of how similar employees and representatives really are, a detailed analysis must be carried out at the skill level by a person with sufficient domain knowledge. Nevertheless, the Recommender system offers a good first point of reference for finding adequate replacements for an employee."
   ]
  }
 ],
 "metadata": {
  "kernelspec": {
   "display_name": "ds_ap",
   "language": "python",
   "name": "python3"
  },
  "language_info": {
   "codemirror_mode": {
    "name": "ipython",
    "version": 3
   },
   "file_extension": ".py",
   "mimetype": "text/x-python",
   "name": "python",
   "nbconvert_exporter": "python",
   "pygments_lexer": "ipython3",
   "version": "3.11.0 (main, Oct 24 2022, 18:26:48) [MSC v.1933 64 bit (AMD64)]"
  },
  "orig_nbformat": 4,
  "vscode": {
   "interpreter": {
    "hash": "952d20126e355007ee7ec6cf97a37e6210c6c2e8a70e82c0bc649e118c2b0b1f"
   }
  }
 },
 "nbformat": 4,
 "nbformat_minor": 2
}
