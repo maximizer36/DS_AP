{
 "cells": [
  {
   "cell_type": "code",
   "execution_count": null,
   "metadata": {},
   "outputs": [],
   "source": [
    "#nur ein test"
   ]
  }
 ],
 "metadata": {
  "kernelspec": {
   "display_name": "Python 3.10.7 ('ds_ap')",
   "language": "python",
   "name": "python3"
  },
  "language_info": {
   "name": "python",
   "version": "3.10.7"
  },
  "orig_nbformat": 4,
  "vscode": {
   "interpreter": {
    "hash": "8996f7eb5d6e71da274e2fd586344696b92822ac57b0ea3abe334ce59f7c050e"
   }
  }
 },
 "nbformat": 4,
 "nbformat_minor": 2
}
