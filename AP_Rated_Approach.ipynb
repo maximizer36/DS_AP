{
 "cells": [
  {
   "cell_type": "code",
   "execution_count": 120,
   "metadata": {},
   "outputs": [],
   "source": [
    "import pandas as pd\n",
    "import numpy as np\n",
    "import random\n",
    "from matplotlib import pyplot as plt\n",
    "import seaborn as sns\n",
    "import matplotlib.ticker as mtick\n",
    "from sklearn.model_selection import train_test_split as scikit_train_test_split\n",
    "from surprise import Reader, Dataset, accuracy\n",
    "from surprise import KNNBasic, KNNWithMeans, SVD, CoClustering, SlopeOne, SVDpp, NMF, BaselineOnly\n",
    "from surprise.model_selection import KFold, RepeatedKFold, cross_validate, GridSearchCV, LeaveOneOut\n",
    "from surprise.model_selection import train_test_split as surprise_train_test_split\n",
    "import time"
   ]
  },
  {
   "cell_type": "markdown",
   "metadata": {},
   "source": [
    "Data import:"
   ]
  },
  {
   "cell_type": "code",
   "execution_count": 133,
   "metadata": {},
   "outputs": [],
   "source": [
    "df = pd.read_csv(\"person-skills_2022-06-27.csv\",sep=\";\")"
   ]
  },
  {
   "cell_type": "markdown",
   "metadata": {},
   "source": [
    "Data cleaning - Drop all categories which do not contain hard skills:"
   ]
  },
  {
   "cell_type": "code",
   "execution_count": 134,
   "metadata": {},
   "outputs": [],
   "source": [
    "obsolete_categories = [\n",
    "                \"Betriebssystem\",\n",
    "                \"Dienste\",\n",
    "                \"Produkterfahrung\",\n",
    "                \"Methoden und Praktiken\",\n",
    "                \"Projektmanagement / Vorgehensmodelle\",\n",
    "                \"Sprachen\",\n",
    "                \"Einsatzfelder / Erfahrungen / Schwerpunkte\",\n",
    "                \"Issue Management\",\n",
    "                \"Branchenerfahrung\",\n",
    "                \"Zertifizierung\",\n",
    "                \"Beratung\",\n",
    "                \"Agilität\",\n",
    "                \"Tests\",\n",
    "                \"Rolle (intern)\",\n",
    "                \"nxp Abteilungen\"\n",
    "                ]"
   ]
  },
  {
   "cell_type": "code",
   "execution_count": 135,
   "metadata": {},
   "outputs": [],
   "source": [
    "# df = df[~df[\"category\"].isin(obsolete_categories)]"
   ]
  },
  {
   "cell_type": "markdown",
   "metadata": {},
   "source": [
    "alle skills, die seltener als x mal vorkommen (zB x = 10) rausschmeiß0en\n"
   ]
  },
  {
   "cell_type": "markdown",
   "metadata": {},
   "source": [
    "Declare various aiding variables"
   ]
  },
  {
   "cell_type": "code",
   "execution_count": 136,
   "metadata": {},
   "outputs": [],
   "source": [
    "persons = df[\"person\"].unique()\n",
    "skills = sorted(df[\"skill\"].unique())\n",
    "categories = df[\"category\"].unique()"
   ]
  },
  {
   "cell_type": "code",
   "execution_count": 137,
   "metadata": {},
   "outputs": [],
   "source": [
    "employee_dict = {}\n",
    "for n in range(1,len(persons)+1):\n",
    "    employee_dict[n] = persons[n-1]"
   ]
  },
  {
   "cell_type": "code",
   "execution_count": 138,
   "metadata": {},
   "outputs": [],
   "source": [
    "skills_to_category = pd.read_csv(\"mitarbeiterportal-skills_2022-06-21.csv\",sep=\";\",header=None)\n",
    "category_dict = dict(zip(skills_to_category[0],skills_to_category[1]))"
   ]
  },
  {
   "cell_type": "markdown",
   "metadata": {},
   "source": [
    "Since this notebook demonstrates the a recommender system which deals with rated skills and the underlying data does not offer ratings, this measure will be implemented in the following way: \n",
    "- For each skill, the frequency of the underlying category will be measured. The skills will be rated according to this frequency \n",
    "- For example: If an employee has most skills in the category \"Programmiersprachen\", these skills will receive the highest rating"
   ]
  },
  {
   "cell_type": "code",
   "execution_count": 139,
   "metadata": {},
   "outputs": [],
   "source": [
    "def scaler_1_5(x,old_max,old_min):\n",
    "    old_range = (old_max - old_min)  \n",
    "    if (old_range == 0):\n",
    "        return 1\n",
    "    else:\n",
    "        new_range = (5 - 1) \n",
    "        x_std = (x - old_min)/(old_max-old_min)\n",
    "        return round(x_std * new_range + 1)"
   ]
  },
  {
   "cell_type": "code",
   "execution_count": 140,
   "metadata": {},
   "outputs": [],
   "source": [
    "# create dataframe for each employee and their category count\n",
    "category_per_employee = pd.DataFrame(index=categories)\n",
    "for p in persons:\n",
    "    p_skills = df[df[\"person\"] == p]\n",
    "    # count categories for each employee\n",
    "    category_count = p_skills[\"category\"].value_counts()\n",
    "    category_count = category_count.apply(lambda x:scaler_1_5(x,category_count.max(),category_count.min()))\n",
    "    skill_values = np.array([])\n",
    "    # add count for each category to an array and 0 if category wasn't found (and therefore is not part of resptive employee's skillset)\n",
    "    for cat in categories:\n",
    "        try:\n",
    "            skill_values = np.append(skill_values,category_count[cat])\n",
    "        except KeyError:\n",
    "            skill_values = np.append(skill_values,0)\n",
    "    # add employee data to dataframe\n",
    "    p_skills_df = pd.DataFrame(index=categories,columns=[p],data=skill_values)\n",
    "    category_per_employee = pd.concat([category_per_employee,p_skills_df],axis=1)"
   ]
  },
  {
   "cell_type": "code",
   "execution_count": 141,
   "metadata": {},
   "outputs": [],
   "source": [
    "df_rated = pd.DataFrame()\n",
    "for p in persons:\n",
    "    # get employee\n",
    "    df_subset = df[df[\"person\"] == p].copy()\n",
    "    # get skills of employee\n",
    "    p_skills = df_subset[\"skill\"].to_numpy()\n",
    "    # initialize empty array for ratings\n",
    "    ratings = np.zeros(len(p_skills))\n",
    "    # fill array for each skill with respective category value \n",
    "    for i in range(0,len(p_skills)): \n",
    "        ratings[i] = category_per_employee.loc[category_dict[p_skills[i]]][p]\n",
    "    # append ratings to subset and drop category column\n",
    "    df_subset[\"rating\"] = ratings\n",
    "    df_subset.drop(\"category\",axis=1,inplace=True)\n",
    "    # append user to df\n",
    "    df_rated = pd.concat([df_rated,df_subset],ignore_index=True)"
   ]
  },
  {
   "cell_type": "code",
   "execution_count": 142,
   "metadata": {},
   "outputs": [
    {
     "data": {
      "text/plain": [
       "735"
      ]
     },
     "execution_count": 142,
     "metadata": {},
     "output_type": "execute_result"
    }
   ],
   "source": [
    "df_rated.skill.nunique()"
   ]
  },
  {
   "cell_type": "markdown",
   "metadata": {},
   "source": [
    "## Comparing Different Recommender Systems"
   ]
  },
  {
   "cell_type": "markdown",
   "metadata": {},
   "source": [
    "Define holdout data: We want to take out 2 skills with high rating of 40% of users. Skills and users should be chosen randomly. "
   ]
  },
  {
   "cell_type": "markdown",
   "metadata": {},
   "source": [
    "BEDINGUNG; DASS SKILL; DIE NUR EINMAL VERTRETEN SIND NICHT ANGEFASST WERDEN"
   ]
  },
  {
   "cell_type": "code",
   "execution_count": 129,
   "metadata": {},
   "outputs": [],
   "source": [
    "# specify how many datapoints should be stored in holdout (e. g. holdout_size = 0.1 -> 10% of datapoints will be put in holdout)\n",
    "holdout_size = 0.1\n",
    "# save original size of data for termination of while loop \n",
    "size_data = len(df_rated)\n",
    "holdout = pd.DataFrame()\n",
    "# get list which represents each employee with their number of entered skills in the data\n",
    "employee_occurence = df_rated[\"person\"].to_list()\n",
    "# initialize random seed\n",
    "seed = 0 \n",
    "while len(holdout)/size_data < holdout_size:\n",
    "    # randomly select employee (affected by how often they occur in the data)\n",
    "    np.random.seed(seed)\n",
    "    df_subset_emp = df_rated[(df_rated[\"person\"] == np.random.choice(employee_occurence))]\n",
    "    # if condition causes that employee do not get completely deleted from dataset\n",
    "    if len(df_subset_emp) > 1:\n",
    "        max_rating_emp = df_subset_emp[\"rating\"].max()\n",
    "        holdout_emp = df_subset_emp[df_subset_emp[\"rating\"] == max_rating_emp].sample(n=1,random_state=seed)\n",
    "        df_rated = df_rated.drop(holdout_emp.index)\n",
    "        holdout = pd.concat([holdout,holdout_emp],ignore_index=True)\n",
    "    # change seed for next while iteration\n",
    "    seed = seed + 1"
   ]
  },
  {
   "cell_type": "code",
   "execution_count": 130,
   "metadata": {},
   "outputs": [
    {
     "data": {
      "text/plain": [
       "724"
      ]
     },
     "execution_count": 130,
     "metadata": {},
     "output_type": "execute_result"
    }
   ],
   "source": [
    "df_rated.skill.nunique()"
   ]
  },
  {
   "cell_type": "code",
   "execution_count": 12,
   "metadata": {},
   "outputs": [],
   "source": [
    "# perc_users = 0.4\n",
    "# n_skills = 2\n",
    "# sample_size = int(np.ceil(len(persons)*perc_users))\n",
    "\n",
    "# random.seed(1)\n",
    "# sample = random.sample(population=persons.tolist(),k=sample_size)\n",
    "\n",
    "# min_rating = 5"
   ]
  },
  {
   "cell_type": "code",
   "execution_count": 13,
   "metadata": {},
   "outputs": [],
   "source": [
    "# holdout = pd.DataFrame()\n",
    "\n",
    "# user_sample = []\n",
    "# for person in sample: \n",
    "#     df_subset = df_rated[(df_rated[\"person\"] == person) & (df_rated[\"rating\"] >= min_rating)]\n",
    "#     # try to get two random high ranking skills (if the employee doesn't have high ranking skills they will be skipped)\n",
    "#     try:\n",
    "#         holdout_employee = df_subset.sample(n=n_skills,random_state=1)\n",
    "#         user_sample.append(person)\n",
    "#         df_rated = df_rated.drop(holdout_employee.index)\n",
    "#         holdout = pd.concat([holdout,holdout_employee],ignore_index=1)\n",
    "#     except ValueError:\n",
    "#         pass \n",
    "# holdout"
   ]
  },
  {
   "cell_type": "code",
   "execution_count": 149,
   "metadata": {},
   "outputs": [],
   "source": [
    "reader = Reader(rating_scale=(1,5)) \n",
    "data = Dataset.load_from_df(df_rated,reader)"
   ]
  },
  {
   "cell_type": "code",
   "execution_count": 15,
   "metadata": {},
   "outputs": [],
   "source": [
    "NUM_TRIALS = 3\n",
    "NUM_SPLITS = 5"
   ]
  },
  {
   "cell_type": "code",
   "execution_count": 16,
   "metadata": {},
   "outputs": [],
   "source": [
    "def gridsearch_cv(algo_class,algo_name,param_grid,data,best_model_dict,best_params_dict):\n",
    "    start = time.time()\n",
    "    rmse = np.zeros(NUM_TRIALS)\n",
    "    mse = np.zeros(NUM_TRIALS)\n",
    "    mae = np.zeros(NUM_TRIALS)\n",
    "    models = []\n",
    "    params = []\n",
    "\n",
    "    # hier eventuell gridsearch rein? \n",
    "    for i in range(NUM_TRIALS):\n",
    "        print(\"Running CV for model\", algo_name ,\"in Iteration:\", i ,\"at\", time.time()-start)\n",
    "        cv = KFold(\n",
    "                        n_splits=NUM_SPLITS,\n",
    "                        random_state=i\n",
    "                        # min_n_ratings=i\n",
    "                    )\n",
    "                        # COMMENT: min_n_ratings -> what's the impact of this parameter? \n",
    "        gs = GridSearchCV(\n",
    "                        algo_class,\n",
    "                        param_grid, \n",
    "                        measures=[\"rmse\",\"mse\",\"mae\"], \n",
    "                        cv=cv,refit=\"rmse\"\n",
    "                    )\n",
    "        gs.fit(data)\n",
    "        rmse[i] = gs.best_score[\"rmse\"]\n",
    "        mse[i] = gs.best_score[\"mse\"]\n",
    "        mae[i] = gs.best_score[\"mae\"]\n",
    "        models.append(gs.best_estimator[\"rmse\"])\n",
    "        params.append(gs.best_params[\"rmse\"])\n",
    "\n",
    "    # hier noch erläutern, warum rmse als ausschlaggebene measure gewählt wird\n",
    "    best_model_dict[algo_name] = models[np.argmin(rmse)]\n",
    "    best_params_dict[algo_name] = params[np.argmin(rmse)]\n",
    "\n",
    "    print(\"Total time: \", (time.time()-start), \"sec.\")\n",
    "    return rmse, mse, mae "
   ]
  },
  {
   "cell_type": "code",
   "execution_count": 17,
   "metadata": {},
   "outputs": [],
   "source": [
    "def add_result(results, name, rmse, mse, mae):\n",
    "    '''\n",
    "    Function adding the results returned by nested_cv to a dataframe. \n",
    "    Results will be aggregated for better comparison. \n",
    "    Parameters: \n",
    "\n",
    "    Output:\n",
    "    results DataFrame containing an additional row\n",
    "    '''\n",
    "    row = pd.DataFrame({\n",
    "        \"name\":name,\n",
    "        \"rmse_mean\":rmse.mean(), \n",
    "        \"rmse_std\":rmse.std(), \n",
    "        \"mse_mean\":mse.mean(), \n",
    "        \"mse_std\":mse.std(), \n",
    "        \"mae_mean\":mae.mean(), \n",
    "        \"mae_std\":mae.std()\n",
    "        },index=[0])\n",
    "    return pd.concat([results,row],ignore_index=True)"
   ]
  },
  {
   "cell_type": "code",
   "execution_count": 1052,
   "metadata": {},
   "outputs": [],
   "source": [
    "results = pd.DataFrame()\n",
    "best_model_dict = {}\n",
    "best_params_dict = {}"
   ]
  },
  {
   "cell_type": "code",
   "execution_count": 1053,
   "metadata": {},
   "outputs": [],
   "source": [
    "algo_list = [\n",
    "                (BaselineOnly,\"Baseline\",{\n",
    "                                                \"verbose\":[False]\n",
    "                                    }),\n",
    "                (KNNBasic,\"k-NN\",{\n",
    "                                                \"k\": [20, 40, 60, 80],\n",
    "                                                \"min_k\": [1, 5, 10, 20],\n",
    "                                                \"verbose\":[False]\n",
    "                                    }),\n",
    "                (KNNWithMeans,\"Centered k-NN\",{\n",
    "                                                \"k\": [20, 40, 60, 80],\n",
    "                                                \"min_k\": [1, 5, 10, 20],\n",
    "                                                \"verbose\":[False]\n",
    "                                    }),\n",
    "                (SVD,\"SVD\",{\n",
    "                                                \"n_factors\": [40, 60, 80, 100, 120],\n",
    "                                                \"n_epochs\": [100, 200, 500, 1000],\n",
    "                                                \"biased\":[True,False],\n",
    "                                                \"random_state\":[1]\n",
    "                                    }),\n",
    "                (SVDpp,\"SVD++\",{\n",
    "                                                \"n_factors\": [40, 60, 80, 100, 120],\n",
    "                                                \"n_epochs\": [100, 200, 500, 1000],\n",
    "                                                \"random_state\":[1]\n",
    "                                    }),\n",
    "                (CoClustering,\"CoClustering\",{\n",
    "                                                \"n_cltr_u\": [2, 3, 4],\n",
    "                                                \"n_cltr_i\": [2, 3, 4],\n",
    "                                                \"n_epochs\":[10, 20, 40, 60]\n",
    "                                    }),\n",
    "                (SlopeOne,\"SlopeOne\",{\n",
    "                                    }),\n",
    "                (NMF,\"NMF\",{\n",
    "                                                \"n_factors\": [10, 15, 20, 40],\n",
    "                                                \"n_epochs\": [20, 40, 80, 120],\n",
    "                                                \"biased\":[True,False],\n",
    "                                                \"random_state\":[1]\n",
    "                                    })\n",
    "            ]"
   ]
  },
  {
   "cell_type": "markdown",
   "metadata": {},
   "source": [
    " N_FACTORS NOCH MAL REDUZIEREN\n",
    " "
   ]
  },
  {
   "cell_type": "code",
   "execution_count": 1054,
   "metadata": {},
   "outputs": [
    {
     "name": "stdout",
     "output_type": "stream",
     "text": [
      "Running CV for model Baseline in Iteration: 0 at 0.0\n",
      "Running CV for model Baseline in Iteration: 1 at 0.20148015022277832\n",
      "Running CV for model Baseline in Iteration: 2 at 0.380659818649292\n",
      "Total time:  0.5626044273376465 sec.\n",
      "Running CV for model k-NN in Iteration: 0 at 0.0\n",
      "Running CV for model k-NN in Iteration: 1 at 19.19047713279724\n",
      "Running CV for model k-NN in Iteration: 2 at 48.826831340789795\n",
      "Total time:  83.7591814994812 sec.\n",
      "Running CV for model Centered k-NN in Iteration: 0 at 0.0\n",
      "Running CV for model Centered k-NN in Iteration: 1 at 39.24043536186218\n",
      "Running CV for model Centered k-NN in Iteration: 2 at 78.11067008972168\n",
      "Total time:  116.35114765167236 sec.\n",
      "Running CV for model SVD in Iteration: 0 at 0.0\n",
      "Running CV for model SVD in Iteration: 1 at 360.1125304698944\n",
      "Running CV for model SVD in Iteration: 2 at 673.5810165405273\n",
      "Total time:  984.7157893180847 sec.\n",
      "Running CV for model SVD++ in Iteration: 0 at 0.0\n",
      "Running CV for model SVD++ in Iteration: 1 at 7535.7263288497925\n",
      "Running CV for model SVD++ in Iteration: 2 at 15076.686656475067\n",
      "Total time:  22613.49278306961 sec.\n",
      "Running CV for model CoClustering in Iteration: 0 at 0.0\n",
      "Running CV for model CoClustering in Iteration: 1 at 53.660224199295044\n",
      "Running CV for model CoClustering in Iteration: 2 at 107.2170000076294\n",
      "Total time:  159.7419137954712 sec.\n",
      "Running CV for model SlopeOne in Iteration: 0 at 0.0\n",
      "Running CV for model SlopeOne in Iteration: 1 at 0.6878008842468262\n",
      "Running CV for model SlopeOne in Iteration: 2 at 1.309737205505371\n",
      "Total time:  1.9337372779846191 sec.\n",
      "Running CV for model NMF in Iteration: 0 at 0.0\n",
      "Running CV for model NMF in Iteration: 1 at 33.32488679885864\n",
      "Running CV for model NMF in Iteration: 2 at 66.78574848175049\n",
      "Total time:  99.86860275268555 sec.\n"
     ]
    }
   ],
   "source": [
    "for algo in algo_list:\n",
    "    rmse, mse, mae = gridsearch_cv(algo[0],algo[1],algo[2],data,best_model_dict,best_params_dict)\n",
    "    results = add_result(results,algo[1],rmse, mse, mae)"
   ]
  },
  {
   "cell_type": "code",
   "execution_count": 1055,
   "metadata": {},
   "outputs": [
    {
     "data": {
      "text/plain": [
       "{'Baseline': {'verbose': False},\n",
       " 'k-NN': {'k': 20, 'min_k': 1, 'verbose': False},\n",
       " 'Centered k-NN': {'k': 20, 'min_k': 1, 'verbose': False},\n",
       " 'SVD': {'n_factors': 40,\n",
       "  'n_epochs': 1000,\n",
       "  'biased': False,\n",
       "  'random_state': 1},\n",
       " 'SVD++': {'n_factors': 40, 'n_epochs': 1000, 'random_state': 1},\n",
       " 'CoClustering': {'n_cltr_u': 4, 'n_cltr_i': 4, 'n_epochs': 40},\n",
       " 'SlopeOne': {},\n",
       " 'NMF': {'n_factors': 40, 'n_epochs': 120, 'biased': False, 'random_state': 1}}"
      ]
     },
     "execution_count": 1055,
     "metadata": {},
     "output_type": "execute_result"
    }
   ],
   "source": [
    "best_params_dict"
   ]
  },
  {
   "cell_type": "code",
   "execution_count": 1056,
   "metadata": {},
   "outputs": [
    {
     "data": {
      "text/html": [
       "<div>\n",
       "<style scoped>\n",
       "    .dataframe tbody tr th:only-of-type {\n",
       "        vertical-align: middle;\n",
       "    }\n",
       "\n",
       "    .dataframe tbody tr th {\n",
       "        vertical-align: top;\n",
       "    }\n",
       "\n",
       "    .dataframe thead th {\n",
       "        text-align: right;\n",
       "    }\n",
       "</style>\n",
       "<table border=\"1\" class=\"dataframe\">\n",
       "  <thead>\n",
       "    <tr style=\"text-align: right;\">\n",
       "      <th></th>\n",
       "      <th>name</th>\n",
       "      <th>rmse_mean</th>\n",
       "      <th>rmse_std</th>\n",
       "      <th>mse_mean</th>\n",
       "      <th>mse_std</th>\n",
       "      <th>mae_mean</th>\n",
       "      <th>mae_std</th>\n",
       "    </tr>\n",
       "  </thead>\n",
       "  <tbody>\n",
       "    <tr>\n",
       "      <th>0</th>\n",
       "      <td>Baseline</td>\n",
       "      <td>0.925795</td>\n",
       "      <td>0.000800</td>\n",
       "      <td>0.857129</td>\n",
       "      <td>0.001488</td>\n",
       "      <td>0.728790</td>\n",
       "      <td>0.000657</td>\n",
       "    </tr>\n",
       "    <tr>\n",
       "      <th>1</th>\n",
       "      <td>k-NN</td>\n",
       "      <td>0.802042</td>\n",
       "      <td>0.001761</td>\n",
       "      <td>0.643328</td>\n",
       "      <td>0.002819</td>\n",
       "      <td>0.593341</td>\n",
       "      <td>0.001608</td>\n",
       "    </tr>\n",
       "    <tr>\n",
       "      <th>2</th>\n",
       "      <td>Centered k-NN</td>\n",
       "      <td>0.803422</td>\n",
       "      <td>0.003163</td>\n",
       "      <td>0.645550</td>\n",
       "      <td>0.005053</td>\n",
       "      <td>0.596133</td>\n",
       "      <td>0.002082</td>\n",
       "    </tr>\n",
       "    <tr>\n",
       "      <th>3</th>\n",
       "      <td>SVD</td>\n",
       "      <td>0.491780</td>\n",
       "      <td>0.004240</td>\n",
       "      <td>0.242040</td>\n",
       "      <td>0.004252</td>\n",
       "      <td>0.287565</td>\n",
       "      <td>0.001252</td>\n",
       "    </tr>\n",
       "    <tr>\n",
       "      <th>4</th>\n",
       "      <td>SVD++</td>\n",
       "      <td>0.500062</td>\n",
       "      <td>0.003918</td>\n",
       "      <td>0.250232</td>\n",
       "      <td>0.003982</td>\n",
       "      <td>0.302817</td>\n",
       "      <td>0.001788</td>\n",
       "    </tr>\n",
       "    <tr>\n",
       "      <th>5</th>\n",
       "      <td>CoClustering</td>\n",
       "      <td>0.859731</td>\n",
       "      <td>0.003906</td>\n",
       "      <td>0.739314</td>\n",
       "      <td>0.006715</td>\n",
       "      <td>0.646835</td>\n",
       "      <td>0.003051</td>\n",
       "    </tr>\n",
       "    <tr>\n",
       "      <th>6</th>\n",
       "      <td>SlopeOne</td>\n",
       "      <td>0.861840</td>\n",
       "      <td>0.002515</td>\n",
       "      <td>0.742873</td>\n",
       "      <td>0.004301</td>\n",
       "      <td>0.656279</td>\n",
       "      <td>0.001285</td>\n",
       "    </tr>\n",
       "    <tr>\n",
       "      <th>7</th>\n",
       "      <td>NMF</td>\n",
       "      <td>0.604255</td>\n",
       "      <td>0.004761</td>\n",
       "      <td>0.365242</td>\n",
       "      <td>0.005757</td>\n",
       "      <td>0.423363</td>\n",
       "      <td>0.002553</td>\n",
       "    </tr>\n",
       "  </tbody>\n",
       "</table>\n",
       "</div>"
      ],
      "text/plain": [
       "            name  rmse_mean  rmse_std  mse_mean   mse_std  mae_mean   mae_std\n",
       "0       Baseline   0.925795  0.000800  0.857129  0.001488  0.728790  0.000657\n",
       "1           k-NN   0.802042  0.001761  0.643328  0.002819  0.593341  0.001608\n",
       "2  Centered k-NN   0.803422  0.003163  0.645550  0.005053  0.596133  0.002082\n",
       "3            SVD   0.491780  0.004240  0.242040  0.004252  0.287565  0.001252\n",
       "4          SVD++   0.500062  0.003918  0.250232  0.003982  0.302817  0.001788\n",
       "5   CoClustering   0.859731  0.003906  0.739314  0.006715  0.646835  0.003051\n",
       "6       SlopeOne   0.861840  0.002515  0.742873  0.004301  0.656279  0.001285\n",
       "7            NMF   0.604255  0.004761  0.365242  0.005757  0.423363  0.002553"
      ]
     },
     "execution_count": 1056,
     "metadata": {},
     "output_type": "execute_result"
    }
   ],
   "source": [
    "results"
   ]
  },
  {
   "cell_type": "markdown",
   "metadata": {},
   "source": [
    "Select best performing model and fit it on full data:"
   ]
  },
  {
   "cell_type": "code",
   "execution_count": 150,
   "metadata": {},
   "outputs": [
    {
     "data": {
      "text/plain": [
       "<surprise.prediction_algorithms.matrix_factorization.SVD at 0x1e178b98490>"
      ]
     },
     "execution_count": 150,
     "metadata": {},
     "output_type": "execute_result"
    }
   ],
   "source": [
    "#model = NMF(n_factors= 40, n_epochs = 120, biased = False, random_state= 1)\n",
    "model = SVD(n_factors = 40, n_epochs = 1000, biased = False, random_state = 1)\n",
    "# model = best_model_dict[results.iloc[results[\"rmse_mean\"].idxmin()][\"name\"]]\n",
    "trainset = data.build_full_trainset()\n",
    "model.fit(trainset)"
   ]
  },
  {
   "cell_type": "code",
   "execution_count": 27,
   "metadata": {},
   "outputs": [],
   "source": [
    "# results_2 = pd.DataFrame()\n",
    "# best_model_dict_2 = {}\n",
    "# best_params_dict_2 = {}"
   ]
  },
  {
   "cell_type": "code",
   "execution_count": 28,
   "metadata": {},
   "outputs": [],
   "source": [
    "# algo_list_2 = [\n",
    "#                    (SVD,\"SVD\",{\n",
    "#                                                 \"n_factors\": [60, 80, 100, 120],\n",
    "#                                                 \"n_epochs\": [100, 200, 500, 1000, 2000, 5000],\n",
    "#                                                 \"biased\":[True,False],\n",
    "#                                                 \"random_state\":[1]\n",
    "#                                     })]"
   ]
  },
  {
   "cell_type": "code",
   "execution_count": 29,
   "metadata": {},
   "outputs": [],
   "source": [
    "# for algo in algo_list_2:\n",
    "#     rmse, mse, mae = gridsearch_cv(algo[0],algo[1],algo[2],data,best_model_dict_2,best_params_dict_2)\n",
    "#     results_2 = add_result(results_2,algo[1],rmse, mse, mae)"
   ]
  },
  {
   "cell_type": "code",
   "execution_count": 30,
   "metadata": {},
   "outputs": [],
   "source": [
    "# best_params_dict_2"
   ]
  },
  {
   "cell_type": "code",
   "execution_count": 31,
   "metadata": {},
   "outputs": [],
   "source": [
    "# results_2"
   ]
  },
  {
   "cell_type": "code",
   "execution_count": 32,
   "metadata": {},
   "outputs": [],
   "source": [
    "# model = best_model_dict_2[\"SVD\"]\n",
    "# trainset = data.build_full_trainset()\n",
    "# model.fit(trainset)"
   ]
  },
  {
   "cell_type": "markdown",
   "metadata": {},
   "source": [
    "Predict ratings for all skills which the employees do not yet have (meaning which do not have an existing rating):"
   ]
  },
  {
   "cell_type": "code",
   "execution_count": 33,
   "metadata": {},
   "outputs": [],
   "source": [
    "preds = model.test(trainset.build_anti_testset())"
   ]
  },
  {
   "cell_type": "markdown",
   "metadata": {},
   "source": [
    "## Evaluation"
   ]
  },
  {
   "cell_type": "markdown",
   "metadata": {},
   "source": [
    "Idea for evaluating the recoms: define holdout a bit differently. Pick random users (say 30% of all users) and remove a prior defined amount of skills (say 2) from their skillset. The skills should have a high rating (say 4 or 5). If these skills then show up as recommendations, we have an objective indicator that the recommendations are somewhat meaningful. "
   ]
  },
  {
   "cell_type": "markdown",
   "metadata": {},
   "source": [
    "Evaluation using holdout data: "
   ]
  },
  {
   "cell_type": "code",
   "execution_count": 34,
   "metadata": {},
   "outputs": [],
   "source": [
    "from collections import defaultdict\n",
    "\n",
    "def get_top_n(predictions, n):\n",
    "    \"\"\"Return the top-N recommendation for each user from a set of predictions.\n",
    "\n",
    "    Args:\n",
    "        predictions(list of Prediction objects): The list of predictions, as\n",
    "            returned by the test method of an algorithm.\n",
    "        n(int): The number of recommendation to output for each user. Default\n",
    "            is 10.\n",
    "\n",
    "    Returns:\n",
    "    A dict where keys are user (raw) ids and values are lists of tuples:\n",
    "        [(raw item id, rating estimation), ...] of size n.\n",
    "    \"\"\"\n",
    "\n",
    "    # First map the predictions to each user.\n",
    "    top_n = {}\n",
    "    \n",
    "    for uid, iid, true_r, est, _ in predictions:\n",
    "        try:\n",
    "                top_n[uid].append((iid, est))\n",
    "        except KeyError:\n",
    "                top_n[uid] = [(iid, est)]\n",
    "\n",
    "    # Then sort the predictions for each user and retrieve the k highest ones.\n",
    "    for uid, user_ratings in top_n.items():\n",
    "        user_ratings.sort(key=lambda x: x[1], reverse=True)\n",
    "        top_n[uid] = user_ratings[:n]\n",
    "\n",
    "    return top_n"
   ]
  },
  {
   "cell_type": "markdown",
   "metadata": {},
   "source": [
    "Get recommendations for all users:"
   ]
  },
  {
   "cell_type": "code",
   "execution_count": 35,
   "metadata": {},
   "outputs": [],
   "source": [
    "def get_recommendations(preds,n):\n",
    "    top_n = get_top_n(preds, n)\n",
    "    recommendations = pd.DataFrame()\n",
    "\n",
    "    for uid, user_ratings in top_n.items():\n",
    "        recom = pd.DataFrame(index=[uid],data=[[iid for (iid, _) in user_ratings]])\n",
    "        recommendations = pd.concat([recommendations,recom])\n",
    "\n",
    "    return recommendations"
   ]
  },
  {
   "cell_type": "code",
   "execution_count": 36,
   "metadata": {},
   "outputs": [
    {
     "data": {
      "text/html": [
       "<div>\n",
       "<style scoped>\n",
       "    .dataframe tbody tr th:only-of-type {\n",
       "        vertical-align: middle;\n",
       "    }\n",
       "\n",
       "    .dataframe tbody tr th {\n",
       "        vertical-align: top;\n",
       "    }\n",
       "\n",
       "    .dataframe thead th {\n",
       "        text-align: right;\n",
       "    }\n",
       "</style>\n",
       "<table border=\"1\" class=\"dataframe\">\n",
       "  <thead>\n",
       "    <tr style=\"text-align: right;\">\n",
       "      <th></th>\n",
       "      <th>0</th>\n",
       "      <th>1</th>\n",
       "      <th>2</th>\n",
       "      <th>3</th>\n",
       "      <th>4</th>\n",
       "      <th>5</th>\n",
       "      <th>6</th>\n",
       "      <th>7</th>\n",
       "      <th>8</th>\n",
       "      <th>9</th>\n",
       "    </tr>\n",
       "  </thead>\n",
       "  <tbody>\n",
       "    <tr>\n",
       "      <th>12</th>\n",
       "      <td>Portlet API</td>\n",
       "      <td>Xerces</td>\n",
       "      <td>AS400</td>\n",
       "      <td>Dependency Injection</td>\n",
       "      <td>Eclipse</td>\n",
       "      <td>Test Driven Development (TDD)</td>\n",
       "      <td>Java FX</td>\n",
       "      <td>AIX</td>\n",
       "      <td>Objektrelationale Abbildung (ORM)</td>\n",
       "      <td>Windows Communication Foundation (WCF)</td>\n",
       "    </tr>\n",
       "    <tr>\n",
       "      <th>13</th>\n",
       "      <td>NHibernate</td>\n",
       "      <td>Kendo UI</td>\n",
       "      <td>DevExpress</td>\n",
       "      <td>Microsoft Enterprise Library</td>\n",
       "      <td>BizTalk</td>\n",
       "      <td>NUnit</td>\n",
       "      <td>ASP.NET</td>\n",
       "      <td>Windows Communication Foundation (WCF)</td>\n",
       "      <td>ADO.NET</td>\n",
       "      <td>Windows Identity Foundation (WIF)</td>\n",
       "    </tr>\n",
       "    <tr>\n",
       "      <th>15</th>\n",
       "      <td>Vue.js</td>\n",
       "      <td>Cypress</td>\n",
       "      <td>ITCSS</td>\n",
       "      <td>Storybook</td>\n",
       "      <td>TypeScript</td>\n",
       "      <td>Layouting (Flexbox, CSS Grid)</td>\n",
       "      <td>Jest</td>\n",
       "      <td>Magento</td>\n",
       "      <td>SCSS</td>\n",
       "      <td>Angular Material</td>\n",
       "    </tr>\n",
       "    <tr>\n",
       "      <th>16</th>\n",
       "      <td>Cypress</td>\n",
       "      <td>Magento</td>\n",
       "      <td>ITCSS</td>\n",
       "      <td>Redux</td>\n",
       "      <td>CSS</td>\n",
       "      <td>Ajax</td>\n",
       "      <td>Jest</td>\n",
       "      <td>HTML5</td>\n",
       "      <td>Node.js</td>\n",
       "      <td>jQuery</td>\n",
       "    </tr>\n",
       "    <tr>\n",
       "      <th>17</th>\n",
       "      <td>Web Components</td>\n",
       "      <td>PEAR</td>\n",
       "      <td>Security</td>\n",
       "      <td>SAP Commerce 6.x</td>\n",
       "      <td>Java FX</td>\n",
       "      <td>osCommerce</td>\n",
       "      <td>Stylelint</td>\n",
       "      <td>pycharm</td>\n",
       "      <td>Backoffice Konfiguration</td>\n",
       "      <td>SAP ERP Anbindung</td>\n",
       "    </tr>\n",
       "    <tr>\n",
       "      <th>...</th>\n",
       "      <td>...</td>\n",
       "      <td>...</td>\n",
       "      <td>...</td>\n",
       "      <td>...</td>\n",
       "      <td>...</td>\n",
       "      <td>...</td>\n",
       "      <td>...</td>\n",
       "      <td>...</td>\n",
       "      <td>...</td>\n",
       "      <td>...</td>\n",
       "    </tr>\n",
       "    <tr>\n",
       "      <th>1467</th>\n",
       "      <td>TypoScript</td>\n",
       "      <td>C/C++</td>\n",
       "      <td>Ruby</td>\n",
       "      <td>Delphi</td>\n",
       "      <td>Python</td>\n",
       "      <td>VB/VBA</td>\n",
       "      <td>Pascal</td>\n",
       "      <td>Assembler</td>\n",
       "      <td>PL/SQL</td>\n",
       "      <td>VB.NET</td>\n",
       "    </tr>\n",
       "    <tr>\n",
       "      <th>1474</th>\n",
       "      <td>Agile Methoden</td>\n",
       "      <td>Magento</td>\n",
       "      <td>SCSS</td>\n",
       "      <td>Tailwind CSS</td>\n",
       "      <td>Web Components</td>\n",
       "      <td>Dojo Toolkit</td>\n",
       "      <td>Zend</td>\n",
       "      <td>Layouting (Flexbox, CSS Grid)</td>\n",
       "      <td>Yii</td>\n",
       "      <td>HTML5</td>\n",
       "    </tr>\n",
       "    <tr>\n",
       "      <th>1475</th>\n",
       "      <td>Windows NT/2000/XP</td>\n",
       "      <td>Windows Presentation Foundation (WPF)</td>\n",
       "      <td>ASP.NET MVC-Framework</td>\n",
       "      <td>ASP.NET WebAPI</td>\n",
       "      <td>Entity Framework</td>\n",
       "      <td>LINQ</td>\n",
       "      <td>TopLink</td>\n",
       "      <td>Jakarta Commons</td>\n",
       "      <td>Java FX</td>\n",
       "      <td>CI/CD Entwicklung</td>\n",
       "    </tr>\n",
       "    <tr>\n",
       "      <th>1479</th>\n",
       "      <td>.NET Framework</td>\n",
       "      <td>Entity Framework</td>\n",
       "      <td>ASP.NET</td>\n",
       "      <td>DevExpress</td>\n",
       "      <td>LINQ</td>\n",
       "      <td>NUnit</td>\n",
       "      <td>ASP.NET MVC-Framework</td>\n",
       "      <td>Windows Communication Foundation (WCF)</td>\n",
       "      <td>NHibernate</td>\n",
       "      <td>Windows Forms</td>\n",
       "    </tr>\n",
       "    <tr>\n",
       "      <th>1488</th>\n",
       "      <td>TopLink</td>\n",
       "      <td>JSF</td>\n",
       "      <td>Phyton /Jython</td>\n",
       "      <td>Xerces</td>\n",
       "      <td>Security</td>\n",
       "      <td>Castor</td>\n",
       "      <td>Struts (bis Version 1.3)</td>\n",
       "      <td>TestNG</td>\n",
       "      <td>GEF</td>\n",
       "      <td>Google Web Toolkit</td>\n",
       "    </tr>\n",
       "  </tbody>\n",
       "</table>\n",
       "<p>404 rows × 10 columns</p>\n",
       "</div>"
      ],
      "text/plain": [
       "                       0                                      1  \\\n",
       "12           Portlet API                                 Xerces   \n",
       "13            NHibernate                               Kendo UI   \n",
       "15                Vue.js                                Cypress   \n",
       "16               Cypress                                Magento   \n",
       "17        Web Components                                   PEAR   \n",
       "...                  ...                                    ...   \n",
       "1467          TypoScript                                  C/C++   \n",
       "1474      Agile Methoden                                Magento   \n",
       "1475  Windows NT/2000/XP  Windows Presentation Foundation (WPF)   \n",
       "1479      .NET Framework                       Entity Framework   \n",
       "1488             TopLink                                    JSF   \n",
       "\n",
       "                          2                             3                 4  \\\n",
       "12                    AS400          Dependency Injection           Eclipse   \n",
       "13               DevExpress  Microsoft Enterprise Library           BizTalk   \n",
       "15                    ITCSS                     Storybook        TypeScript   \n",
       "16                    ITCSS                         Redux               CSS   \n",
       "17                 Security              SAP Commerce 6.x           Java FX   \n",
       "...                     ...                           ...               ...   \n",
       "1467                   Ruby                        Delphi            Python   \n",
       "1474                   SCSS                 Tailwind CSS     Web Components   \n",
       "1475  ASP.NET MVC-Framework                ASP.NET WebAPI  Entity Framework   \n",
       "1479                ASP.NET                    DevExpress              LINQ   \n",
       "1488         Phyton /Jython                        Xerces          Security   \n",
       "\n",
       "                                  5                         6  \\\n",
       "12    Test Driven Development (TDD)                   Java FX   \n",
       "13                            NUnit                   ASP.NET   \n",
       "15    Layouting (Flexbox, CSS Grid)                      Jest   \n",
       "16                             Ajax                      Jest   \n",
       "17                       osCommerce                 Stylelint   \n",
       "...                             ...                       ...   \n",
       "1467                         VB/VBA                    Pascal   \n",
       "1474                   Dojo Toolkit                     Zend    \n",
       "1475                           LINQ                   TopLink   \n",
       "1479                          NUnit     ASP.NET MVC-Framework   \n",
       "1488                         Castor  Struts (bis Version 1.3)   \n",
       "\n",
       "                                           7  \\\n",
       "12                                       AIX   \n",
       "13    Windows Communication Foundation (WCF)   \n",
       "15                                   Magento   \n",
       "16                                     HTML5   \n",
       "17                                   pycharm   \n",
       "...                                      ...   \n",
       "1467                               Assembler   \n",
       "1474           Layouting (Flexbox, CSS Grid)   \n",
       "1475                         Jakarta Commons   \n",
       "1479  Windows Communication Foundation (WCF)   \n",
       "1488                                  TestNG   \n",
       "\n",
       "                                      8  \\\n",
       "12    Objektrelationale Abbildung (ORM)   \n",
       "13                              ADO.NET   \n",
       "15                                 SCSS   \n",
       "16                              Node.js   \n",
       "17             Backoffice Konfiguration   \n",
       "...                                 ...   \n",
       "1467                             PL/SQL   \n",
       "1474                                Yii   \n",
       "1475                            Java FX   \n",
       "1479                         NHibernate   \n",
       "1488                                GEF   \n",
       "\n",
       "                                           9  \n",
       "12    Windows Communication Foundation (WCF)  \n",
       "13         Windows Identity Foundation (WIF)  \n",
       "15                          Angular Material  \n",
       "16                                    jQuery  \n",
       "17                         SAP ERP Anbindung  \n",
       "...                                      ...  \n",
       "1467                                  VB.NET  \n",
       "1474                                   HTML5  \n",
       "1475                       CI/CD Entwicklung  \n",
       "1479                           Windows Forms  \n",
       "1488                      Google Web Toolkit  \n",
       "\n",
       "[404 rows x 10 columns]"
      ]
     },
     "execution_count": 36,
     "metadata": {},
     "output_type": "execute_result"
    }
   ],
   "source": [
    "get_recommendations(preds,10)"
   ]
  },
  {
   "cell_type": "code",
   "execution_count": 37,
   "metadata": {},
   "outputs": [],
   "source": [
    "def get_recoms_for_employee(emp_id,n):\n",
    "    return get_top_n(preds, n)[emp_id]"
   ]
  },
  {
   "cell_type": "code",
   "execution_count": 38,
   "metadata": {},
   "outputs": [
    {
     "data": {
      "text/plain": [
       "[('NHibernate', 5),\n",
       " ('Kendo UI', 5),\n",
       " ('DevExpress', 5),\n",
       " ('Microsoft Enterprise Library', 5),\n",
       " ('BizTalk', 5),\n",
       " ('NUnit', 4.896001158435571),\n",
       " ('ASP.NET', 4.861200442039972),\n",
       " ('Windows Communication Foundation (WCF)', 4.8493550013857725),\n",
       " ('ADO.NET', 4.736700194873324),\n",
       " ('Windows Identity Foundation (WIF)', 4.696777873115983)]"
      ]
     },
     "execution_count": 38,
     "metadata": {},
     "output_type": "execute_result"
    }
   ],
   "source": [
    "get_recoms_for_employee(13,10)"
   ]
  },
  {
   "cell_type": "code",
   "execution_count": 39,
   "metadata": {},
   "outputs": [],
   "source": [
    "# def get_recoms_for_employee_2(emp_id,n):\n",
    "#     df_subset = df_rated[df_rated[\"person\"] == 233]\n",
    "#     recom_df = pd.DataFrame()\n",
    "#     recom_df[\"skill\"] = skills\n",
    "#     recom_df[\"person\"] = emp_id\n",
    "#     employee_ratings = np.zeros(len(skills))\n",
    "#     for i in range(0,len(skills)): \n",
    "#         try:\n",
    "#             employee_ratings[i] = df_subset[df_subset[\"skill\"] == skills[i]][\"rating\"]\n",
    "#         except ValueError:\n",
    "#             employee_ratings[i] = np.nan\n",
    "#     recom_df[\"rating\"] = employee_ratings\n",
    "#     recom_df = recom_df[[\"person\",\"skill\",\"rating\"]]\n",
    "#     #return recom_df.to_numpy()\n",
    "#     preds = model.test(recom_df.to_numpy())\n",
    "#     return get_top_n(preds,n)"
   ]
  },
  {
   "cell_type": "markdown",
   "metadata": {},
   "source": [
    "Measure precisions: "
   ]
  },
  {
   "cell_type": "code",
   "execution_count": 40,
   "metadata": {},
   "outputs": [],
   "source": [
    "def precision_at_k(k,holdout,recommendations):\n",
    "    precision = np.zeros(holdout[\"person\"].nunique())\n",
    "    \n",
    "    for i,emp in enumerate(holdout[\"person\"].unique()):\n",
    "        holdout_emp = holdout[holdout[\"person\"] == emp][\"skill\"].to_list()\n",
    "        recoms_emp = recommendations.loc[emp].to_list()\n",
    "\n",
    "        if len(recoms_emp)>k:\n",
    "            recoms_emp = recoms_emp[:k]\n",
    "\n",
    "        score = 0\n",
    "\n",
    "        for recom in recoms_emp:\n",
    "            if recom in holdout_emp:\n",
    "                score = score + 1\n",
    "\n",
    "        precision[i] = score/min(len(holdout_emp),k)\n",
    "\n",
    "    return np.mean(precision)"
   ]
  },
  {
   "cell_type": "code",
   "execution_count": 41,
   "metadata": {},
   "outputs": [],
   "source": [
    "def weighted_precision_at_k(k,holdout,recommendations):\n",
    "    precision = np.zeros(holdout[\"person\"].nunique())\n",
    "\n",
    "    for i,emp in enumerate(holdout[\"person\"].unique()):\n",
    "        holdout_emp = holdout[holdout[\"person\"] == emp][\"skill\"].to_list()\n",
    "        recoms_emp = recommendations.loc[emp].to_list()\n",
    "\n",
    "        if len(recoms_emp)>k:\n",
    "            recoms_emp = recoms_emp[:k]\n",
    "\n",
    "        score = 0\n",
    "        num_hits = 0\n",
    "\n",
    "        for j,recom in enumerate(recoms_emp):\n",
    "            if recom in holdout_emp:\n",
    "                num_hits = num_hits + 1\n",
    "                score = score + (num_hits / (j+1))\n",
    "\n",
    "        precision[i] = score/min(len(holdout_emp),k)\n",
    "\n",
    "    return np.mean(precision)"
   ]
  },
  {
   "cell_type": "code",
   "execution_count": 42,
   "metadata": {},
   "outputs": [
    {
     "data": {
      "text/plain": [
       "0.45069813980988765"
      ]
     },
     "execution_count": 42,
     "metadata": {},
     "output_type": "execute_result"
    }
   ],
   "source": [
    "precision_at_k(10,holdout,get_recommendations(preds,10))"
   ]
  },
  {
   "cell_type": "code",
   "execution_count": 43,
   "metadata": {},
   "outputs": [
    {
     "data": {
      "text/plain": [
       "0.2380494475992668"
      ]
     },
     "execution_count": 43,
     "metadata": {},
     "output_type": "execute_result"
    }
   ],
   "source": [
    "weighted_precision_at_k(10,holdout,get_recommendations(preds,10))"
   ]
  },
  {
   "cell_type": "markdown",
   "metadata": {},
   "source": [
    "Recommendations in respect to top skills and skill categories:"
   ]
  },
  {
   "cell_type": "code",
   "execution_count": 44,
   "metadata": {},
   "outputs": [],
   "source": [
    "def evaluate_employee_recoms(emp_id,n):\n",
    "    fig, axes = plt.subplots(2,1,figsize=(10,8))\n",
    "    # get categories of actual skills\n",
    "    skill_catgegories = df[df[\"person\"] == emp_id][\"category\"].value_counts()\n",
    "    skill_catgegories.plot(ax=axes[0],\n",
    "                            kind=\"barh\",\n",
    "                            #ylabel=\"Count\",\n",
    "                            title=\"Category Count of Actual Skills - Employee \"+str(emp_id))\n",
    "    top_n_skills = df_rated[df_rated[\"person\"] == emp_id].sort_values(by=\"rating\",ascending=False).head(n).reset_index()[[\"skill\"]]\n",
    "    # get categories of recommended skills\n",
    "    recoms_for_emp = pd.DataFrame(get_recommendations(preds,n).loc[emp_id].T)\n",
    "    recoms_catgories = recoms_for_emp.replace({emp_id:category_dict}).value_counts()\n",
    "    indeces = []\n",
    "    for index in recoms_for_emp.replace({emp_id:category_dict}).value_counts().index:\n",
    "        indeces.append(index[0])\n",
    "    recoms_catgories.index = indeces\n",
    "    recoms_catgories.plot(ax = axes[1],\n",
    "                            kind = \"barh\",\n",
    "                            xticks = np.arange(0,recoms_catgories.max()+1,1),\n",
    "                            #ylabel=\"Count\",\n",
    "                            title = \"Category Count of Recommended Skills - Employee \"+str(emp_id))\n",
    "    # create of top skills and recommendation for better comparison\n",
    "    return_table = pd.concat([top_n_skills,recoms_for_emp],axis=1,ignore_index=True)\n",
    "    return_table.columns = [\"Top \" + str(n) + \" Actual Skills\",\"Recommendations\"]\n",
    "    return return_table"
   ]
  },
  {
   "cell_type": "code",
   "execution_count": 45,
   "metadata": {},
   "outputs": [
    {
     "data": {
      "text/html": [
       "<div>\n",
       "<style scoped>\n",
       "    .dataframe tbody tr th:only-of-type {\n",
       "        vertical-align: middle;\n",
       "    }\n",
       "\n",
       "    .dataframe tbody tr th {\n",
       "        vertical-align: top;\n",
       "    }\n",
       "\n",
       "    .dataframe thead th {\n",
       "        text-align: right;\n",
       "    }\n",
       "</style>\n",
       "<table border=\"1\" class=\"dataframe\">\n",
       "  <thead>\n",
       "    <tr style=\"text-align: right;\">\n",
       "      <th></th>\n",
       "      <th>Top 10 Actual Skills</th>\n",
       "      <th>Recommendations</th>\n",
       "    </tr>\n",
       "  </thead>\n",
       "  <tbody>\n",
       "    <tr>\n",
       "      <th>0</th>\n",
       "      <td>Unit Tests (Komponententests)</td>\n",
       "      <td>Portlet API</td>\n",
       "    </tr>\n",
       "    <tr>\n",
       "      <th>1</th>\n",
       "      <td>Continuous Integration (CI)</td>\n",
       "      <td>Xerces</td>\n",
       "    </tr>\n",
       "    <tr>\n",
       "      <th>2</th>\n",
       "      <td>Statische Codeanalyse</td>\n",
       "      <td>AS400</td>\n",
       "    </tr>\n",
       "    <tr>\n",
       "      <th>3</th>\n",
       "      <td>Agile Methoden</td>\n",
       "      <td>Dependency Injection</td>\n",
       "    </tr>\n",
       "    <tr>\n",
       "      <th>4</th>\n",
       "      <td>Windows NT/2000/XP</td>\n",
       "      <td>Eclipse</td>\n",
       "    </tr>\n",
       "    <tr>\n",
       "      <th>5</th>\n",
       "      <td>Java EE</td>\n",
       "      <td>Test Driven Development (TDD)</td>\n",
       "    </tr>\n",
       "    <tr>\n",
       "      <th>6</th>\n",
       "      <td>GIT</td>\n",
       "      <td>Java FX</td>\n",
       "    </tr>\n",
       "    <tr>\n",
       "      <th>7</th>\n",
       "      <td>MAC OS X</td>\n",
       "      <td>AIX</td>\n",
       "    </tr>\n",
       "    <tr>\n",
       "      <th>8</th>\n",
       "      <td>Log4J</td>\n",
       "      <td>Objektrelationale Abbildung (ORM)</td>\n",
       "    </tr>\n",
       "    <tr>\n",
       "      <th>9</th>\n",
       "      <td>Spring</td>\n",
       "      <td>Windows Communication Foundation (WCF)</td>\n",
       "    </tr>\n",
       "  </tbody>\n",
       "</table>\n",
       "</div>"
      ],
      "text/plain": [
       "            Top 10 Actual Skills                         Recommendations\n",
       "0  Unit Tests (Komponententests)                             Portlet API\n",
       "1    Continuous Integration (CI)                                  Xerces\n",
       "2          Statische Codeanalyse                                   AS400\n",
       "3                 Agile Methoden                    Dependency Injection\n",
       "4             Windows NT/2000/XP                                 Eclipse\n",
       "5                        Java EE           Test Driven Development (TDD)\n",
       "6                            GIT                                 Java FX\n",
       "7                       MAC OS X                                     AIX\n",
       "8                          Log4J       Objektrelationale Abbildung (ORM)\n",
       "9                         Spring  Windows Communication Foundation (WCF)"
      ]
     },
     "execution_count": 45,
     "metadata": {},
     "output_type": "execute_result"
    },
    {
     "data": {
      "image/png": "[encoded data removed]",
      "text/plain": [
       "<Figure size 1000x800 with 2 Axes>"
      ]
     },
     "metadata": {},
     "output_type": "display_data"
    }
   ],
   "source": [
    "evaluate_employee_recoms(12,10)"
   ]
  },
  {
   "cell_type": "markdown",
   "metadata": {},
   "source": [
    "Baseline Recommendations: "
   ]
  },
  {
   "cell_type": "code",
   "execution_count": 46,
   "metadata": {},
   "outputs": [
    {
     "name": "stdout",
     "output_type": "stream",
     "text": [
      "Estimating biases using als...\n"
     ]
    }
   ],
   "source": [
    "baseline = BaselineOnly()\n",
    "baseline.fit(trainset)\n",
    "baseline_preds = baseline.test(trainset.build_anti_testset())"
   ]
  },
  {
   "cell_type": "code",
   "execution_count": 47,
   "metadata": {},
   "outputs": [
    {
     "data": {
      "text/html": [
       "<div>\n",
       "<style scoped>\n",
       "    .dataframe tbody tr th:only-of-type {\n",
       "        vertical-align: middle;\n",
       "    }\n",
       "\n",
       "    .dataframe tbody tr th {\n",
       "        vertical-align: top;\n",
       "    }\n",
       "\n",
       "    .dataframe thead th {\n",
       "        text-align: right;\n",
       "    }\n",
       "</style>\n",
       "<table border=\"1\" class=\"dataframe\">\n",
       "  <thead>\n",
       "    <tr style=\"text-align: right;\">\n",
       "      <th></th>\n",
       "      <th>0</th>\n",
       "      <th>1</th>\n",
       "      <th>2</th>\n",
       "      <th>3</th>\n",
       "      <th>4</th>\n",
       "      <th>5</th>\n",
       "      <th>6</th>\n",
       "      <th>7</th>\n",
       "      <th>8</th>\n",
       "      <th>9</th>\n",
       "    </tr>\n",
       "  </thead>\n",
       "  <tbody>\n",
       "    <tr>\n",
       "      <th>12</th>\n",
       "      <td>Jakarta Commons</td>\n",
       "      <td>TestNG</td>\n",
       "      <td>EJB 3</td>\n",
       "      <td>Struts 2</td>\n",
       "      <td>Vue.js</td>\n",
       "      <td>JSF</td>\n",
       "      <td>TopLink</td>\n",
       "      <td>Xerces</td>\n",
       "      <td>RxJS</td>\n",
       "      <td>Servlet/JSP</td>\n",
       "    </tr>\n",
       "    <tr>\n",
       "      <th>13</th>\n",
       "      <td>Jakarta Commons</td>\n",
       "      <td>TestNG</td>\n",
       "      <td>Hibernate</td>\n",
       "      <td>EJB 3</td>\n",
       "      <td>Struts 2</td>\n",
       "      <td>JDBC</td>\n",
       "      <td>Vue.js</td>\n",
       "      <td>Log4J</td>\n",
       "      <td>JSF</td>\n",
       "      <td>TopLink</td>\n",
       "    </tr>\n",
       "    <tr>\n",
       "      <th>15</th>\n",
       "      <td>Jakarta Commons</td>\n",
       "      <td>TestNG</td>\n",
       "      <td>Hibernate</td>\n",
       "      <td>EJB 3</td>\n",
       "      <td>Struts 2</td>\n",
       "      <td>JDBC</td>\n",
       "      <td>Vue.js</td>\n",
       "      <td>Log4J</td>\n",
       "      <td>JSF</td>\n",
       "      <td>TopLink</td>\n",
       "    </tr>\n",
       "    <tr>\n",
       "      <th>16</th>\n",
       "      <td>Jakarta Commons</td>\n",
       "      <td>TestNG</td>\n",
       "      <td>Hibernate</td>\n",
       "      <td>EJB 3</td>\n",
       "      <td>Struts 2</td>\n",
       "      <td>JDBC</td>\n",
       "      <td>Log4J</td>\n",
       "      <td>JSF</td>\n",
       "      <td>TopLink</td>\n",
       "      <td>Spring</td>\n",
       "    </tr>\n",
       "    <tr>\n",
       "      <th>17</th>\n",
       "      <td>Jakarta Commons</td>\n",
       "      <td>TestNG</td>\n",
       "      <td>Hibernate</td>\n",
       "      <td>EJB 3</td>\n",
       "      <td>Struts 2</td>\n",
       "      <td>JDBC</td>\n",
       "      <td>Vue.js</td>\n",
       "      <td>Log4J</td>\n",
       "      <td>JSF</td>\n",
       "      <td>TopLink</td>\n",
       "    </tr>\n",
       "    <tr>\n",
       "      <th>...</th>\n",
       "      <td>...</td>\n",
       "      <td>...</td>\n",
       "      <td>...</td>\n",
       "      <td>...</td>\n",
       "      <td>...</td>\n",
       "      <td>...</td>\n",
       "      <td>...</td>\n",
       "      <td>...</td>\n",
       "      <td>...</td>\n",
       "      <td>...</td>\n",
       "    </tr>\n",
       "    <tr>\n",
       "      <th>1467</th>\n",
       "      <td>Jakarta Commons</td>\n",
       "      <td>TestNG</td>\n",
       "      <td>Hibernate</td>\n",
       "      <td>EJB 3</td>\n",
       "      <td>Struts 2</td>\n",
       "      <td>JDBC</td>\n",
       "      <td>Vue.js</td>\n",
       "      <td>Log4J</td>\n",
       "      <td>JSF</td>\n",
       "      <td>TopLink</td>\n",
       "    </tr>\n",
       "    <tr>\n",
       "      <th>1474</th>\n",
       "      <td>Jakarta Commons</td>\n",
       "      <td>TestNG</td>\n",
       "      <td>Hibernate</td>\n",
       "      <td>EJB 3</td>\n",
       "      <td>Struts 2</td>\n",
       "      <td>JDBC</td>\n",
       "      <td>Vue.js</td>\n",
       "      <td>Log4J</td>\n",
       "      <td>JSF</td>\n",
       "      <td>TopLink</td>\n",
       "    </tr>\n",
       "    <tr>\n",
       "      <th>1475</th>\n",
       "      <td>Jakarta Commons</td>\n",
       "      <td>TestNG</td>\n",
       "      <td>Hibernate</td>\n",
       "      <td>EJB 3</td>\n",
       "      <td>Struts 2</td>\n",
       "      <td>JDBC</td>\n",
       "      <td>Vue.js</td>\n",
       "      <td>Log4J</td>\n",
       "      <td>JSF</td>\n",
       "      <td>TopLink</td>\n",
       "    </tr>\n",
       "    <tr>\n",
       "      <th>1479</th>\n",
       "      <td>Jakarta Commons</td>\n",
       "      <td>TestNG</td>\n",
       "      <td>Hibernate</td>\n",
       "      <td>EJB 3</td>\n",
       "      <td>Struts 2</td>\n",
       "      <td>JDBC</td>\n",
       "      <td>Vue.js</td>\n",
       "      <td>Log4J</td>\n",
       "      <td>JSF</td>\n",
       "      <td>TopLink</td>\n",
       "    </tr>\n",
       "    <tr>\n",
       "      <th>1488</th>\n",
       "      <td>Jakarta Commons</td>\n",
       "      <td>TestNG</td>\n",
       "      <td>EJB 3</td>\n",
       "      <td>Struts 2</td>\n",
       "      <td>JDBC</td>\n",
       "      <td>Vue.js</td>\n",
       "      <td>JSF</td>\n",
       "      <td>TopLink</td>\n",
       "      <td>Xerces</td>\n",
       "      <td>RxJS</td>\n",
       "    </tr>\n",
       "  </tbody>\n",
       "</table>\n",
       "<p>404 rows × 10 columns</p>\n",
       "</div>"
      ],
      "text/plain": [
       "                    0       1          2         3         4       5        6  \\\n",
       "12    Jakarta Commons  TestNG      EJB 3  Struts 2    Vue.js     JSF  TopLink   \n",
       "13    Jakarta Commons  TestNG  Hibernate     EJB 3  Struts 2    JDBC   Vue.js   \n",
       "15    Jakarta Commons  TestNG  Hibernate     EJB 3  Struts 2    JDBC   Vue.js   \n",
       "16    Jakarta Commons  TestNG  Hibernate     EJB 3  Struts 2    JDBC    Log4J   \n",
       "17    Jakarta Commons  TestNG  Hibernate     EJB 3  Struts 2    JDBC   Vue.js   \n",
       "...               ...     ...        ...       ...       ...     ...      ...   \n",
       "1467  Jakarta Commons  TestNG  Hibernate     EJB 3  Struts 2    JDBC   Vue.js   \n",
       "1474  Jakarta Commons  TestNG  Hibernate     EJB 3  Struts 2    JDBC   Vue.js   \n",
       "1475  Jakarta Commons  TestNG  Hibernate     EJB 3  Struts 2    JDBC   Vue.js   \n",
       "1479  Jakarta Commons  TestNG  Hibernate     EJB 3  Struts 2    JDBC   Vue.js   \n",
       "1488  Jakarta Commons  TestNG      EJB 3  Struts 2      JDBC  Vue.js      JSF   \n",
       "\n",
       "            7        8            9  \n",
       "12     Xerces     RxJS  Servlet/JSP  \n",
       "13      Log4J      JSF      TopLink  \n",
       "15      Log4J      JSF      TopLink  \n",
       "16        JSF  TopLink       Spring  \n",
       "17      Log4J      JSF      TopLink  \n",
       "...       ...      ...          ...  \n",
       "1467    Log4J      JSF      TopLink  \n",
       "1474    Log4J      JSF      TopLink  \n",
       "1475    Log4J      JSF      TopLink  \n",
       "1479    Log4J      JSF      TopLink  \n",
       "1488  TopLink   Xerces         RxJS  \n",
       "\n",
       "[404 rows x 10 columns]"
      ]
     },
     "execution_count": 47,
     "metadata": {},
     "output_type": "execute_result"
    }
   ],
   "source": [
    "baseline_recommendations = get_recommendations(baseline_preds,10)\n",
    "baseline_recommendations"
   ]
  },
  {
   "cell_type": "code",
   "execution_count": 48,
   "metadata": {},
   "outputs": [
    {
     "data": {
      "text/plain": [
       "0.14163482967207897"
      ]
     },
     "execution_count": 48,
     "metadata": {},
     "output_type": "execute_result"
    }
   ],
   "source": [
    "precision_at_k(10,holdout,baseline_recommendations) "
   ]
  },
  {
   "cell_type": "code",
   "execution_count": 49,
   "metadata": {},
   "outputs": [
    {
     "data": {
      "text/plain": [
       "0.075619581484297"
      ]
     },
     "execution_count": 49,
     "metadata": {},
     "output_type": "execute_result"
    }
   ],
   "source": [
    "weighted_precision_at_k(10,holdout,baseline_recommendations) "
   ]
  },
  {
   "cell_type": "markdown",
   "metadata": {},
   "source": [
    "Baseline - most often occuring skills "
   ]
  },
  {
   "cell_type": "code",
   "execution_count": 50,
   "metadata": {},
   "outputs": [
    {
     "data": {
      "text/html": [
       "<div>\n",
       "<style scoped>\n",
       "    .dataframe tbody tr th:only-of-type {\n",
       "        vertical-align: middle;\n",
       "    }\n",
       "\n",
       "    .dataframe tbody tr th {\n",
       "        vertical-align: top;\n",
       "    }\n",
       "\n",
       "    .dataframe thead th {\n",
       "        text-align: right;\n",
       "    }\n",
       "</style>\n",
       "<table border=\"1\" class=\"dataframe\">\n",
       "  <thead>\n",
       "    <tr style=\"text-align: right;\">\n",
       "      <th></th>\n",
       "      <th>0</th>\n",
       "      <th>1</th>\n",
       "      <th>2</th>\n",
       "      <th>3</th>\n",
       "      <th>4</th>\n",
       "      <th>5</th>\n",
       "      <th>6</th>\n",
       "      <th>7</th>\n",
       "      <th>8</th>\n",
       "      <th>9</th>\n",
       "    </tr>\n",
       "  </thead>\n",
       "  <tbody>\n",
       "    <tr>\n",
       "      <th>12</th>\n",
       "      <td>Englisch</td>\n",
       "      <td>MySQL</td>\n",
       "      <td>SCRUM</td>\n",
       "      <td>GIT</td>\n",
       "      <td>HTML</td>\n",
       "      <td>JavaScript</td>\n",
       "      <td>JIRA</td>\n",
       "      <td>CSS</td>\n",
       "      <td>Java</td>\n",
       "      <td>SQL</td>\n",
       "    </tr>\n",
       "    <tr>\n",
       "      <th>13</th>\n",
       "      <td>Englisch</td>\n",
       "      <td>MySQL</td>\n",
       "      <td>SCRUM</td>\n",
       "      <td>GIT</td>\n",
       "      <td>HTML</td>\n",
       "      <td>JavaScript</td>\n",
       "      <td>JIRA</td>\n",
       "      <td>CSS</td>\n",
       "      <td>Java</td>\n",
       "      <td>SQL</td>\n",
       "    </tr>\n",
       "    <tr>\n",
       "      <th>15</th>\n",
       "      <td>Englisch</td>\n",
       "      <td>MySQL</td>\n",
       "      <td>SCRUM</td>\n",
       "      <td>GIT</td>\n",
       "      <td>HTML</td>\n",
       "      <td>JavaScript</td>\n",
       "      <td>JIRA</td>\n",
       "      <td>CSS</td>\n",
       "      <td>Java</td>\n",
       "      <td>SQL</td>\n",
       "    </tr>\n",
       "    <tr>\n",
       "      <th>16</th>\n",
       "      <td>Englisch</td>\n",
       "      <td>MySQL</td>\n",
       "      <td>SCRUM</td>\n",
       "      <td>GIT</td>\n",
       "      <td>HTML</td>\n",
       "      <td>JavaScript</td>\n",
       "      <td>JIRA</td>\n",
       "      <td>CSS</td>\n",
       "      <td>Java</td>\n",
       "      <td>SQL</td>\n",
       "    </tr>\n",
       "    <tr>\n",
       "      <th>17</th>\n",
       "      <td>Englisch</td>\n",
       "      <td>MySQL</td>\n",
       "      <td>SCRUM</td>\n",
       "      <td>GIT</td>\n",
       "      <td>HTML</td>\n",
       "      <td>JavaScript</td>\n",
       "      <td>JIRA</td>\n",
       "      <td>CSS</td>\n",
       "      <td>Java</td>\n",
       "      <td>SQL</td>\n",
       "    </tr>\n",
       "    <tr>\n",
       "      <th>...</th>\n",
       "      <td>...</td>\n",
       "      <td>...</td>\n",
       "      <td>...</td>\n",
       "      <td>...</td>\n",
       "      <td>...</td>\n",
       "      <td>...</td>\n",
       "      <td>...</td>\n",
       "      <td>...</td>\n",
       "      <td>...</td>\n",
       "      <td>...</td>\n",
       "    </tr>\n",
       "    <tr>\n",
       "      <th>1467</th>\n",
       "      <td>Englisch</td>\n",
       "      <td>MySQL</td>\n",
       "      <td>SCRUM</td>\n",
       "      <td>GIT</td>\n",
       "      <td>HTML</td>\n",
       "      <td>JavaScript</td>\n",
       "      <td>JIRA</td>\n",
       "      <td>CSS</td>\n",
       "      <td>Java</td>\n",
       "      <td>SQL</td>\n",
       "    </tr>\n",
       "    <tr>\n",
       "      <th>1474</th>\n",
       "      <td>Englisch</td>\n",
       "      <td>MySQL</td>\n",
       "      <td>SCRUM</td>\n",
       "      <td>GIT</td>\n",
       "      <td>HTML</td>\n",
       "      <td>JavaScript</td>\n",
       "      <td>JIRA</td>\n",
       "      <td>CSS</td>\n",
       "      <td>Java</td>\n",
       "      <td>SQL</td>\n",
       "    </tr>\n",
       "    <tr>\n",
       "      <th>1475</th>\n",
       "      <td>Englisch</td>\n",
       "      <td>MySQL</td>\n",
       "      <td>SCRUM</td>\n",
       "      <td>GIT</td>\n",
       "      <td>HTML</td>\n",
       "      <td>JavaScript</td>\n",
       "      <td>JIRA</td>\n",
       "      <td>CSS</td>\n",
       "      <td>Java</td>\n",
       "      <td>SQL</td>\n",
       "    </tr>\n",
       "    <tr>\n",
       "      <th>1479</th>\n",
       "      <td>Englisch</td>\n",
       "      <td>MySQL</td>\n",
       "      <td>SCRUM</td>\n",
       "      <td>GIT</td>\n",
       "      <td>HTML</td>\n",
       "      <td>JavaScript</td>\n",
       "      <td>JIRA</td>\n",
       "      <td>CSS</td>\n",
       "      <td>Java</td>\n",
       "      <td>SQL</td>\n",
       "    </tr>\n",
       "    <tr>\n",
       "      <th>1488</th>\n",
       "      <td>Englisch</td>\n",
       "      <td>MySQL</td>\n",
       "      <td>SCRUM</td>\n",
       "      <td>GIT</td>\n",
       "      <td>HTML</td>\n",
       "      <td>JavaScript</td>\n",
       "      <td>JIRA</td>\n",
       "      <td>CSS</td>\n",
       "      <td>Java</td>\n",
       "      <td>SQL</td>\n",
       "    </tr>\n",
       "  </tbody>\n",
       "</table>\n",
       "<p>404 rows × 10 columns</p>\n",
       "</div>"
      ],
      "text/plain": [
       "             0      1      2    3     4           5     6    7     8    9\n",
       "12    Englisch  MySQL  SCRUM  GIT  HTML  JavaScript  JIRA  CSS  Java  SQL\n",
       "13    Englisch  MySQL  SCRUM  GIT  HTML  JavaScript  JIRA  CSS  Java  SQL\n",
       "15    Englisch  MySQL  SCRUM  GIT  HTML  JavaScript  JIRA  CSS  Java  SQL\n",
       "16    Englisch  MySQL  SCRUM  GIT  HTML  JavaScript  JIRA  CSS  Java  SQL\n",
       "17    Englisch  MySQL  SCRUM  GIT  HTML  JavaScript  JIRA  CSS  Java  SQL\n",
       "...        ...    ...    ...  ...   ...         ...   ...  ...   ...  ...\n",
       "1467  Englisch  MySQL  SCRUM  GIT  HTML  JavaScript  JIRA  CSS  Java  SQL\n",
       "1474  Englisch  MySQL  SCRUM  GIT  HTML  JavaScript  JIRA  CSS  Java  SQL\n",
       "1475  Englisch  MySQL  SCRUM  GIT  HTML  JavaScript  JIRA  CSS  Java  SQL\n",
       "1479  Englisch  MySQL  SCRUM  GIT  HTML  JavaScript  JIRA  CSS  Java  SQL\n",
       "1488  Englisch  MySQL  SCRUM  GIT  HTML  JavaScript  JIRA  CSS  Java  SQL\n",
       "\n",
       "[404 rows x 10 columns]"
      ]
     },
     "execution_count": 50,
     "metadata": {},
     "output_type": "execute_result"
    }
   ],
   "source": [
    "most_common_skills = list(df[\"skill\"].value_counts().nlargest(10).index)\n",
    "\n",
    "recom_list = []\n",
    "for person in range(0,len(persons)):\n",
    "    recom_list.append(most_common_skills)\n",
    "\n",
    "baseline_2_recoms = pd.DataFrame(index=persons,columns=np.arange(0,10),data=recom_list)\n",
    "baseline_2_recoms"
   ]
  },
  {
   "cell_type": "code",
   "execution_count": 51,
   "metadata": {},
   "outputs": [
    {
     "data": {
      "text/plain": [
       "0.05924409878564606"
      ]
     },
     "execution_count": 51,
     "metadata": {},
     "output_type": "execute_result"
    }
   ],
   "source": [
    "precision_at_k(10,holdout,baseline_2_recoms)"
   ]
  },
  {
   "cell_type": "code",
   "execution_count": 52,
   "metadata": {},
   "outputs": [
    {
     "data": {
      "text/plain": [
       "0.012327189551401585"
      ]
     },
     "execution_count": 52,
     "metadata": {},
     "output_type": "execute_result"
    }
   ],
   "source": [
    "weighted_precision_at_k(10,holdout,baseline_2_recoms)"
   ]
  },
  {
   "cell_type": "markdown",
   "metadata": {},
   "source": [
    "Recommendations for new employee:"
   ]
  },
  {
   "cell_type": "code",
   "execution_count": 60,
   "metadata": {},
   "outputs": [],
   "source": [
    "def get_recoms_for_new_employee(new_id,skilldict,model):\n",
    "\n",
    "    all_ids = df_rated[\"person\"].unique()\n",
    "    all_skills = df_rated[\"skill\"].unique()\n",
    "\n",
    "    if new_id in all_ids:\n",
    "        return \"Error: ID already taken. Please choose a different ID an try again.\"\n",
    "    for skill in skilldict.keys():\n",
    "        if skill not in all_skills:\n",
    "            return \"Skill \" + skill + \" not in database.\"\n",
    "            # COMMENT: this is only a placeholder. For ideas on how to handle new skills, see \"HOW TO HANDLE NEW SKILL\" section \n",
    "\n",
    "    new_test = []\n",
    "    for skill in all_skills:\n",
    "        try:\n",
    "            skill_rating = skilldict[skill]\n",
    "            new_test.append((new_id,skill,skill_rating))\n",
    "        except KeyError:\n",
    "            new_test.append((new_id,skill,np.nan))\n",
    "    \n",
    "    predictions = model.test(new_test)\n",
    "\n",
    "    return get_top_n(predictions, n=10)[new_id]"
   ]
  },
  {
   "cell_type": "code",
   "execution_count": 61,
   "metadata": {},
   "outputs": [],
   "source": [
    "new_id = 8774\n",
    "new_skills = {\n",
    "                # \"Windows 11\":4,\n",
    "                # \"Englisch\":4,\n",
    "                # \"Chinesisch (Mandarin)\":2,\n",
    "                \"Python\":4,\n",
    "                \"MATLAB\":2,\n",
    "                \"Java\":2,\n",
    "                \"MySQL\":3,\n",
    "                \"SQLBase\":3,\n",
    "                \"Microsoft SQL Server\":3,\n",
    "                \"Google Cloud Platform\":2,\n",
    "                \"MongoDB\":1,\n",
    "                \"JSON\":1,\n",
    "                \"Docker\":2,\n",
    "                \"Power BI\":3,\n",
    "                \"Postman\":2,\n",
    "                \"PowerShell\":2,\n",
    "                \"Github actions\":2\n",
    "            }"
   ]
  },
  {
   "cell_type": "code",
   "execution_count": 83,
   "metadata": {},
   "outputs": [],
   "source": [
    "mu = df_rated.rating.mean()\n",
    "pu = model.pu\n",
    "qi = model.qi"
   ]
  },
  {
   "cell_type": "code",
   "execution_count": 153,
   "metadata": {},
   "outputs": [],
   "source": [
    "new_u = np.zeros([len(skills)])\n",
    "for i,skill in enumerate(skills):\n",
    "    try:\n",
    "        new_u[i] = new_skills[skill]\n",
    "    except KeyError:\n",
    "        new_u[i] = 0"
   ]
  },
  {
   "cell_type": "code",
   "execution_count": 154,
   "metadata": {},
   "outputs": [
    {
     "data": {
      "text/plain": [
       "(735,)"
      ]
     },
     "execution_count": 154,
     "metadata": {},
     "output_type": "execute_result"
    }
   ],
   "source": [
    "new_u.shape"
   ]
  },
  {
   "cell_type": "code",
   "execution_count": 175,
   "metadata": {},
   "outputs": [
    {
     "data": {
      "text/plain": [
       "array([[3.93780735, 4.00095525, 3.91211137, ..., 2.22724498, 0.67916477,\n",
       "        3.26513949],\n",
       "       [3.01004939, 3.0361753 , 3.00473738, ..., 2.35300932, 0.72204905,\n",
       "        2.83493808],\n",
       "       [2.03710596, 2.02682985, 1.99665109, ..., 2.13687865, 0.36210875,\n",
       "        1.48412048],\n",
       "       ...,\n",
       "       [5.02628256, 4.95186167, 4.95881764, ..., 2.19796023, 0.97623724,\n",
       "        3.54543781],\n",
       "       [2.49596142, 2.51107715, 2.49345881, ..., 1.50172683, 0.67993481,\n",
       "        1.45671969],\n",
       "       [3.93761828, 3.92143483, 3.93778251, ..., 2.18934638, 0.48394457,\n",
       "        4.98332741]])"
      ]
     },
     "execution_count": 175,
     "metadata": {},
     "output_type": "execute_result"
    }
   ],
   "source": [
    "np.matmul(pu,qi.T)"
   ]
  },
  {
   "cell_type": "code",
   "execution_count": 164,
   "metadata": {},
   "outputs": [
    {
     "data": {
      "text/plain": [
       "array([[-0.32882401, -0.29315699, -0.31561658, ..., -0.14708443,\n",
       "        -0.0052979 , -0.51235982],\n",
       "       [ 0.29138397,  0.32228539,  0.28175206, ..., -0.11395223,\n",
       "        -0.06031927, -0.0759637 ],\n",
       "       [-0.26402227, -0.26619082, -0.24010103, ...,  0.20457906,\n",
       "        -0.07853806, -0.09461639],\n",
       "       ...,\n",
       "       [-0.3124827 , -0.33986948, -0.31831634, ..., -0.06101272,\n",
       "        -0.16673248, -0.35443254],\n",
       "       [-0.02617619, -0.00708259, -0.0286067 , ...,  0.0889845 ,\n",
       "        -0.04186809, -0.27924457],\n",
       "       [ 0.52166477,  0.56937099,  0.54482321, ...,  0.18314957,\n",
       "        -0.00087283,  0.70295182]])"
      ]
     },
     "execution_count": 164,
     "metadata": {},
     "output_type": "execute_result"
    }
   ],
   "source": [
    "np.conjugate(np.transpose(qi))"
   ]
  },
  {
   "cell_type": "code",
   "execution_count": 165,
   "metadata": {},
   "outputs": [
    {
     "data": {
      "text/plain": [
       "array([[7.23982927, 7.20693091, 7.21805038, ..., 2.57450339, 0.57936972,\n",
       "        3.79900816],\n",
       "       [7.20693091, 7.21702812, 7.19609028, ..., 2.61487173, 0.58377062,\n",
       "        3.80943735],\n",
       "       [7.21805038, 7.19609028, 7.21113169, ..., 2.5798629 , 0.58687753,\n",
       "        3.8126113 ],\n",
       "       ...,\n",
       "       [2.57450339, 2.61487173, 2.5798629 , ..., 2.94033951, 0.47823608,\n",
       "        2.06239979],\n",
       "       [0.57936972, 0.58377062, 0.58687753, ..., 0.47823608, 0.47269827,\n",
       "        0.51193865],\n",
       "       [3.79900816, 3.80943735, 3.8126113 , ..., 2.06239979, 0.51193865,\n",
       "        5.48641719]])"
      ]
     },
     "execution_count": 165,
     "metadata": {},
     "output_type": "execute_result"
    }
   ],
   "source": [
    "np.matmul(qi,np.conjugate(np.transpose(qi)))"
   ]
  },
  {
   "cell_type": "code",
   "execution_count": 103,
   "metadata": {},
   "outputs": [
    {
     "data": {
      "text/plain": [
       "['.NET Compact Framework',\n",
       " '.NET Core',\n",
       " '.NET Framework',\n",
       " '3D-Modellierung',\n",
       " 'ABAP',\n",
       " 'ADO.NET',\n",
       " 'AIX',\n",
       " 'ARIS',\n",
       " 'ARIS ITArchitect',\n",
       " 'AS400',\n",
       " 'ASP Generalist',\n",
       " 'ASP.NET',\n",
       " 'ASP.NET MVC-Framework',\n",
       " 'ASP.NET WebAPI',\n",
       " 'AWS',\n",
       " 'AWS Lambda',\n",
       " 'Abstract',\n",
       " 'Access',\n",
       " 'Accessibility / WCAG',\n",
       " 'Active Directory',\n",
       " 'ActiveX',\n",
       " 'Adobe CC',\n",
       " 'Adobe Flash',\n",
       " 'Adobe Illustrator',\n",
       " 'Adobe InDesign',\n",
       " 'Adobe Indesign',\n",
       " 'Adobe Photoshop',\n",
       " 'Adobe Premiere',\n",
       " 'Adobe XD',\n",
       " 'After Effects',\n",
       " 'Agile Methoden',\n",
       " 'Ajax',\n",
       " 'Alexa-Skills',\n",
       " 'Alpine',\n",
       " 'Analytics',\n",
       " 'Android',\n",
       " 'Android Studio',\n",
       " 'Anforderungsanalyse',\n",
       " 'Anforderungsmanagement',\n",
       " 'Angular (2 und höher)',\n",
       " 'Angular Generalist',\n",
       " 'Angular Material',\n",
       " 'Angular Theming',\n",
       " 'AngularJS',\n",
       " 'Animations (transition, @keyframes)',\n",
       " 'Ansible',\n",
       " 'Ant',\n",
       " 'Apache',\n",
       " 'Apache Derby',\n",
       " 'Apache JMeter',\n",
       " 'App UX',\n",
       " 'AppCode',\n",
       " 'Apple Mac OS X Server',\n",
       " 'Aptana',\n",
       " 'Arabisch',\n",
       " 'Arch Linux',\n",
       " 'Arduino C',\n",
       " 'Aspektorientierte Programmierung (AOP)',\n",
       " 'Assembler',\n",
       " 'Atomic Design',\n",
       " 'Augmented Reality',\n",
       " 'Autocad',\n",
       " 'Automotive',\n",
       " 'Axure RP',\n",
       " 'Azure',\n",
       " 'Azure DevOps',\n",
       " 'B2B',\n",
       " 'B2B Accelerator Experience',\n",
       " 'B2B Commerce',\n",
       " 'B2C',\n",
       " 'B2C Accelerator Experience',\n",
       " 'B2C Commerce',\n",
       " 'BEM - Block Element Modifier',\n",
       " 'BEMIT (BEM + ITCSS)',\n",
       " 'BPMN',\n",
       " 'BSD',\n",
       " 'BaaN/Infor ERP LN',\n",
       " 'Backoffice Konfiguration',\n",
       " 'BashScript',\n",
       " 'Behaviour Driven Development (BDD)',\n",
       " 'Bitbucket',\n",
       " 'BizAgi Process Modeler',\n",
       " 'BizTalk',\n",
       " 'BlackBerry OS',\n",
       " 'Blazor .Net',\n",
       " 'Blender',\n",
       " 'Bootstrap',\n",
       " 'Browser Debugging',\n",
       " 'Browser Technologien',\n",
       " 'Bugzilla',\n",
       " 'Business Consulting',\n",
       " 'BusinessObjects',\n",
       " 'C#',\n",
       " 'C/C++',\n",
       " 'CBuilder',\n",
       " 'CI/CD Entwicklung',\n",
       " 'CISCO Switch Administration',\n",
       " 'CMake',\n",
       " 'CORBA',\n",
       " 'CSM – Scrum Master',\n",
       " 'CSPO – Product Owner',\n",
       " 'CSS',\n",
       " 'CVS',\n",
       " 'Caddy',\n",
       " 'CakePHP',\n",
       " 'CalDAV',\n",
       " 'Canvas',\n",
       " 'Castor',\n",
       " 'Chinesisch (Mandarin)',\n",
       " 'Citrix',\n",
       " 'Clean Code',\n",
       " 'Clear Case',\n",
       " 'Cloud Computing Generalist',\n",
       " 'Cobol',\n",
       " 'Cocoon',\n",
       " 'Code Reviews',\n",
       " 'CodeIgniter',\n",
       " 'Cognos',\n",
       " 'ColdFusion MX',\n",
       " 'ComExpress',\n",
       " 'Command and Query Responsibility Segregation',\n",
       " 'Concourse',\n",
       " 'Confluence',\n",
       " 'Contao',\n",
       " 'Content Delivery Network Anbindung - ( CDN )',\n",
       " 'Content Marketing',\n",
       " 'Content-Platform',\n",
       " 'Continuous Integration (CI)',\n",
       " 'Conversion Optimierung',\n",
       " 'CoreShop',\n",
       " 'Corel Draw',\n",
       " 'CouchDB',\n",
       " 'Cruise Control.NET',\n",
       " 'CruiseControl',\n",
       " 'Crystal Reports',\n",
       " 'Cucumber',\n",
       " 'Cypress',\n",
       " 'DB2 / UDB',\n",
       " 'DBase/Clipper',\n",
       " 'DEV Ops Experience',\n",
       " 'DHCP',\n",
       " 'DNS',\n",
       " 'Dart',\n",
       " 'Datadog',\n",
       " 'Datahub Anbindung',\n",
       " 'Datenaufbereitung & Datenanalyse',\n",
       " 'Datenschutzauditor',\n",
       " 'Datenschutzbeauftragter',\n",
       " 'Debian',\n",
       " 'Delphi',\n",
       " 'Dependency Injection',\n",
       " 'Design Driven Development (DDD)',\n",
       " 'Design Pattern',\n",
       " 'Design Reviews',\n",
       " 'Design Sprints',\n",
       " 'Design Systeme',\n",
       " 'Design Systems',\n",
       " 'Design Thinking',\n",
       " 'Deutsch',\n",
       " 'DevExpress',\n",
       " 'Dienstleistungen',\n",
       " 'Digital Research',\n",
       " 'Digitale Barrierefreiheit',\n",
       " 'DirectX',\n",
       " 'Django',\n",
       " 'Docker',\n",
       " 'Dojo',\n",
       " 'Dojo Toolkit',\n",
       " 'Dokumentation',\n",
       " 'Domain Driven Design',\n",
       " 'Dreamweaver',\n",
       " 'Drupal',\n",
       " 'DynDNS',\n",
       " 'Dynamics 365',\n",
       " 'Dynamics NAV/Navision',\n",
       " 'Dänisch',\n",
       " 'E-Commerce',\n",
       " 'EFS Survey',\n",
       " 'EJB 3',\n",
       " 'Eclipse',\n",
       " 'Eclipse Smarthome (ESH)',\n",
       " 'Elasticsearch',\n",
       " 'Electron',\n",
       " 'Emarsys Anbindung',\n",
       " 'Englisch',\n",
       " 'Enterprise Architect',\n",
       " 'Entity Framework',\n",
       " 'Entity Framework Core',\n",
       " 'Entwurfsmuster',\n",
       " 'EventModeling',\n",
       " 'Exact',\n",
       " 'Express.js',\n",
       " 'ExtBase',\n",
       " 'ExtJs',\n",
       " 'Extensions',\n",
       " 'F#',\n",
       " 'FMCG',\n",
       " 'FibuNet',\n",
       " 'Figma',\n",
       " 'FileZilla',\n",
       " 'Final Cut',\n",
       " 'Finance',\n",
       " 'Finnisch',\n",
       " 'Firebase',\n",
       " 'Firewall (IP Tables)',\n",
       " 'Fireworks',\n",
       " 'First Spirit',\n",
       " 'Fluid Templates',\n",
       " 'Flutter',\n",
       " 'Fortran',\n",
       " 'Foundation - responsive Frontend-Framework',\n",
       " 'Fractal',\n",
       " 'Französisch',\n",
       " 'FreeBSD',\n",
       " 'Frontify',\n",
       " 'GEF',\n",
       " 'GIMP',\n",
       " 'GIT',\n",
       " 'Gewaltfreie Kommunikation',\n",
       " 'Gherkin',\n",
       " 'GitHub',\n",
       " 'Github actions',\n",
       " 'Gitlab',\n",
       " 'Gitlab CI',\n",
       " 'Glasfish',\n",
       " 'Go',\n",
       " 'Google Analytics',\n",
       " 'Google Android',\n",
       " 'Google Cloud Platform',\n",
       " 'Google Tag Manager',\n",
       " 'Google Test / Google Mock',\n",
       " 'Google Web Toolkit',\n",
       " 'Governikus',\n",
       " 'Grafana',\n",
       " 'Grafik Design',\n",
       " 'GraphQL',\n",
       " 'Griechisch',\n",
       " 'Groovy',\n",
       " 'Grunt',\n",
       " 'Gulp',\n",
       " 'HP/UX',\n",
       " 'HPQC',\n",
       " 'HTML',\n",
       " 'HTML5',\n",
       " 'Handel',\n",
       " 'Handlebars',\n",
       " 'Hardware',\n",
       " 'HarePoint',\n",
       " 'Haskell',\n",
       " 'Heroku',\n",
       " 'Hibernate',\n",
       " 'Homesite',\n",
       " 'Hybris',\n",
       " 'IBM Infosphere DataStage',\n",
       " 'IBM WebSphere',\n",
       " 'IRQuest',\n",
       " 'ISTQB - Foundation Level',\n",
       " 'IT Consulting',\n",
       " 'ITCSS',\n",
       " 'ITIL',\n",
       " 'Iconography ',\n",
       " 'Implementierung',\n",
       " 'Infinispan',\n",
       " 'InfluxDB',\n",
       " 'Informatica',\n",
       " 'Informix',\n",
       " 'Infragistics',\n",
       " 'InstallShield',\n",
       " 'IntelliJ(Idea)',\n",
       " 'Interbase/Firebird',\n",
       " 'Internet Information Services (IIS)',\n",
       " 'Invision',\n",
       " 'Ionic',\n",
       " 'Italienisch',\n",
       " 'JBoss',\n",
       " 'JBuilder',\n",
       " 'JDBC',\n",
       " 'JDeveloper',\n",
       " 'JIRA',\n",
       " 'JRun',\n",
       " 'JSF',\n",
       " 'JSON',\n",
       " 'JSP',\n",
       " 'JUnit',\n",
       " 'Jakarta Commons',\n",
       " 'Jakarta EE',\n",
       " 'Jama',\n",
       " 'Jasmine',\n",
       " 'Java',\n",
       " 'Java EE',\n",
       " 'Java FX',\n",
       " 'Java ME',\n",
       " 'Java Native Interface (JNI)',\n",
       " 'JavaScript',\n",
       " 'Jenkins',\n",
       " 'Jest',\n",
       " 'Jogl',\n",
       " 'Joomla',\n",
       " 'Juristische Ausbildung',\n",
       " 'KANBAN',\n",
       " 'Karaf',\n",
       " 'Kendo UI',\n",
       " 'Keycloak',\n",
       " 'Konzeption',\n",
       " 'Kotlin',\n",
       " 'Kubernetes',\n",
       " 'Kunst, Kultur & Events',\n",
       " 'LDAP',\n",
       " 'LINQ',\n",
       " 'LaTeX',\n",
       " 'Laravel',\n",
       " 'Layouting (Flexbox, CSS Grid)',\n",
       " 'Lead Generierung',\n",
       " 'Less',\n",
       " 'Linux Printserver',\n",
       " 'Liquibase',\n",
       " 'Log4J',\n",
       " 'Logistik',\n",
       " 'MAC OS 7/8/9',\n",
       " 'MAC OS X',\n",
       " 'MATLAB',\n",
       " 'MFC/Windows-API',\n",
       " 'MQSeries',\n",
       " 'MS Exchange',\n",
       " 'MS Project',\n",
       " 'MSBuild',\n",
       " 'MVS',\n",
       " 'Magento',\n",
       " 'Management Consulting',\n",
       " 'Mantis',\n",
       " 'MariaDB',\n",
       " 'Markdown ',\n",
       " 'Marken',\n",
       " 'Markenstrategie',\n",
       " 'Maven',\n",
       " 'MaxDB',\n",
       " 'Medien- und Kommunikationsforschung',\n",
       " 'Mediengestalter Digital & Print - Fachrichtung Gestaltung & Technik',\n",
       " 'Medizintechnik',\n",
       " 'Mercurial',\n",
       " 'Microservices',\n",
       " 'Microsoft Access',\n",
       " 'Microsoft Enterprise Library',\n",
       " 'Microsoft Office',\n",
       " 'Microsoft SQL Server',\n",
       " 'Microsoft Teams',\n",
       " 'Microsoft Visio',\n",
       " 'Miro',\n",
       " 'Mobile UX',\n",
       " 'Mocha',\n",
       " 'Mockito',\n",
       " 'Moderation',\n",
       " 'Modularer Designaufbau',\n",
       " 'MongoDB',\n",
       " 'Mono',\n",
       " 'MonoDevelop',\n",
       " 'MooTools',\n",
       " 'Mozilla FW',\n",
       " 'Multiplattform/Multibrowser Testing',\n",
       " 'Mural',\n",
       " 'Mustache',\n",
       " 'MySQL',\n",
       " 'NEOS',\n",
       " 'NFS',\n",
       " 'NGRX',\n",
       " 'NHibernate',\n",
       " 'NUnit',\n",
       " 'NativeScript',\n",
       " 'NestJS',\n",
       " 'NetBeans',\n",
       " 'Netlify CMS',\n",
       " 'Netviewer',\n",
       " 'Newsletter Anbindung',\n",
       " 'Niederländisch',\n",
       " 'NoSQL',\n",
       " 'Node.js',\n",
       " 'Novell',\n",
       " 'Nuxt',\n",
       " 'OAuth',\n",
       " 'OS/2',\n",
       " 'OSGi',\n",
       " 'OXID eShop',\n",
       " 'Objective-C',\n",
       " 'Objektrelationale Abbildung (ORM)',\n",
       " 'Odata',\n",
       " 'Office365',\n",
       " 'Omni Commerce Connect (OCC) Rest APIs',\n",
       " 'Online Marketing',\n",
       " 'Open Broadcaster Software (OBS)',\n",
       " 'Open SSH',\n",
       " 'OpenAPI',\n",
       " 'OpenBSD',\n",
       " 'OpenExchange',\n",
       " 'OpenGL',\n",
       " 'OpenHAB',\n",
       " 'OpenOffice / LibreOffice',\n",
       " 'OpenShop',\n",
       " 'Oracle',\n",
       " 'Oracle AS',\n",
       " 'Oracle Applications',\n",
       " 'Oracle Forms',\n",
       " 'Oracle Warehouse',\n",
       " 'Oracle XDK',\n",
       " 'Orga',\n",
       " 'PCI-DSS ',\n",
       " 'PEAR',\n",
       " 'PHP',\n",
       " 'PHP/Horde',\n",
       " 'PHPStan',\n",
       " 'PHPUnit',\n",
       " 'PL/SQL',\n",
       " 'PMI',\n",
       " 'PRINCE2',\n",
       " 'PVCS',\n",
       " 'PWA',\n",
       " 'PaintShop',\n",
       " 'PalmOS',\n",
       " 'Pascal',\n",
       " 'Patternlab',\n",
       " 'Payments',\n",
       " 'Pentaho Data Integration',\n",
       " 'Perforce',\n",
       " 'Perl',\n",
       " 'Personas',\n",
       " 'Photo Paint',\n",
       " 'Photopea',\n",
       " 'PhpStorm',\n",
       " 'Phyton /Jython',\n",
       " 'Pimcore',\n",
       " 'Plexus',\n",
       " 'PlumTree',\n",
       " 'PocketPC',\n",
       " 'Polarion',\n",
       " 'Polnisch',\n",
       " 'Portlet API',\n",
       " 'Poseidon',\n",
       " 'Postfix',\n",
       " 'PostgreSQL',\n",
       " 'Postman',\n",
       " 'Power BI',\n",
       " 'PowerApps',\n",
       " 'PowerAutomate',\n",
       " 'PowerShell',\n",
       " 'Principle',\n",
       " 'Product Owner',\n",
       " 'Produkt Design',\n",
       " 'Produktkonfigurator',\n",
       " 'Produktstrategie',\n",
       " 'Professional Scrum Master (PSM)',\n",
       " 'Professional Scrum Product Owner (PSPO)',\n",
       " 'Projektmanagement',\n",
       " 'Promotion / Drools Engine',\n",
       " 'Prototyping',\n",
       " 'ProxySQL',\n",
       " 'Prozessmanagement',\n",
       " 'Public Key Infrastructures (PKI)',\n",
       " 'Pulumi',\n",
       " 'Puma',\n",
       " 'Python',\n",
       " 'Qlik 12 Certified Business Analyst',\n",
       " 'Qlik 12 Certified Data Architekt',\n",
       " 'Qlik 12 Certified System Administrator',\n",
       " 'QlikView / QlikSense',\n",
       " 'Qt QML',\n",
       " 'Qualitätsmanagement',\n",
       " 'Quark Express',\n",
       " 'Quarkus',\n",
       " 'RDP',\n",
       " 'REST',\n",
       " 'RFC',\n",
       " 'RMI',\n",
       " 'RPG',\n",
       " 'Rabbitmq',\n",
       " 'Raspberry Pi',\n",
       " 'Rational',\n",
       " 'Rational Rose',\n",
       " 'Rational System Architect',\n",
       " 'Rational Unified Process (RUP)',\n",
       " 'React',\n",
       " 'React Native',\n",
       " 'React Testing Library',\n",
       " 'RedDot',\n",
       " 'RedHat Linux',\n",
       " 'Redaxo',\n",
       " 'Redis',\n",
       " 'Redmine',\n",
       " 'Redux',\n",
       " 'Requirements Engineering',\n",
       " 'Responsive Webdesign',\n",
       " 'Ruby',\n",
       " 'Russisch',\n",
       " 'Rust',\n",
       " 'RxJS',\n",
       " 'SAP',\n",
       " 'SAP Adaptive Server Enterprise 16.0',\n",
       " 'SAP Business Information Warehouse',\n",
       " 'SAP Cloud Platform Integration (SCPI)',\n",
       " 'SAP Commerce 6.x',\n",
       " 'SAP Commerce Cloud V2',\n",
       " 'SAP Commerce Platform Basics',\n",
       " 'SAP Consulting',\n",
       " 'SAP DB',\n",
       " 'SAP ERP Anbindung',\n",
       " 'SAP Identity Management 8.0',\n",
       " 'SAP NWDI',\n",
       " 'SAP NWDS',\n",
       " 'SAP OCI / B2B PunchOut',\n",
       " 'SAP S4/Hana - Cloud Anbindung',\n",
       " 'SAP Variant Configuration and Pricing Anbindung',\n",
       " 'SCRUM',\n",
       " 'SCSS',\n",
       " 'SEO Tool Anbindung',\n",
       " 'SOAP',\n",
       " 'SPSS',\n",
       " 'SQL',\n",
       " 'SQL-Scripte',\n",
       " 'SQLBase',\n",
       " 'SSL',\n",
       " 'SSO Anbindung',\n",
       " 'SUSE Linux',\n",
       " 'SVG',\n",
       " 'SWT',\n",
       " 'Sass',\n",
       " 'Sass/SCSS',\n",
       " 'Schwedisch',\n",
       " 'Screendesign',\n",
       " 'Security',\n",
       " 'Selectica',\n",
       " 'SendMail',\n",
       " 'Service Oriented Architecture (SOA)',\n",
       " 'Servlet/JSP',\n",
       " 'SharePoint',\n",
       " 'Sharepoint Entwicklung',\n",
       " 'SharpDevelop',\n",
       " 'ShellScripting',\n",
       " 'Shockwave',\n",
       " 'Shopware',\n",
       " 'Siemens SPS',\n",
       " 'Silverlight',\n",
       " 'Silverstripe',\n",
       " 'Sitecore',\n",
       " 'Six Sigma',\n",
       " 'SixCMS',\n",
       " 'Sketch',\n",
       " 'Sketchnotes',\n",
       " 'Sketchup',\n",
       " 'Smalltalk',\n",
       " 'SmartHome',\n",
       " 'Smartedit',\n",
       " 'Sofon',\n",
       " 'Softwarearchitektur',\n",
       " 'Softwaredesign/-architektur',\n",
       " 'Softwareeinführung',\n",
       " 'Softwaretests',\n",
       " 'Solr',\n",
       " 'SonarQube',\n",
       " 'Sonatype Nexus',\n",
       " 'Sonstiges (Freitextfeld)',\n",
       " 'Spanisch',\n",
       " 'Spartacus',\n",
       " 'Sport',\n",
       " 'Spring',\n",
       " 'Spring Boot',\n",
       " 'Spring Data JPA',\n",
       " 'Spring-Batch',\n",
       " 'Spring-Integration',\n",
       " 'Spring-JPA',\n",
       " 'Spring.NET',\n",
       " 'Static Site Generierung',\n",
       " 'Statische Codeanalyse',\n",
       " 'Stencil',\n",
       " 'Storefront',\n",
       " 'Storybook',\n",
       " 'Struts (bis Version 1.3)',\n",
       " 'Struts 2',\n",
       " 'Studentisches Praktikum',\n",
       " 'StyleReport',\n",
       " 'Styled Components',\n",
       " 'Stylelint',\n",
       " 'SublimeText',\n",
       " 'Subversion',\n",
       " 'Sun Java Studio',\n",
       " 'Sun Solaris',\n",
       " 'Svelte',\n",
       " 'Swift',\n",
       " 'Swing',\n",
       " 'Swing/AWT',\n",
       " 'Sybase',\n",
       " 'Symbian',\n",
       " 'Symfony',\n",
       " 'Systemaufstellung',\n",
       " 'T-SQL',\n",
       " 'TCP/IP',\n",
       " 'TOAD',\n",
       " 'TYPO3',\n",
       " 'TYPO3 Generalist',\n",
       " 'Tableau Datenvisualisierung - Tableau Datenanalyse Tool',\n",
       " 'Tailwind CSS ',\n",
       " 'Team Developer',\n",
       " 'Team Foundation Server (TF Server)',\n",
       " 'TeamCity',\n",
       " 'TeamSite',\n",
       " 'Teamviewer',\n",
       " 'Terminalserver',\n",
       " 'Terraform',\n",
       " 'Test Driven Development (TDD)',\n",
       " 'TestNG',\n",
       " 'Testautomatisierung',\n",
       " 'Testing Library',\n",
       " 'Tipko',\n",
       " 'Tomcat',\n",
       " 'TopLink',\n",
       " 'Tourismus',\n",
       " 'Touristik',\n",
       " 'Trac',\n",
       " 'Twig',\n",
       " 'TypeScript',\n",
       " 'TypoScript',\n",
       " 'Typography',\n",
       " 'Türkisch',\n",
       " 'UI Design',\n",
       " 'UI-Automation',\n",
       " 'UML',\n",
       " 'UWP',\n",
       " 'UX',\n",
       " 'UX Beratung',\n",
       " 'UX Strategie',\n",
       " 'UX/UI',\n",
       " 'Ubuntu',\n",
       " 'Ultra Edit',\n",
       " 'UltraDev',\n",
       " 'Unipark',\n",
       " 'Unit Tests (Komponententests)',\n",
       " 'Unity',\n",
       " 'Usability-Tests',\n",
       " 'User Experience',\n",
       " 'User Research',\n",
       " 'User Tests',\n",
       " 'V-Modell',\n",
       " 'V-Modell XT',\n",
       " 'VB.NET',\n",
       " 'VB/VBA',\n",
       " 'Vanilla JS',\n",
       " 'Velocity',\n",
       " 'Versicherungen',\n",
       " 'Vimeo Psalm',\n",
       " 'Virtual Reality',\n",
       " 'Visual Objects',\n",
       " 'Visual Source Safe',\n",
       " 'Visual Studio',\n",
       " 'Voice Interfaces',\n",
       " 'Vue.js',\n",
       " 'WCMS',\n",
       " 'WML',\n",
       " 'WSUS',\n",
       " 'Wasserfallmodel',\n",
       " 'Web Components',\n",
       " 'Web Security',\n",
       " 'WebDynpro',\n",
       " 'WebObjects',\n",
       " 'WebServices',\n",
       " 'WebStorm',\n",
       " 'Weblogic',\n",
       " 'Webpack',\n",
       " 'Wildfly',\n",
       " 'WinUI',\n",
       " 'Windows',\n",
       " 'Windows 10',\n",
       " 'Windows 11',\n",
       " 'Windows 7',\n",
       " 'Windows 8',\n",
       " 'Windows Communication Foundation (WCF)',\n",
       " 'Windows Embedded',\n",
       " 'Windows Forms',\n",
       " 'Windows Identity Foundation (WIF)',\n",
       " 'Windows NT/2000/XP',\n",
       " 'Windows Phone 7',\n",
       " 'Windows Presentation Foundation (WPF)',\n",
       " 'Windows Printserver',\n",
       " 'Windows Server 2003',\n",
       " 'Windows Server 2008',\n",
       " 'Windows Server 2008 R2 /2012',\n",
       " 'Windows Server 2012 R2',\n",
       " 'Windows Small Business Server',\n",
       " 'Windows Vista',\n",
       " 'Windows Workflow Foundation (WF)',\n",
       " 'WordPress',\n",
       " 'Workbench',\n",
       " 'X11/XWindows',\n",
       " 'XML/XSL',\n",
       " 'XSQL',\n",
       " 'Xamarin',\n",
       " 'Xcode',\n",
       " 'Xerces',\n",
       " 'YAML',\n",
       " 'Yii',\n",
       " 'Zend ',\n",
       " 'Zeplin',\n",
       " 'alphaplan',\n",
       " 'amavis',\n",
       " 'arc42',\n",
       " 'ePages',\n",
       " 'f-prot',\n",
       " 'ftp-proxy',\n",
       " 'gdscript',\n",
       " 'gpg',\n",
       " 'gradle',\n",
       " 'haml',\n",
       " 'helm',\n",
       " 'iOS',\n",
       " 'imp',\n",
       " 'inubit BPM-Suite',\n",
       " 'inuitcss - responsive Frontend-Framework',\n",
       " 'jQuery',\n",
       " 'knockout',\n",
       " 'lodash',\n",
       " 'mithril',\n",
       " 'nginx',\n",
       " 'nopCommerce',\n",
       " 'npm',\n",
       " 'nx Workspace ',\n",
       " 'osCommerce',\n",
       " 'preact',\n",
       " 'prototype',\n",
       " 'pycharm',\n",
       " 'ramda.js',\n",
       " 'ranorex',\n",
       " 'samba',\n",
       " 'script.aculo.us',\n",
       " 'varnish',\n",
       " 'visual paradigm',\n",
       " 'vnc',\n",
       " 'vs code',\n",
       " 'xHTML',\n",
       " 'xtCommerce']"
      ]
     },
     "execution_count": 103,
     "metadata": {},
     "output_type": "execute_result"
    }
   ],
   "source": [
    "np.matmul(new_u)"
   ]
  },
  {
   "cell_type": "code",
   "execution_count": 98,
   "metadata": {},
   "outputs": [
    {
     "data": {
      "text/plain": [
       "(735,)"
      ]
     },
     "execution_count": 98,
     "metadata": {},
     "output_type": "execute_result"
    }
   ],
   "source": [
    "# new_pu = \n",
    "new_u.T.shape"
   ]
  },
  {
   "cell_type": "code",
   "execution_count": 63,
   "metadata": {},
   "outputs": [
    {
     "data": {
      "text/plain": [
       "[('Windows NT/2000/XP', 2.6511953721697474),\n",
       " ('MAC OS X', 2.6511953721697474),\n",
       " ('Windows 7', 2.6511953721697474),\n",
       " ('Windows 8', 2.6511953721697474),\n",
       " ('iOS', 2.6511953721697474),\n",
       " ('Android', 2.6511953721697474),\n",
       " ('PostgreSQL', 2.6511953721697474),\n",
       " ('MySQL', 2.6511953721697474),\n",
       " ('LDAP', 2.6511953721697474),\n",
       " ('Microsoft Access', 2.6511953721697474)]"
      ]
     },
     "execution_count": 63,
     "metadata": {},
     "output_type": "execute_result"
    }
   ],
   "source": [
    "get_recoms_for_new_employee(new_id,new_skills,model)"
   ]
  },
  {
   "cell_type": "code",
   "execution_count": 64,
   "metadata": {},
   "outputs": [],
   "source": [
    "def get_recoms_for_new_employee_retrain(new_id,new_skills,n):\n",
    "    all_ids = df_rated[\"person\"].unique()\n",
    "    all_skills = df_rated[\"skill\"].unique()\n",
    "\n",
    "    if new_id in all_ids:\n",
    "        return \"Error: ID already taken. Please choose a different ID an try again.\"\n",
    "    for skill in new_skills.keys():\n",
    "        if skill not in all_skills:\n",
    "            return \"Skill \" + skill + \" not in database.\"\n",
    "            # COMMENT: this is only a placeholder. For ideas on how to handle new skills, see \"HOW TO HANDLE NEW SKILL\" section \n",
    "\n",
    "    new_employee_df = pd.DataFrame()\n",
    "    new_employee_df[\"skill\"] = new_skills.keys()\n",
    "    new_employee_df[\"rating\"] = new_skills.values()\n",
    "    new_employee_df[\"person\"] = new_id\n",
    "    new_employee_df = new_employee_df[[\"person\",\"skill\",\"rating\"]]\n",
    "\n",
    "    df_rated_new = pd.concat([df_rated,new_employee_df],ignore_index=True)\n",
    "    # COMMENT: right now this function creates a new rated df. In order for this to retain newly added employees, it needs to overwrite the old df with the new data. \n",
    "    # this had to be implemented later on\n",
    "\n",
    "    new_data = Dataset.load_from_df(df_rated_new,reader)\n",
    "\n",
    "    model = best_model_dict[results.iloc[results[\"rmse_mean\"].idxmin()][\"name\"]]\n",
    "    #  COMMENT: right now the best model from the initial gridearch is taken. if the model is indeed to be retrained, it should be executing a new gridsearch and take the best estimator from this one\n",
    "    trainset = new_data.build_full_trainset()\n",
    "    model.fit(trainset)\n",
    "\n",
    "    testset = trainset.build_anti_testset()\n",
    "    predictions = model.test(testset)\n",
    "\n",
    "    return get_top_n(predictions, n)[new_id]"
   ]
  },
  {
   "cell_type": "code",
   "execution_count": 65,
   "metadata": {},
   "outputs": [
    {
     "ename": "NameError",
     "evalue": "name 'best_model_dict' is not defined",
     "output_type": "error",
     "traceback": [
      "\u001b[1;31m---------------------------------------------------------------------------\u001b[0m",
      "\u001b[1;31mNameError\u001b[0m                                 Traceback (most recent call last)",
      "Cell \u001b[1;32mIn [65], line 1\u001b[0m\n\u001b[1;32m----> 1\u001b[0m get_recoms_for_new_employee_retrain(new_id,new_skills,\u001b[38;5;241m20\u001b[39m)\n",
      "Cell \u001b[1;32mIn [64], line 24\u001b[0m, in \u001b[0;36mget_recoms_for_new_employee_retrain\u001b[1;34m(new_id, new_skills, n)\u001b[0m\n\u001b[0;32m     19\u001b[0m \u001b[38;5;66;03m# COMMENT: right now this function creates a new rated df. In order for this to retain newly added employees, it needs to overwrite the old df with the new data. \u001b[39;00m\n\u001b[0;32m     20\u001b[0m \u001b[38;5;66;03m# this had to be implemented later on\u001b[39;00m\n\u001b[0;32m     22\u001b[0m new_data \u001b[38;5;241m=\u001b[39m Dataset\u001b[38;5;241m.\u001b[39mload_from_df(df_rated_new,reader)\n\u001b[1;32m---> 24\u001b[0m model \u001b[38;5;241m=\u001b[39m \u001b[43mbest_model_dict\u001b[49m[results\u001b[38;5;241m.\u001b[39miloc[results[\u001b[38;5;124m\"\u001b[39m\u001b[38;5;124mrmse_mean\u001b[39m\u001b[38;5;124m\"\u001b[39m]\u001b[38;5;241m.\u001b[39midxmin()][\u001b[38;5;124m\"\u001b[39m\u001b[38;5;124mname\u001b[39m\u001b[38;5;124m\"\u001b[39m]]\n\u001b[0;32m     25\u001b[0m \u001b[38;5;66;03m#  COMMENT: right now the best model from the initial gridearch is taken. if the model is indeed to be retrained, it should be executing a new gridsearch and take the best estimator from this one\u001b[39;00m\n\u001b[0;32m     26\u001b[0m trainset \u001b[38;5;241m=\u001b[39m new_data\u001b[38;5;241m.\u001b[39mbuild_full_trainset()\n",
      "\u001b[1;31mNameError\u001b[0m: name 'best_model_dict' is not defined"
     ]
    }
   ],
   "source": [
    "get_recoms_for_new_employee_retrain(new_id,new_skills,20)"
   ]
  },
  {
   "cell_type": "markdown",
   "metadata": {},
   "source": [
    "Tryout: new user "
   ]
  },
  {
   "cell_type": "code",
   "execution_count": 66,
   "metadata": {},
   "outputs": [
    {
     "data": {
      "text/plain": [
       "<surprise.prediction_algorithms.matrix_factorization.SVD at 0x1e178b971f0>"
      ]
     },
     "execution_count": 66,
     "metadata": {},
     "output_type": "execute_result"
    }
   ],
   "source": [
    "u = [1,1,1,1,2,2,2,3,3,3,3]\n",
    "i = [1,2,3,4,1,2,3,1,2,3,4]\n",
    "r = [4,1,1,4,1,4,2,2,1,4,5]\n",
    "tryout = pd.DataFrame()\n",
    "tryout[\"user\"] = u\n",
    "tryout[\"item\"] = i\n",
    "tryout[\"rating\"] = r\n",
    "\n",
    "reader = Reader(rating_scale=(1,5))\n",
    "svd_data = Dataset.load_from_df(tryout,reader)\n",
    "\n",
    "tryout_model = SVD(n_factors=3,biased=False)\n",
    "trainset = svd_data.build_full_trainset()\n",
    "tryout_model.fit(svd_data.build_full_trainset())"
   ]
  },
  {
   "cell_type": "code",
   "execution_count": 67,
   "metadata": {},
   "outputs": [
    {
     "data": {
      "text/plain": [
       "array([[3.90509804, 4.0031419 , 3.89590478, ..., 3.31712058, 3.04333551,\n",
       "        3.5025966 ],\n",
       "       [3.0154003 , 3.01248573, 2.99403733, ..., 2.25117267, 2.46009829,\n",
       "        2.85586371],\n",
       "       [2.00382781, 1.90321005, 1.96958269, ..., 1.81477908, 1.89657923,\n",
       "        2.08925568],\n",
       "       ...,\n",
       "       [5.1124327 , 4.89295727, 4.93318362, ..., 4.03406623, 3.84392195,\n",
       "        4.16964036],\n",
       "       [2.51162122, 2.48974948, 2.50364344, ..., 1.51184119, 1.84635977,\n",
       "        1.58224421],\n",
       "       [3.94297698, 3.96729022, 3.93455462, ..., 4.98427689, 4.98251393,\n",
       "        4.98109719]])"
      ]
     },
     "execution_count": 67,
     "metadata": {},
     "output_type": "execute_result"
    }
   ],
   "source": [
    "np.matmul(pu,qi.T)"
   ]
  },
  {
   "cell_type": "code",
   "execution_count": 68,
   "metadata": {},
   "outputs": [],
   "source": [
    "new_user = [1,4,1,0]"
   ]
  },
  {
   "cell_type": "code",
   "execution_count": 69,
   "metadata": {},
   "outputs": [
    {
     "ename": "NameError",
     "evalue": "name 'tryout_preds' is not defined",
     "output_type": "error",
     "traceback": [
      "\u001b[1;31m---------------------------------------------------------------------------\u001b[0m",
      "\u001b[1;31mNameError\u001b[0m                                 Traceback (most recent call last)",
      "Cell \u001b[1;32mIn [69], line 1\u001b[0m\n\u001b[1;32m----> 1\u001b[0m m \u001b[38;5;241m=\u001b[39m tryout_preds[\u001b[38;5;241m0\u001b[39m][\u001b[38;5;241m2\u001b[39m]\n\u001b[0;32m      2\u001b[0m m\n",
      "\u001b[1;31mNameError\u001b[0m: name 'tryout_preds' is not defined"
     ]
    }
   ],
   "source": [
    "m = tryout_preds[0][2]\n",
    "m"
   ]
  },
  {
   "cell_type": "code",
   "execution_count": 70,
   "metadata": {},
   "outputs": [],
   "source": [
    "qi = tryout_model.qi\n",
    "pu = tryout_model.pu"
   ]
  },
  {
   "cell_type": "code",
   "execution_count": 71,
   "metadata": {},
   "outputs": [
    {
     "data": {
      "text/plain": [
       "array([[-0.03346889,  0.05771167,  0.17817861,  0.265113  ],\n",
       "       [-0.12054497, -0.02936796, -0.083132  , -0.32825742],\n",
       "       [ 0.09205454,  0.04985945, -0.00438889, -0.02108911]])"
      ]
     },
     "execution_count": 71,
     "metadata": {},
     "output_type": "execute_result"
    }
   ],
   "source": [
    "qi.T"
   ]
  },
  {
   "cell_type": "code",
   "execution_count": 72,
   "metadata": {},
   "outputs": [
    {
     "data": {
      "text/plain": [
       "array([[ 0.19704376, -0.10480819,  0.10479769],\n",
       "       [-0.04853342, -0.02147583,  0.0128871 ],\n",
       "       [ 0.26222165, -0.15514592, -0.01476273]])"
      ]
     },
     "execution_count": 72,
     "metadata": {},
     "output_type": "execute_result"
    }
   ],
   "source": [
    "pu"
   ]
  },
  {
   "cell_type": "code",
   "execution_count": 73,
   "metadata": {},
   "outputs": [
    {
     "data": {
      "text/plain": [
       "array([[ 0.01568637,  0.01967488,  0.04336195,  0.08443284],\n",
       "       [ 0.00539948, -0.0015277 , -0.00691885, -0.00608902],\n",
       "       [ 0.00856682,  0.01895351,  0.05968467,  0.1207575 ]])"
      ]
     },
     "execution_count": 73,
     "metadata": {},
     "output_type": "execute_result"
    }
   ],
   "source": [
    "np.matmul(pu,qi.T)"
   ]
  },
  {
   "cell_type": "code",
   "execution_count": 74,
   "metadata": {},
   "outputs": [
    {
     "data": {
      "text/plain": [
       "(4, 3)"
      ]
     },
     "execution_count": 74,
     "metadata": {},
     "output_type": "execute_result"
    }
   ],
   "source": [
    "qi.shape"
   ]
  },
  {
   "cell_type": "code",
   "execution_count": 75,
   "metadata": {},
   "outputs": [
    {
     "name": "stdout",
     "output_type": "stream",
     "text": [
      "\u001b[1;31mType:\u001b[0m        SVD\n",
      "\u001b[1;31mString form:\u001b[0m <surprise.prediction_algorithms.matrix_factorization.SVD object at 0x000001E178BC2B30>\n",
      "\u001b[1;31mFile:\u001b[0m        c:\\users\\niels.siepe\\envs\\ds_ap\\lib\\site-packages\\surprise\\prediction_algorithms\\matrix_factorization.cp310-win_amd64.pyd\n",
      "\u001b[1;31mDocstring:\u001b[0m  \n",
      "The famous *SVD* algorithm, as popularized by `Simon Funk\n",
      "<https://sifter.org/~simon/journal/20061211.html>`_ during the Netflix\n",
      "Prize. When baselines are not used, this is equivalent to Probabilistic\n",
      "Matrix Factorization :cite:`salakhutdinov2008a` (see :ref:`note\n",
      "<unbiased_note>` below).\n",
      "\n",
      "The prediction :math:`\\hat{r}_{ui}` is set as:\n",
      "\n",
      ".. math::\n",
      "    \\hat{r}_{ui} = \\mu + b_u + b_i + q_i^Tp_u\n",
      "\n",
      "If user :math:`u` is unknown, then the bias :math:`b_u` and the factors\n",
      ":math:`p_u` are assumed to be zero. The same applies for item :math:`i`\n",
      "with :math:`b_i` and :math:`q_i`.\n",
      "\n",
      "For details, see equation (5) from :cite:`Koren:2009`. See also\n",
      ":cite:`Ricci:2010`, section 5.3.1.\n",
      "\n",
      "To estimate all the unknown, we minimize the following regularized squared\n",
      "error:\n",
      "\n",
      ".. math::\n",
      "    \\sum_{r_{ui} \\in R_{train}} \\left(r_{ui} - \\hat{r}_{ui} \\right)^2 +\n",
      "    \\lambda\\left(b_i^2 + b_u^2 + ||q_i||^2 + ||p_u||^2\\right)\n",
      "\n",
      "\n",
      "The minimization is performed by a very straightforward stochastic gradient\n",
      "descent:\n",
      "\n",
      ".. math::\n",
      "    b_u &\\leftarrow b_u &+ \\gamma (e_{ui} - \\lambda b_u)\\\\\n",
      "    b_i &\\leftarrow b_i &+ \\gamma (e_{ui} - \\lambda b_i)\\\\\n",
      "    p_u &\\leftarrow p_u &+ \\gamma (e_{ui} \\cdot q_i - \\lambda p_u)\\\\\n",
      "    q_i &\\leftarrow q_i &+ \\gamma (e_{ui} \\cdot p_u - \\lambda q_i)\n",
      "\n",
      "where :math:`e_{ui} = r_{ui} - \\hat{r}_{ui}`. These steps are performed\n",
      "over all the ratings of the trainset and repeated ``n_epochs`` times.\n",
      "Baselines are initialized to ``0``. User and item factors are randomly\n",
      "initialized according to a normal distribution, which can be tuned using\n",
      "the ``init_mean`` and ``init_std_dev`` parameters.\n",
      "\n",
      "You also have control over the learning rate :math:`\\gamma` and the\n",
      "regularization term :math:`\\lambda`. Both can be different for each\n",
      "kind of parameter (see below). By default, learning rates are set to\n",
      "``0.005`` and regularization terms are set to ``0.02``.\n",
      "\n",
      ".. _unbiased_note:\n",
      "\n",
      ".. note::\n",
      "    You can choose to use an unbiased version of this algorithm, simply\n",
      "    predicting:\n",
      "\n",
      "    .. math::\n",
      "        \\hat{r}_{ui} = q_i^Tp_u\n",
      "\n",
      "    This is equivalent to Probabilistic Matrix Factorization\n",
      "    (:cite:`salakhutdinov2008a`, section 2) and can be achieved by setting\n",
      "    the ``biased`` parameter to ``False``.\n",
      "\n",
      "\n",
      "Args:\n",
      "    n_factors: The number of factors. Default is ``100``.\n",
      "    n_epochs: The number of iteration of the SGD procedure. Default is\n",
      "        ``20``.\n",
      "    biased(bool): Whether to use baselines (or biases). See :ref:`note\n",
      "        <unbiased_note>` above.  Default is ``True``.\n",
      "    init_mean: The mean of the normal distribution for factor vectors\n",
      "        initialization. Default is ``0``.\n",
      "    init_std_dev: The standard deviation of the normal distribution for\n",
      "        factor vectors initialization. Default is ``0.1``.\n",
      "    lr_all: The learning rate for all parameters. Default is ``0.005``.\n",
      "    reg_all: The regularization term for all parameters. Default is\n",
      "        ``0.02``.\n",
      "    lr_bu: The learning rate for :math:`b_u`. Takes precedence over\n",
      "        ``lr_all`` if set. Default is ``None``.\n",
      "    lr_bi: The learning rate for :math:`b_i`. Takes precedence over\n",
      "        ``lr_all`` if set. Default is ``None``.\n",
      "    lr_pu: The learning rate for :math:`p_u`. Takes precedence over\n",
      "        ``lr_all`` if set. Default is ``None``.\n",
      "    lr_qi: The learning rate for :math:`q_i`. Takes precedence over\n",
      "        ``lr_all`` if set. Default is ``None``.\n",
      "    reg_bu: The regularization term for :math:`b_u`. Takes precedence\n",
      "        over ``reg_all`` if set. Default is ``None``.\n",
      "    reg_bi: The regularization term for :math:`b_i`. Takes precedence\n",
      "        over ``reg_all`` if set. Default is ``None``.\n",
      "    reg_pu: The regularization term for :math:`p_u`. Takes precedence\n",
      "        over ``reg_all`` if set. Default is ``None``.\n",
      "    reg_qi: The regularization term for :math:`q_i`. Takes precedence\n",
      "        over ``reg_all`` if set. Default is ``None``.\n",
      "    random_state(int, RandomState instance from numpy, or ``None``):\n",
      "        Determines the RNG that will be used for initialization. If\n",
      "        int, ``random_state`` will be used as a seed for a new RNG. This is\n",
      "        useful to get the same initialization over multiple calls to\n",
      "        ``fit()``.  If RandomState instance, this same instance is used as\n",
      "        RNG. If ``None``, the current RNG from numpy is used.  Default is\n",
      "        ``None``.\n",
      "    verbose: If ``True``, prints the current epoch. Default is ``False``.\n",
      "\n",
      "Attributes:\n",
      "    pu(numpy array of size (n_users, n_factors)): The user factors (only\n",
      "        exists if ``fit()`` has been called)\n",
      "    qi(numpy array of size (n_items, n_factors)): The item factors (only\n",
      "        exists if ``fit()`` has been called)\n",
      "    bu(numpy array of size (n_users)): The user biases (only\n",
      "        exists if ``fit()`` has been called)\n",
      "    bi(numpy array of size (n_items)): The item biases (only\n",
      "        exists if ``fit()`` has been called)\n"
     ]
    }
   ],
   "source": [
    "model?"
   ]
  },
  {
   "cell_type": "code",
   "execution_count": 76,
   "metadata": {},
   "outputs": [
    {
     "data": {
      "text/plain": [
       "array([[ 0.37555641, -0.32114882,  0.28710344]])"
      ]
     },
     "execution_count": 76,
     "metadata": {},
     "output_type": "execute_result"
    }
   ],
   "source": [
    "np.array([np.matmul(new_user,qi)])"
   ]
  },
  {
   "cell_type": "code",
   "execution_count": 77,
   "metadata": {},
   "outputs": [
    {
     "data": {
      "text/plain": [
       "array([[ 0.19704376, -0.10480819,  0.10479769],\n",
       "       [-0.04853342, -0.02147583,  0.0128871 ],\n",
       "       [ 0.26222165, -0.15514592, -0.01476273],\n",
       "       [ 0.37555641, -0.32114882,  0.28710344]])"
      ]
     },
     "execution_count": 77,
     "metadata": {},
     "output_type": "execute_result"
    }
   ],
   "source": [
    "pu_new = np.concatenate([pu,np.array([np.matmul(new_user,qi)])],axis=0)\n",
    "pu_new"
   ]
  },
  {
   "cell_type": "code",
   "execution_count": 78,
   "metadata": {},
   "outputs": [
    {
     "data": {
      "text/plain": [
       "array([[533077.88475819, 533077.63735079, 533077.81858752],\n",
       "       [533077.5804613 , 533077.87944867, 533077.64183891],\n",
       "       [533077.7545147 , 533077.74460161, 533077.75216648]])"
      ]
     },
     "execution_count": 78,
     "metadata": {},
     "output_type": "execute_result"
    }
   ],
   "source": [
    "m + np.matmul(qi.T,pu_new)"
   ]
  },
  {
   "cell_type": "code",
   "execution_count": 79,
   "metadata": {},
   "outputs": [
    {
     "data": {
      "text/plain": [
       "(4, 3)"
      ]
     },
     "execution_count": 79,
     "metadata": {},
     "output_type": "execute_result"
    }
   ],
   "source": [
    "pu_new.shape"
   ]
  },
  {
   "cell_type": "markdown",
   "metadata": {},
   "source": [
    "https://www.d.umn.edu/~mhampton/m4326svd_example.pdf"
   ]
  },
  {
   "cell_type": "markdown",
   "metadata": {},
   "source": [
    "To do: \n",
    "p-reihe für neuen nutzer erstellen: A = p*qi.T, analog dazu ist für eine reihe (=ein user) x = x_p*qi.T, durch umstellen erhält man x_p = x*qi.T^(-1).\n",
    "1. x-array für neuen nutzer erstellen: shape 1x724 mit rating an den jeweiligen stellen und sonst 0 values. damit dann mit der umgestellten gleichung x_p erzeugen. \n",
    "<br>\n",
    "wenn wir x_p haben kann man die ersten ratings erzeugen mit r_u,i = mü + x_p * q_i. dann die loss function minimieren, so wie in surprise angegeben. hierfür perceptron schreiben? <br>\n",
    "oder versuchen, pu vom model zu überschrieben? dann testen auf anti testtest. "
   ]
  }
 ],
 "metadata": {
  "kernelspec": {
   "display_name": "Python 3.10.7 ('ds_ap')",
   "language": "python",
   "name": "python3"
  },
  "language_info": {
   "codemirror_mode": {
    "name": "ipython",
    "version": 3
   },
   "file_extension": ".py",
   "mimetype": "text/x-python",
   "name": "python",
   "nbconvert_exporter": "python",
   "pygments_lexer": "ipython3",
   "version": "3.10.7"
  },
  "orig_nbformat": 4,
  "vscode": {
   "interpreter": {
    "hash": "52cefc3a9eff3ff32f2531cecf7f574c5eb7023f21571ad3a673d9838121c504"
   }
  }
 },
 "nbformat": 4,
 "nbformat_minor": 2
}
