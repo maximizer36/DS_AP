{
 "cells": [
  {
   "cell_type": "code",
   "execution_count": 909,
   "metadata": {},
   "outputs": [],
   "source": [
    "import pandas as pd\n",
    "import numpy as np\n",
    "import random\n",
    "from matplotlib import pyplot as plt\n",
    "import seaborn as sns\n",
    "import matplotlib.ticker as mtick\n",
    "from sklearn.model_selection import train_test_split as scikit_train_test_split\n",
    "from surprise import Reader, Dataset, accuracy\n",
    "from surprise import KNNBasic, KNNWithMeans, SVD, CoClustering, SlopeOne, SVDpp, NMF, BaselineOnly\n",
    "from surprise.model_selection import KFold, RepeatedKFold, cross_validate, GridSearchCV, LeaveOneOut\n",
    "from surprise.model_selection import train_test_split as surprise_train_test_split\n",
    "import time"
   ]
  },
  {
   "cell_type": "markdown",
   "metadata": {},
   "source": [
    "Data import:"
   ]
  },
  {
   "cell_type": "code",
   "execution_count": 910,
   "metadata": {},
   "outputs": [],
   "source": [
    "df = pd.read_csv(\"person-skills_2022-06-27.csv\",sep=\";\")"
   ]
  },
  {
   "cell_type": "markdown",
   "metadata": {},
   "source": [
    "Data cleaning - Drop all categories which do not contain hard skills:"
   ]
  },
  {
   "cell_type": "code",
   "execution_count": 911,
   "metadata": {},
   "outputs": [],
   "source": [
    "obsolete_categories = [\n",
    "                \"Betriebssystem\",\n",
    "                \"Dienste\",\n",
    "                \"Produkterfahrung\",\n",
    "                \"Methoden und Praktiken\",\n",
    "                \"Projektmanagement / Vorgehensmodelle\",\n",
    "                \"Sprachen\",\n",
    "                \"Einsatzfelder / Erfahrungen / Schwerpunkte\",\n",
    "                \"Issue Management\",\n",
    "                \"Branchenerfahrung\",\n",
    "                \"Zertifizierung\",\n",
    "                \"Beratung\",\n",
    "                \"Agilität\",\n",
    "                \"Tests\",\n",
    "                \"Rolle (intern)\",\n",
    "                \"nxp Abteilungen\"\n",
    "                ]"
   ]
  },
  {
   "cell_type": "code",
   "execution_count": 912,
   "metadata": {},
   "outputs": [],
   "source": [
    "# df = df[~df[\"category\"].isin(obsolete_categories)]"
   ]
  },
  {
   "cell_type": "markdown",
   "metadata": {},
   "source": [
    "alle skills, die seltener als x mal vorkommen (zB x = 10) rausschmeiß0en\n"
   ]
  },
  {
   "cell_type": "markdown",
   "metadata": {},
   "source": [
    "Declare various aiding variables"
   ]
  },
  {
   "cell_type": "code",
   "execution_count": 913,
   "metadata": {},
   "outputs": [],
   "source": [
    "persons = df[\"person\"].unique()\n",
    "skills = sorted(df[\"skill\"].unique())\n",
    "categories = df[\"category\"].unique()"
   ]
  },
  {
   "cell_type": "code",
   "execution_count": 914,
   "metadata": {},
   "outputs": [],
   "source": [
    "employee_dict = {}\n",
    "for n in range(1,len(persons)+1):\n",
    "    employee_dict[n] = persons[n-1]"
   ]
  },
  {
   "cell_type": "code",
   "execution_count": 915,
   "metadata": {},
   "outputs": [],
   "source": [
    "skills_to_category = pd.read_csv(\"mitarbeiterportal-skills_2022-06-21.csv\",sep=\";\",header=None)\n",
    "category_dict = dict(zip(skills_to_category[0],skills_to_category[1]))"
   ]
  },
  {
   "cell_type": "markdown",
   "metadata": {},
   "source": [
    "Since this notebook demonstrates the a recommender system which deals with rated skills and the underlying data does not offer ratings, this measure will be implemented in the following way: \n",
    "- For each skill, the frequency of the underlying category will be measured. The skills will be rated according to this frequency \n",
    "- For example: If an employee has most skills in the category \"Programmiersprachen\", these skills will receive the highest rating"
   ]
  },
  {
   "cell_type": "code",
   "execution_count": 916,
   "metadata": {},
   "outputs": [],
   "source": [
    "def scaler_1_5(x,old_max,old_min):\n",
    "    old_range = (old_max - old_min)  \n",
    "    if (old_range == 0):\n",
    "        return 1\n",
    "    else:\n",
    "        new_range = (5 - 1) \n",
    "        x_std = (x - old_min)/(old_max-old_min)\n",
    "        return round(x_std * new_range + 1)"
   ]
  },
  {
   "cell_type": "code",
   "execution_count": 917,
   "metadata": {},
   "outputs": [],
   "source": [
    "# create dataframe for each employee and their category count\n",
    "category_per_employee = pd.DataFrame(index=categories)\n",
    "for p in persons:\n",
    "    p_skills = df[df[\"person\"] == p]\n",
    "    # count categories for each employee\n",
    "    category_count = p_skills[\"category\"].value_counts()\n",
    "    category_count = category_count.apply(lambda x:scaler_1_5(x,category_count.max(),category_count.min()))\n",
    "    skill_values = np.array([])\n",
    "    # add count for each category to an array and 0 if category wasn't found (and therefore is not part of resptive employee's skillset)\n",
    "    for cat in categories:\n",
    "        try:\n",
    "            skill_values = np.append(skill_values,category_count[cat])\n",
    "        except KeyError:\n",
    "            skill_values = np.append(skill_values,0)\n",
    "    # add employee data to dataframe\n",
    "    p_skills_df = pd.DataFrame(index=categories,columns=[p],data=skill_values)\n",
    "    category_per_employee = pd.concat([category_per_employee,p_skills_df],axis=1)"
   ]
  },
  {
   "cell_type": "code",
   "execution_count": 918,
   "metadata": {},
   "outputs": [],
   "source": [
    "df_rated = pd.DataFrame()\n",
    "for p in persons:\n",
    "    # get employee\n",
    "    df_subset = df[df[\"person\"] == p].copy()\n",
    "    # get skills of employee\n",
    "    p_skills = df_subset[\"skill\"].to_numpy()\n",
    "    # initialize empty array for ratings\n",
    "    ratings = np.zeros(len(p_skills))\n",
    "    # fill array for each skill with respective category value \n",
    "    for i in range(0,len(p_skills)): \n",
    "        ratings[i] = category_per_employee.loc[category_dict[p_skills[i]]][p]\n",
    "    # append ratings to subset and drop category column\n",
    "    df_subset[\"rating\"] = ratings\n",
    "    df_subset.drop(\"category\",axis=1,inplace=True)\n",
    "    # append user to df\n",
    "    df_rated = pd.concat([df_rated,df_subset],ignore_index=True)"
   ]
  },
  {
   "cell_type": "markdown",
   "metadata": {},
   "source": [
    "## Comparing Different Recommender Systems"
   ]
  },
  {
   "cell_type": "markdown",
   "metadata": {},
   "source": [
    "Define holdout data: We want to take out 2 skills with high rating of 40% of users. Skills and users should be chosen randomly. "
   ]
  },
  {
   "cell_type": "code",
   "execution_count": 871,
   "metadata": {},
   "outputs": [],
   "source": [
    "# df_rated[df_rated[\"person\"] == 624]"
   ]
  },
  {
   "cell_type": "code",
   "execution_count": 921,
   "metadata": {},
   "outputs": [],
   "source": [
    "# specify how many datapoints should be stored in holdout (e. g. holdout_size = 0.1 -> 10% of datapoints will be put in holdout)\n",
    "holdout_size = 0.1\n",
    "# save original size of data for termination of while loop \n",
    "size_data = len(df_rated)\n",
    "holdout = pd.DataFrame()\n",
    "# get list which represents each employee with their number of entered skills in the data\n",
    "employee_occurence = df_rated[\"person\"].to_list()\n",
    "# initialize random seed\n",
    "seed = 0 \n",
    "while len(holdout)/size_data < holdout_size:\n",
    "    # randomly select employee (affected by how often they occur in the data)\n",
    "    np.random.seed(seed)\n",
    "    df_subset_emp = df_rated[(df_rated[\"person\"] == np.random.choice(employee_occurence))]\n",
    "    # if condition causes that employee do not get completely deleted from dataset\n",
    "    if len(df_subset_emp) > 1:\n",
    "        max_rating_emp = df_subset_emp[\"rating\"].max()\n",
    "        holdout_emp = df_subset_emp[df_subset_emp[\"rating\"] == max_rating_emp].sample(n=1,random_state=seed)\n",
    "        df_rated = df_rated.drop(holdout_emp.index)\n",
    "        holdout = pd.concat([holdout,holdout_emp],ignore_index=True)\n",
    "    # change seed for next while iteration\n",
    "    seed = seed + 1"
   ]
  },
  {
   "cell_type": "code",
   "execution_count": 809,
   "metadata": {},
   "outputs": [],
   "source": [
    "# perc_users = 0.4\n",
    "# n_skills = 2\n",
    "# sample_size = int(np.ceil(len(persons)*perc_users))\n",
    "\n",
    "# random.seed(1)\n",
    "# sample = random.sample(population=persons.tolist(),k=sample_size)\n",
    "\n",
    "# min_rating = 5"
   ]
  },
  {
   "cell_type": "code",
   "execution_count": 810,
   "metadata": {},
   "outputs": [],
   "source": [
    "# holdout = pd.DataFrame()\n",
    "\n",
    "# user_sample = []\n",
    "# for person in sample: \n",
    "#     df_subset = df_rated[(df_rated[\"person\"] == person) & (df_rated[\"rating\"] >= min_rating)]\n",
    "#     # try to get two random high ranking skills (if the employee doesn't have high ranking skills they will be skipped)\n",
    "#     try:\n",
    "#         holdout_employee = df_subset.sample(n=n_skills,random_state=1)\n",
    "#         user_sample.append(person)\n",
    "#         df_rated = df_rated.drop(holdout_employee.index)\n",
    "#         holdout = pd.concat([holdout,holdout_employee],ignore_index=1)\n",
    "#     except ValueError:\n",
    "#         pass \n",
    "# holdout"
   ]
  },
  {
   "cell_type": "code",
   "execution_count": 885,
   "metadata": {},
   "outputs": [],
   "source": [
    "reader = Reader(rating_scale=(1,5)) \n",
    "data = Dataset.load_from_df(df_rated,reader)"
   ]
  },
  {
   "cell_type": "code",
   "execution_count": 812,
   "metadata": {},
   "outputs": [],
   "source": [
    "NUM_TRIALS = 3\n",
    "NUM_SPLITS = 5"
   ]
  },
  {
   "cell_type": "code",
   "execution_count": 982,
   "metadata": {},
   "outputs": [],
   "source": [
    "def gridsearch_cv(algo_class,algo_name,param_grid,data,best_model_dict,best_params_dict):\n",
    "    start = time.time()\n",
    "    rmse = np.zeros(NUM_TRIALS)\n",
    "    mse = np.zeros(NUM_TRIALS)\n",
    "    mae = np.zeros(NUM_TRIALS)\n",
    "    models = []\n",
    "    params = []\n",
    "\n",
    "    # hier eventuell gridsearch rein? \n",
    "    for i in range(NUM_TRIALS):\n",
    "        print(\"Running CV for model\", algo_name ,\"in Iteration:\", i ,\"at\", time.time()-start)\n",
    "        cv = KFold(\n",
    "                        n_splits=NUM_SPLITS,\n",
    "                        random_state=i\n",
    "                        # min_n_ratings=i\n",
    "                    )\n",
    "                        # COMMENT: min_n_ratings -> what's the impact of this parameter? \n",
    "        gs = GridSearchCV(\n",
    "                        algo_class,\n",
    "                        param_grid, \n",
    "                        measures=[\"rmse\",\"mse\",\"mae\"], \n",
    "                        cv=cv,refit=\"rmse\"\n",
    "                    )\n",
    "        gs.fit(data)\n",
    "        rmse[i] = gs.best_score[\"rmse\"]\n",
    "        mse[i] = gs.best_score[\"mse\"]\n",
    "        mae[i] = gs.best_score[\"mae\"]\n",
    "        models.append(gs.best_estimator[\"rmse\"])\n",
    "        params.append(gs.best_params[\"rmse\"])\n",
    "\n",
    "    # hier noch erläutern, warum rmse als ausschlaggebene measure gewählt wird\n",
    "    best_model_dict[algo_name] = models[np.argmin(rmse)]\n",
    "    best_params_dict[algo_name] = params[np.argmin(rmse)]\n",
    "\n",
    "    print(\"Total time: \", (time.time()-start), \"sec.\")\n",
    "    return rmse, mse, mae "
   ]
  },
  {
   "cell_type": "code",
   "execution_count": 814,
   "metadata": {},
   "outputs": [],
   "source": [
    "def add_result(results, name, rmse, mse, mae):\n",
    "    '''\n",
    "    Function adding the results returned by nested_cv to a dataframe. \n",
    "    Results will be aggregated for better comparison. \n",
    "    Parameters: \n",
    "\n",
    "    Output:\n",
    "    results DataFrame containing an additional row\n",
    "    '''\n",
    "    row = pd.DataFrame({\n",
    "        \"name\":name,\n",
    "        \"rmse_mean\":rmse.mean(), \n",
    "        \"rmse_std\":rmse.std(), \n",
    "        \"mse_mean\":mse.mean(), \n",
    "        \"mse_std\":mse.std(), \n",
    "        \"mae_mean\":mae.mean(), \n",
    "        \"mae_std\":mae.std()\n",
    "        },index=[0])\n",
    "    return pd.concat([results,row],ignore_index=True)"
   ]
  },
  {
   "cell_type": "code",
   "execution_count": 815,
   "metadata": {},
   "outputs": [],
   "source": [
    "results = pd.DataFrame()\n",
    "best_model_dict = {}\n",
    "best_params_dict = {}"
   ]
  },
  {
   "cell_type": "code",
   "execution_count": 816,
   "metadata": {},
   "outputs": [],
   "source": [
    "algo_list = [\n",
    "                (BaselineOnly,\"Baseline\",{\n",
    "                                                \"verbose\":[False]\n",
    "                                    }),\n",
    "                (KNNBasic,\"k-NN\",{\n",
    "                                                \"k\": [20, 40, 60, 80],\n",
    "                                                \"min_k\": [1, 5, 10, 20],\n",
    "                                                \"verbose\":[False]\n",
    "                                    }),\n",
    "                (KNNWithMeans,\"Centered k-NN\",{\n",
    "                                                \"k\": [20, 40, 60, 80],\n",
    "                                                \"min_k\": [1, 5, 10, 20],\n",
    "                                                \"verbose\":[False]\n",
    "                                    }),\n",
    "                (SVD,\"SVD\",{\n",
    "                                                \"n_factors\": [40, 60, 80, 100, 120],\n",
    "                                                \"n_epochs\": [100, 200, 500, 1000, 2000, 5000],\n",
    "                                                \"biased\":[True,False],\n",
    "                                                \"random_state\":[1]\n",
    "                                    }),\n",
    "                (SVDpp,\"SVD++\",{\n",
    "                                                \"n_factors\": [40, 60, 80, 100, 120],\n",
    "                                                \"n_epochs\": [100, 200, 500, 1000, 2000, 5000],\n",
    "                                                \"random_state\":[1]\n",
    "                                    }),\n",
    "                (CoClustering,\"CoClustering\",{\n",
    "                                                \"n_cltr_u\": [2, 3, 4],\n",
    "                                                \"n_cltr_i\": [2, 3, 4],\n",
    "                                                \"n_epochs\":[10, 20, 40, 60]\n",
    "                                    }),\n",
    "                (SlopeOne,\"SlopeOne\",{\n",
    "                                    }),\n",
    "                (NMF,\"NMF\",{\n",
    "                                                \"n_factors\": [10, 15, 20, 40],\n",
    "                                                \"n_epochs\": [20, 40, 80, 120],\n",
    "                                                \"biased\":[True,False],\n",
    "                                                \"random_state\":[1]\n",
    "                                    })\n",
    "            ]"
   ]
  },
  {
   "cell_type": "code",
   "execution_count": 817,
   "metadata": {},
   "outputs": [],
   "source": [
    "for algo in algo_list:\n",
    "    rmse, mse, mae = gridsearch_cv(algo[0],algo[1],algo[2],data,best_model_dict,best_params_dict)\n",
    "    results = add_result(results,algo[1],rmse, mse, mae)"
   ]
  },
  {
   "cell_type": "code",
   "execution_count": 818,
   "metadata": {},
   "outputs": [],
   "source": [
    "best_params_dict"
   ]
  },
  {
   "cell_type": "code",
   "execution_count": 819,
   "metadata": {},
   "outputs": [],
   "source": [
    "results"
   ]
  },
  {
   "cell_type": "markdown",
   "metadata": {},
   "source": [
    "Select best performing model and fit it on full data:"
   ]
  },
  {
   "cell_type": "code",
   "execution_count": 820,
   "metadata": {},
   "outputs": [],
   "source": [
    "#model = NMF(n_factors= 40, n_epochs = 120, biased = False, random_state= 1)\n",
    "#model = SVDpp(n_factors = 40, n_epochs= 60, random_state=1)\n",
    "model = best_model_dict[results.iloc[results[\"rmse_mean\"].idxmin()][\"name\"]]\n",
    "trainset = data.build_full_trainset()\n",
    "model.fit(trainset)"
   ]
  },
  {
   "cell_type": "code",
   "execution_count": 983,
   "metadata": {},
   "outputs": [],
   "source": [
    "# results_2 = pd.DataFrame()\n",
    "# best_model_dict_2 = {}\n",
    "# best_params_dict_2 = {}"
   ]
  },
  {
   "cell_type": "code",
   "execution_count": 984,
   "metadata": {},
   "outputs": [],
   "source": [
    "# algo_list_2 = [\n",
    "#                    (SVD,\"SVD\",{\n",
    "#                                                 \"n_factors\": [60, 80, 100, 120],\n",
    "#                                                 \"n_epochs\": [100, 200, 500, 1000, 2000, 5000],\n",
    "#                                                 \"biased\":[True,False],\n",
    "#                                                 \"random_state\":[1]\n",
    "#                                     })]"
   ]
  },
  {
   "cell_type": "code",
   "execution_count": 985,
   "metadata": {},
   "outputs": [
    {
     "name": "stdout",
     "output_type": "stream",
     "text": [
      "Running CV for model SVD in Iteration: 0 at 0.0\n",
      "Running CV for model SVD in Iteration: 1 at 333.33647179603577\n",
      "Running CV for model SVD in Iteration: 2 at 664.9931435585022\n",
      "Total time:  994.6395263671875 sec.\n"
     ]
    }
   ],
   "source": [
    "# for algo in algo_list_2:\n",
    "#     rmse, mse, mae = gridsearch_cv(algo[0],algo[1],algo[2],data,best_model_dict_2,best_params_dict_2)\n",
    "#     results_2 = add_result(results_2,algo[1],rmse, mse, mae)"
   ]
  },
  {
   "cell_type": "code",
   "execution_count": 986,
   "metadata": {},
   "outputs": [
    {
     "data": {
      "text/plain": [
       "{'SVD': {'n_factors': 60,\n",
       "  'n_epochs': 1000,\n",
       "  'biased': False,\n",
       "  'random_state': 1}}"
      ]
     },
     "execution_count": 986,
     "metadata": {},
     "output_type": "execute_result"
    }
   ],
   "source": [
    "best_params_dict_2"
   ]
  },
  {
   "cell_type": "code",
   "execution_count": 987,
   "metadata": {},
   "outputs": [
    {
     "data": {
      "text/html": [
       "<div>\n",
       "<style scoped>\n",
       "    .dataframe tbody tr th:only-of-type {\n",
       "        vertical-align: middle;\n",
       "    }\n",
       "\n",
       "    .dataframe tbody tr th {\n",
       "        vertical-align: top;\n",
       "    }\n",
       "\n",
       "    .dataframe thead th {\n",
       "        text-align: right;\n",
       "    }\n",
       "</style>\n",
       "<table border=\"1\" class=\"dataframe\">\n",
       "  <thead>\n",
       "    <tr style=\"text-align: right;\">\n",
       "      <th></th>\n",
       "      <th>name</th>\n",
       "      <th>rmse_mean</th>\n",
       "      <th>rmse_std</th>\n",
       "      <th>mse_mean</th>\n",
       "      <th>mse_std</th>\n",
       "      <th>mae_mean</th>\n",
       "      <th>mae_std</th>\n",
       "    </tr>\n",
       "  </thead>\n",
       "  <tbody>\n",
       "    <tr>\n",
       "      <th>0</th>\n",
       "      <td>SVD</td>\n",
       "      <td>0.499353</td>\n",
       "      <td>0.002382</td>\n",
       "      <td>0.249548</td>\n",
       "      <td>0.00244</td>\n",
       "      <td>0.29512</td>\n",
       "      <td>0.001504</td>\n",
       "    </tr>\n",
       "  </tbody>\n",
       "</table>\n",
       "</div>"
      ],
      "text/plain": [
       "  name  rmse_mean  rmse_std  mse_mean  mse_std  mae_mean   mae_std\n",
       "0  SVD   0.499353  0.002382  0.249548  0.00244   0.29512  0.001504"
      ]
     },
     "execution_count": 987,
     "metadata": {},
     "output_type": "execute_result"
    }
   ],
   "source": [
    "results_2"
   ]
  },
  {
   "cell_type": "code",
   "execution_count": 989,
   "metadata": {},
   "outputs": [
    {
     "data": {
      "text/plain": [
       "<surprise.prediction_algorithms.matrix_factorization.SVD at 0x1d007649f00>"
      ]
     },
     "execution_count": 989,
     "metadata": {},
     "output_type": "execute_result"
    }
   ],
   "source": [
    "model = best_model_dict_2[\"SVD\"]\n",
    "trainset = data.build_full_trainset()\n",
    "model.fit(trainset)"
   ]
  },
  {
   "cell_type": "markdown",
   "metadata": {},
   "source": [
    "Predict ratings for all skills which the employees do not yet have (meaning which do not have an existing rating):"
   ]
  },
  {
   "cell_type": "code",
   "execution_count": 990,
   "metadata": {},
   "outputs": [],
   "source": [
    "preds = model.test(trainset.build_anti_testset())"
   ]
  },
  {
   "cell_type": "markdown",
   "metadata": {},
   "source": [
    "## Evaluation"
   ]
  },
  {
   "cell_type": "markdown",
   "metadata": {},
   "source": [
    "Idea for evaluating the recoms: define holdout a bit differently. Pick random users (say 30% of all users) and remove a prior defined amount of skills (say 2) from their skillset. The skills should have a high rating (say 4 or 5). If these skills then show up as recommendations, we have an objective indicator that the recommendations are somewhat meaningful. "
   ]
  },
  {
   "cell_type": "markdown",
   "metadata": {},
   "source": [
    "Evaluation using holdout data: "
   ]
  },
  {
   "cell_type": "code",
   "execution_count": 991,
   "metadata": {},
   "outputs": [],
   "source": [
    "from collections import defaultdict\n",
    "\n",
    "def get_top_n(predictions, n):\n",
    "    \"\"\"Return the top-N recommendation for each user from a set of predictions.\n",
    "\n",
    "    Args:\n",
    "        predictions(list of Prediction objects): The list of predictions, as\n",
    "            returned by the test method of an algorithm.\n",
    "        n(int): The number of recommendation to output for each user. Default\n",
    "            is 10.\n",
    "\n",
    "    Returns:\n",
    "    A dict where keys are user (raw) ids and values are lists of tuples:\n",
    "        [(raw item id, rating estimation), ...] of size n.\n",
    "    \"\"\"\n",
    "\n",
    "    # First map the predictions to each user.\n",
    "    top_n = {}\n",
    "    \n",
    "    for uid, iid, true_r, est, _ in predictions:\n",
    "        try:\n",
    "                top_n[uid].append((iid, est))\n",
    "        except KeyError:\n",
    "                top_n[uid] = [(iid, est)]\n",
    "\n",
    "    # Then sort the predictions for each user and retrieve the k highest ones.\n",
    "    for uid, user_ratings in top_n.items():\n",
    "        user_ratings.sort(key=lambda x: x[1], reverse=True)\n",
    "        top_n[uid] = user_ratings[:n]\n",
    "\n",
    "    return top_n"
   ]
  },
  {
   "cell_type": "markdown",
   "metadata": {},
   "source": [
    "Get recommendations for all users:"
   ]
  },
  {
   "cell_type": "code",
   "execution_count": 992,
   "metadata": {},
   "outputs": [],
   "source": [
    "def get_recommendations(preds,n):\n",
    "    top_n = get_top_n(preds, n)\n",
    "    recommendations = pd.DataFrame()\n",
    "\n",
    "    for uid, user_ratings in top_n.items():\n",
    "        recom = pd.DataFrame(index=[uid],data=[[iid for (iid, _) in user_ratings]])\n",
    "        recommendations = pd.concat([recommendations,recom])\n",
    "\n",
    "    return recommendations"
   ]
  },
  {
   "cell_type": "code",
   "execution_count": 993,
   "metadata": {},
   "outputs": [
    {
     "data": {
      "text/html": [
       "<div>\n",
       "<style scoped>\n",
       "    .dataframe tbody tr th:only-of-type {\n",
       "        vertical-align: middle;\n",
       "    }\n",
       "\n",
       "    .dataframe tbody tr th {\n",
       "        vertical-align: top;\n",
       "    }\n",
       "\n",
       "    .dataframe thead th {\n",
       "        text-align: right;\n",
       "    }\n",
       "</style>\n",
       "<table border=\"1\" class=\"dataframe\">\n",
       "  <thead>\n",
       "    <tr style=\"text-align: right;\">\n",
       "      <th></th>\n",
       "      <th>0</th>\n",
       "      <th>1</th>\n",
       "      <th>2</th>\n",
       "      <th>3</th>\n",
       "      <th>4</th>\n",
       "      <th>5</th>\n",
       "      <th>6</th>\n",
       "      <th>7</th>\n",
       "      <th>8</th>\n",
       "      <th>9</th>\n",
       "    </tr>\n",
       "  </thead>\n",
       "  <tbody>\n",
       "    <tr>\n",
       "      <th>12</th>\n",
       "      <td>AIX</td>\n",
       "      <td>Windows Communication Foundation (WCF)</td>\n",
       "      <td>Dependency Injection</td>\n",
       "      <td>Objektrelationale Abbildung (ORM)</td>\n",
       "      <td>Test Driven Development (TDD)</td>\n",
       "      <td>BizTalk</td>\n",
       "      <td>Java FX</td>\n",
       "      <td>Behaviour Driven Development (BDD)</td>\n",
       "      <td>Xerces</td>\n",
       "      <td>Phyton /Jython</td>\n",
       "    </tr>\n",
       "    <tr>\n",
       "      <th>13</th>\n",
       "      <td>NHibernate</td>\n",
       "      <td>Kendo UI</td>\n",
       "      <td>DevExpress</td>\n",
       "      <td>Microsoft Enterprise Library</td>\n",
       "      <td>BizTalk</td>\n",
       "      <td>NUnit</td>\n",
       "      <td>ASP.NET</td>\n",
       "      <td>ADO.NET</td>\n",
       "      <td>Windows Communication Foundation (WCF)</td>\n",
       "      <td>Silverlight</td>\n",
       "    </tr>\n",
       "    <tr>\n",
       "      <th>15</th>\n",
       "      <td>Vue.js</td>\n",
       "      <td>Storybook</td>\n",
       "      <td>Cypress</td>\n",
       "      <td>ITCSS</td>\n",
       "      <td>Jest</td>\n",
       "      <td>SCSS</td>\n",
       "      <td>Magento</td>\n",
       "      <td>PHP</td>\n",
       "      <td>HTML5</td>\n",
       "      <td>HTML</td>\n",
       "    </tr>\n",
       "    <tr>\n",
       "      <th>16</th>\n",
       "      <td>CSS</td>\n",
       "      <td>Cypress</td>\n",
       "      <td>Ajax</td>\n",
       "      <td>HTML5</td>\n",
       "      <td>Magento</td>\n",
       "      <td>jQuery</td>\n",
       "      <td>Node.js</td>\n",
       "      <td>ITCSS</td>\n",
       "      <td>Storybook</td>\n",
       "      <td>xHTML</td>\n",
       "    </tr>\n",
       "    <tr>\n",
       "      <th>17</th>\n",
       "      <td>SAP Commerce 6.x</td>\n",
       "      <td>RFC</td>\n",
       "      <td>Newsletter Anbindung</td>\n",
       "      <td>Tailwind CSS</td>\n",
       "      <td>Solr</td>\n",
       "      <td>Backoffice Konfiguration</td>\n",
       "      <td>SAP ERP Anbindung</td>\n",
       "      <td>Security</td>\n",
       "      <td>WCMS</td>\n",
       "      <td>B2B Accelerator Experience</td>\n",
       "    </tr>\n",
       "    <tr>\n",
       "      <th>...</th>\n",
       "      <td>...</td>\n",
       "      <td>...</td>\n",
       "      <td>...</td>\n",
       "      <td>...</td>\n",
       "      <td>...</td>\n",
       "      <td>...</td>\n",
       "      <td>...</td>\n",
       "      <td>...</td>\n",
       "      <td>...</td>\n",
       "      <td>...</td>\n",
       "    </tr>\n",
       "    <tr>\n",
       "      <th>1467</th>\n",
       "      <td>TypoScript</td>\n",
       "      <td>Ruby</td>\n",
       "      <td>C/C++</td>\n",
       "      <td>Python</td>\n",
       "      <td>Delphi</td>\n",
       "      <td>Assembler</td>\n",
       "      <td>Pascal</td>\n",
       "      <td>VB/VBA</td>\n",
       "      <td>Groovy</td>\n",
       "      <td>PL/SQL</td>\n",
       "    </tr>\n",
       "    <tr>\n",
       "      <th>1474</th>\n",
       "      <td>Magento</td>\n",
       "      <td>Web Components</td>\n",
       "      <td>Dojo Toolkit</td>\n",
       "      <td>Zend</td>\n",
       "      <td>GitHub</td>\n",
       "      <td>Layouting (Flexbox, CSS Grid)</td>\n",
       "      <td>Yii</td>\n",
       "      <td>Stylelint</td>\n",
       "      <td>Agile Methoden</td>\n",
       "      <td>SCSS</td>\n",
       "    </tr>\n",
       "    <tr>\n",
       "      <th>1475</th>\n",
       "      <td>Java EE</td>\n",
       "      <td>JUnit</td>\n",
       "      <td>Hibernate</td>\n",
       "      <td>JDBC</td>\n",
       "      <td>Log4J</td>\n",
       "      <td>Spring</td>\n",
       "      <td>Spring Boot</td>\n",
       "      <td>ASP.NET MVC-Framework</td>\n",
       "      <td>TopLink</td>\n",
       "      <td>Jakarta Commons</td>\n",
       "    </tr>\n",
       "    <tr>\n",
       "      <th>1479</th>\n",
       "      <td>.NET Framework</td>\n",
       "      <td>LINQ</td>\n",
       "      <td>NHibernate</td>\n",
       "      <td>Windows Forms</td>\n",
       "      <td>DevExpress</td>\n",
       "      <td>ASP.NET</td>\n",
       "      <td>ASP.NET MVC-Framework</td>\n",
       "      <td>NUnit</td>\n",
       "      <td>.NET Compact Framework</td>\n",
       "      <td>Entity Framework</td>\n",
       "    </tr>\n",
       "    <tr>\n",
       "      <th>1488</th>\n",
       "      <td>TopLink</td>\n",
       "      <td>Xerces</td>\n",
       "      <td>Phyton /Jython</td>\n",
       "      <td>JSF</td>\n",
       "      <td>Castor</td>\n",
       "      <td>Struts (bis Version 1.3)</td>\n",
       "      <td>Eclipse</td>\n",
       "      <td>TestNG</td>\n",
       "      <td>SEO Tool Anbindung</td>\n",
       "      <td>Security</td>\n",
       "    </tr>\n",
       "  </tbody>\n",
       "</table>\n",
       "<p>404 rows × 10 columns</p>\n",
       "</div>"
      ],
      "text/plain": [
       "                     0                                       1  \\\n",
       "12                 AIX  Windows Communication Foundation (WCF)   \n",
       "13          NHibernate                                Kendo UI   \n",
       "15              Vue.js                               Storybook   \n",
       "16                 CSS                                 Cypress   \n",
       "17    SAP Commerce 6.x                                     RFC   \n",
       "...                ...                                     ...   \n",
       "1467        TypoScript                                    Ruby   \n",
       "1474           Magento                          Web Components   \n",
       "1475           Java EE                                   JUnit   \n",
       "1479    .NET Framework                                    LINQ   \n",
       "1488           TopLink                                  Xerces   \n",
       "\n",
       "                         2                                  3  \\\n",
       "12    Dependency Injection  Objektrelationale Abbildung (ORM)   \n",
       "13              DevExpress       Microsoft Enterprise Library   \n",
       "15                 Cypress                              ITCSS   \n",
       "16                    Ajax                              HTML5   \n",
       "17    Newsletter Anbindung                      Tailwind CSS    \n",
       "...                    ...                                ...   \n",
       "1467                 C/C++                             Python   \n",
       "1474          Dojo Toolkit                              Zend    \n",
       "1475             Hibernate                               JDBC   \n",
       "1479            NHibernate                      Windows Forms   \n",
       "1488        Phyton /Jython                                JSF   \n",
       "\n",
       "                                  4                              5  \\\n",
       "12    Test Driven Development (TDD)                        BizTalk   \n",
       "13                          BizTalk                          NUnit   \n",
       "15                             Jest                           SCSS   \n",
       "16                          Magento                         jQuery   \n",
       "17                             Solr       Backoffice Konfiguration   \n",
       "...                             ...                            ...   \n",
       "1467                         Delphi                      Assembler   \n",
       "1474                         GitHub  Layouting (Flexbox, CSS Grid)   \n",
       "1475                          Log4J                         Spring   \n",
       "1479                     DevExpress                        ASP.NET   \n",
       "1488                         Castor       Struts (bis Version 1.3)   \n",
       "\n",
       "                          6                                   7  \\\n",
       "12                  Java FX  Behaviour Driven Development (BDD)   \n",
       "13                  ASP.NET                             ADO.NET   \n",
       "15                  Magento                                 PHP   \n",
       "16                  Node.js                               ITCSS   \n",
       "17        SAP ERP Anbindung                            Security   \n",
       "...                     ...                                 ...   \n",
       "1467                 Pascal                              VB/VBA   \n",
       "1474                    Yii                           Stylelint   \n",
       "1475            Spring Boot               ASP.NET MVC-Framework   \n",
       "1479  ASP.NET MVC-Framework                               NUnit   \n",
       "1488                Eclipse                              TestNG   \n",
       "\n",
       "                                           8                           9  \n",
       "12                                    Xerces              Phyton /Jython  \n",
       "13    Windows Communication Foundation (WCF)                 Silverlight  \n",
       "15                                     HTML5                        HTML  \n",
       "16                                 Storybook                       xHTML  \n",
       "17                                      WCMS  B2B Accelerator Experience  \n",
       "...                                      ...                         ...  \n",
       "1467                                  Groovy                      PL/SQL  \n",
       "1474                          Agile Methoden                        SCSS  \n",
       "1475                                 TopLink             Jakarta Commons  \n",
       "1479                  .NET Compact Framework            Entity Framework  \n",
       "1488                      SEO Tool Anbindung                    Security  \n",
       "\n",
       "[404 rows x 10 columns]"
      ]
     },
     "execution_count": 993,
     "metadata": {},
     "output_type": "execute_result"
    }
   ],
   "source": [
    "get_recommendations(preds,10)"
   ]
  },
  {
   "cell_type": "code",
   "execution_count": 994,
   "metadata": {},
   "outputs": [],
   "source": [
    "def get_recoms_for_employee(emp_id,n):\n",
    "    return get_top_n(preds, n)[emp_id]"
   ]
  },
  {
   "cell_type": "code",
   "execution_count": 995,
   "metadata": {},
   "outputs": [
    {
     "data": {
      "text/plain": [
       "[('TopLink', 4.487679418519185),\n",
       " ('StyleReport', 4.40619411760615),\n",
       " ('Xerces', 4.328752242921443),\n",
       " ('Castor', 4.294771125297062),\n",
       " ('Phyton /Jython', 4.227044061570951),\n",
       " ('Struts (bis Version 1.3)', 4.22541280321762),\n",
       " ('Eclipse', 4.197212510683182),\n",
       " ('Java ME', 4.193887017849553),\n",
       " ('Cocoon', 4.06173597976665),\n",
       " ('Kendo UI', 3.9887359207737756)]"
      ]
     },
     "execution_count": 995,
     "metadata": {},
     "output_type": "execute_result"
    }
   ],
   "source": [
    "get_recoms_for_employee(233,10)"
   ]
  },
  {
   "cell_type": "code",
   "execution_count": 996,
   "metadata": {},
   "outputs": [],
   "source": [
    "# def get_recoms_for_employee_2(emp_id,n):\n",
    "#     df_subset = df_rated[df_rated[\"person\"] == 233]\n",
    "#     recom_df = pd.DataFrame()\n",
    "#     recom_df[\"skill\"] = skills\n",
    "#     recom_df[\"person\"] = emp_id\n",
    "#     employee_ratings = np.zeros(len(skills))\n",
    "#     for i in range(0,len(skills)): \n",
    "#         try:\n",
    "#             employee_ratings[i] = df_subset[df_subset[\"skill\"] == skills[i]][\"rating\"]\n",
    "#         except ValueError:\n",
    "#             employee_ratings[i] = np.nan\n",
    "#     recom_df[\"rating\"] = employee_ratings\n",
    "#     recom_df = recom_df[[\"person\",\"skill\",\"rating\"]]\n",
    "#     #return recom_df.to_numpy()\n",
    "#     preds = model.test(recom_df.to_numpy())\n",
    "#     return get_top_n(preds,n)"
   ]
  },
  {
   "cell_type": "markdown",
   "metadata": {},
   "source": [
    "Measure precisions: "
   ]
  },
  {
   "cell_type": "code",
   "execution_count": 997,
   "metadata": {},
   "outputs": [],
   "source": [
    "def precision_at_k(k,holdout,recommendations):\n",
    "    precision = np.zeros(holdout[\"person\"].nunique())\n",
    "    \n",
    "    for i,emp in enumerate(holdout[\"person\"].unique()):\n",
    "        holdout_emp = holdout[holdout[\"person\"] == emp][\"skill\"].to_list()\n",
    "        recoms_emp = recommendations.loc[emp].to_list()\n",
    "\n",
    "        if len(recoms_emp)>k:\n",
    "            recoms_emp = recoms_emp[:k]\n",
    "\n",
    "        score = 0\n",
    "\n",
    "        for recom in recoms_emp:\n",
    "            if recom in holdout_emp:\n",
    "                score = score + 1\n",
    "\n",
    "        precision[i] = score/min(len(holdout_emp),k)\n",
    "\n",
    "    return np.mean(precision)"
   ]
  },
  {
   "cell_type": "code",
   "execution_count": 998,
   "metadata": {},
   "outputs": [],
   "source": [
    "def weighted_precision_at_k(k,holdout,recommendations):\n",
    "    precision = np.zeros(holdout[\"person\"].nunique())\n",
    "\n",
    "    for i,emp in enumerate(holdout[\"person\"].unique()):\n",
    "        holdout_emp = holdout[holdout[\"person\"] == emp][\"skill\"].to_list()\n",
    "        recoms_emp = recommendations.loc[emp].to_list()\n",
    "\n",
    "        if len(recoms_emp)>k:\n",
    "            recoms_emp = recoms_emp[:k]\n",
    "\n",
    "        score = 0\n",
    "        num_hits = 0\n",
    "\n",
    "        for j,recom in enumerate(recoms_emp):\n",
    "            if recom in holdout_emp:\n",
    "                num_hits = num_hits + 1\n",
    "                score = score + (num_hits / (j+1))\n",
    "\n",
    "        precision[i] = score/min(len(holdout_emp),k)\n",
    "\n",
    "    return np.mean(precision)"
   ]
  },
  {
   "cell_type": "code",
   "execution_count": 999,
   "metadata": {},
   "outputs": [
    {
     "data": {
      "text/plain": [
       "0.480391822440533"
      ]
     },
     "execution_count": 999,
     "metadata": {},
     "output_type": "execute_result"
    }
   ],
   "source": [
    "precision_at_k(10,holdout,get_recommendations(preds,10))"
   ]
  },
  {
   "cell_type": "code",
   "execution_count": 1000,
   "metadata": {},
   "outputs": [
    {
     "data": {
      "text/plain": [
       "0.26094505609736196"
      ]
     },
     "execution_count": 1000,
     "metadata": {},
     "output_type": "execute_result"
    }
   ],
   "source": [
    "weighted_precision_at_k(10,holdout,get_recommendations(preds,10))"
   ]
  },
  {
   "cell_type": "markdown",
   "metadata": {},
   "source": [
    "Recommendations in respect to top skills and skill categories:"
   ]
  },
  {
   "cell_type": "code",
   "execution_count": 979,
   "metadata": {},
   "outputs": [],
   "source": [
    "def evaluate_employee_recoms(emp_id,n):\n",
    "    fig, axes = plt.subplots(2,1,figsize=(10,8))\n",
    "    # get categories of actual skills\n",
    "    skill_catgegories = df[df[\"person\"] == emp_id][\"category\"].value_counts()\n",
    "    skill_catgegories.plot(ax=axes[0],\n",
    "                            kind=\"barh\",\n",
    "                            #ylabel=\"Count\",\n",
    "                            title=\"Category Count of Actual Skills - Employee \"+str(emp_id))\n",
    "    top_n_skills = df_rated[df_rated[\"person\"] == emp_id].sort_values(by=\"rating\",ascending=False).head(n).reset_index()[[\"skill\"]]\n",
    "    # get categories of recommended skills\n",
    "    recoms_for_emp = pd.DataFrame(get_recommendations(preds,n).loc[emp_id].T)\n",
    "    recoms_catgories = recoms_for_emp.replace({emp_id:category_dict}).value_counts()\n",
    "    indeces = []\n",
    "    for index in recoms_for_emp.replace({emp_id:category_dict}).value_counts().index:\n",
    "        indeces.append(index[0])\n",
    "    recoms_catgories.index = indeces\n",
    "    recoms_catgories.plot(ax = axes[1],\n",
    "                            kind = \"barh\",\n",
    "                            xticks = np.arange(0,recoms_catgories.max()+1,1),\n",
    "                            #ylabel=\"Count\",\n",
    "                            title = \"Category Count of Recommended Skills - Employee \"+str(emp_id))\n",
    "    # create of top skills and recommendation for better comparison\n",
    "    return_table = pd.concat([top_n_skills,recoms_for_emp],axis=1,ignore_index=True)\n",
    "    return_table.columns = [\"Top \" + str(n) + \" Actual Skills\",\"Recommendations\"]\n",
    "    return return_table"
   ]
  },
  {
   "cell_type": "code",
   "execution_count": 981,
   "metadata": {},
   "outputs": [
    {
     "data": {
      "text/html": [
       "<div>\n",
       "<style scoped>\n",
       "    .dataframe tbody tr th:only-of-type {\n",
       "        vertical-align: middle;\n",
       "    }\n",
       "\n",
       "    .dataframe tbody tr th {\n",
       "        vertical-align: top;\n",
       "    }\n",
       "\n",
       "    .dataframe thead th {\n",
       "        text-align: right;\n",
       "    }\n",
       "</style>\n",
       "<table border=\"1\" class=\"dataframe\">\n",
       "  <thead>\n",
       "    <tr style=\"text-align: right;\">\n",
       "      <th></th>\n",
       "      <th>Top 12 Actual Skills</th>\n",
       "      <th>Recommendations</th>\n",
       "    </tr>\n",
       "  </thead>\n",
       "  <tbody>\n",
       "    <tr>\n",
       "      <th>0</th>\n",
       "      <td>Microsoft Enterprise Library</td>\n",
       "      <td>Castor</td>\n",
       "    </tr>\n",
       "    <tr>\n",
       "      <th>1</th>\n",
       "      <td>Silverlight</td>\n",
       "      <td>TopLink</td>\n",
       "    </tr>\n",
       "    <tr>\n",
       "      <th>2</th>\n",
       "      <td>Spring</td>\n",
       "      <td>Xerces</td>\n",
       "    </tr>\n",
       "    <tr>\n",
       "      <th>3</th>\n",
       "      <td>Smalltalk</td>\n",
       "      <td>StyleReport</td>\n",
       "    </tr>\n",
       "    <tr>\n",
       "      <th>4</th>\n",
       "      <td>Perl</td>\n",
       "      <td>Eclipse</td>\n",
       "    </tr>\n",
       "    <tr>\n",
       "      <th>5</th>\n",
       "      <td>Assembler</td>\n",
       "      <td>Phyton /Jython</td>\n",
       "    </tr>\n",
       "    <tr>\n",
       "      <th>6</th>\n",
       "      <td>OpenShop</td>\n",
       "      <td>Jogl</td>\n",
       "    </tr>\n",
       "    <tr>\n",
       "      <th>7</th>\n",
       "      <td>Swing</td>\n",
       "      <td>Struts (bis Version 1.3)</td>\n",
       "    </tr>\n",
       "    <tr>\n",
       "      <th>8</th>\n",
       "      <td>Swing</td>\n",
       "      <td>Java ME</td>\n",
       "    </tr>\n",
       "    <tr>\n",
       "      <th>9</th>\n",
       "      <td>JSP</td>\n",
       "      <td>GEF</td>\n",
       "    </tr>\n",
       "    <tr>\n",
       "      <th>10</th>\n",
       "      <td>Pascal</td>\n",
       "      <td>Portlet API</td>\n",
       "    </tr>\n",
       "    <tr>\n",
       "      <th>11</th>\n",
       "      <td>Java EE</td>\n",
       "      <td>Cocoon</td>\n",
       "    </tr>\n",
       "  </tbody>\n",
       "</table>\n",
       "</div>"
      ],
      "text/plain": [
       "            Top 12 Actual Skills           Recommendations\n",
       "0   Microsoft Enterprise Library                    Castor\n",
       "1                    Silverlight                   TopLink\n",
       "2                         Spring                    Xerces\n",
       "3                      Smalltalk               StyleReport\n",
       "4                           Perl                   Eclipse\n",
       "5                      Assembler            Phyton /Jython\n",
       "6                       OpenShop                      Jogl\n",
       "7                          Swing  Struts (bis Version 1.3)\n",
       "8                          Swing                   Java ME\n",
       "9                            JSP                       GEF\n",
       "10                        Pascal               Portlet API\n",
       "11                       Java EE                    Cocoon"
      ]
     },
     "execution_count": 981,
     "metadata": {},
     "output_type": "execute_result"
    },
    {
     "data": {
      "image/png": "[encoded data removed]",
      "text/plain": [
       "<Figure size 1000x800 with 2 Axes>"
      ]
     },
     "metadata": {},
     "output_type": "display_data"
    }
   ],
   "source": [
    "evaluate_employee_recoms(233,12)"
   ]
  },
  {
   "cell_type": "markdown",
   "metadata": {},
   "source": [
    "Recommendations for new employee:"
   ]
  },
  {
   "cell_type": "code",
   "execution_count": 575,
   "metadata": {},
   "outputs": [],
   "source": [
    "def get_recoms_for_new_employee(new_id,skilldict,model):\n",
    "\n",
    "    all_ids = df_rated[\"person\"].unique()\n",
    "    all_skills = df_rated[\"skill\"].unique()\n",
    "\n",
    "    if new_id in all_ids:\n",
    "        return \"Error: ID already taken. Please choose a different ID an try again.\"\n",
    "    for skill in skilldict.keys():\n",
    "        if skill not in all_skills:\n",
    "            return \"Skill \" + skill + \" not in database.\"\n",
    "            # COMMENT: this is only a placeholder. For ideas on how to handle new skills, see \"HOW TO HANDLE NEW SKILL\" section \n",
    "\n",
    "    new_test = []\n",
    "    for skill in all_skills:\n",
    "        try:\n",
    "            skill_rating = skilldict[skill]\n",
    "            new_test.append((new_id,skill,skill_rating))\n",
    "        except KeyError:\n",
    "            new_test.append((new_id,skill,np.nan))\n",
    "    \n",
    "    predictions = model.test(new_test)\n",
    "\n",
    "    return get_top_n(predictions, n=10)[new_id]"
   ]
  },
  {
   "cell_type": "code",
   "execution_count": 567,
   "metadata": {},
   "outputs": [],
   "source": [
    "new_id = 8774\n",
    "new_skills = {\n",
    "                # \"Windows 11\":4,\n",
    "                # \"Englisch\":4,\n",
    "                # \"Chinesisch (Mandarin)\":2,\n",
    "                \"Python\":4,\n",
    "                \"MATLAB\":2,\n",
    "                \"Java\":2,\n",
    "                \"MySQL\":3,\n",
    "                \"SQLBase\":3,\n",
    "                \"Microsoft SQL Server\":3,\n",
    "                \"Google Cloud Platform\":2,\n",
    "                \"MongoDB\":1,\n",
    "                \"JSON\":1,\n",
    "                \"Docker\":2,\n",
    "                \"Power BI\":3,\n",
    "                \"Postman\":2,\n",
    "                \"PowerShell\":2,\n",
    "                \"Github actions\":2\n",
    "            }"
   ]
  },
  {
   "cell_type": "code",
   "execution_count": 576,
   "metadata": {},
   "outputs": [
    {
     "data": {
      "text/plain": [
       "[('WebDynpro', 4.043575536525699),\n",
       " ('TopLink', 4.0362669752127145),\n",
       " ('Castor', 4.03482606080636),\n",
       " ('Xerces', 4.011753790782273),\n",
       " ('Oracle XDK', 4.0050827344594655),\n",
       " ('StyleReport', 4.004023553452964),\n",
       " ('GEF', 3.985338579031691),\n",
       " ('Axure RP', 3.9700097332078617),\n",
       " ('Spring-Batch', 3.9650667833275097),\n",
       " ('Jakarta Commons', 3.9569549680843283),\n",
       " ('Struts (bis Version 1.3)', 3.9356861915340815),\n",
       " ('Xamarin', 3.933194825489371),\n",
       " ('Security', 3.9295618311037246),\n",
       " ('Tailwind CSS ', 3.9183477639052455),\n",
       " ('Jogl', 3.8937290017131767),\n",
       " ('ITCSS', 3.8923105994683485),\n",
       " ('Kendo UI', 3.8905994183194275),\n",
       " ('TestNG', 3.8869842664546512),\n",
       " ('Layouting (Flexbox, CSS Grid)', 3.8719214913833198),\n",
       " ('RFC', 3.8669094855470143),\n",
       " ('MSBuild', 3.861118608289978),\n",
       " ('Smartedit', 3.8583688551498425),\n",
       " ('Spring-JPA', 3.8536902585155577),\n",
       " ('Portlet API', 3.8436521934004757),\n",
       " ('Yii', 3.843157088655174),\n",
       " ('Java FX', 3.8418619603274777),\n",
       " ('Django', 3.837728637427281),\n",
       " ('Produktkonfigurator', 3.836751964103077),\n",
       " ('Animations (transition, @keyframes)', 3.8360823079200292),\n",
       " ('Swing/AWT', 3.8321083795181736),\n",
       " ('ePages', 3.8302949264599766),\n",
       " ('BEM - Block Element Modifier', 3.82903422226621),\n",
       " ('Storybook', 3.82849941272577),\n",
       " ('Express.js', 3.8272621706327388),\n",
       " ('Web Components', 3.8250740972705164),\n",
       " ('Browser Technologien', 3.8087869831120997),\n",
       " ('Spartacus', 3.806351542499516),\n",
       " ('BEMIT (BEM + ITCSS)', 3.805910531768556),\n",
       " ('Emarsys Anbindung', 3.799165878955977),\n",
       " ('Stylelint', 3.798095126256098),\n",
       " ('GitHub', 3.7896877137474956),\n",
       " ('Angular Material', 3.7875250509157414),\n",
       " ('Microsoft Enterprise Library', 3.7587051423523627),\n",
       " ('Principle', 3.757218206063843),\n",
       " ('Windows Identity Foundation (WIF)', 3.754130242412547),\n",
       " ('PWA', 3.7538823960596894),\n",
       " ('Velocity', 3.7520779261945756),\n",
       " ('SAP Commerce 6.x', 3.7501976384728914),\n",
       " ('Angular Theming', 3.746975811241125),\n",
       " ('SAP ERP Anbindung', 3.7451248074256838),\n",
       " ('Styled Components', 3.7407674868775667),\n",
       " ('EJB 3', 3.739680426280642),\n",
       " ('SAP Adaptive Server Enterprise 16.0', 3.737329124852985),\n",
       " ('RxJS', 3.7366762362185146),\n",
       " ('Sass/SCSS', 3.7230121041043422),\n",
       " ('nopCommerce', 3.712211408669307),\n",
       " ('Jest', 3.7107252844571503),\n",
       " ('SAP Cloud Platform Integration (SCPI)', 3.7039998230368294),\n",
       " ('osCommerce', 3.695846341497877),\n",
       " ('Objective-C', 3.691960508853158)]"
      ]
     },
     "execution_count": 576,
     "metadata": {},
     "output_type": "execute_result"
    }
   ],
   "source": [
    "get_recoms_for_new_employee(new_id,new_skills,model)"
   ]
  }
 ],
 "metadata": {
  "kernelspec": {
   "display_name": "Python 3.10.7 ('ds_ap')",
   "language": "python",
   "name": "python3"
  },
  "language_info": {
   "codemirror_mode": {
    "name": "ipython",
    "version": 3
   },
   "file_extension": ".py",
   "mimetype": "text/x-python",
   "name": "python",
   "nbconvert_exporter": "python",
   "pygments_lexer": "ipython3",
   "version": "3.10.7"
  },
  "orig_nbformat": 4,
  "vscode": {
   "interpreter": {
    "hash": "52cefc3a9eff3ff32f2531cecf7f574c5eb7023f21571ad3a673d9838121c504"
   }
  }
 },
 "nbformat": 4,
 "nbformat_minor": 2
}
