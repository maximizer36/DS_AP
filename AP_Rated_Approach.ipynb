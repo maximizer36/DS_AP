{
 "cells": [
  {
   "cell_type": "code",
   "execution_count": 472,
   "metadata": {},
   "outputs": [],
   "source": [
    "import pandas as pd\n",
    "import numpy as np\n",
    "import random\n",
    "from matplotlib import pyplot as plt\n",
    "import seaborn as sns\n",
    "import matplotlib.ticker as mtick\n",
    "from sklearn.model_selection import train_test_split as scikit_train_test_split\n",
    "from surprise import Reader, Dataset, accuracy\n",
    "from surprise import KNNBasic, KNNWithMeans, SVD, CoClustering, SlopeOne, SVDpp, NMF, BaselineOnly\n",
    "from surprise.model_selection import KFold, GridSearchCV\n",
    "from surprise.model_selection import train_test_split as surprise_train_test_split\n",
    "import time"
   ]
  },
  {
   "cell_type": "markdown",
   "metadata": {},
   "source": [
    "Data import:"
   ]
  },
  {
   "cell_type": "code",
   "execution_count": 473,
   "metadata": {},
   "outputs": [],
   "source": [
    "df = pd.read_csv(\"person-skills_2022-06-27.csv\",sep=\";\")"
   ]
  },
  {
   "cell_type": "markdown",
   "metadata": {},
   "source": [
    "Data cleaning - Drop all skills which occur less than x times in dataset: <br> <br>\n",
    "***for insights in why skills of this frequency are dropped please refer to Appendix I***"
   ]
  },
  {
   "cell_type": "code",
   "execution_count": 474,
   "metadata": {},
   "outputs": [],
   "source": [
    "def get_rare_skills(data,n):\n",
    "    skill_frequency = {}\n",
    "    for skill in data[\"skill\"].unique():\n",
    "        skill_frequency[skill] = data[data[\"skill\"] == skill][\"person\"].nunique()\n",
    "\n",
    "    return [s for s,f in skill_frequency.items() if f <= n]"
   ]
  },
  {
   "cell_type": "code",
   "execution_count": 475,
   "metadata": {},
   "outputs": [],
   "source": [
    "# rare_skills = get_rare_skills(df,5)\n",
    "# df = df[~df[\"skill\"].isin(rare_skills)]"
   ]
  },
  {
   "cell_type": "markdown",
   "metadata": {},
   "source": [
    "Declare various aiding variables"
   ]
  },
  {
   "cell_type": "code",
   "execution_count": 476,
   "metadata": {},
   "outputs": [],
   "source": [
    "persons = df[\"person\"].unique()\n",
    "skills = sorted(df[\"skill\"].unique())\n",
    "categories = df[\"category\"].unique()"
   ]
  },
  {
   "cell_type": "code",
   "execution_count": 477,
   "metadata": {},
   "outputs": [],
   "source": [
    "employee_dict = {}\n",
    "for n in range(1,len(persons)+1):\n",
    "    employee_dict[n] = persons[n-1]"
   ]
  },
  {
   "cell_type": "code",
   "execution_count": 478,
   "metadata": {},
   "outputs": [],
   "source": [
    "skills_to_category = pd.read_csv(\"mitarbeiterportal-skills_2022-06-21.csv\",sep=\";\",header=None)\n",
    "category_dict = dict(zip(skills_to_category[0],skills_to_category[1]))"
   ]
  },
  {
   "cell_type": "markdown",
   "metadata": {},
   "source": [
    "Since this notebook demonstrates the a recommender system which deals with rated skills and the underlying data does not offer ratings, this measure will be implemented in the following way: \n",
    "- For each skill, the frequency of the underlying category will be measured. The skills will be rated according to this frequency \n",
    "- For example: If an employee has most skills in the category \"Programmiersprachen\", these skills will receive the highest rating"
   ]
  },
  {
   "cell_type": "code",
   "execution_count": 479,
   "metadata": {},
   "outputs": [],
   "source": [
    "def scaler_1_5(x,old_max,old_min):\n",
    "    old_range = (old_max - old_min)  \n",
    "    if (old_range == 0):\n",
    "        return 1\n",
    "    else:\n",
    "        new_range = (5 - 1) \n",
    "        x_std = (x - old_min)/(old_max-old_min)\n",
    "        return round(x_std * new_range + 1)"
   ]
  },
  {
   "cell_type": "code",
   "execution_count": 480,
   "metadata": {},
   "outputs": [],
   "source": [
    "def get_rated_df(data):\n",
    "    # create dataframe for each employee and their category count\n",
    "    category_per_employee = pd.DataFrame(index=data[\"category\"].unique())\n",
    "    for p in data[\"person\"].unique():\n",
    "        p_skills = data[data[\"person\"] == p]\n",
    "        # count categories for each employee\n",
    "        category_count = p_skills[\"category\"].value_counts()\n",
    "        category_count = category_count.apply(lambda x:scaler_1_5(x,category_count.max(),category_count.min()))\n",
    "        skill_values = np.array([])\n",
    "        # add count for each category to an array and 0 if category wasn't found (and therefore is not part of resptive employee's skillset)\n",
    "        for cat in categories:\n",
    "            try:\n",
    "                skill_values = np.append(skill_values,category_count[cat])\n",
    "            except KeyError:\n",
    "                skill_values = np.append(skill_values,0)\n",
    "        # add employee data to dataframe\n",
    "        p_skills_df = pd.DataFrame(index=categories,columns=[p],data=skill_values)\n",
    "        category_per_employee = pd.concat([category_per_employee,p_skills_df],axis=1)\n",
    "\n",
    "    df_rated = pd.DataFrame()\n",
    "    for p in data[\"person\"].unique():\n",
    "        # get employee\n",
    "        df_subset = data[data[\"person\"] == p].copy()\n",
    "        # get skills of employee\n",
    "        p_skills = df_subset[\"skill\"].to_numpy()\n",
    "        # initialize empty array for ratings\n",
    "        ratings = np.zeros(len(p_skills))\n",
    "        # fill array for each skill with respective category value \n",
    "        for i in range(0,len(p_skills)): \n",
    "            ratings[i] = category_per_employee.loc[category_dict[p_skills[i]]][p]\n",
    "        # append ratings to subset and drop category column\n",
    "        df_subset[\"rating\"] = ratings\n",
    "        df_subset.drop(\"category\",axis=1,inplace=True)\n",
    "        # append user to df\n",
    "        df_rated = pd.concat([df_rated,df_subset],ignore_index=True)\n",
    "\n",
    "    return df_rated"
   ]
  },
  {
   "cell_type": "code",
   "execution_count": 481,
   "metadata": {},
   "outputs": [],
   "source": [
    "df_rated = get_rated_df(df)"
   ]
  },
  {
   "cell_type": "markdown",
   "metadata": {},
   "source": [
    "Normalization of data: <br>\n",
    "Since this notebook is dealing with rated skills and the used models should deal with the true ratings of the skills, no further transformation of the data is applied."
   ]
  },
  {
   "cell_type": "markdown",
   "metadata": {},
   "source": [
    "## Comparing Different Recommender Systems"
   ]
  },
  {
   "cell_type": "markdown",
   "metadata": {},
   "source": [
    "Define holdout data: Remove 10% of high rated datapoints from dataset"
   ]
  },
  {
   "cell_type": "code",
   "execution_count": 482,
   "metadata": {},
   "outputs": [],
   "source": [
    "def get_holdout(data,size):\n",
    "    # save original size of data for termination of while loop \n",
    "    size_data = len(data)\n",
    "    holdout = pd.DataFrame()\n",
    "    # get list which represents each employee with their number of entered skills in the data\n",
    "    employee_occurence = data[\"person\"].to_list()\n",
    "    rare_skills = get_rare_skills(df_rated,5)\n",
    "    # initialize random seed\n",
    "    seed = 0 \n",
    "    while len(holdout)/size_data < size:\n",
    "        # randomly select employee (affected by how often they occur in the data)\n",
    "        np.random.seed(seed)\n",
    "        df_subset_emp = data[(data[\"person\"] == np.random.choice(employee_occurence))]\n",
    "        # prune rare skills from dataset so skills do not get randomly eliminated from training data\n",
    "        df_subset_pruned = df_subset_emp[~df_subset_emp[\"skill\"].isin(rare_skills)]\n",
    "        # if condition causes that employee do not get completely deleted from dataset\n",
    "        if len(df_subset_pruned) > 1:\n",
    "            max_rating_emp = df_subset_pruned[\"rating\"].max()\n",
    "            holdout_emp = df_subset_pruned[df_subset_pruned[\"rating\"] == max_rating_emp].sample(n=1,random_state=seed)\n",
    "            data.drop(holdout_emp.index,inplace=True)\n",
    "            holdout = pd.concat([holdout,holdout_emp],ignore_index=True)\n",
    "        # change seed for next while iteration\n",
    "        seed = seed + 1\n",
    "    return holdout"
   ]
  },
  {
   "cell_type": "code",
   "execution_count": 483,
   "metadata": {},
   "outputs": [],
   "source": [
    "holdout = get_holdout(df_rated,0.1)"
   ]
  },
  {
   "cell_type": "code",
   "execution_count": 484,
   "metadata": {},
   "outputs": [],
   "source": [
    "reader = Reader(rating_scale=(1,5)) \n",
    "data = Dataset.load_from_df(df_rated,reader)"
   ]
  },
  {
   "cell_type": "code",
   "execution_count": 485,
   "metadata": {},
   "outputs": [],
   "source": [
    "NUM_TRIALS = 3\n",
    "NUM_SPLITS = 5"
   ]
  },
  {
   "cell_type": "code",
   "execution_count": 486,
   "metadata": {},
   "outputs": [],
   "source": [
    "def gridsearch_cv(algo_class,algo_name,param_grid,data,best_model_dict,best_params_dict):\n",
    "    start = time.time()\n",
    "    rmse = np.zeros(NUM_TRIALS)\n",
    "    mse = np.zeros(NUM_TRIALS)\n",
    "    mae = np.zeros(NUM_TRIALS)\n",
    "    models = []\n",
    "    params = []\n",
    "\n",
    "    for i in range(NUM_TRIALS):\n",
    "        print(\"Running CV for model\", algo_name ,\"in Iteration:\", i ,\"at\", time.time()-start)\n",
    "        cv = KFold(\n",
    "                        n_splits=NUM_SPLITS,\n",
    "                        random_state=i\n",
    "                        # min_n_ratings=i\n",
    "                    )\n",
    "                        # COMMENT: min_n_ratings -> what's the impact of this parameter? \n",
    "        gs = GridSearchCV(\n",
    "                        algo_class,\n",
    "                        param_grid, \n",
    "                        measures=[\"rmse\",\"mse\",\"mae\"], \n",
    "                        cv=cv,refit=\"rmse\"\n",
    "                    )\n",
    "        gs.fit(data)\n",
    "        rmse[i] = gs.best_score[\"rmse\"]\n",
    "        mse[i] = gs.best_score[\"mse\"]\n",
    "        mae[i] = gs.best_score[\"mae\"]\n",
    "        models.append(gs.best_estimator[\"rmse\"])\n",
    "        params.append(gs.best_params[\"rmse\"])\n",
    "\n",
    "    # hier noch erläutern, warum rmse als ausschlaggebene measure gewählt wird\n",
    "    best_model_dict[algo_name] = models[np.argmin(rmse)]\n",
    "    best_params_dict[algo_name] = params[np.argmin(rmse)]\n",
    "\n",
    "    print(\"Total time: \", (time.time()-start), \"sec.\")\n",
    "    return rmse, mse, mae "
   ]
  },
  {
   "cell_type": "code",
   "execution_count": 487,
   "metadata": {},
   "outputs": [],
   "source": [
    "def add_result(results, name, rmse, mse, mae):\n",
    "    '''\n",
    "    Function adding the results returned by nested_cv to a dataframe. \n",
    "    Results will be aggregated for better comparison. \n",
    "    Parameters: \n",
    "\n",
    "    Output:\n",
    "    results DataFrame containing an additional row\n",
    "    '''\n",
    "    row = pd.DataFrame({\n",
    "        \"name\":name,\n",
    "        \"rmse_mean\":rmse.mean(), \n",
    "        \"rmse_std\":rmse.std(), \n",
    "        \"mse_mean\":mse.mean(), \n",
    "        \"mse_std\":mse.std(), \n",
    "        \"mae_mean\":mae.mean(), \n",
    "        \"mae_std\":mae.std()\n",
    "        },index=[0])\n",
    "    return pd.concat([results,row],ignore_index=True)"
   ]
  },
  {
   "cell_type": "code",
   "execution_count": 488,
   "metadata": {},
   "outputs": [],
   "source": [
    "results = pd.DataFrame()\n",
    "best_model_dict = {}\n",
    "best_params_dict = {}"
   ]
  },
  {
   "cell_type": "code",
   "execution_count": 489,
   "metadata": {},
   "outputs": [],
   "source": [
    "algo_list = [\n",
    "                (BaselineOnly,\"Baseline\",{\n",
    "                                                \"verbose\":[False]\n",
    "                                    }),\n",
    "                (KNNBasic,\"k-NN\",{\n",
    "                                                \"k\": [20, 40, 60, 80],\n",
    "                                                \"min_k\": [1, 5, 10, 20],\n",
    "                                                \"verbose\":[False]\n",
    "                                    }),\n",
    "                (KNNWithMeans,\"Centered k-NN\",{\n",
    "                                                \"k\": [20, 40, 60, 80],\n",
    "                                                \"min_k\": [1, 5, 10, 20],\n",
    "                                                \"verbose\":[False]\n",
    "                                    }),\n",
    "                (SVD,\"SVD\",{\n",
    "                                                \"n_factors\": [1, 2, 5, 10, 20, 40],\n",
    "                                                \"n_epochs\": [100, 200, 500, 1000],\n",
    "                                                \"biased\":[True,False],\n",
    "                                                \"random_state\":[1]\n",
    "                                    }),\n",
    "                (SVDpp,\"SVD++\",{\n",
    "                                                \"n_factors\": [1, 2, 5, 10, 20, 40],\n",
    "                                                \"n_epochs\": [100, 200, 500, 1000],\n",
    "                                                \"random_state\":[1]\n",
    "                                    }),\n",
    "                (CoClustering,\"CoClustering\",{\n",
    "                                                \"n_cltr_u\": [2, 3, 4],\n",
    "                                                \"n_cltr_i\": [2, 3, 4],\n",
    "                                                \"n_epochs\":[10, 20, 40, 60]\n",
    "                                    }),\n",
    "                (SlopeOne,\"SlopeOne\",{\n",
    "                                    }),\n",
    "                (NMF,\"NMF\",{\n",
    "                                                \"n_factors\": [10, 15, 20, 40],\n",
    "                                                \"n_epochs\": [20, 40, 80, 120],\n",
    "                                                \"biased\":[True,False],\n",
    "                                                \"random_state\":[1]\n",
    "                                    })\n",
    "            ]"
   ]
  },
  {
   "cell_type": "code",
   "execution_count": 490,
   "metadata": {},
   "outputs": [
    {
     "name": "stdout",
     "output_type": "stream",
     "text": [
      "Running CV for model Baseline in Iteration: 0 at 0.0\n",
      "Running CV for model Baseline in Iteration: 1 at 0.20511460304260254\n",
      "Running CV for model Baseline in Iteration: 2 at 0.3911416530609131\n",
      "Total time:  0.5746941566467285 sec.\n",
      "Running CV for model k-NN in Iteration: 0 at 0.0\n",
      "Running CV for model k-NN in Iteration: 1 at 18.626098155975342\n",
      "Running CV for model k-NN in Iteration: 2 at 37.076627254486084\n",
      "Total time:  55.399627685546875 sec.\n",
      "Running CV for model Centered k-NN in Iteration: 0 at 0.0\n",
      "Running CV for model Centered k-NN in Iteration: 1 at 20.368867874145508\n",
      "Running CV for model Centered k-NN in Iteration: 2 at 41.105027198791504\n",
      "Total time:  61.26301980018616 sec.\n",
      "Running CV for model SVD in Iteration: 0 at 0.0\n",
      "Running CV for model SVD in Iteration: 1 at 175.07665038108826\n",
      "Running CV for model SVD in Iteration: 2 at 346.3467044830322\n",
      "Total time:  517.1579802036285 sec.\n",
      "Running CV for model SVD++ in Iteration: 0 at 0.0\n",
      "Running CV for model SVD++ in Iteration: 1 at 1896.5604479312897\n",
      "Running CV for model SVD++ in Iteration: 2 at 3800.4782271385193\n",
      "Total time:  5692.0895981788635 sec.\n",
      "Running CV for model CoClustering in Iteration: 0 at 0.0\n",
      "Running CV for model CoClustering in Iteration: 1 at 52.53988742828369\n",
      "Running CV for model CoClustering in Iteration: 2 at 104.66604590415955\n",
      "Total time:  157.12373447418213 sec.\n",
      "Running CV for model SlopeOne in Iteration: 0 at 0.0\n",
      "Running CV for model SlopeOne in Iteration: 1 at 0.602013111114502\n",
      "Running CV for model SlopeOne in Iteration: 2 at 1.4121840000152588\n",
      "Total time:  2.040008783340454 sec.\n",
      "Running CV for model NMF in Iteration: 0 at 0.0\n",
      "Running CV for model NMF in Iteration: 1 at 33.727195024490356\n",
      "Running CV for model NMF in Iteration: 2 at 67.17875003814697\n",
      "Total time:  100.30496048927307 sec.\n"
     ]
    }
   ],
   "source": [
    "for algo in algo_list:\n",
    "    rmse, mse, mae = gridsearch_cv(algo[0],algo[1],algo[2],data,best_model_dict,best_params_dict)\n",
    "    results = add_result(results,algo[1],rmse, mse, mae)"
   ]
  },
  {
   "cell_type": "code",
   "execution_count": 491,
   "metadata": {},
   "outputs": [
    {
     "data": {
      "text/plain": [
       "{'Baseline': {'verbose': False},\n",
       " 'k-NN': {'k': 20, 'min_k': 1, 'verbose': False},\n",
       " 'Centered k-NN': {'k': 20, 'min_k': 1, 'verbose': False},\n",
       " 'SVD': {'n_factors': 20,\n",
       "  'n_epochs': 1000,\n",
       "  'biased': False,\n",
       "  'random_state': 1},\n",
       " 'SVD++': {'n_factors': 20, 'n_epochs': 1000, 'random_state': 1},\n",
       " 'CoClustering': {'n_cltr_u': 4, 'n_cltr_i': 4, 'n_epochs': 40},\n",
       " 'SlopeOne': {},\n",
       " 'NMF': {'n_factors': 40, 'n_epochs': 120, 'biased': False, 'random_state': 1}}"
      ]
     },
     "execution_count": 491,
     "metadata": {},
     "output_type": "execute_result"
    }
   ],
   "source": [
    "best_params_dict"
   ]
  },
  {
   "cell_type": "code",
   "execution_count": 492,
   "metadata": {},
   "outputs": [
    {
     "data": {
      "text/html": [
       "<div>\n",
       "<style scoped>\n",
       "    .dataframe tbody tr th:only-of-type {\n",
       "        vertical-align: middle;\n",
       "    }\n",
       "\n",
       "    .dataframe tbody tr th {\n",
       "        vertical-align: top;\n",
       "    }\n",
       "\n",
       "    .dataframe thead th {\n",
       "        text-align: right;\n",
       "    }\n",
       "</style>\n",
       "<table border=\"1\" class=\"dataframe\">\n",
       "  <thead>\n",
       "    <tr style=\"text-align: right;\">\n",
       "      <th></th>\n",
       "      <th>name</th>\n",
       "      <th>rmse_mean</th>\n",
       "      <th>rmse_std</th>\n",
       "      <th>mse_mean</th>\n",
       "      <th>mse_std</th>\n",
       "      <th>mae_mean</th>\n",
       "      <th>mae_std</th>\n",
       "    </tr>\n",
       "  </thead>\n",
       "  <tbody>\n",
       "    <tr>\n",
       "      <th>0</th>\n",
       "      <td>Baseline</td>\n",
       "      <td>0.928892</td>\n",
       "      <td>0.000972</td>\n",
       "      <td>0.862874</td>\n",
       "      <td>0.001819</td>\n",
       "      <td>0.730730</td>\n",
       "      <td>0.000697</td>\n",
       "    </tr>\n",
       "    <tr>\n",
       "      <th>1</th>\n",
       "      <td>k-NN</td>\n",
       "      <td>0.802842</td>\n",
       "      <td>0.000468</td>\n",
       "      <td>0.644647</td>\n",
       "      <td>0.000790</td>\n",
       "      <td>0.593389</td>\n",
       "      <td>0.000539</td>\n",
       "    </tr>\n",
       "    <tr>\n",
       "      <th>2</th>\n",
       "      <td>Centered k-NN</td>\n",
       "      <td>0.803522</td>\n",
       "      <td>0.001494</td>\n",
       "      <td>0.645734</td>\n",
       "      <td>0.002385</td>\n",
       "      <td>0.595748</td>\n",
       "      <td>0.000872</td>\n",
       "    </tr>\n",
       "    <tr>\n",
       "      <th>3</th>\n",
       "      <td>SVD</td>\n",
       "      <td>0.498733</td>\n",
       "      <td>0.000123</td>\n",
       "      <td>0.248961</td>\n",
       "      <td>0.000111</td>\n",
       "      <td>0.282802</td>\n",
       "      <td>0.000687</td>\n",
       "    </tr>\n",
       "    <tr>\n",
       "      <th>4</th>\n",
       "      <td>SVD++</td>\n",
       "      <td>0.500145</td>\n",
       "      <td>0.001203</td>\n",
       "      <td>0.250357</td>\n",
       "      <td>0.001285</td>\n",
       "      <td>0.290301</td>\n",
       "      <td>0.000793</td>\n",
       "    </tr>\n",
       "    <tr>\n",
       "      <th>5</th>\n",
       "      <td>CoClustering</td>\n",
       "      <td>0.855084</td>\n",
       "      <td>0.003582</td>\n",
       "      <td>0.731386</td>\n",
       "      <td>0.006008</td>\n",
       "      <td>0.641578</td>\n",
       "      <td>0.001099</td>\n",
       "    </tr>\n",
       "    <tr>\n",
       "      <th>6</th>\n",
       "      <td>SlopeOne</td>\n",
       "      <td>0.860400</td>\n",
       "      <td>0.001202</td>\n",
       "      <td>0.740386</td>\n",
       "      <td>0.002070</td>\n",
       "      <td>0.654524</td>\n",
       "      <td>0.000624</td>\n",
       "    </tr>\n",
       "    <tr>\n",
       "      <th>7</th>\n",
       "      <td>NMF</td>\n",
       "      <td>0.610937</td>\n",
       "      <td>0.002101</td>\n",
       "      <td>0.373405</td>\n",
       "      <td>0.002585</td>\n",
       "      <td>0.426612</td>\n",
       "      <td>0.000620</td>\n",
       "    </tr>\n",
       "  </tbody>\n",
       "</table>\n",
       "</div>"
      ],
      "text/plain": [
       "            name  rmse_mean  rmse_std  mse_mean   mse_std  mae_mean   mae_std\n",
       "0       Baseline   0.928892  0.000972  0.862874  0.001819  0.730730  0.000697\n",
       "1           k-NN   0.802842  0.000468  0.644647  0.000790  0.593389  0.000539\n",
       "2  Centered k-NN   0.803522  0.001494  0.645734  0.002385  0.595748  0.000872\n",
       "3            SVD   0.498733  0.000123  0.248961  0.000111  0.282802  0.000687\n",
       "4          SVD++   0.500145  0.001203  0.250357  0.001285  0.290301  0.000793\n",
       "5   CoClustering   0.855084  0.003582  0.731386  0.006008  0.641578  0.001099\n",
       "6       SlopeOne   0.860400  0.001202  0.740386  0.002070  0.654524  0.000624\n",
       "7            NMF   0.610937  0.002101  0.373405  0.002585  0.426612  0.000620"
      ]
     },
     "execution_count": 492,
     "metadata": {},
     "output_type": "execute_result"
    }
   ],
   "source": [
    "results"
   ]
  },
  {
   "cell_type": "markdown",
   "metadata": {},
   "source": [
    "Select best performing model and fit it on full data:"
   ]
  },
  {
   "cell_type": "code",
   "execution_count": 493,
   "metadata": {},
   "outputs": [
    {
     "data": {
      "text/plain": [
       "<surprise.prediction_algorithms.matrix_factorization.SVD at 0x1fe09585d80>"
      ]
     },
     "execution_count": 493,
     "metadata": {},
     "output_type": "execute_result"
    }
   ],
   "source": [
    "#model = NMF(n_factors= 40, n_epochs = 120, biased = False, random_state= 1)\n",
    "# model = SVD(n_factors = 40, n_epochs = 1000, biased = False, random_state = 1)\n",
    "model = best_model_dict[results.iloc[results[\"rmse_mean\"].idxmin()][\"name\"]]\n",
    "trainset = data.build_full_trainset()\n",
    "model.fit(trainset)"
   ]
  },
  {
   "cell_type": "code",
   "execution_count": 494,
   "metadata": {},
   "outputs": [],
   "source": [
    "# results_2 = pd.DataFrame()\n",
    "# best_model_dict_2 = {}\n",
    "# best_params_dict_2 = {}"
   ]
  },
  {
   "cell_type": "code",
   "execution_count": 495,
   "metadata": {},
   "outputs": [],
   "source": [
    "# algo_list_2 = [\n",
    "#                    (SVD,\"SVD\",{\n",
    "#                                                 \"n_factors\": [1,2,5,8,12,15,20,40],\n",
    "#                                                 \"n_epochs\": [100, 200, 500],\n",
    "#                                                 \"biased\":[True,False],\n",
    "#                                                 \"random_state\":[1]\n",
    "#                                     })]"
   ]
  },
  {
   "cell_type": "code",
   "execution_count": 496,
   "metadata": {},
   "outputs": [],
   "source": [
    "# for algo in algo_list_2:\n",
    "#     rmse, mse, mae = gridsearch_cv(algo[0],algo[1],algo[2],data,best_model_dict_2,best_params_dict_2)\n",
    "#     results_2 = add_result(results_2,algo[1],rmse, mse, mae)"
   ]
  },
  {
   "cell_type": "code",
   "execution_count": 497,
   "metadata": {},
   "outputs": [],
   "source": [
    "# best_model_dict_2"
   ]
  },
  {
   "cell_type": "code",
   "execution_count": 498,
   "metadata": {},
   "outputs": [],
   "source": [
    "# results_2"
   ]
  },
  {
   "cell_type": "code",
   "execution_count": 499,
   "metadata": {},
   "outputs": [],
   "source": [
    "# model = best_model_dict_2[\"SVD\"]\n",
    "# trainset = data.build_full_trainset()\n",
    "# model.fit(trainset)"
   ]
  },
  {
   "cell_type": "markdown",
   "metadata": {},
   "source": [
    "Predict ratings for all skills which the employees do not yet have (meaning which do not have an existing rating):"
   ]
  },
  {
   "cell_type": "code",
   "execution_count": 500,
   "metadata": {},
   "outputs": [],
   "source": [
    "preds = model.test(trainset.build_anti_testset())"
   ]
  },
  {
   "cell_type": "markdown",
   "metadata": {},
   "source": [
    "## Evaluation"
   ]
  },
  {
   "cell_type": "markdown",
   "metadata": {},
   "source": [
    "Idea for evaluating the recoms: define holdout a bit differently. Pick random users (say 30% of all users) and remove a prior defined amount of skills (say 2) from their skillset. The skills should have a high rating (say 4 or 5). If these skills then show up as recommendations, we have an objective indicator that the recommendations are somewhat meaningful. "
   ]
  },
  {
   "cell_type": "markdown",
   "metadata": {},
   "source": [
    "Evaluation using holdout data: "
   ]
  },
  {
   "cell_type": "code",
   "execution_count": 501,
   "metadata": {},
   "outputs": [],
   "source": [
    "from collections import defaultdict\n",
    "\n",
    "def get_top_n(predictions, n):\n",
    "    \"\"\"Return the top-N recommendation for each user from a set of predictions.\n",
    "\n",
    "    Args:\n",
    "        predictions(list of Prediction objects): The list of predictions, as\n",
    "            returned by the test method of an algorithm.\n",
    "        n(int): The number of recommendation to output for each user. Default\n",
    "            is 10.\n",
    "\n",
    "    Returns:\n",
    "    A dict where keys are user (raw) ids and values are lists of tuples:\n",
    "        [(raw item id, rating estimation), ...] of size n.\n",
    "    \"\"\"\n",
    "\n",
    "    # First map the predictions to each user.\n",
    "    top_n = {}\n",
    "    \n",
    "    for uid, iid, true_r, est, _ in predictions:\n",
    "        try:\n",
    "                top_n[uid].append((iid, est))\n",
    "        except KeyError:\n",
    "                top_n[uid] = [(iid, est)]\n",
    "\n",
    "    # Then sort the predictions for each user and retrieve the k highest ones.\n",
    "    for uid, user_ratings in top_n.items():\n",
    "        user_ratings.sort(key=lambda x: x[1], reverse=True)\n",
    "        top_n[uid] = user_ratings[:n]\n",
    "\n",
    "    return top_n"
   ]
  },
  {
   "cell_type": "markdown",
   "metadata": {},
   "source": [
    "Get recommendations for all users:"
   ]
  },
  {
   "cell_type": "code",
   "execution_count": 502,
   "metadata": {},
   "outputs": [],
   "source": [
    "def get_recommendations(preds,n):\n",
    "    top_n = get_top_n(preds, n)\n",
    "    recommendations = pd.DataFrame()\n",
    "\n",
    "    for uid, user_ratings in top_n.items():\n",
    "        recom = pd.DataFrame(index=[uid],data=[[iid for (iid, _) in user_ratings]])\n",
    "        recommendations = pd.concat([recommendations,recom])\n",
    "\n",
    "    return recommendations"
   ]
  },
  {
   "cell_type": "code",
   "execution_count": 503,
   "metadata": {},
   "outputs": [
    {
     "data": {
      "text/html": [
       "<div>\n",
       "<style scoped>\n",
       "    .dataframe tbody tr th:only-of-type {\n",
       "        vertical-align: middle;\n",
       "    }\n",
       "\n",
       "    .dataframe tbody tr th {\n",
       "        vertical-align: top;\n",
       "    }\n",
       "\n",
       "    .dataframe thead th {\n",
       "        text-align: right;\n",
       "    }\n",
       "</style>\n",
       "<table border=\"1\" class=\"dataframe\">\n",
       "  <thead>\n",
       "    <tr style=\"text-align: right;\">\n",
       "      <th></th>\n",
       "      <th>0</th>\n",
       "      <th>1</th>\n",
       "      <th>2</th>\n",
       "      <th>3</th>\n",
       "      <th>4</th>\n",
       "      <th>5</th>\n",
       "      <th>6</th>\n",
       "      <th>7</th>\n",
       "      <th>8</th>\n",
       "      <th>9</th>\n",
       "    </tr>\n",
       "  </thead>\n",
       "  <tbody>\n",
       "    <tr>\n",
       "      <th>12</th>\n",
       "      <td>StyleReport</td>\n",
       "      <td>Swing/AWT</td>\n",
       "      <td>Windows Workflow Foundation (WF)</td>\n",
       "      <td>pycharm</td>\n",
       "      <td>RFC</td>\n",
       "      <td>Smartedit</td>\n",
       "      <td>Security</td>\n",
       "      <td>Java FX</td>\n",
       "      <td>Spring-Batch</td>\n",
       "      <td>Windows Identity Foundation (WIF)</td>\n",
       "    </tr>\n",
       "    <tr>\n",
       "      <th>13</th>\n",
       "      <td>NHibernate</td>\n",
       "      <td>pycharm</td>\n",
       "      <td>Windows Identity Foundation (WIF)</td>\n",
       "      <td>Kendo UI</td>\n",
       "      <td>DevExpress</td>\n",
       "      <td>Microsoft Enterprise Library</td>\n",
       "      <td>NUnit</td>\n",
       "      <td>Windows Workflow Foundation (WF)</td>\n",
       "      <td>ASP.NET</td>\n",
       "      <td>ASP Generalist</td>\n",
       "    </tr>\n",
       "    <tr>\n",
       "      <th>15</th>\n",
       "      <td>Vue.js</td>\n",
       "      <td>Jest</td>\n",
       "      <td>RxJS</td>\n",
       "      <td>Magento</td>\n",
       "      <td>SCSS</td>\n",
       "      <td>NGRX</td>\n",
       "      <td>Browser Debugging</td>\n",
       "      <td>Storybook</td>\n",
       "      <td>Tailwind CSS</td>\n",
       "      <td>Cypress</td>\n",
       "    </tr>\n",
       "    <tr>\n",
       "      <th>16</th>\n",
       "      <td>Jest</td>\n",
       "      <td>Cypress</td>\n",
       "      <td>Storybook</td>\n",
       "      <td>React</td>\n",
       "      <td>Magento</td>\n",
       "      <td>Angular (2 und höher)</td>\n",
       "      <td>AngularJS</td>\n",
       "      <td>CSS</td>\n",
       "      <td>HTML5</td>\n",
       "      <td>Ajax</td>\n",
       "    </tr>\n",
       "    <tr>\n",
       "      <th>17</th>\n",
       "      <td>Spring-Batch</td>\n",
       "      <td>Java FX</td>\n",
       "      <td>Security</td>\n",
       "      <td>Produktkonfigurator</td>\n",
       "      <td>Spartacus</td>\n",
       "      <td>Smartedit</td>\n",
       "      <td>Emarsys Anbindung</td>\n",
       "      <td>RFC</td>\n",
       "      <td>SAP Commerce 6.x</td>\n",
       "      <td>Omni Commerce Connect (OCC) Rest APIs</td>\n",
       "    </tr>\n",
       "    <tr>\n",
       "      <th>...</th>\n",
       "      <td>...</td>\n",
       "      <td>...</td>\n",
       "      <td>...</td>\n",
       "      <td>...</td>\n",
       "      <td>...</td>\n",
       "      <td>...</td>\n",
       "      <td>...</td>\n",
       "      <td>...</td>\n",
       "      <td>...</td>\n",
       "      <td>...</td>\n",
       "    </tr>\n",
       "    <tr>\n",
       "      <th>1467</th>\n",
       "      <td>Delphi</td>\n",
       "      <td>Ruby</td>\n",
       "      <td>TypoScript</td>\n",
       "      <td>Pascal</td>\n",
       "      <td>C/C++</td>\n",
       "      <td>Python</td>\n",
       "      <td>VB/VBA</td>\n",
       "      <td>Assembler</td>\n",
       "      <td>VB.NET</td>\n",
       "      <td>Groovy</td>\n",
       "    </tr>\n",
       "    <tr>\n",
       "      <th>1474</th>\n",
       "      <td>HTML5</td>\n",
       "      <td>Agile Methoden</td>\n",
       "      <td>jQuery</td>\n",
       "      <td>AngularJS</td>\n",
       "      <td>Jest</td>\n",
       "      <td>Magento</td>\n",
       "      <td>SCSS</td>\n",
       "      <td>Tailwind CSS</td>\n",
       "      <td>Web Components</td>\n",
       "      <td>ePages</td>\n",
       "    </tr>\n",
       "    <tr>\n",
       "      <th>1475</th>\n",
       "      <td>Windows 8</td>\n",
       "      <td>Java EE</td>\n",
       "      <td>JUnit</td>\n",
       "      <td>Hibernate</td>\n",
       "      <td>JDBC</td>\n",
       "      <td>V-Modell</td>\n",
       "      <td>V-Modell XT</td>\n",
       "      <td>Wasserfallmodel</td>\n",
       "      <td>KANBAN</td>\n",
       "      <td>Log4J</td>\n",
       "    </tr>\n",
       "    <tr>\n",
       "      <th>1479</th>\n",
       "      <td>.NET Framework</td>\n",
       "      <td>LINQ</td>\n",
       "      <td>Windows Forms</td>\n",
       "      <td>.NET Compact Framework</td>\n",
       "      <td>ASP.NET</td>\n",
       "      <td>Kendo UI</td>\n",
       "      <td>DevExpress</td>\n",
       "      <td>ASP.NET MVC-Framework</td>\n",
       "      <td>Entity Framework</td>\n",
       "      <td>Windows Communication Foundation (WCF)</td>\n",
       "    </tr>\n",
       "    <tr>\n",
       "      <th>1488</th>\n",
       "      <td>StyleReport</td>\n",
       "      <td>Phyton /Jython</td>\n",
       "      <td>JSF</td>\n",
       "      <td>Eclipse</td>\n",
       "      <td>Struts (bis Version 1.3)</td>\n",
       "      <td>Xerces</td>\n",
       "      <td>RFC</td>\n",
       "      <td>Security</td>\n",
       "      <td>WebDynpro</td>\n",
       "      <td>Castor</td>\n",
       "    </tr>\n",
       "  </tbody>\n",
       "</table>\n",
       "<p>404 rows × 10 columns</p>\n",
       "</div>"
      ],
      "text/plain": [
       "                   0               1                                  2  \\\n",
       "12       StyleReport       Swing/AWT   Windows Workflow Foundation (WF)   \n",
       "13        NHibernate         pycharm  Windows Identity Foundation (WIF)   \n",
       "15            Vue.js            Jest                               RxJS   \n",
       "16              Jest         Cypress                          Storybook   \n",
       "17      Spring-Batch         Java FX                           Security   \n",
       "...              ...             ...                                ...   \n",
       "1467          Delphi            Ruby                         TypoScript   \n",
       "1474           HTML5  Agile Methoden                             jQuery   \n",
       "1475       Windows 8         Java EE                              JUnit   \n",
       "1479  .NET Framework            LINQ                      Windows Forms   \n",
       "1488     StyleReport  Phyton /Jython                                JSF   \n",
       "\n",
       "                           3                         4  \\\n",
       "12                   pycharm                       RFC   \n",
       "13                  Kendo UI                DevExpress   \n",
       "15                   Magento                      SCSS   \n",
       "16                     React                   Magento   \n",
       "17       Produktkonfigurator                 Spartacus   \n",
       "...                      ...                       ...   \n",
       "1467                  Pascal                     C/C++   \n",
       "1474               AngularJS                      Jest   \n",
       "1475               Hibernate                      JDBC   \n",
       "1479  .NET Compact Framework                   ASP.NET   \n",
       "1488                 Eclipse  Struts (bis Version 1.3)   \n",
       "\n",
       "                                 5                  6  \\\n",
       "12                       Smartedit           Security   \n",
       "13    Microsoft Enterprise Library              NUnit   \n",
       "15                            NGRX  Browser Debugging   \n",
       "16           Angular (2 und höher)          AngularJS   \n",
       "17                       Smartedit  Emarsys Anbindung   \n",
       "...                            ...                ...   \n",
       "1467                        Python             VB/VBA   \n",
       "1474                       Magento               SCSS   \n",
       "1475                      V-Modell        V-Modell XT   \n",
       "1479                      Kendo UI         DevExpress   \n",
       "1488                        Xerces                RFC   \n",
       "\n",
       "                                     7                 8  \\\n",
       "12                             Java FX      Spring-Batch   \n",
       "13    Windows Workflow Foundation (WF)           ASP.NET   \n",
       "15                           Storybook     Tailwind CSS    \n",
       "16                                 CSS             HTML5   \n",
       "17                                 RFC  SAP Commerce 6.x   \n",
       "...                                ...               ...   \n",
       "1467                         Assembler            VB.NET   \n",
       "1474                     Tailwind CSS     Web Components   \n",
       "1475                   Wasserfallmodel            KANBAN   \n",
       "1479             ASP.NET MVC-Framework  Entity Framework   \n",
       "1488                          Security         WebDynpro   \n",
       "\n",
       "                                           9  \n",
       "12         Windows Identity Foundation (WIF)  \n",
       "13                            ASP Generalist  \n",
       "15                                   Cypress  \n",
       "16                                      Ajax  \n",
       "17     Omni Commerce Connect (OCC) Rest APIs  \n",
       "...                                      ...  \n",
       "1467                                  Groovy  \n",
       "1474                                  ePages  \n",
       "1475                                   Log4J  \n",
       "1479  Windows Communication Foundation (WCF)  \n",
       "1488                                  Castor  \n",
       "\n",
       "[404 rows x 10 columns]"
      ]
     },
     "execution_count": 503,
     "metadata": {},
     "output_type": "execute_result"
    }
   ],
   "source": [
    "get_recommendations(preds,10)"
   ]
  },
  {
   "cell_type": "code",
   "execution_count": 504,
   "metadata": {},
   "outputs": [],
   "source": [
    "def get_recoms_for_employee(emp_id,n):\n",
    "    return get_top_n(preds, n)[emp_id]"
   ]
  },
  {
   "cell_type": "code",
   "execution_count": 505,
   "metadata": {},
   "outputs": [
    {
     "data": {
      "text/plain": [
       "[('NHibernate', 5),\n",
       " ('pycharm', 5),\n",
       " ('Windows Identity Foundation (WIF)', 5),\n",
       " ('Kendo UI', 5),\n",
       " ('DevExpress', 5),\n",
       " ('Microsoft Enterprise Library', 5),\n",
       " ('NUnit', 4.913451121326242),\n",
       " ('Windows Workflow Foundation (WF)', 4.806453341706118),\n",
       " ('ASP.NET', 4.8016882507195655),\n",
       " ('ASP Generalist', 4.731209411586295)]"
      ]
     },
     "execution_count": 505,
     "metadata": {},
     "output_type": "execute_result"
    }
   ],
   "source": [
    "get_recoms_for_employee(13,10)"
   ]
  },
  {
   "cell_type": "code",
   "execution_count": 506,
   "metadata": {},
   "outputs": [],
   "source": [
    "# def get_recoms_for_employee_2(emp_id,n):\n",
    "#     df_subset = df_rated[df_rated[\"person\"] == 233]\n",
    "#     recom_df = pd.DataFrame()\n",
    "#     recom_df[\"skill\"] = skills\n",
    "#     recom_df[\"person\"] = emp_id\n",
    "#     employee_ratings = np.zeros(len(skills))\n",
    "#     for i in range(0,len(skills)): \n",
    "#         try:\n",
    "#             employee_ratings[i] = df_subset[df_subset[\"skill\"] == skills[i]][\"rating\"]\n",
    "#         except ValueError:\n",
    "#             employee_ratings[i] = np.nan\n",
    "#     recom_df[\"rating\"] = employee_ratings\n",
    "#     recom_df = recom_df[[\"person\",\"skill\",\"rating\"]]\n",
    "#     #return recom_df.to_numpy()\n",
    "#     preds = model.test(recom_df.to_numpy())\n",
    "#     return get_top_n(preds,n)"
   ]
  },
  {
   "cell_type": "markdown",
   "metadata": {},
   "source": [
    "Measure precisions: "
   ]
  },
  {
   "cell_type": "code",
   "execution_count": 507,
   "metadata": {},
   "outputs": [],
   "source": [
    "def precision_at_k(k,holdout,recommendations):\n",
    "    precision = np.zeros(holdout[\"person\"].nunique())\n",
    "    \n",
    "    for i,emp in enumerate(holdout[\"person\"].unique()):\n",
    "        holdout_emp = holdout[holdout[\"person\"] == emp][\"skill\"].to_list()\n",
    "        recoms_emp = recommendations.loc[emp].to_list()\n",
    "\n",
    "        if len(recoms_emp)>k:\n",
    "            recoms_emp = recoms_emp[:k]\n",
    "\n",
    "        score = 0\n",
    "\n",
    "        for recom in recoms_emp:\n",
    "            if recom in holdout_emp:\n",
    "                score = score + 1\n",
    "\n",
    "        precision[i] = score/min(len(holdout_emp),k)\n",
    "\n",
    "    return np.mean(precision)"
   ]
  },
  {
   "cell_type": "code",
   "execution_count": 508,
   "metadata": {},
   "outputs": [],
   "source": [
    "def weighted_precision_at_k(k,holdout,recommendations):\n",
    "    precision = np.zeros(holdout[\"person\"].nunique())\n",
    "\n",
    "    for i,emp in enumerate(holdout[\"person\"].unique()):\n",
    "        holdout_emp = holdout[holdout[\"person\"] == emp][\"skill\"].to_list()\n",
    "        recoms_emp = recommendations.loc[emp].to_list()\n",
    "\n",
    "        if len(recoms_emp)>k:\n",
    "            recoms_emp = recoms_emp[:k]\n",
    "\n",
    "        score = 0\n",
    "        num_hits = 0\n",
    "\n",
    "        for j,recom in enumerate(recoms_emp):\n",
    "            if recom in holdout_emp:\n",
    "                num_hits = num_hits + 1\n",
    "                score = score + (num_hits / (j+1))\n",
    "\n",
    "        precision[i] = score/min(len(holdout_emp),k)\n",
    "\n",
    "    return np.mean(precision)"
   ]
  },
  {
   "cell_type": "code",
   "execution_count": 509,
   "metadata": {},
   "outputs": [
    {
     "data": {
      "text/plain": [
       "0.3685348160276527"
      ]
     },
     "execution_count": 509,
     "metadata": {},
     "output_type": "execute_result"
    }
   ],
   "source": [
    "precision_at_k(10,holdout,get_recommendations(preds,10))"
   ]
  },
  {
   "cell_type": "code",
   "execution_count": 510,
   "metadata": {},
   "outputs": [
    {
     "data": {
      "text/plain": [
       "0.17930888499409103"
      ]
     },
     "execution_count": 510,
     "metadata": {},
     "output_type": "execute_result"
    }
   ],
   "source": [
    "weighted_precision_at_k(10,holdout,get_recommendations(preds,10))"
   ]
  },
  {
   "cell_type": "markdown",
   "metadata": {},
   "source": [
    "Recommendations in respect to top skills and skill categories:"
   ]
  },
  {
   "cell_type": "code",
   "execution_count": 511,
   "metadata": {},
   "outputs": [],
   "source": [
    "def evaluate_employee_recoms(emp_id,n):\n",
    "    fig, axes = plt.subplots(2,1,figsize=(10,8))\n",
    "    # get categories of actual skills\n",
    "    skill_catgegories = df[df[\"person\"] == emp_id][\"category\"].value_counts()\n",
    "    skill_catgegories.plot(ax=axes[0],\n",
    "                            kind=\"barh\",\n",
    "                            #ylabel=\"Count\",\n",
    "                            title=\"Category Count of Actual Skills - Employee \"+str(emp_id))\n",
    "    top_n_skills = df_rated[df_rated[\"person\"] == emp_id].sort_values(by=\"rating\",ascending=False).head(n).reset_index()[[\"skill\"]]\n",
    "    # get categories of recommended skills\n",
    "    recoms_for_emp = pd.DataFrame(get_recommendations(preds,n).loc[emp_id].T)\n",
    "    recoms_catgories = recoms_for_emp.replace({emp_id:category_dict}).value_counts()\n",
    "    indeces = []\n",
    "    for index in recoms_for_emp.replace({emp_id:category_dict}).value_counts().index:\n",
    "        indeces.append(index[0])\n",
    "    recoms_catgories.index = indeces\n",
    "    recoms_catgories.plot(ax = axes[1],\n",
    "                            kind = \"barh\",\n",
    "                            xticks = np.arange(0,recoms_catgories.max()+1,1),\n",
    "                            #ylabel=\"Count\",\n",
    "                            title = \"Category Count of Recommended Skills - Employee \"+str(emp_id))\n",
    "    # create of top skills and recommendation for better comparison\n",
    "    return_table = pd.concat([top_n_skills,recoms_for_emp],axis=1,ignore_index=True)\n",
    "    return_table.columns = [\"Top \" + str(n) + \" Actual Skills\",\"Recommendations\"]\n",
    "    return return_table"
   ]
  },
  {
   "cell_type": "code",
   "execution_count": 512,
   "metadata": {},
   "outputs": [
    {
     "data": {
      "text/html": [
       "<div>\n",
       "<style scoped>\n",
       "    .dataframe tbody tr th:only-of-type {\n",
       "        vertical-align: middle;\n",
       "    }\n",
       "\n",
       "    .dataframe tbody tr th {\n",
       "        vertical-align: top;\n",
       "    }\n",
       "\n",
       "    .dataframe thead th {\n",
       "        text-align: right;\n",
       "    }\n",
       "</style>\n",
       "<table border=\"1\" class=\"dataframe\">\n",
       "  <thead>\n",
       "    <tr style=\"text-align: right;\">\n",
       "      <th></th>\n",
       "      <th>Top 12 Actual Skills</th>\n",
       "      <th>Recommendations</th>\n",
       "    </tr>\n",
       "  </thead>\n",
       "  <tbody>\n",
       "    <tr>\n",
       "      <th>0</th>\n",
       "      <td>Hardware</td>\n",
       "      <td>Prototyping</td>\n",
       "    </tr>\n",
       "    <tr>\n",
       "      <th>1</th>\n",
       "      <td>CI/CD Entwicklung</td>\n",
       "      <td>Virtual Reality</td>\n",
       "    </tr>\n",
       "    <tr>\n",
       "      <th>2</th>\n",
       "      <td>UI Design</td>\n",
       "      <td>User Experience</td>\n",
       "    </tr>\n",
       "    <tr>\n",
       "      <th>3</th>\n",
       "      <td>Grafik Design</td>\n",
       "      <td>UX Beratung</td>\n",
       "    </tr>\n",
       "    <tr>\n",
       "      <th>4</th>\n",
       "      <td>Produktstrategie</td>\n",
       "      <td>Mobile UX</td>\n",
       "    </tr>\n",
       "    <tr>\n",
       "      <th>5</th>\n",
       "      <td>Markenstrategie</td>\n",
       "      <td>Voice Interfaces</td>\n",
       "    </tr>\n",
       "    <tr>\n",
       "      <th>6</th>\n",
       "      <td>Design Thinking</td>\n",
       "      <td>Usability-Tests</td>\n",
       "    </tr>\n",
       "    <tr>\n",
       "      <th>7</th>\n",
       "      <td>Design Sprints</td>\n",
       "      <td>User Research</td>\n",
       "    </tr>\n",
       "    <tr>\n",
       "      <th>8</th>\n",
       "      <td>Marken</td>\n",
       "      <td>Conversion Optimierung</td>\n",
       "    </tr>\n",
       "    <tr>\n",
       "      <th>9</th>\n",
       "      <td>Automotive</td>\n",
       "      <td>Konzeption</td>\n",
       "    </tr>\n",
       "    <tr>\n",
       "      <th>10</th>\n",
       "      <td>Versicherungen</td>\n",
       "      <td>UX Strategie</td>\n",
       "    </tr>\n",
       "    <tr>\n",
       "      <th>11</th>\n",
       "      <td>B2B Commerce</td>\n",
       "      <td>Product Owner</td>\n",
       "    </tr>\n",
       "  </tbody>\n",
       "</table>\n",
       "</div>"
      ],
      "text/plain": [
       "   Top 12 Actual Skills         Recommendations\n",
       "0              Hardware             Prototyping\n",
       "1     CI/CD Entwicklung         Virtual Reality\n",
       "2             UI Design         User Experience\n",
       "3         Grafik Design             UX Beratung\n",
       "4      Produktstrategie               Mobile UX\n",
       "5       Markenstrategie        Voice Interfaces\n",
       "6       Design Thinking         Usability-Tests\n",
       "7        Design Sprints           User Research\n",
       "8                Marken  Conversion Optimierung\n",
       "9            Automotive              Konzeption\n",
       "10       Versicherungen            UX Strategie\n",
       "11         B2B Commerce           Product Owner"
      ]
     },
     "execution_count": 512,
     "metadata": {},
     "output_type": "execute_result"
    },
    {
     "data": {
      "image/png": "[encoded data removed]",
      "text/plain": [
       "<Figure size 1000x800 with 2 Axes>"
      ]
     },
     "metadata": {},
     "output_type": "display_data"
    }
   ],
   "source": [
    "evaluate_employee_recoms(60,12)"
   ]
  },
  {
   "cell_type": "markdown",
   "metadata": {},
   "source": [
    "Baseline Recommendations: "
   ]
  },
  {
   "cell_type": "code",
   "execution_count": 513,
   "metadata": {},
   "outputs": [],
   "source": [
    "baseline = BaselineOnly(verbose=False)\n",
    "baseline.fit(trainset)\n",
    "baseline_preds = baseline.test(trainset.build_anti_testset())"
   ]
  },
  {
   "cell_type": "code",
   "execution_count": 514,
   "metadata": {},
   "outputs": [
    {
     "data": {
      "text/html": [
       "<div>\n",
       "<style scoped>\n",
       "    .dataframe tbody tr th:only-of-type {\n",
       "        vertical-align: middle;\n",
       "    }\n",
       "\n",
       "    .dataframe tbody tr th {\n",
       "        vertical-align: top;\n",
       "    }\n",
       "\n",
       "    .dataframe thead th {\n",
       "        text-align: right;\n",
       "    }\n",
       "</style>\n",
       "<table border=\"1\" class=\"dataframe\">\n",
       "  <thead>\n",
       "    <tr style=\"text-align: right;\">\n",
       "      <th></th>\n",
       "      <th>0</th>\n",
       "      <th>1</th>\n",
       "      <th>2</th>\n",
       "      <th>3</th>\n",
       "      <th>4</th>\n",
       "      <th>5</th>\n",
       "      <th>6</th>\n",
       "      <th>7</th>\n",
       "      <th>8</th>\n",
       "      <th>9</th>\n",
       "    </tr>\n",
       "  </thead>\n",
       "  <tbody>\n",
       "    <tr>\n",
       "      <th>12</th>\n",
       "      <td>JSF</td>\n",
       "      <td>Jakarta Commons</td>\n",
       "      <td>TestNG</td>\n",
       "      <td>EJB 3</td>\n",
       "      <td>Struts 2</td>\n",
       "      <td>Vue.js</td>\n",
       "      <td>Xerces</td>\n",
       "      <td>Castor</td>\n",
       "      <td>RxJS</td>\n",
       "      <td>Angular (2 und höher)</td>\n",
       "    </tr>\n",
       "    <tr>\n",
       "      <th>13</th>\n",
       "      <td>JSF</td>\n",
       "      <td>Jakarta Commons</td>\n",
       "      <td>Hibernate</td>\n",
       "      <td>TestNG</td>\n",
       "      <td>EJB 3</td>\n",
       "      <td>JDBC</td>\n",
       "      <td>Struts 2</td>\n",
       "      <td>Spring</td>\n",
       "      <td>Log4J</td>\n",
       "      <td>Vue.js</td>\n",
       "    </tr>\n",
       "    <tr>\n",
       "      <th>15</th>\n",
       "      <td>JSF</td>\n",
       "      <td>Jakarta Commons</td>\n",
       "      <td>Hibernate</td>\n",
       "      <td>TestNG</td>\n",
       "      <td>EJB 3</td>\n",
       "      <td>JDBC</td>\n",
       "      <td>Struts 2</td>\n",
       "      <td>Spring</td>\n",
       "      <td>Log4J</td>\n",
       "      <td>Vue.js</td>\n",
       "    </tr>\n",
       "    <tr>\n",
       "      <th>16</th>\n",
       "      <td>JSF</td>\n",
       "      <td>Jakarta Commons</td>\n",
       "      <td>Hibernate</td>\n",
       "      <td>TestNG</td>\n",
       "      <td>EJB 3</td>\n",
       "      <td>JDBC</td>\n",
       "      <td>Struts 2</td>\n",
       "      <td>Spring</td>\n",
       "      <td>Log4J</td>\n",
       "      <td>Xerces</td>\n",
       "    </tr>\n",
       "    <tr>\n",
       "      <th>17</th>\n",
       "      <td>JSF</td>\n",
       "      <td>Jakarta Commons</td>\n",
       "      <td>Hibernate</td>\n",
       "      <td>TestNG</td>\n",
       "      <td>EJB 3</td>\n",
       "      <td>JDBC</td>\n",
       "      <td>Struts 2</td>\n",
       "      <td>Spring</td>\n",
       "      <td>Log4J</td>\n",
       "      <td>Vue.js</td>\n",
       "    </tr>\n",
       "    <tr>\n",
       "      <th>...</th>\n",
       "      <td>...</td>\n",
       "      <td>...</td>\n",
       "      <td>...</td>\n",
       "      <td>...</td>\n",
       "      <td>...</td>\n",
       "      <td>...</td>\n",
       "      <td>...</td>\n",
       "      <td>...</td>\n",
       "      <td>...</td>\n",
       "      <td>...</td>\n",
       "    </tr>\n",
       "    <tr>\n",
       "      <th>1467</th>\n",
       "      <td>JSF</td>\n",
       "      <td>Jakarta Commons</td>\n",
       "      <td>Hibernate</td>\n",
       "      <td>TestNG</td>\n",
       "      <td>EJB 3</td>\n",
       "      <td>JDBC</td>\n",
       "      <td>Struts 2</td>\n",
       "      <td>Spring</td>\n",
       "      <td>Log4J</td>\n",
       "      <td>Vue.js</td>\n",
       "    </tr>\n",
       "    <tr>\n",
       "      <th>1474</th>\n",
       "      <td>JSF</td>\n",
       "      <td>Jakarta Commons</td>\n",
       "      <td>Hibernate</td>\n",
       "      <td>TestNG</td>\n",
       "      <td>EJB 3</td>\n",
       "      <td>JDBC</td>\n",
       "      <td>Struts 2</td>\n",
       "      <td>Spring</td>\n",
       "      <td>Log4J</td>\n",
       "      <td>Vue.js</td>\n",
       "    </tr>\n",
       "    <tr>\n",
       "      <th>1475</th>\n",
       "      <td>JSF</td>\n",
       "      <td>Jakarta Commons</td>\n",
       "      <td>Hibernate</td>\n",
       "      <td>TestNG</td>\n",
       "      <td>EJB 3</td>\n",
       "      <td>JDBC</td>\n",
       "      <td>Struts 2</td>\n",
       "      <td>Spring</td>\n",
       "      <td>Log4J</td>\n",
       "      <td>Vue.js</td>\n",
       "    </tr>\n",
       "    <tr>\n",
       "      <th>1479</th>\n",
       "      <td>JSF</td>\n",
       "      <td>Jakarta Commons</td>\n",
       "      <td>Hibernate</td>\n",
       "      <td>TestNG</td>\n",
       "      <td>EJB 3</td>\n",
       "      <td>JDBC</td>\n",
       "      <td>Struts 2</td>\n",
       "      <td>Spring</td>\n",
       "      <td>Log4J</td>\n",
       "      <td>Vue.js</td>\n",
       "    </tr>\n",
       "    <tr>\n",
       "      <th>1488</th>\n",
       "      <td>JSF</td>\n",
       "      <td>Jakarta Commons</td>\n",
       "      <td>TestNG</td>\n",
       "      <td>EJB 3</td>\n",
       "      <td>JDBC</td>\n",
       "      <td>Struts 2</td>\n",
       "      <td>Spring</td>\n",
       "      <td>Log4J</td>\n",
       "      <td>Vue.js</td>\n",
       "      <td>Xerces</td>\n",
       "    </tr>\n",
       "  </tbody>\n",
       "</table>\n",
       "<p>404 rows × 10 columns</p>\n",
       "</div>"
      ],
      "text/plain": [
       "        0                1          2       3         4         5         6  \\\n",
       "12    JSF  Jakarta Commons     TestNG   EJB 3  Struts 2    Vue.js    Xerces   \n",
       "13    JSF  Jakarta Commons  Hibernate  TestNG     EJB 3      JDBC  Struts 2   \n",
       "15    JSF  Jakarta Commons  Hibernate  TestNG     EJB 3      JDBC  Struts 2   \n",
       "16    JSF  Jakarta Commons  Hibernate  TestNG     EJB 3      JDBC  Struts 2   \n",
       "17    JSF  Jakarta Commons  Hibernate  TestNG     EJB 3      JDBC  Struts 2   \n",
       "...   ...              ...        ...     ...       ...       ...       ...   \n",
       "1467  JSF  Jakarta Commons  Hibernate  TestNG     EJB 3      JDBC  Struts 2   \n",
       "1474  JSF  Jakarta Commons  Hibernate  TestNG     EJB 3      JDBC  Struts 2   \n",
       "1475  JSF  Jakarta Commons  Hibernate  TestNG     EJB 3      JDBC  Struts 2   \n",
       "1479  JSF  Jakarta Commons  Hibernate  TestNG     EJB 3      JDBC  Struts 2   \n",
       "1488  JSF  Jakarta Commons     TestNG   EJB 3      JDBC  Struts 2    Spring   \n",
       "\n",
       "           7       8                      9  \n",
       "12    Castor    RxJS  Angular (2 und höher)  \n",
       "13    Spring   Log4J                 Vue.js  \n",
       "15    Spring   Log4J                 Vue.js  \n",
       "16    Spring   Log4J                 Xerces  \n",
       "17    Spring   Log4J                 Vue.js  \n",
       "...      ...     ...                    ...  \n",
       "1467  Spring   Log4J                 Vue.js  \n",
       "1474  Spring   Log4J                 Vue.js  \n",
       "1475  Spring   Log4J                 Vue.js  \n",
       "1479  Spring   Log4J                 Vue.js  \n",
       "1488   Log4J  Vue.js                 Xerces  \n",
       "\n",
       "[404 rows x 10 columns]"
      ]
     },
     "execution_count": 514,
     "metadata": {},
     "output_type": "execute_result"
    }
   ],
   "source": [
    "baseline_recommendations = get_recommendations(baseline_preds,10)\n",
    "baseline_recommendations"
   ]
  },
  {
   "cell_type": "code",
   "execution_count": 515,
   "metadata": {},
   "outputs": [
    {
     "data": {
      "text/plain": [
       "0.14273775412743894"
      ]
     },
     "execution_count": 515,
     "metadata": {},
     "output_type": "execute_result"
    }
   ],
   "source": [
    "precision_at_k(10,holdout,baseline_recommendations) "
   ]
  },
  {
   "cell_type": "code",
   "execution_count": 516,
   "metadata": {},
   "outputs": [
    {
     "data": {
      "text/plain": [
       "0.08193403966701825"
      ]
     },
     "execution_count": 516,
     "metadata": {},
     "output_type": "execute_result"
    }
   ],
   "source": [
    "weighted_precision_at_k(10,holdout,baseline_recommendations) "
   ]
  },
  {
   "cell_type": "markdown",
   "metadata": {},
   "source": [
    "Baseline - most often occuring skills "
   ]
  },
  {
   "cell_type": "code",
   "execution_count": 517,
   "metadata": {},
   "outputs": [
    {
     "data": {
      "text/html": [
       "<div>\n",
       "<style scoped>\n",
       "    .dataframe tbody tr th:only-of-type {\n",
       "        vertical-align: middle;\n",
       "    }\n",
       "\n",
       "    .dataframe tbody tr th {\n",
       "        vertical-align: top;\n",
       "    }\n",
       "\n",
       "    .dataframe thead th {\n",
       "        text-align: right;\n",
       "    }\n",
       "</style>\n",
       "<table border=\"1\" class=\"dataframe\">\n",
       "  <thead>\n",
       "    <tr style=\"text-align: right;\">\n",
       "      <th></th>\n",
       "      <th>0</th>\n",
       "      <th>1</th>\n",
       "      <th>2</th>\n",
       "      <th>3</th>\n",
       "      <th>4</th>\n",
       "      <th>5</th>\n",
       "      <th>6</th>\n",
       "      <th>7</th>\n",
       "      <th>8</th>\n",
       "      <th>9</th>\n",
       "    </tr>\n",
       "  </thead>\n",
       "  <tbody>\n",
       "    <tr>\n",
       "      <th>12</th>\n",
       "      <td>Englisch</td>\n",
       "      <td>MySQL</td>\n",
       "      <td>SCRUM</td>\n",
       "      <td>GIT</td>\n",
       "      <td>HTML</td>\n",
       "      <td>JavaScript</td>\n",
       "      <td>JIRA</td>\n",
       "      <td>CSS</td>\n",
       "      <td>Java</td>\n",
       "      <td>SQL</td>\n",
       "    </tr>\n",
       "    <tr>\n",
       "      <th>13</th>\n",
       "      <td>Englisch</td>\n",
       "      <td>MySQL</td>\n",
       "      <td>SCRUM</td>\n",
       "      <td>GIT</td>\n",
       "      <td>HTML</td>\n",
       "      <td>JavaScript</td>\n",
       "      <td>JIRA</td>\n",
       "      <td>CSS</td>\n",
       "      <td>Java</td>\n",
       "      <td>SQL</td>\n",
       "    </tr>\n",
       "    <tr>\n",
       "      <th>15</th>\n",
       "      <td>Englisch</td>\n",
       "      <td>MySQL</td>\n",
       "      <td>SCRUM</td>\n",
       "      <td>GIT</td>\n",
       "      <td>HTML</td>\n",
       "      <td>JavaScript</td>\n",
       "      <td>JIRA</td>\n",
       "      <td>CSS</td>\n",
       "      <td>Java</td>\n",
       "      <td>SQL</td>\n",
       "    </tr>\n",
       "    <tr>\n",
       "      <th>16</th>\n",
       "      <td>Englisch</td>\n",
       "      <td>MySQL</td>\n",
       "      <td>SCRUM</td>\n",
       "      <td>GIT</td>\n",
       "      <td>HTML</td>\n",
       "      <td>JavaScript</td>\n",
       "      <td>JIRA</td>\n",
       "      <td>CSS</td>\n",
       "      <td>Java</td>\n",
       "      <td>SQL</td>\n",
       "    </tr>\n",
       "    <tr>\n",
       "      <th>17</th>\n",
       "      <td>Englisch</td>\n",
       "      <td>MySQL</td>\n",
       "      <td>SCRUM</td>\n",
       "      <td>GIT</td>\n",
       "      <td>HTML</td>\n",
       "      <td>JavaScript</td>\n",
       "      <td>JIRA</td>\n",
       "      <td>CSS</td>\n",
       "      <td>Java</td>\n",
       "      <td>SQL</td>\n",
       "    </tr>\n",
       "    <tr>\n",
       "      <th>...</th>\n",
       "      <td>...</td>\n",
       "      <td>...</td>\n",
       "      <td>...</td>\n",
       "      <td>...</td>\n",
       "      <td>...</td>\n",
       "      <td>...</td>\n",
       "      <td>...</td>\n",
       "      <td>...</td>\n",
       "      <td>...</td>\n",
       "      <td>...</td>\n",
       "    </tr>\n",
       "    <tr>\n",
       "      <th>1467</th>\n",
       "      <td>Englisch</td>\n",
       "      <td>MySQL</td>\n",
       "      <td>SCRUM</td>\n",
       "      <td>GIT</td>\n",
       "      <td>HTML</td>\n",
       "      <td>JavaScript</td>\n",
       "      <td>JIRA</td>\n",
       "      <td>CSS</td>\n",
       "      <td>Java</td>\n",
       "      <td>SQL</td>\n",
       "    </tr>\n",
       "    <tr>\n",
       "      <th>1474</th>\n",
       "      <td>Englisch</td>\n",
       "      <td>MySQL</td>\n",
       "      <td>SCRUM</td>\n",
       "      <td>GIT</td>\n",
       "      <td>HTML</td>\n",
       "      <td>JavaScript</td>\n",
       "      <td>JIRA</td>\n",
       "      <td>CSS</td>\n",
       "      <td>Java</td>\n",
       "      <td>SQL</td>\n",
       "    </tr>\n",
       "    <tr>\n",
       "      <th>1475</th>\n",
       "      <td>Englisch</td>\n",
       "      <td>MySQL</td>\n",
       "      <td>SCRUM</td>\n",
       "      <td>GIT</td>\n",
       "      <td>HTML</td>\n",
       "      <td>JavaScript</td>\n",
       "      <td>JIRA</td>\n",
       "      <td>CSS</td>\n",
       "      <td>Java</td>\n",
       "      <td>SQL</td>\n",
       "    </tr>\n",
       "    <tr>\n",
       "      <th>1479</th>\n",
       "      <td>Englisch</td>\n",
       "      <td>MySQL</td>\n",
       "      <td>SCRUM</td>\n",
       "      <td>GIT</td>\n",
       "      <td>HTML</td>\n",
       "      <td>JavaScript</td>\n",
       "      <td>JIRA</td>\n",
       "      <td>CSS</td>\n",
       "      <td>Java</td>\n",
       "      <td>SQL</td>\n",
       "    </tr>\n",
       "    <tr>\n",
       "      <th>1488</th>\n",
       "      <td>Englisch</td>\n",
       "      <td>MySQL</td>\n",
       "      <td>SCRUM</td>\n",
       "      <td>GIT</td>\n",
       "      <td>HTML</td>\n",
       "      <td>JavaScript</td>\n",
       "      <td>JIRA</td>\n",
       "      <td>CSS</td>\n",
       "      <td>Java</td>\n",
       "      <td>SQL</td>\n",
       "    </tr>\n",
       "  </tbody>\n",
       "</table>\n",
       "<p>404 rows × 10 columns</p>\n",
       "</div>"
      ],
      "text/plain": [
       "             0      1      2    3     4           5     6    7     8    9\n",
       "12    Englisch  MySQL  SCRUM  GIT  HTML  JavaScript  JIRA  CSS  Java  SQL\n",
       "13    Englisch  MySQL  SCRUM  GIT  HTML  JavaScript  JIRA  CSS  Java  SQL\n",
       "15    Englisch  MySQL  SCRUM  GIT  HTML  JavaScript  JIRA  CSS  Java  SQL\n",
       "16    Englisch  MySQL  SCRUM  GIT  HTML  JavaScript  JIRA  CSS  Java  SQL\n",
       "17    Englisch  MySQL  SCRUM  GIT  HTML  JavaScript  JIRA  CSS  Java  SQL\n",
       "...        ...    ...    ...  ...   ...         ...   ...  ...   ...  ...\n",
       "1467  Englisch  MySQL  SCRUM  GIT  HTML  JavaScript  JIRA  CSS  Java  SQL\n",
       "1474  Englisch  MySQL  SCRUM  GIT  HTML  JavaScript  JIRA  CSS  Java  SQL\n",
       "1475  Englisch  MySQL  SCRUM  GIT  HTML  JavaScript  JIRA  CSS  Java  SQL\n",
       "1479  Englisch  MySQL  SCRUM  GIT  HTML  JavaScript  JIRA  CSS  Java  SQL\n",
       "1488  Englisch  MySQL  SCRUM  GIT  HTML  JavaScript  JIRA  CSS  Java  SQL\n",
       "\n",
       "[404 rows x 10 columns]"
      ]
     },
     "execution_count": 517,
     "metadata": {},
     "output_type": "execute_result"
    }
   ],
   "source": [
    "most_common_skills = list(df[\"skill\"].value_counts().nlargest(10).index)\n",
    "\n",
    "recom_list = []\n",
    "for person in range(0,len(persons)):\n",
    "    recom_list.append(most_common_skills)\n",
    "\n",
    "baseline_2_recoms = pd.DataFrame(index=persons,columns=np.arange(0,10),data=recom_list)\n",
    "baseline_2_recoms"
   ]
  },
  {
   "cell_type": "code",
   "execution_count": 518,
   "metadata": {},
   "outputs": [
    {
     "data": {
      "text/plain": [
       "0.060032064401691905"
      ]
     },
     "execution_count": 518,
     "metadata": {},
     "output_type": "execute_result"
    }
   ],
   "source": [
    "precision_at_k(10,holdout,baseline_2_recoms)"
   ]
  },
  {
   "cell_type": "code",
   "execution_count": 519,
   "metadata": {},
   "outputs": [
    {
     "data": {
      "text/plain": [
       "0.012739677612528616"
      ]
     },
     "execution_count": 519,
     "metadata": {},
     "output_type": "execute_result"
    }
   ],
   "source": [
    "weighted_precision_at_k(10,holdout,baseline_2_recoms)"
   ]
  },
  {
   "cell_type": "markdown",
   "metadata": {},
   "source": [
    "Recommendations for new employee:"
   ]
  },
  {
   "cell_type": "code",
   "execution_count": 520,
   "metadata": {},
   "outputs": [],
   "source": [
    "def get_recoms_for_new_employee(new_id,skilldict,model):\n",
    "\n",
    "    all_ids = df_rated[\"person\"].unique()\n",
    "    all_skills = df_rated[\"skill\"].unique()\n",
    "\n",
    "    if new_id in all_ids:\n",
    "        return \"Error: ID already taken. Please choose a different ID an try again.\"\n",
    "    for skill in skilldict.keys():\n",
    "        if skill not in all_skills:\n",
    "            return \"Skill \" + skill + \" not in database.\"\n",
    "            # COMMENT: this is only a placeholder. For ideas on how to handle new skills, see \"HOW TO HANDLE NEW SKILL\" section \n",
    "\n",
    "    new_test = []\n",
    "    for skill in all_skills:\n",
    "        try:\n",
    "            skill_rating = skilldict[skill]\n",
    "            new_test.append((new_id,skill,skill_rating))\n",
    "        except KeyError:\n",
    "            new_test.append((new_id,skill,np.nan))\n",
    "    \n",
    "    predictions = model.test(new_test)\n",
    "\n",
    "    return get_top_n(predictions, n=10)[new_id]"
   ]
  },
  {
   "cell_type": "code",
   "execution_count": 521,
   "metadata": {},
   "outputs": [],
   "source": [
    "new_id = 8774\n",
    "new_skills = {\n",
    "                # \"Windows 11\":4,\n",
    "                # \"Englisch\":4,\n",
    "                # \"Chinesisch (Mandarin)\":2,\n",
    "                \"Python\":4,\n",
    "                \"MATLAB\":2,\n",
    "                \"Java\":2,\n",
    "                \"MySQL\":3,\n",
    "                \"SQLBase\":3,\n",
    "                \"Microsoft SQL Server\":3,\n",
    "                \"Google Cloud Platform\":2,\n",
    "                \"MongoDB\":1,\n",
    "                \"JSON\":1,\n",
    "                \"Docker\":2,\n",
    "                \"Power BI\":3,\n",
    "                \"Postman\":2,\n",
    "                \"PowerShell\":2,\n",
    "                \"Github actions\":2\n",
    "            }"
   ]
  },
  {
   "cell_type": "code",
   "execution_count": 522,
   "metadata": {},
   "outputs": [],
   "source": [
    "def get_recoms_for_new_employee_retrain(new_id,new_skills,n):\n",
    "    all_ids = df_rated[\"person\"].unique()\n",
    "    all_skills = df_rated[\"skill\"].unique()\n",
    "\n",
    "    if new_id in all_ids:\n",
    "        return \"Error: ID already taken. Please choose a different ID an try again.\"\n",
    "    for skill in new_skills.keys():\n",
    "        if skill not in all_skills:\n",
    "            return \"Skill \" + skill + \" not in database.\"\n",
    "            # COMMENT: this is only a placeholder. For ideas on how to handle new skills, see \"HOW TO HANDLE NEW SKILL\" section \n",
    "\n",
    "    new_employee_df = pd.DataFrame()\n",
    "    new_employee_df[\"skill\"] = new_skills.keys()\n",
    "    new_employee_df[\"rating\"] = new_skills.values()\n",
    "    new_employee_df[\"person\"] = new_id\n",
    "    new_employee_df = new_employee_df[[\"person\",\"skill\",\"rating\"]]\n",
    "\n",
    "    df_rated_new = pd.concat([df_rated,new_employee_df],ignore_index=True)\n",
    "    # COMMENT: right now this function creates a new rated df. In order for this to retain newly added employees, it needs to overwrite the old df with the new data. \n",
    "    # this had to be implemented later on\n",
    "\n",
    "    new_data = Dataset.load_from_df(df_rated_new,reader)\n",
    "\n",
    "    model = best_model_dict[results.iloc[results[\"rmse_mean\"].idxmin()][\"name\"]]\n",
    "    #  COMMENT: right now the best model from the initial gridearch is taken. if the model is indeed to be retrained, it should be executing a new gridsearch and take the best estimator from this one\n",
    "    trainset = new_data.build_full_trainset()\n",
    "    model.fit(trainset)\n",
    "\n",
    "    testset = trainset.build_anti_testset()\n",
    "    predictions = model.test(testset)\n",
    "\n",
    "    return get_top_n(predictions, n)[new_id]"
   ]
  },
  {
   "cell_type": "code",
   "execution_count": 523,
   "metadata": {},
   "outputs": [
    {
     "data": {
      "text/plain": [
       "[('Jogl', 3.927610868112854),\n",
       " ('StyleReport', 3.865403398857459),\n",
       " ('Spring-Batch', 3.848460836504676),\n",
       " ('Swing/AWT', 3.6596594703270444),\n",
       " ('BlackBerry OS', 3.628444285400502),\n",
       " ('JSP', 3.6178320190154594),\n",
       " ('Kotlin', 3.6130685875993325),\n",
       " ('Jakarta Commons', 3.563808641656002),\n",
       " ('Xerces', 3.5453036894799284),\n",
       " ('Plexus', 3.451917076714532),\n",
       " ('Google Web Toolkit', 3.451513181480583),\n",
       " ('JDBC', 3.4480114249266496),\n",
       " ('EJB 3', 3.4448466428916533),\n",
       " ('Log4J', 3.405942719775046),\n",
       " ('JSF', 3.3820802157330863),\n",
       " ('Swing', 3.38047679533575),\n",
       " ('SAP Commerce 6.x', 3.3775698871180326),\n",
       " ('Markdown ', 3.3758860001269655),\n",
       " ('Velocity', 3.3671333126030394),\n",
       " ('JUnit', 3.3547036253883773)]"
      ]
     },
     "execution_count": 523,
     "metadata": {},
     "output_type": "execute_result"
    }
   ],
   "source": [
    "get_recoms_for_new_employee_retrain(new_id,new_skills,20)"
   ]
  },
  {
   "cell_type": "markdown",
   "metadata": {},
   "source": [
    "## Appendix I - Effect of Dropping Rare Skills on Recommender Precision (Sparsity Reduction)"
   ]
  },
  {
   "cell_type": "code",
   "execution_count": 524,
   "metadata": {},
   "outputs": [],
   "source": [
    "min_absolute_support = [0, 1, 2, 5, 10, 20]"
   ]
  },
  {
   "cell_type": "markdown",
   "metadata": {},
   "source": [
    "rmse, mse und mae sind bei n = 0,1,2 nan? ??? ?? ?? ??? how "
   ]
  },
  {
   "cell_type": "code",
   "execution_count": 525,
   "metadata": {},
   "outputs": [
    {
     "name": "stdout",
     "output_type": "stream",
     "text": [
      "Running CV for model SVD in Iteration: 0 at 0.0\n",
      "Running CV for model SVD in Iteration: 1 at 36.20171356201172\n",
      "Running CV for model SVD in Iteration: 2 at 71.88472199440002\n",
      "Total time:  107.6806173324585 sec.\n",
      "[0.56603248 0.56505576 0.5608898 ]\n",
      "Running CV for model SVD in Iteration: 0 at 0.0\n",
      "Running CV for model SVD in Iteration: 1 at 36.28574728965759\n",
      "Running CV for model SVD in Iteration: 2 at 72.66853380203247\n",
      "Total time:  109.30836486816406 sec.\n",
      "[0.54731825 0.55587312 0.5535788 ]\n",
      "Running CV for model SVD in Iteration: 0 at 0.0\n",
      "Running CV for model SVD in Iteration: 1 at 36.45232105255127\n",
      "Running CV for model SVD in Iteration: 2 at 72.8338234424591\n",
      "Total time:  108.93416738510132 sec.\n",
      "[0.5378901  0.53717821 0.53659841]\n",
      "Running CV for model SVD in Iteration: 0 at 0.0\n",
      "Running CV for model SVD in Iteration: 1 at 36.087289333343506\n",
      "Running CV for model SVD in Iteration: 2 at 72.07714200019836\n",
      "Total time:  107.45893263816833 sec.\n",
      "[0.51180182 0.5036333  0.51955664]\n",
      "Running CV for model SVD in Iteration: 0 at 0.0\n",
      "Running CV for model SVD in Iteration: 1 at 34.17922115325928\n",
      "Running CV for model SVD in Iteration: 2 at 68.29760670661926\n",
      "Total time:  102.26492834091187 sec.\n",
      "[0.49873556 0.50212491 0.49906653]\n",
      "Running CV for model SVD in Iteration: 0 at 0.0009996891021728516\n",
      "Running CV for model SVD in Iteration: 1 at 31.665931701660156\n",
      "Running CV for model SVD in Iteration: 2 at 63.188695192337036\n",
      "Total time:  94.33921098709106 sec.\n",
      "[0.47106707 0.47814024 0.48856816]\n"
     ]
    },
    {
     "data": {
      "text/html": [
       "<div>\n",
       "<style scoped>\n",
       "    .dataframe tbody tr th:only-of-type {\n",
       "        vertical-align: middle;\n",
       "    }\n",
       "\n",
       "    .dataframe tbody tr th {\n",
       "        vertical-align: top;\n",
       "    }\n",
       "\n",
       "    .dataframe thead th {\n",
       "        text-align: right;\n",
       "    }\n",
       "</style>\n",
       "<table border=\"1\" class=\"dataframe\">\n",
       "  <thead>\n",
       "    <tr style=\"text-align: right;\">\n",
       "      <th></th>\n",
       "      <th>n</th>\n",
       "      <th>unique_skills</th>\n",
       "      <th>sparsity</th>\n",
       "      <th>precision_at_k</th>\n",
       "      <th>weighted_precision_at_k</th>\n",
       "      <th>SVD - n_factors</th>\n",
       "      <th>SVD - mean rmse</th>\n",
       "      <th>SVD - mean mse</th>\n",
       "      <th>SVD - mean mae</th>\n",
       "    </tr>\n",
       "  </thead>\n",
       "  <tbody>\n",
       "    <tr>\n",
       "      <th>0</th>\n",
       "      <td>0</td>\n",
       "      <td>735</td>\n",
       "      <td>0.074517</td>\n",
       "      <td>0.361901</td>\n",
       "      <td>0.190219</td>\n",
       "      <td>20</td>\n",
       "      <td>0.563993</td>\n",
       "      <td>0.318259</td>\n",
       "      <td>0.347342</td>\n",
       "    </tr>\n",
       "    <tr>\n",
       "      <th>1</th>\n",
       "      <td>1</td>\n",
       "      <td>666</td>\n",
       "      <td>0.082206</td>\n",
       "      <td>0.325092</td>\n",
       "      <td>0.157133</td>\n",
       "      <td>20</td>\n",
       "      <td>0.552257</td>\n",
       "      <td>0.305218</td>\n",
       "      <td>0.340794</td>\n",
       "    </tr>\n",
       "    <tr>\n",
       "      <th>2</th>\n",
       "      <td>2</td>\n",
       "      <td>615</td>\n",
       "      <td>0.088861</td>\n",
       "      <td>0.364285</td>\n",
       "      <td>0.183160</td>\n",
       "      <td>20</td>\n",
       "      <td>0.537222</td>\n",
       "      <td>0.288718</td>\n",
       "      <td>0.334185</td>\n",
       "    </tr>\n",
       "    <tr>\n",
       "      <th>3</th>\n",
       "      <td>5</td>\n",
       "      <td>511</td>\n",
       "      <td>0.105193</td>\n",
       "      <td>0.408774</td>\n",
       "      <td>0.226889</td>\n",
       "      <td>20</td>\n",
       "      <td>0.511664</td>\n",
       "      <td>0.262033</td>\n",
       "      <td>0.320046</td>\n",
       "    </tr>\n",
       "    <tr>\n",
       "      <th>4</th>\n",
       "      <td>10</td>\n",
       "      <td>393</td>\n",
       "      <td>0.131713</td>\n",
       "      <td>0.423984</td>\n",
       "      <td>0.222375</td>\n",
       "      <td>20</td>\n",
       "      <td>0.499976</td>\n",
       "      <td>0.250118</td>\n",
       "      <td>0.307673</td>\n",
       "    </tr>\n",
       "    <tr>\n",
       "      <th>5</th>\n",
       "      <td>20</td>\n",
       "      <td>270</td>\n",
       "      <td>0.178086</td>\n",
       "      <td>0.581825</td>\n",
       "      <td>0.327574</td>\n",
       "      <td>20</td>\n",
       "      <td>0.479258</td>\n",
       "      <td>0.229876</td>\n",
       "      <td>0.289835</td>\n",
       "    </tr>\n",
       "  </tbody>\n",
       "</table>\n",
       "</div>"
      ],
      "text/plain": [
       "    n  unique_skills  sparsity  precision_at_k  weighted_precision_at_k  \\\n",
       "0   0            735  0.074517        0.361901                 0.190219   \n",
       "1   1            666  0.082206        0.325092                 0.157133   \n",
       "2   2            615  0.088861        0.364285                 0.183160   \n",
       "3   5            511  0.105193        0.408774                 0.226889   \n",
       "4  10            393  0.131713        0.423984                 0.222375   \n",
       "5  20            270  0.178086        0.581825                 0.327574   \n",
       "\n",
       "   SVD - n_factors  SVD - mean rmse  SVD - mean mse  SVD - mean mae  \n",
       "0               20         0.563993        0.318259        0.347342  \n",
       "1               20         0.552257        0.305218        0.340794  \n",
       "2               20         0.537222        0.288718        0.334185  \n",
       "3               20         0.511664        0.262033        0.320046  \n",
       "4               20         0.499976        0.250118        0.307673  \n",
       "5               20         0.479258        0.229876        0.289835  "
      ]
     },
     "execution_count": 525,
     "metadata": {},
     "output_type": "execute_result"
    }
   ],
   "source": [
    "result_df = pd.DataFrame()#columns = [\"n\",\"sparsity\",\"precision_at_k\",\"weighted_precision_at_k\",\"SVD - n_factors\"])\n",
    "for n in min_absolute_support:\n",
    "    # get data \n",
    "    df = pd.read_csv(\"person-skills_2022-06-27.csv\",sep=\";\")\n",
    "    # trim dataset according to min absolute support of skills and insert ratings afterwards\n",
    "    rare_skills = get_rare_skills(df,n)\n",
    "    df_rated = get_rated_df(df[~df[\"skill\"].isin(rare_skills)])\n",
    "    # get holdout for later precision measurement \n",
    "    holdout = get_holdout(df_rated,0.1)\n",
    "    # transform data to surprise dataset\n",
    "    reader = Reader(rating_scale=(1,5))\n",
    "    data = Dataset.load_from_df(df_rated,reader)\n",
    "    # measure sparsity (ratio between non-zero and zero value entries)\n",
    "    sparsity = len(df_rated)/(df_rated[\"person\"].nunique()*df_rated[\"skill\"].nunique())\n",
    "    algo = (SVD,\"SVD\",{\n",
    "                        \"n_factors\": [1, 2, 5, 10, 20, 40],\n",
    "                        #\"n_factors\": [20],\n",
    "                        #\"n_epochs\": [500],\n",
    "                        \"n_epochs\": [50, 100, 200],\n",
    "                        #\"biased\":[False],\n",
    "                        \"biased\":[True,False],\n",
    "                        \"random_state\":[1]\n",
    "                                        })\n",
    "    best_model_dict = {}\n",
    "    best_params_dict = {}\n",
    "    rmse, mse, mae = gridsearch_cv(algo[0],algo[1],algo[2],data,best_model_dict,best_params_dict)\n",
    "    # define model, fit and test it on the data\n",
    "    model = best_model_dict[\"SVD\"]\n",
    "    trainset = data.build_full_trainset()\n",
    "    model.fit(trainset)\n",
    "    preds = model.test(trainset.build_anti_testset())\n",
    "    print(rmse)\n",
    "    # save performance measures in df\n",
    "    new_entry = pd.DataFrame({\n",
    "                \"n\":n,\n",
    "                \"unique_skills\":df_rated[\"skill\"].nunique(),\n",
    "                \"sparsity\":sparsity,\n",
    "                \"precision_at_k\":precision_at_k(10,holdout,get_recommendations(preds,10)),\n",
    "                \"weighted_precision_at_k\":weighted_precision_at_k(10,holdout,get_recommendations(preds,10)),\n",
    "                \"SVD - n_factors\":best_params_dict[\"SVD\"][\"n_factors\"],\n",
    "                \"SVD - mean rmse\": np.mean(rmse),\n",
    "                \"SVD - mean mse\": np.mean(mse),\n",
    "                \"SVD - mean mae\": np.mean(mae)\n",
    "                },index=[0])\n",
    "    result_df = pd.concat([result_df,new_entry],ignore_index=True)\n",
    "result_df"
   ]
  },
  {
   "cell_type": "markdown",
   "metadata": {},
   "source": [
    "## Appendix II - Reverse Problem for User Recommendations on Items"
   ]
  },
  {
   "cell_type": "code",
   "execution_count": 526,
   "metadata": {},
   "outputs": [
    {
     "data": {
      "text/plain": [
       "<surprise.prediction_algorithms.matrix_factorization.SVD at 0x1fe10b3c460>"
      ]
     },
     "execution_count": 526,
     "metadata": {},
     "output_type": "execute_result"
    }
   ],
   "source": [
    "df_items = df_rated[[\"skill\",\"person\",\"rating\"]].sort_values(by=\"skill\")\n",
    "reader = Reader(rating_scale=(1,5)) \n",
    "data_items = Dataset.load_from_df(df_items,reader)\n",
    "model = SVD(n_factors = 40, n_epochs = 1000, biased = False, random_state = 1)\n",
    "trainset = data_items.build_full_trainset()\n",
    "model.fit(trainset)"
   ]
  },
  {
   "cell_type": "code",
   "execution_count": 527,
   "metadata": {},
   "outputs": [],
   "source": [
    "preds = model.test(trainset.build_anti_testset())"
   ]
  },
  {
   "cell_type": "code",
   "execution_count": 528,
   "metadata": {},
   "outputs": [
    {
     "data": {
      "text/plain": [
       "[(1467, 4.864081714550778),\n",
       " (557, 4.8376254268004555),\n",
       " (1176, 4.826055747576279),\n",
       " (319, 4.819753842651815),\n",
       " (172, 4.773519718893669),\n",
       " (942, 4.747092928465232),\n",
       " (1290, 4.715950846172606),\n",
       " (147, 4.694484041464714),\n",
       " (855, 4.671964733867797),\n",
       " (464, 4.663455855885267)]"
      ]
     },
     "execution_count": 528,
     "metadata": {},
     "output_type": "execute_result"
    }
   ],
   "source": [
    "get_top_n(preds,10)[\"Python\"]"
   ]
  },
  {
   "cell_type": "code",
   "execution_count": 529,
   "metadata": {},
   "outputs": [
    {
     "data": {
      "text/plain": [
       "Betriebssystem                               17\n",
       "Dienste                                      14\n",
       "Programmiersprachen / Scriptsprachen         10\n",
       "Produkterfahrung                             10\n",
       "Java Frameworks                               7\n",
       "Applikationsserver                            7\n",
       "CI/CD, Build- und Versionskontrollsysteme     6\n",
       "Datenbank                                     5\n",
       "Technik/Tools                                 5\n",
       "Webentwicklung                                5\n",
       "Umgebungen                                    2\n",
       "Standards                                     2\n",
       "Grafik/Design                                 2\n",
       ".NET Frameworks und Tools                     1\n",
       "TYPO3                                         1\n",
       "Entwicklung                                   1\n",
       "Sprachen                                      1\n",
       "Name: category, dtype: int64"
      ]
     },
     "execution_count": 529,
     "metadata": {},
     "output_type": "execute_result"
    }
   ],
   "source": [
    "df[df[\"person\"] == 711][\"category\"].value_counts()"
   ]
  }
 ],
 "metadata": {
  "kernelspec": {
   "display_name": "Python 3.10.7 ('ds_ap')",
   "language": "python",
   "name": "python3"
  },
  "language_info": {
   "codemirror_mode": {
    "name": "ipython",
    "version": 3
   },
   "file_extension": ".py",
   "mimetype": "text/x-python",
   "name": "python",
   "nbconvert_exporter": "python",
   "pygments_lexer": "ipython3",
   "version": "3.10.7"
  },
  "orig_nbformat": 4,
  "vscode": {
   "interpreter": {
    "hash": "52cefc3a9eff3ff32f2531cecf7f574c5eb7023f21571ad3a673d9838121c504"
   }
  }
 },
 "nbformat": 4,
 "nbformat_minor": 2
}
