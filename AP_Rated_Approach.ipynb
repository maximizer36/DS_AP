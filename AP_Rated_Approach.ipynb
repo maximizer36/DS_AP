{
 "cells": [
  {
   "cell_type": "markdown",
   "metadata": {},
   "source": [
    "# DS - Application Project <br>\n",
    "# Developement of a Recommender System for Employee Skills - Rated Approach"
   ]
  },
  {
   "cell_type": "markdown",
   "metadata": {},
   "source": [
    "## Preprocessing"
   ]
  },
  {
   "cell_type": "markdown",
   "metadata": {},
   "source": [
    "Packages:"
   ]
  },
  {
   "cell_type": "code",
   "execution_count": 161,
   "metadata": {},
   "outputs": [],
   "source": [
    "import pandas as pd\n",
    "import numpy as np\n",
    "import random\n",
    "from matplotlib import pyplot as plt\n",
    "# from sklearn.model_selection import train_test_split as scikit_train_test_split\n",
    "from surprise import Reader, Dataset, accuracy\n",
    "from surprise import NormalPredictor, BaselineOnly, KNNBasic, KNNWithMeans, KNNWithZScore, KNNBaseline, SVD, SVDpp, CoClustering, SlopeOne, NMF\n",
    "from surprise.model_selection import KFold, GridSearchCV\n",
    "# from surprise.model_selection import train_test_split as surprise_train_test_split\n",
    "import time"
   ]
  },
  {
   "cell_type": "markdown",
   "metadata": {},
   "source": [
    "Data import:"
   ]
  },
  {
   "cell_type": "code",
   "execution_count": 162,
   "metadata": {},
   "outputs": [],
   "source": [
    "df = pd.read_csv(\"data/person-skills_2022-06-27.csv\",sep=\";\")"
   ]
  },
  {
   "cell_type": "markdown",
   "metadata": {},
   "source": [
    "Declare various aiding variables:"
   ]
  },
  {
   "cell_type": "code",
   "execution_count": 163,
   "metadata": {},
   "outputs": [],
   "source": [
    "PERSONS = df[\"person\"].unique()\n",
    "SKILLS = sorted(df[\"skill\"].unique())\n",
    "CATEGORIES = df[\"category\"].unique()"
   ]
  },
  {
   "cell_type": "code",
   "execution_count": 164,
   "metadata": {},
   "outputs": [],
   "source": [
    "employee_dict = {}\n",
    "for n in range(0,len(PERSONS)):\n",
    "    employee_dict[n] = PERSONS[n]"
   ]
  },
  {
   "cell_type": "code",
   "execution_count": 165,
   "metadata": {},
   "outputs": [],
   "source": [
    "skills_to_category = pd.read_csv(\"data/mitarbeiterportal-skills_2022-06-21.csv\",sep=\";\",header=None)\n",
    "category_dict = dict(zip(skills_to_category[0],skills_to_category[1]))"
   ]
  },
  {
   "cell_type": "markdown",
   "metadata": {},
   "source": [
    "Since this notebook demonstrates the a recommender system which deals with rated skills and the underlying data does not offer ratings, this measure will be implemented in the following way: \n",
    "- For each skill, the frequency of the underlying category will be measured. The skills will be rated according to this frequency \n",
    "- For example: If an employee has most skills in the category \"Programmiersprachen\", these skills will receive the highest rating\n",
    "- The ratings will be scaled to a range of 1 (being the lowest skill level) to 5 (being the highest skill level)"
   ]
  },
  {
   "cell_type": "code",
   "execution_count": 166,
   "metadata": {},
   "outputs": [],
   "source": [
    "def scaler_1_5(x:float,old_max:int,old_min:int):\n",
    "    '''\n",
    "    Function scaling a value x to a range of 1 (minimum) and 5 (maximum) with respective to the previous min and max values of the structure x is embedded in. \n",
    "    ----------\n",
    "    Parameters: \n",
    "    x : float\n",
    "    The data which is to be scaled\n",
    "    old_min : int \n",
    "    Min value of the structure x is embedded in.\n",
    "    old_max : int \n",
    "    Max value of the structure x is embedded in.\n",
    "    ----------\n",
    "    Returns: \n",
    "    Scaled x. \n",
    "    '''\n",
    "    old_range = (old_max - old_min)  \n",
    "    if (old_range == 0):\n",
    "        return 1\n",
    "    else:\n",
    "        new_range = (5 - 1) \n",
    "        x_std = (x - old_min)/(old_max-old_min)\n",
    "        return round(x_std * new_range + 1)"
   ]
  },
  {
   "cell_type": "code",
   "execution_count": 168,
   "metadata": {},
   "outputs": [],
   "source": [
    "def get_rated_df(data:pd.DataFrame):\n",
    "    '''\n",
    "    Function to add ratings to a skill dataset with underlying categories. \n",
    "    ----------\n",
    "    Parameters: \n",
    "    data : pd.DataFrame\n",
    "    The data with coulms: person, skill, category \n",
    "    ----------\n",
    "    Returns: \n",
    "    Pandas DataFrame containing ratings for each skill according to underlying category frequency of skills. \n",
    "    '''\n",
    "    category_per_employee = pd.DataFrame(index=data[\"category\"].unique())\n",
    "    df_rated = pd.DataFrame()\n",
    "    for p in data[\"person\"].unique():\n",
    "        p_skills = data[data[\"person\"] == p]\n",
    "        # # count categories for each employee\n",
    "        category_count = p_skills[\"category\"].value_counts()\n",
    "        category_count = category_count.apply(lambda x:scaler_1_5(x,category_count.max(),category_count.min()))\n",
    "        category_count\n",
    "        skill_values = np.array([])\n",
    "        # # add count for each category to an array and 0 if category wasn't found (and therefore is not part of resptive employee's skillset)\n",
    "        for cat in CATEGORIES:\n",
    "            try:\n",
    "                skill_values = np.append(skill_values,category_count[cat])\n",
    "            except KeyError:\n",
    "                skill_values = np.append(skill_values,0)\n",
    "        # add employee data to dataframe\n",
    "        p_skills_df = pd.DataFrame(index=CATEGORIES,columns=[p],data=skill_values)\n",
    "        df_p_rated = pd.merge(data[data[\"person\"] == p],p_skills_df,left_on=\"category\",right_index=True).rename(columns={p:\"rating\"}).drop(\"category\",axis=1)\n",
    "        df_rated = pd.concat([df_rated,df_p_rated],ignore_index=True)\n",
    "    return df_rated"
   ]
  },
  {
   "cell_type": "code",
   "execution_count": 170,
   "metadata": {},
   "outputs": [],
   "source": [
    "df_rated = get_rated_df(df)"
   ]
  },
  {
   "cell_type": "code",
   "execution_count": 171,
   "metadata": {},
   "outputs": [
    {
     "data": {
      "text/html": [
       "<div>\n",
       "<style scoped>\n",
       "    .dataframe tbody tr th:only-of-type {\n",
       "        vertical-align: middle;\n",
       "    }\n",
       "\n",
       "    .dataframe tbody tr th {\n",
       "        vertical-align: top;\n",
       "    }\n",
       "\n",
       "    .dataframe thead th {\n",
       "        text-align: right;\n",
       "    }\n",
       "</style>\n",
       "<table border=\"1\" class=\"dataframe\">\n",
       "  <thead>\n",
       "    <tr style=\"text-align: right;\">\n",
       "      <th></th>\n",
       "      <th>person</th>\n",
       "      <th>skill</th>\n",
       "      <th>rating</th>\n",
       "    </tr>\n",
       "  </thead>\n",
       "  <tbody>\n",
       "    <tr>\n",
       "      <th>0</th>\n",
       "      <td>12</td>\n",
       "      <td>Windows NT/2000/XP</td>\n",
       "      <td>4.0</td>\n",
       "    </tr>\n",
       "    <tr>\n",
       "      <th>1</th>\n",
       "      <td>12</td>\n",
       "      <td>MAC OS X</td>\n",
       "      <td>4.0</td>\n",
       "    </tr>\n",
       "    <tr>\n",
       "      <th>2</th>\n",
       "      <td>12</td>\n",
       "      <td>Windows 7</td>\n",
       "      <td>4.0</td>\n",
       "    </tr>\n",
       "    <tr>\n",
       "      <th>3</th>\n",
       "      <td>12</td>\n",
       "      <td>Windows 8</td>\n",
       "      <td>4.0</td>\n",
       "    </tr>\n",
       "    <tr>\n",
       "      <th>4</th>\n",
       "      <td>12</td>\n",
       "      <td>iOS</td>\n",
       "      <td>4.0</td>\n",
       "    </tr>\n",
       "    <tr>\n",
       "      <th>...</th>\n",
       "      <td>...</td>\n",
       "      <td>...</td>\n",
       "      <td>...</td>\n",
       "    </tr>\n",
       "    <tr>\n",
       "      <th>24581</th>\n",
       "      <td>1488</td>\n",
       "      <td>Promotion / Drools Engine</td>\n",
       "      <td>5.0</td>\n",
       "    </tr>\n",
       "    <tr>\n",
       "      <th>24582</th>\n",
       "      <td>1488</td>\n",
       "      <td>Hybris</td>\n",
       "      <td>5.0</td>\n",
       "    </tr>\n",
       "    <tr>\n",
       "      <th>24583</th>\n",
       "      <td>1488</td>\n",
       "      <td>Apache JMeter</td>\n",
       "      <td>1.0</td>\n",
       "    </tr>\n",
       "    <tr>\n",
       "      <th>24584</th>\n",
       "      <td>1488</td>\n",
       "      <td>Keycloak</td>\n",
       "      <td>1.0</td>\n",
       "    </tr>\n",
       "    <tr>\n",
       "      <th>24585</th>\n",
       "      <td>1488</td>\n",
       "      <td>SCRUM</td>\n",
       "      <td>1.0</td>\n",
       "    </tr>\n",
       "  </tbody>\n",
       "</table>\n",
       "<p>24586 rows × 3 columns</p>\n",
       "</div>"
      ],
      "text/plain": [
       "       person                      skill  rating\n",
       "0          12         Windows NT/2000/XP     4.0\n",
       "1          12                   MAC OS X     4.0\n",
       "2          12                  Windows 7     4.0\n",
       "3          12                  Windows 8     4.0\n",
       "4          12                        iOS     4.0\n",
       "...       ...                        ...     ...\n",
       "24581    1488  Promotion / Drools Engine     5.0\n",
       "24582    1488                     Hybris     5.0\n",
       "24583    1488              Apache JMeter     1.0\n",
       "24584    1488                   Keycloak     1.0\n",
       "24585    1488                      SCRUM     1.0\n",
       "\n",
       "[24586 rows x 3 columns]"
      ]
     },
     "execution_count": 171,
     "metadata": {},
     "output_type": "execute_result"
    }
   ],
   "source": [
    "df_rated"
   ]
  },
  {
   "cell_type": "markdown",
   "metadata": {},
   "source": [
    "Since this notebook is dealing with rated skills and the used models should deal with the true ratings of the skills, no further transformation, such as normalization of ratings, will be applied."
   ]
  },
  {
   "cell_type": "markdown",
   "metadata": {},
   "source": [
    "## Surpirse Library - Model Selection"
   ]
  },
  {
   "cell_type": "markdown",
   "metadata": {},
   "source": [
    "In this chapter, different recommender systems, making use of collaborative filtering and matrix factorization will be compared regardings their performance on the data. Afterwards the best performing model will be used for further evaluation. "
   ]
  },
  {
   "cell_type": "markdown",
   "metadata": {},
   "source": [
    "Convert the Pandas DataFrame into a data structure suitable for the surprise library. "
   ]
  },
  {
   "cell_type": "code",
   "execution_count": 176,
   "metadata": {},
   "outputs": [],
   "source": [
    "reader = Reader(rating_scale=(1,5)) \n",
    "data = Dataset.load_from_df(df_rated,reader)"
   ]
  },
  {
   "cell_type": "markdown",
   "metadata": {},
   "source": [
    "Define number of trials of the cross validation and splits of the data:"
   ]
  },
  {
   "cell_type": "code",
   "execution_count": 177,
   "metadata": {},
   "outputs": [],
   "source": [
    "NUM_TRIALS = 3\n",
    "NUM_SPLITS = 5"
   ]
  },
  {
   "cell_type": "markdown",
   "metadata": {},
   "source": [
    "Define cross validation procedure:"
   ]
  },
  {
   "cell_type": "code",
   "execution_count": 179,
   "metadata": {},
   "outputs": [],
   "source": [
    "def gridsearch_cv_surprise(algo_class,algo_name:str,param_grid:dict,data,best_model_dict:dict,best_params_dict:dict):\n",
    "    '''\n",
    "    Function performing a cross-validation of given recommender algorithms from the surprise library. \n",
    "    ----------\n",
    "    Parameters: \n",
    "    algo_class : surprise.prediction_algorithms\n",
    "    The class of the recommender algorithm.\n",
    "    algo_name : str\n",
    "    Name of the respective algorithm.\n",
    "    param_grid : dict\n",
    "    Parameter option which will be tested and optimized in the cross validation. \n",
    "    data : surprise.dataset\n",
    "    The underlying data which the recommendation should be performed on. \n",
    "    best_model_dict : dict\n",
    "    Dictionary which will save a copy of the best model resulting from cross validation.\n",
    "    best_params_dict : dict\n",
    "    Dictionary which will save the best parameter combination resulting from cross validation.\n",
    "    ----------\n",
    "    Returns: \n",
    "    RMSE, MSE and MAE for each run performed in the cross validation. \n",
    "    '''\n",
    "    start = time.time()\n",
    "    rmse = np.zeros(NUM_TRIALS)\n",
    "    mse = np.zeros(NUM_TRIALS)\n",
    "    mae = np.zeros(NUM_TRIALS)\n",
    "    models = []\n",
    "    params = []\n",
    "\n",
    "    for seed in range(NUM_TRIALS):\n",
    "        print(\"Running CV for model\", algo_name ,\"in Iteration:\", seed ,\"at\", time.time()-start)\n",
    "        cv = KFold(\n",
    "                        n_splits=NUM_SPLITS,\n",
    "                        random_state=seed\n",
    "                    )\n",
    "        gs = GridSearchCV(\n",
    "                        algo_class,\n",
    "                        param_grid, \n",
    "                        measures=[\"rmse\",\"mse\",\"mae\"], \n",
    "                        cv=cv,refit=\"rmse\"\n",
    "                    )\n",
    "        gs.fit(data)\n",
    "        rmse[seed] = gs.best_score[\"rmse\"]\n",
    "        mse[seed] = gs.best_score[\"mse\"]\n",
    "        mae[seed] = gs.best_score[\"mae\"]\n",
    "        models.append(gs.best_estimator[\"rmse\"])\n",
    "        params.append(gs.best_params[\"rmse\"])\n",
    "\n",
    "    # save the best model and parameter combination from all runs in the dictionaries\n",
    "    best_model_dict[algo_name] = models[np.argmin(rmse)]\n",
    "    best_params_dict[algo_name] = params[np.argmin(rmse)]\n",
    "\n",
    "    print(\"Total time: \", (time.time()-start), \"sec.\")\n",
    "    return rmse, mse, mae "
   ]
  },
  {
   "cell_type": "code",
   "execution_count": 180,
   "metadata": {},
   "outputs": [],
   "source": [
    "def add_result(results:pd.DataFrame, name:int, rmse, mse, mae):\n",
    "    '''\n",
    "    Function which saves results of cross validation in a DataFrame. \n",
    "    ----------\n",
    "    Parameters: \n",
    "    results : pd.DataFrame\n",
    "    DataFrame (empty or already containing results) which the results will be appended to. \n",
    "    name : str \n",
    "    Name of the algorithm of which the results are being protocolled. \n",
    "    rmse : array-like\n",
    "    RMSE values from the cross validation.\n",
    "    mse : array-like\n",
    "    MSE values from the cross validation.\n",
    "    mae : array-like\n",
    "    MAE values from the cross validation. \n",
    "    ----------\n",
    "    Returns: \n",
    "    Results DataFrame with an extra row containing the new results. \n",
    "    '''\n",
    "    row = pd.DataFrame({\n",
    "        \"name\":name,\n",
    "        \"rmse_mean\":rmse.mean(), \n",
    "        \"rmse_std\":rmse.std(), \n",
    "        \"mse_mean\":mse.mean(), \n",
    "        \"mse_std\":mse.std(), \n",
    "        \"mae_mean\":mae.mean(), \n",
    "        \"mae_std\":mae.std()\n",
    "        },index=[0])\n",
    "    return pd.concat([results,row],ignore_index=True)"
   ]
  },
  {
   "cell_type": "code",
   "execution_count": 181,
   "metadata": {},
   "outputs": [],
   "source": [
    "results = pd.DataFrame()\n",
    "best_model_dict = {}\n",
    "best_params_dict = {}"
   ]
  },
  {
   "cell_type": "markdown",
   "metadata": {},
   "source": [
    "Define algorithms to be compared as well as their individual parameter grid:"
   ]
  },
  {
   "cell_type": "code",
   "execution_count": 182,
   "metadata": {},
   "outputs": [],
   "source": [
    "algo_list = [\n",
    "                (NormalPredictor,\"Normal Predictor\",{\n",
    "                                    }),\n",
    "                (BaselineOnly,\"Baseline\",{\n",
    "                                                \"verbose\":[False]\n",
    "                                    }),\n",
    "                (KNNBasic,\"k-NN\",{\n",
    "                                                \"k\": [20, 40, 60, 80],\n",
    "                                                \"min_k\": [1, 5, 10, 20],\n",
    "                                                \"verbose\":[False]\n",
    "                                    }),\n",
    "                (KNNWithMeans,\"Centered k-NN\",{\n",
    "                                                \"k\": [20, 40, 60, 80],\n",
    "                                                \"min_k\": [1, 5, 10, 20],\n",
    "                                                \"verbose\":[False]\n",
    "                                    }),\n",
    "                (KNNWithZScore,\"k-NN with z-score\",{\n",
    "                                                \"k\": [20, 40, 60, 80],\n",
    "                                                \"min_k\": [1, 5, 10, 20],\n",
    "                                                \"verbose\":[False]\n",
    "                                    }),\n",
    "                (KNNBaseline,\"k-NN Baseline\",{\n",
    "                                                \"k\": [20, 40, 60, 80],\n",
    "                                                \"min_k\": [1, 5, 10, 20],\n",
    "                                                \"verbose\":[False]\n",
    "                                    }),\n",
    "                (SVD,\"SVD\",{\n",
    "                                                \"n_factors\": [1, 2, 5, 10, 15, 20, 40],\n",
    "                                                \"n_epochs\": [100, 200, 400, 800, 1000],\n",
    "                                                \"biased\":[True,False],\n",
    "                                                \"random_state\":[1]\n",
    "                                    }),\n",
    "                (SVDpp,\"SVD++\",{\n",
    "                                                \"n_factors\": [1, 2, 5, 10, 15, 20, 40],\n",
    "                                                \"n_epochs\": [100, 200, 500, 1000],\n",
    "                                                \"random_state\":[1]\n",
    "                                    }),\n",
    "                (CoClustering,\"CoClustering\",{\n",
    "                                                \"n_cltr_u\": [2, 3, 4],\n",
    "                                                \"n_cltr_i\": [2, 3, 4],\n",
    "                                                \"n_epochs\": [100, 200, 400, 800, 1000],\n",
    "                                                \"random_state\":[1]\n",
    "                                    }),\n",
    "                (SlopeOne,\"SlopeOne\",{\n",
    "                                    }),\n",
    "                (NMF,\"NMF\",{\n",
    "                                                \"n_factors\": [1, 2, 5, 10, 20, 40],\n",
    "                                                \"n_epochs\": [20, 40, 80],\n",
    "                                                \"biased\":[True,False],\n",
    "                                                \"random_state\":[1]\n",
    "                                    })\n",
    "            ]"
   ]
  },
  {
   "cell_type": "code",
   "execution_count": 183,
   "metadata": {},
   "outputs": [
    {
     "name": "stdout",
     "output_type": "stream",
     "text": [
      "Running CV for model Normal Predictor in Iteration: 0 at 0.0\n",
      "Running CV for model Normal Predictor in Iteration: 1 at 0.2880260944366455\n",
      "Running CV for model Normal Predictor in Iteration: 2 at 0.517019510269165\n",
      "Total time:  0.7564935684204102 sec.\n",
      "Running CV for model Baseline in Iteration: 0 at 0.0\n",
      "Running CV for model Baseline in Iteration: 1 at 0.23705482482910156\n",
      "Running CV for model Baseline in Iteration: 2 at 0.4650580883026123\n",
      "Total time:  0.6960556507110596 sec.\n",
      "Running CV for model k-NN in Iteration: 0 at 0.0\n",
      "Running CV for model k-NN in Iteration: 1 at 25.66473078727722\n",
      "Running CV for model k-NN in Iteration: 2 at 49.97932195663452\n",
      "Total time:  69.62827205657959 sec.\n",
      "Running CV for model Centered k-NN in Iteration: 0 at 0.0\n",
      "Running CV for model Centered k-NN in Iteration: 1 at 21.91366457939148\n",
      "Running CV for model Centered k-NN in Iteration: 2 at 43.7615864276886\n",
      "Total time:  65.8282196521759 sec.\n",
      "Running CV for model k-NN with z-score in Iteration: 0 at 0.0\n",
      "Running CV for model k-NN with z-score in Iteration: 1 at 24.164742946624756\n",
      "Running CV for model k-NN with z-score in Iteration: 2 at 47.819915533065796\n",
      "Total time:  71.44142842292786 sec.\n",
      "Running CV for model k-NN Baseline in Iteration: 0 at 0.0\n",
      "Running CV for model k-NN Baseline in Iteration: 1 at 27.452940940856934\n",
      "Running CV for model k-NN Baseline in Iteration: 2 at 54.6028573513031\n",
      "Total time:  80.41676592826843 sec.\n",
      "Running CV for model SVD in Iteration: 0 at 0.0\n",
      "Running CV for model SVD in Iteration: 1 at 286.1171109676361\n",
      "Running CV for model SVD in Iteration: 2 at 568.0613498687744\n",
      "Total time:  853.92045378685 sec.\n",
      "Running CV for model SVD++ in Iteration: 0 at 0.0\n",
      "Running CV for model SVD++ in Iteration: 1 at 2467.218757867813\n",
      "Running CV for model SVD++ in Iteration: 2 at 4956.374010562897\n",
      "Total time:  7444.4450714588165 sec.\n",
      "Running CV for model CoClustering in Iteration: 0 at 0.0\n",
      "Running CV for model CoClustering in Iteration: 1 at 963.7377135753632\n",
      "Running CV for model CoClustering in Iteration: 2 at 1898.9533123970032\n",
      "Total time:  2849.197895526886 sec.\n",
      "Running CV for model SlopeOne in Iteration: 0 at 0.0\n",
      "Running CV for model SlopeOne in Iteration: 1 at 0.6610136032104492\n",
      "Running CV for model SlopeOne in Iteration: 2 at 1.3135316371917725\n",
      "Total time:  1.9670383930206299 sec.\n",
      "Running CV for model NMF in Iteration: 0 at 0.0\n",
      "Running CV for model NMF in Iteration: 1 at 23.576850175857544\n",
      "Running CV for model NMF in Iteration: 2 at 47.16346049308777\n",
      "Total time:  70.73382425308228 sec.\n"
     ]
    }
   ],
   "source": [
    "for algo in algo_list:\n",
    "    rmse, mse, mae = gridsearch_cv_surprise(algo[0],algo[1],algo[2],data,best_model_dict,best_params_dict)\n",
    "    results = add_result(results,algo[1],rmse, mse, mae)"
   ]
  },
  {
   "cell_type": "code",
   "execution_count": 184,
   "metadata": {},
   "outputs": [
    {
     "data": {
      "text/html": [
       "<div>\n",
       "<style scoped>\n",
       "    .dataframe tbody tr th:only-of-type {\n",
       "        vertical-align: middle;\n",
       "    }\n",
       "\n",
       "    .dataframe tbody tr th {\n",
       "        vertical-align: top;\n",
       "    }\n",
       "\n",
       "    .dataframe thead th {\n",
       "        text-align: right;\n",
       "    }\n",
       "</style>\n",
       "<table border=\"1\" class=\"dataframe\">\n",
       "  <thead>\n",
       "    <tr style=\"text-align: right;\">\n",
       "      <th></th>\n",
       "      <th>name</th>\n",
       "      <th>rmse_mean</th>\n",
       "      <th>rmse_std</th>\n",
       "      <th>mse_mean</th>\n",
       "      <th>mse_std</th>\n",
       "      <th>mae_mean</th>\n",
       "      <th>mae_std</th>\n",
       "    </tr>\n",
       "  </thead>\n",
       "  <tbody>\n",
       "    <tr>\n",
       "      <th>0</th>\n",
       "      <td>Normal Predictor</td>\n",
       "      <td>1.725026</td>\n",
       "      <td>0.007070</td>\n",
       "      <td>2.975882</td>\n",
       "      <td>0.024369</td>\n",
       "      <td>1.399650</td>\n",
       "      <td>0.006642</td>\n",
       "    </tr>\n",
       "    <tr>\n",
       "      <th>1</th>\n",
       "      <td>Baseline</td>\n",
       "      <td>0.954836</td>\n",
       "      <td>0.000799</td>\n",
       "      <td>0.911758</td>\n",
       "      <td>0.001546</td>\n",
       "      <td>0.757934</td>\n",
       "      <td>0.000558</td>\n",
       "    </tr>\n",
       "    <tr>\n",
       "      <th>2</th>\n",
       "      <td>k-NN</td>\n",
       "      <td>0.804532</td>\n",
       "      <td>0.001392</td>\n",
       "      <td>0.647372</td>\n",
       "      <td>0.002274</td>\n",
       "      <td>0.587226</td>\n",
       "      <td>0.001154</td>\n",
       "    </tr>\n",
       "    <tr>\n",
       "      <th>3</th>\n",
       "      <td>Centered k-NN</td>\n",
       "      <td>0.804263</td>\n",
       "      <td>0.001699</td>\n",
       "      <td>0.646981</td>\n",
       "      <td>0.002806</td>\n",
       "      <td>0.590117</td>\n",
       "      <td>0.001550</td>\n",
       "    </tr>\n",
       "    <tr>\n",
       "      <th>4</th>\n",
       "      <td>k-NN with z-score</td>\n",
       "      <td>0.805470</td>\n",
       "      <td>0.001331</td>\n",
       "      <td>0.648922</td>\n",
       "      <td>0.002191</td>\n",
       "      <td>0.585014</td>\n",
       "      <td>0.001424</td>\n",
       "    </tr>\n",
       "    <tr>\n",
       "      <th>5</th>\n",
       "      <td>k-NN Baseline</td>\n",
       "      <td>0.782887</td>\n",
       "      <td>0.001023</td>\n",
       "      <td>0.613029</td>\n",
       "      <td>0.001648</td>\n",
       "      <td>0.571576</td>\n",
       "      <td>0.001016</td>\n",
       "    </tr>\n",
       "    <tr>\n",
       "      <th>6</th>\n",
       "      <td>SVD</td>\n",
       "      <td>0.475560</td>\n",
       "      <td>0.004849</td>\n",
       "      <td>0.226368</td>\n",
       "      <td>0.004630</td>\n",
       "      <td>0.268605</td>\n",
       "      <td>0.002320</td>\n",
       "    </tr>\n",
       "    <tr>\n",
       "      <th>7</th>\n",
       "      <td>SVD++</td>\n",
       "      <td>0.487273</td>\n",
       "      <td>0.000878</td>\n",
       "      <td>0.237659</td>\n",
       "      <td>0.000905</td>\n",
       "      <td>0.279709</td>\n",
       "      <td>0.001137</td>\n",
       "    </tr>\n",
       "    <tr>\n",
       "      <th>8</th>\n",
       "      <td>CoClustering</td>\n",
       "      <td>0.877156</td>\n",
       "      <td>0.004443</td>\n",
       "      <td>0.769594</td>\n",
       "      <td>0.007927</td>\n",
       "      <td>0.655739</td>\n",
       "      <td>0.002938</td>\n",
       "    </tr>\n",
       "    <tr>\n",
       "      <th>9</th>\n",
       "      <td>SlopeOne</td>\n",
       "      <td>0.883957</td>\n",
       "      <td>0.000525</td>\n",
       "      <td>0.781480</td>\n",
       "      <td>0.000937</td>\n",
       "      <td>0.672960</td>\n",
       "      <td>0.000363</td>\n",
       "    </tr>\n",
       "    <tr>\n",
       "      <th>10</th>\n",
       "      <td>NMF</td>\n",
       "      <td>0.629792</td>\n",
       "      <td>0.001625</td>\n",
       "      <td>0.396748</td>\n",
       "      <td>0.002064</td>\n",
       "      <td>0.446519</td>\n",
       "      <td>0.000766</td>\n",
       "    </tr>\n",
       "  </tbody>\n",
       "</table>\n",
       "</div>"
      ],
      "text/plain": [
       "                 name  rmse_mean  rmse_std  mse_mean   mse_std  mae_mean  \\\n",
       "0    Normal Predictor   1.725026  0.007070  2.975882  0.024369  1.399650   \n",
       "1            Baseline   0.954836  0.000799  0.911758  0.001546  0.757934   \n",
       "2                k-NN   0.804532  0.001392  0.647372  0.002274  0.587226   \n",
       "3       Centered k-NN   0.804263  0.001699  0.646981  0.002806  0.590117   \n",
       "4   k-NN with z-score   0.805470  0.001331  0.648922  0.002191  0.585014   \n",
       "5       k-NN Baseline   0.782887  0.001023  0.613029  0.001648  0.571576   \n",
       "6                 SVD   0.475560  0.004849  0.226368  0.004630  0.268605   \n",
       "7               SVD++   0.487273  0.000878  0.237659  0.000905  0.279709   \n",
       "8        CoClustering   0.877156  0.004443  0.769594  0.007927  0.655739   \n",
       "9            SlopeOne   0.883957  0.000525  0.781480  0.000937  0.672960   \n",
       "10                NMF   0.629792  0.001625  0.396748  0.002064  0.446519   \n",
       "\n",
       "     mae_std  \n",
       "0   0.006642  \n",
       "1   0.000558  \n",
       "2   0.001154  \n",
       "3   0.001550  \n",
       "4   0.001424  \n",
       "5   0.001016  \n",
       "6   0.002320  \n",
       "7   0.001137  \n",
       "8   0.002938  \n",
       "9   0.000363  \n",
       "10  0.000766  "
      ]
     },
     "execution_count": 184,
     "metadata": {},
     "output_type": "execute_result"
    }
   ],
   "source": [
    "results"
   ]
  },
  {
   "cell_type": "code",
   "execution_count": 314,
   "metadata": {},
   "outputs": [
    {
     "data": {
      "text/plain": [
       "{'Normal Predictor': {},\n",
       " 'Baseline': {'verbose': False},\n",
       " 'k-NN': {'k': 20, 'min_k': 1, 'verbose': False},\n",
       " 'Centered k-NN': {'k': 20, 'min_k': 1, 'verbose': False},\n",
       " 'k-NN with z-score': {'k': 20, 'min_k': 1, 'verbose': False},\n",
       " 'k-NN Baseline': {'k': 20, 'min_k': 1, 'verbose': False},\n",
       " 'SVD': {'n_factors': 40,\n",
       "  'n_epochs': 1000,\n",
       "  'biased': False,\n",
       "  'random_state': 1},\n",
       " 'SVD++': {'n_factors': 20, 'n_epochs': 1000, 'random_state': 1},\n",
       " 'CoClustering': {'n_cltr_u': 4,\n",
       "  'n_cltr_i': 4,\n",
       "  'n_epochs': 100,\n",
       "  'random_state': 1},\n",
       " 'SlopeOne': {},\n",
       " 'NMF': {'n_factors': 40, 'n_epochs': 80, 'biased': False, 'random_state': 1}}"
      ]
     },
     "execution_count": 314,
     "metadata": {},
     "output_type": "execute_result"
    }
   ],
   "source": [
    "best_params_dict"
   ]
  },
  {
   "cell_type": "markdown",
   "metadata": {},
   "source": [
    "Both SVD and SVD++ show significantly smaller error values compared to the other models in the comparison"
   ]
  },
  {
   "cell_type": "markdown",
   "metadata": {},
   "source": [
    "Define holdout data: <br>\n",
    "Since the recommendations of this approach should be comparable to the results of the binary approach, we need a uniform measure of comparison. One measure, which presents itself as suitable, is the precision of the recommendations. In other words, we want to measure in how far the recommender system will tend to recommend skill to our employee, which these employees would actually want to learn. To do so, 10% of high rated skills will be removed from the data prior to training the model and will be stored as holdout. During evaluation, the occurence of these exact skills among the recommendations will be measured. If the recommender system recommends skills to employee, which are in the holdout, meaning that the employee actually already knows this skill and also has a high rating asserted to it, we do have an objective measurement which validates the recommendations as meaningful. "
   ]
  },
  {
   "cell_type": "code",
   "execution_count": null,
   "metadata": {},
   "outputs": [],
   "source": [
    "def get_rare_skills(data:pd.DataFrame,n:int):\n",
    "    '''\n",
    "    Function to determine all skills which occur less than n times in a given dataset.\n",
    "    Dataset must be a pandas Dataframe with columns: person, skill.\n",
    "    ----------\n",
    "    Parameters: \n",
    "    data : pd.DataFrame\n",
    "    The data in which rare skills are to be determined. \n",
    "    n : int \n",
    "    The threshold frequency.\n",
    "    ----------\n",
    "    Returns: \n",
    "    List of skills occuring less than n times in dataset.\n",
    "    '''\n",
    "    skill_frequency = {}\n",
    "    for skill in data[\"skill\"].unique():\n",
    "        skill_frequency[skill] = data[data[\"skill\"] == skill][\"person\"].nunique()\n",
    "\n",
    "    return [s for s,f in skill_frequency.items() if f <= n]"
   ]
  },
  {
   "cell_type": "code",
   "execution_count": null,
   "metadata": {},
   "outputs": [],
   "source": [
    "def get_holdout(data:pd.DataFrame,size:float):\n",
    "    '''\n",
    "    Function extracting high rated skills from rated data and storing these entries in a separate DataFrame. \n",
    "    ----------\n",
    "    Parameters: \n",
    "    data : pd.DataFrame\n",
    "    The rated data. \n",
    "    n : int \n",
    "    amount of entries to be pruned from data (e. g. size = 0.1 --> 10% of entries will be taken out).\n",
    "    ----------\n",
    "    Returns: \n",
    "    DataFrame containing holdout data. \n",
    "    '''\n",
    "    # save original size of data for termination of while loop \n",
    "    size_data = len(data)\n",
    "    holdout = pd.DataFrame()\n",
    "    # get list which represents each employee with their number of entered skills in the data\n",
    "    employee_occurence = data[\"person\"].to_list()\n",
    "    rare_skills = get_rare_skills(df_rated,5)\n",
    "    # initialize random seed\n",
    "    seed = 0 \n",
    "    while len(holdout)/size_data < size:\n",
    "        # randomly select employee (affected by how often they occur in the data)\n",
    "        np.random.seed(seed)\n",
    "        df_subset_emp = data[(data[\"person\"] == np.random.choice(employee_occurence))]\n",
    "        # prune rare skills from dataset so skills do not get randomly eliminated from training data\n",
    "        df_subset_pruned = df_subset_emp[~df_subset_emp[\"skill\"].isin(rare_skills)]\n",
    "        # if condition causes that employee do not get completely deleted from dataset\n",
    "        if len(df_subset_pruned) > 1:\n",
    "            max_rating_emp = df_subset_pruned[\"rating\"].max()\n",
    "            holdout_emp = df_subset_pruned[df_subset_pruned[\"rating\"] == max_rating_emp].sample(n=1,random_state=seed)\n",
    "            data.drop(holdout_emp.index,inplace=True)\n",
    "            holdout = pd.concat([holdout,holdout_emp],ignore_index=True)\n",
    "        # change seed for next while iteration\n",
    "        seed = seed + 1\n",
    "    return holdout"
   ]
  },
  {
   "cell_type": "code",
   "execution_count": null,
   "metadata": {},
   "outputs": [],
   "source": [
    "holdout = get_holdout(df_rated,0.05)\n",
    "holdout"
   ]
  },
  {
   "cell_type": "markdown",
   "metadata": {},
   "source": [
    "Reload dataset, now pruned for holdout data:"
   ]
  },
  {
   "cell_type": "code",
   "execution_count": null,
   "metadata": {},
   "outputs": [],
   "source": [
    "data = Dataset.load_from_df(df_rated,reader)"
   ]
  },
  {
   "cell_type": "markdown",
   "metadata": {},
   "source": [
    "Select best performing model and fit it on full data:"
   ]
  },
  {
   "cell_type": "code",
   "execution_count": 224,
   "metadata": {},
   "outputs": [
    {
     "data": {
      "text/plain": [
       "<surprise.prediction_algorithms.matrix_factorization.SVD at 0x1e0ed507490>"
      ]
     },
     "execution_count": 224,
     "metadata": {},
     "output_type": "execute_result"
    }
   ],
   "source": [
    "#model = NMF(n_factors= 40, n_epochs = 120, biased = False, random_state= 1)\n",
    "#model = SVD(n_factors = 40, n_epochs = 1000, biased = False, random_state = 1)\n",
    "model = best_model_dict[results.iloc[results[\"rmse_mean\"].idxmin()][\"name\"]]\n",
    "trainset = data.build_full_trainset()\n",
    "model.fit(trainset)"
   ]
  },
  {
   "cell_type": "markdown",
   "metadata": {},
   "source": [
    "Predict ratings for all skills which the employees do not yet have (meaning which do not have an existing rating):"
   ]
  },
  {
   "cell_type": "code",
   "execution_count": 225,
   "metadata": {},
   "outputs": [],
   "source": [
    "preds = model.test(trainset.build_anti_testset())"
   ]
  },
  {
   "cell_type": "markdown",
   "metadata": {},
   "source": [
    "Define functions to extract recommendations from preds object"
   ]
  },
  {
   "cell_type": "code",
   "execution_count": 226,
   "metadata": {},
   "outputs": [],
   "source": [
    "def get_top_n(predictions:list, n:int):\n",
    "    \"\"\"Return the top-N recommendation for each user from a set of predictions.\n",
    "\n",
    "    Args:\n",
    "        predictions(list of Prediction objects): The list of predictions, as\n",
    "            returned by the test method of an algorithm.\n",
    "        n(int): The number of recommendation to output for each user. Default\n",
    "            is 10.\n",
    "\n",
    "    Returns:\n",
    "    A dict where keys are user (raw) ids and values are lists of tuples:\n",
    "        [(raw item id, rating estimation), ...] of size n.\n",
    "    \"\"\"\n",
    "\n",
    "    # First map the predictions to each user.\n",
    "    top_n = {}\n",
    "    \n",
    "    for uid, iid, true_r, est, _ in predictions:\n",
    "        try:\n",
    "                top_n[uid].append((iid, est))\n",
    "        except KeyError:\n",
    "                top_n[uid] = [(iid, est)]\n",
    "\n",
    "    # Then sort the predictions for each user and retrieve the k highest ones.\n",
    "    for uid, user_ratings in top_n.items():\n",
    "        user_ratings.sort(key=lambda x: x[1], reverse=True)\n",
    "        top_n[uid] = user_ratings[:n]\n",
    "\n",
    "    return top_n"
   ]
  },
  {
   "cell_type": "code",
   "execution_count": 227,
   "metadata": {},
   "outputs": [],
   "source": [
    "def get_recommendations(preds:list,n:int):\n",
    "    '''\n",
    "    Function returning recommendations for all users in given prediction list.  \n",
    "    ----------\n",
    "    Parameters: \n",
    "    preds : list\n",
    "    List containing predictions.  \n",
    "    n : int \n",
    "    Amount of predictions to be shown for each user is prediciton list.\n",
    "    ----------\n",
    "    Returns: \n",
    "    DataFrame containing predictions.  \n",
    "    '''\n",
    "    top_n = get_top_n(preds, n)\n",
    "    recommendations = pd.DataFrame()\n",
    "\n",
    "    for uid, user_ratings in top_n.items():\n",
    "        recom = pd.DataFrame(index=[uid],data=[[iid for (iid, _) in user_ratings]])\n",
    "        recommendations = pd.concat([recommendations,recom])\n",
    "\n",
    "    return recommendations"
   ]
  },
  {
   "cell_type": "markdown",
   "metadata": {},
   "source": [
    "## Evaluation"
   ]
  },
  {
   "cell_type": "markdown",
   "metadata": {},
   "source": [
    "#### Evaluation Using Precision Scores"
   ]
  },
  {
   "cell_type": "markdown",
   "metadata": {},
   "source": [
    "Define precision measures: "
   ]
  },
  {
   "cell_type": "code",
   "execution_count": 228,
   "metadata": {},
   "outputs": [],
   "source": [
    "def precision_at_k(k:int,holdout:pd.DataFrame,recommendations:pd.DataFrame):\n",
    "    '''\n",
    "    Function computing precision at k on given recommendations and holdout data.  \n",
    "    ----------\n",
    "    Parameters: \n",
    "    k : int\n",
    "    The amount of predictions to be observed. \n",
    "    holdout : pd.DataFrame\n",
    "    The holdout data.\n",
    "    recommendations : pd.DataFrame\n",
    "    The recommendations\n",
    "    ----------\n",
    "    Returns: \n",
    "    Precision at k.  \n",
    "    '''\n",
    "    precision = np.zeros(holdout[\"person\"].nunique())\n",
    "    \n",
    "    for i,emp in enumerate(holdout[\"person\"].unique()):\n",
    "        holdout_emp = holdout[holdout[\"person\"] == emp][\"skill\"].to_list()\n",
    "        recoms_emp = recommendations.loc[emp].to_list()\n",
    "\n",
    "        if len(recoms_emp)>k:\n",
    "            recoms_emp = recoms_emp[:k]\n",
    "\n",
    "        score = 0\n",
    "\n",
    "        for recom in recoms_emp:\n",
    "            if recom in holdout_emp:\n",
    "                score = score + 1\n",
    "\n",
    "        precision[i] = score/min(len(holdout_emp),k)\n",
    "\n",
    "    return np.mean(precision)"
   ]
  },
  {
   "cell_type": "code",
   "execution_count": 312,
   "metadata": {},
   "outputs": [],
   "source": [
    "def mean_average_precision(k,holdout,recommendations):\n",
    "    '''\n",
    "    Function computing mean average precision at k on given recommendations and holdout data.  \n",
    "    ----------\n",
    "    Parameters: \n",
    "    k : int\n",
    "    The amount of predictions to be observed. \n",
    "    holdout : pd.DataFrame\n",
    "    The holdout data.\n",
    "    recommendations : pd.DataFrame\n",
    "    The recommendations\n",
    "    ----------\n",
    "    Returns: \n",
    "    Mean average precision at k.  \n",
    "    '''\n",
    "    precision = np.zeros(holdout[\"person\"].nunique())\n",
    "\n",
    "    for i,emp in enumerate(holdout[\"person\"].unique()):\n",
    "        holdout_emp = holdout[holdout[\"person\"] == emp][\"skill\"].to_list()\n",
    "        recoms_emp = recommendations.loc[emp].to_list()\n",
    "\n",
    "        if len(recoms_emp)>k:\n",
    "            recoms_emp = recoms_emp[:k]\n",
    "\n",
    "        score = 0\n",
    "        num_hits = 0\n",
    "\n",
    "        for j,recom in enumerate(recoms_emp):\n",
    "            if recom in holdout_emp:\n",
    "                num_hits = num_hits + 1\n",
    "                score = score + (num_hits / (j+1))\n",
    "\n",
    "        precision[i] = score/min(len(holdout_emp),k)\n",
    "\n",
    "    return np.mean(precision)"
   ]
  },
  {
   "cell_type": "code",
   "execution_count": 230,
   "metadata": {},
   "outputs": [
    {
     "data": {
      "text/plain": [
       "0.5410175387027238"
      ]
     },
     "execution_count": 230,
     "metadata": {},
     "output_type": "execute_result"
    }
   ],
   "source": [
    "precision_at_k(10,holdout,get_recommendations(preds,10))"
   ]
  },
  {
   "cell_type": "markdown",
   "metadata": {},
   "source": [
    "The above precision telss us that on average, around 5-6 recommendations of the top 10 recommencations fou a user are skills which are in the holdout, therefore skills the respective employee already knows. "
   ]
  },
  {
   "cell_type": "code",
   "execution_count": 313,
   "metadata": {},
   "outputs": [
    {
     "data": {
      "text/plain": [
       "0.2549446632505311"
      ]
     },
     "execution_count": 313,
     "metadata": {},
     "output_type": "execute_result"
    }
   ],
   "source": [
    "mean_average_precision(10,holdout,get_recommendations(preds,10))"
   ]
  },
  {
   "cell_type": "markdown",
   "metadata": {},
   "source": [
    "The weighted precision at k takes the order in which the recommendations are given into account. "
   ]
  },
  {
   "cell_type": "markdown",
   "metadata": {},
   "source": [
    "#### Evaluation Using Top Skills and Skill Categories of Employees"
   ]
  },
  {
   "cell_type": "code",
   "execution_count": 232,
   "metadata": {},
   "outputs": [],
   "source": [
    "def evaluate_employee_recoms(userid:int,n:int):\n",
    "    '''\n",
    "    Function showing recommendation along with actually possessed skills and categories to provide some context.  \n",
    "    ----------\n",
    "    Parameters: \n",
    "    userid : int\n",
    "    The user id of the employee who's recommendation are to be evaluated.  \n",
    "    n : int \n",
    "    Amount recommendation and skills to be shown. \n",
    "    ----------\n",
    "    Returns: \n",
    "    DataFrame containing recommendations and actually possessed skills.  \n",
    "    '''\n",
    "    fig, axes = plt.subplots(2,1,figsize=(10,8))\n",
    "    # get categories of actual skills\n",
    "    skill_catgegories = df[df[\"person\"] == userid][\"category\"].value_counts()\n",
    "    skill_catgegories.plot(ax=axes[0],\n",
    "                            kind=\"barh\",\n",
    "                            #ylabel=\"Count\",\n",
    "                            title=\"Category Count of Actual Skills - Employee \"+str(userid),\n",
    "                            color=\"#112e51\",\n",
    "                            edgecolor='k',\n",
    "                            alpha=0.8)\n",
    "    top_n_skills = df_rated[df_rated[\"person\"] == userid].sort_values(by=\"rating\",ascending=False).head(n).reset_index()[[\"skill\"]]\n",
    "    # get categories of recommended skills\n",
    "    recoms_for_emp = pd.DataFrame(get_recommendations(preds,n).loc[userid].T)\n",
    "    recoms_catgories = recoms_for_emp.replace({userid:category_dict}).value_counts()\n",
    "    indeces = []\n",
    "    for index in recoms_for_emp.replace({userid:category_dict}).value_counts().index:\n",
    "        indeces.append(index[0])\n",
    "    recoms_catgories.index = indeces\n",
    "    recoms_catgories.plot(ax = axes[1],\n",
    "                            kind = \"barh\",\n",
    "                            xticks = np.arange(0,recoms_catgories.max()+1,1),\n",
    "                            #ylabel=\"Count\",\n",
    "                            title = \"Category Count of Recommended Skills - Employee \"+str(userid),\n",
    "                            color=\"#112e51\",\n",
    "                            edgecolor='k',\n",
    "                            alpha=0.8)\n",
    "    # create of top skills and recommendation for better comparison\n",
    "    return_table = pd.concat([top_n_skills,recoms_for_emp],axis=1,ignore_index=True)\n",
    "    return_table.columns = [\"Top \" + str(n) + \" Actual Skills\",\"Recommendations\"]\n",
    "    return return_table"
   ]
  },
  {
   "cell_type": "markdown",
   "metadata": {},
   "source": [
    "12, 43, 59"
   ]
  },
  {
   "cell_type": "code",
   "execution_count": 296,
   "metadata": {},
   "outputs": [
    {
     "data": {
      "text/html": [
       "<div>\n",
       "<style scoped>\n",
       "    .dataframe tbody tr th:only-of-type {\n",
       "        vertical-align: middle;\n",
       "    }\n",
       "\n",
       "    .dataframe tbody tr th {\n",
       "        vertical-align: top;\n",
       "    }\n",
       "\n",
       "    .dataframe thead th {\n",
       "        text-align: right;\n",
       "    }\n",
       "</style>\n",
       "<table border=\"1\" class=\"dataframe\">\n",
       "  <thead>\n",
       "    <tr style=\"text-align: right;\">\n",
       "      <th></th>\n",
       "      <th>person</th>\n",
       "      <th>skill</th>\n",
       "      <th>rating</th>\n",
       "    </tr>\n",
       "  </thead>\n",
       "  <tbody>\n",
       "    <tr>\n",
       "      <th>321</th>\n",
       "      <td>12</td>\n",
       "      <td>Behaviour Driven Development (BDD)</td>\n",
       "      <td>5.0</td>\n",
       "    </tr>\n",
       "    <tr>\n",
       "      <th>468</th>\n",
       "      <td>12</td>\n",
       "      <td>Dependency Injection</td>\n",
       "      <td>5.0</td>\n",
       "    </tr>\n",
       "  </tbody>\n",
       "</table>\n",
       "</div>"
      ],
      "text/plain": [
       "     person                               skill  rating\n",
       "321      12  Behaviour Driven Development (BDD)     5.0\n",
       "468      12                Dependency Injection     5.0"
      ]
     },
     "execution_count": 296,
     "metadata": {},
     "output_type": "execute_result"
    }
   ],
   "source": [
    "holdout[holdout[\"person\"] == 12]"
   ]
  },
  {
   "cell_type": "code",
   "execution_count": 294,
   "metadata": {},
   "outputs": [
    {
     "data": {
      "text/html": [
       "<div>\n",
       "<style scoped>\n",
       "    .dataframe tbody tr th:only-of-type {\n",
       "        vertical-align: middle;\n",
       "    }\n",
       "\n",
       "    .dataframe tbody tr th {\n",
       "        vertical-align: top;\n",
       "    }\n",
       "\n",
       "    .dataframe thead th {\n",
       "        text-align: right;\n",
       "    }\n",
       "</style>\n",
       "<table border=\"1\" class=\"dataframe\">\n",
       "  <thead>\n",
       "    <tr style=\"text-align: right;\">\n",
       "      <th></th>\n",
       "      <th>Top 10 Actual Skills</th>\n",
       "      <th>Recommendations</th>\n",
       "    </tr>\n",
       "  </thead>\n",
       "  <tbody>\n",
       "    <tr>\n",
       "      <th>0</th>\n",
       "      <td>Unit Tests (Komponententests)</td>\n",
       "      <td>pycharm</td>\n",
       "    </tr>\n",
       "    <tr>\n",
       "      <th>1</th>\n",
       "      <td>Agile Methoden</td>\n",
       "      <td>Dependency Injection</td>\n",
       "    </tr>\n",
       "    <tr>\n",
       "      <th>2</th>\n",
       "      <td>Statische Codeanalyse</td>\n",
       "      <td>Swing/AWT</td>\n",
       "    </tr>\n",
       "    <tr>\n",
       "      <th>3</th>\n",
       "      <td>Continuous Integration (CI)</td>\n",
       "      <td>Behaviour Driven Development (BDD)</td>\n",
       "    </tr>\n",
       "    <tr>\n",
       "      <th>4</th>\n",
       "      <td>Objektrelationale Abbildung (ORM)</td>\n",
       "      <td>Aspektorientierte Programmierung (AOP)</td>\n",
       "    </tr>\n",
       "    <tr>\n",
       "      <th>5</th>\n",
       "      <td>Test Driven Development (TDD)</td>\n",
       "      <td>WebDynpro</td>\n",
       "    </tr>\n",
       "    <tr>\n",
       "      <th>6</th>\n",
       "      <td>Windows NT/2000/XP</td>\n",
       "      <td>Castor</td>\n",
       "    </tr>\n",
       "    <tr>\n",
       "      <th>7</th>\n",
       "      <td>MAC OS X</td>\n",
       "      <td>MVS</td>\n",
       "    </tr>\n",
       "    <tr>\n",
       "      <th>8</th>\n",
       "      <td>Spring Boot</td>\n",
       "      <td>Oracle XDK</td>\n",
       "    </tr>\n",
       "    <tr>\n",
       "      <th>9</th>\n",
       "      <td>Spring</td>\n",
       "      <td>TopLink</td>\n",
       "    </tr>\n",
       "  </tbody>\n",
       "</table>\n",
       "</div>"
      ],
      "text/plain": [
       "                Top 10 Actual Skills                         Recommendations\n",
       "0      Unit Tests (Komponententests)                                 pycharm\n",
       "1                     Agile Methoden                    Dependency Injection\n",
       "2              Statische Codeanalyse                               Swing/AWT\n",
       "3        Continuous Integration (CI)      Behaviour Driven Development (BDD)\n",
       "4  Objektrelationale Abbildung (ORM)  Aspektorientierte Programmierung (AOP)\n",
       "5      Test Driven Development (TDD)                               WebDynpro\n",
       "6                 Windows NT/2000/XP                                  Castor\n",
       "7                           MAC OS X                                     MVS\n",
       "8                        Spring Boot                              Oracle XDK\n",
       "9                             Spring                                 TopLink"
      ]
     },
     "execution_count": 294,
     "metadata": {},
     "output_type": "execute_result"
    },
    {
     "data": {
      "image/png": "[encoded data removed]",
      "text/plain": [
       "<Figure size 1000x800 with 2 Axes>"
      ]
     },
     "metadata": {},
     "output_type": "display_data"
    }
   ],
   "source": [
    "evaluate_employee_recoms(12,10)"
   ]
  },
  {
   "cell_type": "markdown",
   "metadata": {},
   "source": [
    "#### Evaluation Using Commonly Used Baselines"
   ]
  },
  {
   "cell_type": "markdown",
   "metadata": {},
   "source": [
    "##### Surprise's Baseline"
   ]
  },
  {
   "cell_type": "code",
   "execution_count": 195,
   "metadata": {},
   "outputs": [],
   "source": [
    "baseline = BaselineOnly(verbose=False)\n",
    "baseline.fit(trainset)\n",
    "baseline_preds = baseline.test(trainset.build_anti_testset())"
   ]
  },
  {
   "cell_type": "code",
   "execution_count": 196,
   "metadata": {},
   "outputs": [
    {
     "data": {
      "text/html": [
       "<div>\n",
       "<style scoped>\n",
       "    .dataframe tbody tr th:only-of-type {\n",
       "        vertical-align: middle;\n",
       "    }\n",
       "\n",
       "    .dataframe tbody tr th {\n",
       "        vertical-align: top;\n",
       "    }\n",
       "\n",
       "    .dataframe thead th {\n",
       "        text-align: right;\n",
       "    }\n",
       "</style>\n",
       "<table border=\"1\" class=\"dataframe\">\n",
       "  <thead>\n",
       "    <tr style=\"text-align: right;\">\n",
       "      <th></th>\n",
       "      <th>0</th>\n",
       "      <th>1</th>\n",
       "      <th>2</th>\n",
       "      <th>3</th>\n",
       "      <th>4</th>\n",
       "      <th>5</th>\n",
       "      <th>6</th>\n",
       "      <th>7</th>\n",
       "      <th>8</th>\n",
       "      <th>9</th>\n",
       "    </tr>\n",
       "  </thead>\n",
       "  <tbody>\n",
       "    <tr>\n",
       "      <th>12</th>\n",
       "      <td>Jakarta Commons</td>\n",
       "      <td>EJB 3</td>\n",
       "      <td>TestNG</td>\n",
       "      <td>Struts 2</td>\n",
       "      <td>JSF</td>\n",
       "      <td>Struts (bis Version 1.3)</td>\n",
       "      <td>Servlet/JSP</td>\n",
       "      <td>TopLink</td>\n",
       "      <td>Vue.js</td>\n",
       "      <td>Velocity</td>\n",
       "    </tr>\n",
       "    <tr>\n",
       "      <th>13</th>\n",
       "      <td>Jakarta Commons</td>\n",
       "      <td>EJB 3</td>\n",
       "      <td>TestNG</td>\n",
       "      <td>Struts 2</td>\n",
       "      <td>JSF</td>\n",
       "      <td>Hibernate</td>\n",
       "      <td>Spring</td>\n",
       "      <td>JDBC</td>\n",
       "      <td>Log4J</td>\n",
       "      <td>Struts (bis Version 1.3)</td>\n",
       "    </tr>\n",
       "    <tr>\n",
       "      <th>15</th>\n",
       "      <td>Jakarta Commons</td>\n",
       "      <td>EJB 3</td>\n",
       "      <td>TestNG</td>\n",
       "      <td>Struts 2</td>\n",
       "      <td>JSF</td>\n",
       "      <td>Hibernate</td>\n",
       "      <td>Spring</td>\n",
       "      <td>JDBC</td>\n",
       "      <td>Log4J</td>\n",
       "      <td>Struts (bis Version 1.3)</td>\n",
       "    </tr>\n",
       "    <tr>\n",
       "      <th>16</th>\n",
       "      <td>Jakarta Commons</td>\n",
       "      <td>EJB 3</td>\n",
       "      <td>TestNG</td>\n",
       "      <td>Struts 2</td>\n",
       "      <td>JSF</td>\n",
       "      <td>Hibernate</td>\n",
       "      <td>Spring</td>\n",
       "      <td>JDBC</td>\n",
       "      <td>Log4J</td>\n",
       "      <td>Struts (bis Version 1.3)</td>\n",
       "    </tr>\n",
       "    <tr>\n",
       "      <th>17</th>\n",
       "      <td>Jakarta Commons</td>\n",
       "      <td>EJB 3</td>\n",
       "      <td>TestNG</td>\n",
       "      <td>Struts 2</td>\n",
       "      <td>JSF</td>\n",
       "      <td>Hibernate</td>\n",
       "      <td>Spring</td>\n",
       "      <td>JDBC</td>\n",
       "      <td>Log4J</td>\n",
       "      <td>Struts (bis Version 1.3)</td>\n",
       "    </tr>\n",
       "    <tr>\n",
       "      <th>...</th>\n",
       "      <td>...</td>\n",
       "      <td>...</td>\n",
       "      <td>...</td>\n",
       "      <td>...</td>\n",
       "      <td>...</td>\n",
       "      <td>...</td>\n",
       "      <td>...</td>\n",
       "      <td>...</td>\n",
       "      <td>...</td>\n",
       "      <td>...</td>\n",
       "    </tr>\n",
       "    <tr>\n",
       "      <th>1467</th>\n",
       "      <td>Jakarta Commons</td>\n",
       "      <td>EJB 3</td>\n",
       "      <td>TestNG</td>\n",
       "      <td>Struts 2</td>\n",
       "      <td>JSF</td>\n",
       "      <td>Hibernate</td>\n",
       "      <td>Spring</td>\n",
       "      <td>JDBC</td>\n",
       "      <td>Log4J</td>\n",
       "      <td>Struts (bis Version 1.3)</td>\n",
       "    </tr>\n",
       "    <tr>\n",
       "      <th>1474</th>\n",
       "      <td>Jakarta Commons</td>\n",
       "      <td>EJB 3</td>\n",
       "      <td>TestNG</td>\n",
       "      <td>Struts 2</td>\n",
       "      <td>JSF</td>\n",
       "      <td>Hibernate</td>\n",
       "      <td>Spring</td>\n",
       "      <td>JDBC</td>\n",
       "      <td>Log4J</td>\n",
       "      <td>Struts (bis Version 1.3)</td>\n",
       "    </tr>\n",
       "    <tr>\n",
       "      <th>1475</th>\n",
       "      <td>Jakarta Commons</td>\n",
       "      <td>EJB 3</td>\n",
       "      <td>TestNG</td>\n",
       "      <td>Struts 2</td>\n",
       "      <td>JSF</td>\n",
       "      <td>Hibernate</td>\n",
       "      <td>Spring</td>\n",
       "      <td>JDBC</td>\n",
       "      <td>Log4J</td>\n",
       "      <td>Struts (bis Version 1.3)</td>\n",
       "    </tr>\n",
       "    <tr>\n",
       "      <th>1479</th>\n",
       "      <td>Jakarta Commons</td>\n",
       "      <td>EJB 3</td>\n",
       "      <td>TestNG</td>\n",
       "      <td>Struts 2</td>\n",
       "      <td>JSF</td>\n",
       "      <td>Hibernate</td>\n",
       "      <td>Spring</td>\n",
       "      <td>JDBC</td>\n",
       "      <td>Log4J</td>\n",
       "      <td>Struts (bis Version 1.3)</td>\n",
       "    </tr>\n",
       "    <tr>\n",
       "      <th>1488</th>\n",
       "      <td>Jakarta Commons</td>\n",
       "      <td>EJB 3</td>\n",
       "      <td>TestNG</td>\n",
       "      <td>Struts 2</td>\n",
       "      <td>JSF</td>\n",
       "      <td>Struts (bis Version 1.3)</td>\n",
       "      <td>Servlet/JSP</td>\n",
       "      <td>TopLink</td>\n",
       "      <td>Vue.js</td>\n",
       "      <td>Castor</td>\n",
       "    </tr>\n",
       "  </tbody>\n",
       "</table>\n",
       "<p>404 rows × 10 columns</p>\n",
       "</div>"
      ],
      "text/plain": [
       "                    0      1       2         3    4                         5  \\\n",
       "12    Jakarta Commons  EJB 3  TestNG  Struts 2  JSF  Struts (bis Version 1.3)   \n",
       "13    Jakarta Commons  EJB 3  TestNG  Struts 2  JSF                 Hibernate   \n",
       "15    Jakarta Commons  EJB 3  TestNG  Struts 2  JSF                 Hibernate   \n",
       "16    Jakarta Commons  EJB 3  TestNG  Struts 2  JSF                 Hibernate   \n",
       "17    Jakarta Commons  EJB 3  TestNG  Struts 2  JSF                 Hibernate   \n",
       "...               ...    ...     ...       ...  ...                       ...   \n",
       "1467  Jakarta Commons  EJB 3  TestNG  Struts 2  JSF                 Hibernate   \n",
       "1474  Jakarta Commons  EJB 3  TestNG  Struts 2  JSF                 Hibernate   \n",
       "1475  Jakarta Commons  EJB 3  TestNG  Struts 2  JSF                 Hibernate   \n",
       "1479  Jakarta Commons  EJB 3  TestNG  Struts 2  JSF                 Hibernate   \n",
       "1488  Jakarta Commons  EJB 3  TestNG  Struts 2  JSF  Struts (bis Version 1.3)   \n",
       "\n",
       "                6        7       8                         9  \n",
       "12    Servlet/JSP  TopLink  Vue.js                  Velocity  \n",
       "13         Spring     JDBC   Log4J  Struts (bis Version 1.3)  \n",
       "15         Spring     JDBC   Log4J  Struts (bis Version 1.3)  \n",
       "16         Spring     JDBC   Log4J  Struts (bis Version 1.3)  \n",
       "17         Spring     JDBC   Log4J  Struts (bis Version 1.3)  \n",
       "...           ...      ...     ...                       ...  \n",
       "1467       Spring     JDBC   Log4J  Struts (bis Version 1.3)  \n",
       "1474       Spring     JDBC   Log4J  Struts (bis Version 1.3)  \n",
       "1475       Spring     JDBC   Log4J  Struts (bis Version 1.3)  \n",
       "1479       Spring     JDBC   Log4J  Struts (bis Version 1.3)  \n",
       "1488  Servlet/JSP  TopLink  Vue.js                    Castor  \n",
       "\n",
       "[404 rows x 10 columns]"
      ]
     },
     "execution_count": 196,
     "metadata": {},
     "output_type": "execute_result"
    }
   ],
   "source": [
    "baseline_recommendations = get_recommendations(baseline_preds,10)\n",
    "baseline_recommendations"
   ]
  },
  {
   "cell_type": "code",
   "execution_count": 197,
   "metadata": {},
   "outputs": [
    {
     "data": {
      "text/plain": [
       "0.15095899470899474"
      ]
     },
     "execution_count": 197,
     "metadata": {},
     "output_type": "execute_result"
    }
   ],
   "source": [
    "precision_at_k(10,holdout,baseline_recommendations) "
   ]
  },
  {
   "cell_type": "code",
   "execution_count": 198,
   "metadata": {},
   "outputs": [
    {
     "data": {
      "text/plain": [
       "0.07454285129117948"
      ]
     },
     "execution_count": 198,
     "metadata": {},
     "output_type": "execute_result"
    }
   ],
   "source": [
    "mean_average_precision(10,holdout,baseline_recommendations) "
   ]
  },
  {
   "cell_type": "markdown",
   "metadata": {},
   "source": [
    "##### Most Often Occurring Skills"
   ]
  },
  {
   "cell_type": "code",
   "execution_count": 199,
   "metadata": {},
   "outputs": [
    {
     "data": {
      "text/html": [
       "<div>\n",
       "<style scoped>\n",
       "    .dataframe tbody tr th:only-of-type {\n",
       "        vertical-align: middle;\n",
       "    }\n",
       "\n",
       "    .dataframe tbody tr th {\n",
       "        vertical-align: top;\n",
       "    }\n",
       "\n",
       "    .dataframe thead th {\n",
       "        text-align: right;\n",
       "    }\n",
       "</style>\n",
       "<table border=\"1\" class=\"dataframe\">\n",
       "  <thead>\n",
       "    <tr style=\"text-align: right;\">\n",
       "      <th></th>\n",
       "      <th>0</th>\n",
       "      <th>1</th>\n",
       "      <th>2</th>\n",
       "      <th>3</th>\n",
       "      <th>4</th>\n",
       "      <th>5</th>\n",
       "      <th>6</th>\n",
       "      <th>7</th>\n",
       "      <th>8</th>\n",
       "      <th>9</th>\n",
       "    </tr>\n",
       "  </thead>\n",
       "  <tbody>\n",
       "    <tr>\n",
       "      <th>12</th>\n",
       "      <td>Englisch</td>\n",
       "      <td>MySQL</td>\n",
       "      <td>SCRUM</td>\n",
       "      <td>GIT</td>\n",
       "      <td>HTML</td>\n",
       "      <td>JavaScript</td>\n",
       "      <td>JIRA</td>\n",
       "      <td>CSS</td>\n",
       "      <td>Java</td>\n",
       "      <td>Test Driven Development (TDD)</td>\n",
       "    </tr>\n",
       "    <tr>\n",
       "      <th>13</th>\n",
       "      <td>Englisch</td>\n",
       "      <td>MySQL</td>\n",
       "      <td>SCRUM</td>\n",
       "      <td>GIT</td>\n",
       "      <td>HTML</td>\n",
       "      <td>JavaScript</td>\n",
       "      <td>JIRA</td>\n",
       "      <td>CSS</td>\n",
       "      <td>Java</td>\n",
       "      <td>Test Driven Development (TDD)</td>\n",
       "    </tr>\n",
       "    <tr>\n",
       "      <th>15</th>\n",
       "      <td>Englisch</td>\n",
       "      <td>MySQL</td>\n",
       "      <td>SCRUM</td>\n",
       "      <td>GIT</td>\n",
       "      <td>HTML</td>\n",
       "      <td>JavaScript</td>\n",
       "      <td>JIRA</td>\n",
       "      <td>CSS</td>\n",
       "      <td>Java</td>\n",
       "      <td>Test Driven Development (TDD)</td>\n",
       "    </tr>\n",
       "    <tr>\n",
       "      <th>16</th>\n",
       "      <td>Englisch</td>\n",
       "      <td>MySQL</td>\n",
       "      <td>SCRUM</td>\n",
       "      <td>GIT</td>\n",
       "      <td>HTML</td>\n",
       "      <td>JavaScript</td>\n",
       "      <td>JIRA</td>\n",
       "      <td>CSS</td>\n",
       "      <td>Java</td>\n",
       "      <td>Test Driven Development (TDD)</td>\n",
       "    </tr>\n",
       "    <tr>\n",
       "      <th>17</th>\n",
       "      <td>Englisch</td>\n",
       "      <td>MySQL</td>\n",
       "      <td>SCRUM</td>\n",
       "      <td>GIT</td>\n",
       "      <td>HTML</td>\n",
       "      <td>JavaScript</td>\n",
       "      <td>JIRA</td>\n",
       "      <td>CSS</td>\n",
       "      <td>Java</td>\n",
       "      <td>Test Driven Development (TDD)</td>\n",
       "    </tr>\n",
       "    <tr>\n",
       "      <th>...</th>\n",
       "      <td>...</td>\n",
       "      <td>...</td>\n",
       "      <td>...</td>\n",
       "      <td>...</td>\n",
       "      <td>...</td>\n",
       "      <td>...</td>\n",
       "      <td>...</td>\n",
       "      <td>...</td>\n",
       "      <td>...</td>\n",
       "      <td>...</td>\n",
       "    </tr>\n",
       "    <tr>\n",
       "      <th>1467</th>\n",
       "      <td>Englisch</td>\n",
       "      <td>MySQL</td>\n",
       "      <td>SCRUM</td>\n",
       "      <td>GIT</td>\n",
       "      <td>HTML</td>\n",
       "      <td>JavaScript</td>\n",
       "      <td>JIRA</td>\n",
       "      <td>CSS</td>\n",
       "      <td>Java</td>\n",
       "      <td>Test Driven Development (TDD)</td>\n",
       "    </tr>\n",
       "    <tr>\n",
       "      <th>1474</th>\n",
       "      <td>Englisch</td>\n",
       "      <td>MySQL</td>\n",
       "      <td>SCRUM</td>\n",
       "      <td>GIT</td>\n",
       "      <td>HTML</td>\n",
       "      <td>JavaScript</td>\n",
       "      <td>JIRA</td>\n",
       "      <td>CSS</td>\n",
       "      <td>Java</td>\n",
       "      <td>Test Driven Development (TDD)</td>\n",
       "    </tr>\n",
       "    <tr>\n",
       "      <th>1475</th>\n",
       "      <td>Englisch</td>\n",
       "      <td>MySQL</td>\n",
       "      <td>SCRUM</td>\n",
       "      <td>GIT</td>\n",
       "      <td>HTML</td>\n",
       "      <td>JavaScript</td>\n",
       "      <td>JIRA</td>\n",
       "      <td>CSS</td>\n",
       "      <td>Java</td>\n",
       "      <td>Test Driven Development (TDD)</td>\n",
       "    </tr>\n",
       "    <tr>\n",
       "      <th>1479</th>\n",
       "      <td>Englisch</td>\n",
       "      <td>MySQL</td>\n",
       "      <td>SCRUM</td>\n",
       "      <td>GIT</td>\n",
       "      <td>HTML</td>\n",
       "      <td>JavaScript</td>\n",
       "      <td>JIRA</td>\n",
       "      <td>CSS</td>\n",
       "      <td>Java</td>\n",
       "      <td>Test Driven Development (TDD)</td>\n",
       "    </tr>\n",
       "    <tr>\n",
       "      <th>1488</th>\n",
       "      <td>Englisch</td>\n",
       "      <td>MySQL</td>\n",
       "      <td>SCRUM</td>\n",
       "      <td>GIT</td>\n",
       "      <td>HTML</td>\n",
       "      <td>JavaScript</td>\n",
       "      <td>JIRA</td>\n",
       "      <td>CSS</td>\n",
       "      <td>Java</td>\n",
       "      <td>Test Driven Development (TDD)</td>\n",
       "    </tr>\n",
       "  </tbody>\n",
       "</table>\n",
       "<p>404 rows × 10 columns</p>\n",
       "</div>"
      ],
      "text/plain": [
       "             0      1      2    3     4           5     6    7     8  \\\n",
       "12    Englisch  MySQL  SCRUM  GIT  HTML  JavaScript  JIRA  CSS  Java   \n",
       "13    Englisch  MySQL  SCRUM  GIT  HTML  JavaScript  JIRA  CSS  Java   \n",
       "15    Englisch  MySQL  SCRUM  GIT  HTML  JavaScript  JIRA  CSS  Java   \n",
       "16    Englisch  MySQL  SCRUM  GIT  HTML  JavaScript  JIRA  CSS  Java   \n",
       "17    Englisch  MySQL  SCRUM  GIT  HTML  JavaScript  JIRA  CSS  Java   \n",
       "...        ...    ...    ...  ...   ...         ...   ...  ...   ...   \n",
       "1467  Englisch  MySQL  SCRUM  GIT  HTML  JavaScript  JIRA  CSS  Java   \n",
       "1474  Englisch  MySQL  SCRUM  GIT  HTML  JavaScript  JIRA  CSS  Java   \n",
       "1475  Englisch  MySQL  SCRUM  GIT  HTML  JavaScript  JIRA  CSS  Java   \n",
       "1479  Englisch  MySQL  SCRUM  GIT  HTML  JavaScript  JIRA  CSS  Java   \n",
       "1488  Englisch  MySQL  SCRUM  GIT  HTML  JavaScript  JIRA  CSS  Java   \n",
       "\n",
       "                                  9  \n",
       "12    Test Driven Development (TDD)  \n",
       "13    Test Driven Development (TDD)  \n",
       "15    Test Driven Development (TDD)  \n",
       "16    Test Driven Development (TDD)  \n",
       "17    Test Driven Development (TDD)  \n",
       "...                             ...  \n",
       "1467  Test Driven Development (TDD)  \n",
       "1474  Test Driven Development (TDD)  \n",
       "1475  Test Driven Development (TDD)  \n",
       "1479  Test Driven Development (TDD)  \n",
       "1488  Test Driven Development (TDD)  \n",
       "\n",
       "[404 rows x 10 columns]"
      ]
     },
     "execution_count": 199,
     "metadata": {},
     "output_type": "execute_result"
    }
   ],
   "source": [
    "most_common_skills = list(df[\"skill\"].value_counts().nlargest(10).index)\n",
    "\n",
    "recom_list = []\n",
    "for person in range(0,len(PERSONS)):\n",
    "    recom_list.append(most_common_skills)\n",
    "\n",
    "baseline_2_recoms = pd.DataFrame(index=PERSONS,columns=np.arange(0,10),data=recom_list)\n",
    "baseline_2_recoms"
   ]
  },
  {
   "cell_type": "code",
   "execution_count": 200,
   "metadata": {},
   "outputs": [
    {
     "data": {
      "text/plain": [
       "0.06500587889476778"
      ]
     },
     "execution_count": 200,
     "metadata": {},
     "output_type": "execute_result"
    }
   ],
   "source": [
    "precision_at_k(10,holdout,baseline_2_recoms)"
   ]
  },
  {
   "cell_type": "code",
   "execution_count": 201,
   "metadata": {},
   "outputs": [
    {
     "data": {
      "text/plain": [
       "0.01234426032072637"
      ]
     },
     "execution_count": 201,
     "metadata": {},
     "output_type": "execute_result"
    }
   ],
   "source": [
    "mean_average_precision(10,holdout,baseline_2_recoms)"
   ]
  },
  {
   "cell_type": "markdown",
   "metadata": {},
   "source": [
    "## Recommendations"
   ]
  },
  {
   "cell_type": "markdown",
   "metadata": {},
   "source": [
    "Get recommendations for all users in database: "
   ]
  },
  {
   "cell_type": "code",
   "execution_count": 202,
   "metadata": {},
   "outputs": [
    {
     "data": {
      "text/html": [
       "<div>\n",
       "<style scoped>\n",
       "    .dataframe tbody tr th:only-of-type {\n",
       "        vertical-align: middle;\n",
       "    }\n",
       "\n",
       "    .dataframe tbody tr th {\n",
       "        vertical-align: top;\n",
       "    }\n",
       "\n",
       "    .dataframe thead th {\n",
       "        text-align: right;\n",
       "    }\n",
       "</style>\n",
       "<table border=\"1\" class=\"dataframe\">\n",
       "  <thead>\n",
       "    <tr style=\"text-align: right;\">\n",
       "      <th></th>\n",
       "      <th>0</th>\n",
       "      <th>1</th>\n",
       "      <th>2</th>\n",
       "      <th>3</th>\n",
       "      <th>4</th>\n",
       "    </tr>\n",
       "  </thead>\n",
       "  <tbody>\n",
       "    <tr>\n",
       "      <th>12</th>\n",
       "      <td>pycharm</td>\n",
       "      <td>Dependency Injection</td>\n",
       "      <td>Swing/AWT</td>\n",
       "      <td>Behaviour Driven Development (BDD)</td>\n",
       "      <td>Aspektorientierte Programmierung (AOP)</td>\n",
       "    </tr>\n",
       "    <tr>\n",
       "      <th>13</th>\n",
       "      <td>Windows Communication Foundation (WCF)</td>\n",
       "      <td>Windows Identity Foundation (WIF)</td>\n",
       "      <td>Kendo UI</td>\n",
       "      <td>DevExpress</td>\n",
       "      <td>Microsoft Enterprise Library</td>\n",
       "    </tr>\n",
       "    <tr>\n",
       "      <th>15</th>\n",
       "      <td>Vue.js</td>\n",
       "      <td>Cypress</td>\n",
       "      <td>ITCSS</td>\n",
       "      <td>Angular Material</td>\n",
       "      <td>Storybook</td>\n",
       "    </tr>\n",
       "    <tr>\n",
       "      <th>16</th>\n",
       "      <td>React</td>\n",
       "      <td>ITCSS</td>\n",
       "      <td>Layouting (Flexbox, CSS Grid)</td>\n",
       "      <td>Ajax</td>\n",
       "      <td>Cypress</td>\n",
       "    </tr>\n",
       "    <tr>\n",
       "      <th>17</th>\n",
       "      <td>Windows Forms</td>\n",
       "      <td>ADO.NET</td>\n",
       "      <td>LINQ</td>\n",
       "      <td>Windows Workflow Foundation (WF)</td>\n",
       "      <td>ASP.NET MVC-Framework</td>\n",
       "    </tr>\n",
       "    <tr>\n",
       "      <th>...</th>\n",
       "      <td>...</td>\n",
       "      <td>...</td>\n",
       "      <td>...</td>\n",
       "      <td>...</td>\n",
       "      <td>...</td>\n",
       "    </tr>\n",
       "    <tr>\n",
       "      <th>1467</th>\n",
       "      <td>Python</td>\n",
       "      <td>Delphi</td>\n",
       "      <td>TypoScript</td>\n",
       "      <td>Pascal</td>\n",
       "      <td>C/C++</td>\n",
       "    </tr>\n",
       "    <tr>\n",
       "      <th>1474</th>\n",
       "      <td>HTML5</td>\n",
       "      <td>jQuery</td>\n",
       "      <td>Bootstrap</td>\n",
       "      <td>Web Components</td>\n",
       "      <td>Redux</td>\n",
       "    </tr>\n",
       "    <tr>\n",
       "      <th>1475</th>\n",
       "      <td>Unit Tests (Komponententests)</td>\n",
       "      <td>Objektrelationale Abbildung (ORM)</td>\n",
       "      <td>Statische Codeanalyse</td>\n",
       "      <td>StyleReport</td>\n",
       "      <td>Java FX</td>\n",
       "    </tr>\n",
       "    <tr>\n",
       "      <th>1479</th>\n",
       "      <td>Kendo UI</td>\n",
       "      <td>Windows Forms</td>\n",
       "      <td>Windows Communication Foundation (WCF)</td>\n",
       "      <td>ASP.NET</td>\n",
       "      <td>ASP Generalist</td>\n",
       "    </tr>\n",
       "    <tr>\n",
       "      <th>1488</th>\n",
       "      <td>Xerces</td>\n",
       "      <td>Castor</td>\n",
       "      <td>Struts (bis Version 1.3)</td>\n",
       "      <td>TopLink</td>\n",
       "      <td>Phyton /Jython</td>\n",
       "    </tr>\n",
       "  </tbody>\n",
       "</table>\n",
       "<p>404 rows × 5 columns</p>\n",
       "</div>"
      ],
      "text/plain": [
       "                                           0  \\\n",
       "12                                   pycharm   \n",
       "13    Windows Communication Foundation (WCF)   \n",
       "15                                    Vue.js   \n",
       "16                                     React   \n",
       "17                             Windows Forms   \n",
       "...                                      ...   \n",
       "1467                                  Python   \n",
       "1474                                   HTML5   \n",
       "1475           Unit Tests (Komponententests)   \n",
       "1479                                Kendo UI   \n",
       "1488                                  Xerces   \n",
       "\n",
       "                                      1  \\\n",
       "12                 Dependency Injection   \n",
       "13    Windows Identity Foundation (WIF)   \n",
       "15                              Cypress   \n",
       "16                                ITCSS   \n",
       "17                              ADO.NET   \n",
       "...                                 ...   \n",
       "1467                             Delphi   \n",
       "1474                             jQuery   \n",
       "1475  Objektrelationale Abbildung (ORM)   \n",
       "1479                      Windows Forms   \n",
       "1488                             Castor   \n",
       "\n",
       "                                           2  \\\n",
       "12                                 Swing/AWT   \n",
       "13                                  Kendo UI   \n",
       "15                                     ITCSS   \n",
       "16             Layouting (Flexbox, CSS Grid)   \n",
       "17                                      LINQ   \n",
       "...                                      ...   \n",
       "1467                              TypoScript   \n",
       "1474                               Bootstrap   \n",
       "1475                   Statische Codeanalyse   \n",
       "1479  Windows Communication Foundation (WCF)   \n",
       "1488                Struts (bis Version 1.3)   \n",
       "\n",
       "                                       3  \\\n",
       "12    Behaviour Driven Development (BDD)   \n",
       "13                            DevExpress   \n",
       "15                      Angular Material   \n",
       "16                                  Ajax   \n",
       "17      Windows Workflow Foundation (WF)   \n",
       "...                                  ...   \n",
       "1467                              Pascal   \n",
       "1474                      Web Components   \n",
       "1475                         StyleReport   \n",
       "1479                             ASP.NET   \n",
       "1488                             TopLink   \n",
       "\n",
       "                                           4  \n",
       "12    Aspektorientierte Programmierung (AOP)  \n",
       "13              Microsoft Enterprise Library  \n",
       "15                                 Storybook  \n",
       "16                                   Cypress  \n",
       "17                     ASP.NET MVC-Framework  \n",
       "...                                      ...  \n",
       "1467                                   C/C++  \n",
       "1474                                   Redux  \n",
       "1475                                 Java FX  \n",
       "1479                          ASP Generalist  \n",
       "1488                          Phyton /Jython  \n",
       "\n",
       "[404 rows x 5 columns]"
      ]
     },
     "execution_count": 202,
     "metadata": {},
     "output_type": "execute_result"
    }
   ],
   "source": [
    "all_recomms = get_recommendations(preds,5)\n",
    "all_recomms"
   ]
  },
  {
   "cell_type": "markdown",
   "metadata": {},
   "source": [
    "Get recommendations for one or many individual users:"
   ]
  },
  {
   "cell_type": "code",
   "execution_count": 203,
   "metadata": {},
   "outputs": [],
   "source": [
    "def get_recommendations_for_employee(userids:list,n:int): \n",
    "    '''\n",
    "    Function showing the top n recommendation for one or multiple users.  \n",
    "    ----------\n",
    "    Parameters: \n",
    "    userid : int\n",
    "    The user id of the employee who's recommendation are to be evaluated.  \n",
    "    n : int \n",
    "    Amount recommendation and skills to be shown. \n",
    "    ----------\n",
    "    Returns: \n",
    "    DataFrame containing recommendations, predicted ratings and corresponding categories.   \n",
    "    '''\n",
    "    recommendation_df = pd.DataFrame()\n",
    "    for user in userids: \n",
    "        recoms_for_user = pd.DataFrame(get_top_n(preds, n)[user],columns=[\"skill\",\"rating\"],index=[user for i in range(0,n)])\n",
    "        recommendation_df = pd.concat([recommendation_df,recoms_for_user])\n",
    "    recommendation_df[\"category\"] = recommendation_df[\"skill\"].apply(lambda x:category_dict[x])\n",
    "    return recommendation_df"
   ]
  },
  {
   "cell_type": "code",
   "execution_count": 204,
   "metadata": {},
   "outputs": [
    {
     "data": {
      "text/html": [
       "<div>\n",
       "<style scoped>\n",
       "    .dataframe tbody tr th:only-of-type {\n",
       "        vertical-align: middle;\n",
       "    }\n",
       "\n",
       "    .dataframe tbody tr th {\n",
       "        vertical-align: top;\n",
       "    }\n",
       "\n",
       "    .dataframe thead th {\n",
       "        text-align: right;\n",
       "    }\n",
       "</style>\n",
       "<table border=\"1\" class=\"dataframe\">\n",
       "  <thead>\n",
       "    <tr style=\"text-align: right;\">\n",
       "      <th></th>\n",
       "      <th>skill</th>\n",
       "      <th>rating</th>\n",
       "      <th>category</th>\n",
       "    </tr>\n",
       "  </thead>\n",
       "  <tbody>\n",
       "    <tr>\n",
       "      <th>12</th>\n",
       "      <td>pycharm</td>\n",
       "      <td>5.000000</td>\n",
       "      <td>Sonstige</td>\n",
       "    </tr>\n",
       "    <tr>\n",
       "      <th>12</th>\n",
       "      <td>Dependency Injection</td>\n",
       "      <td>4.776088</td>\n",
       "      <td>Methoden und Praktiken</td>\n",
       "    </tr>\n",
       "    <tr>\n",
       "      <th>12</th>\n",
       "      <td>Swing/AWT</td>\n",
       "      <td>4.775965</td>\n",
       "      <td>Java Frameworks</td>\n",
       "    </tr>\n",
       "    <tr>\n",
       "      <th>12</th>\n",
       "      <td>Behaviour Driven Development (BDD)</td>\n",
       "      <td>4.713013</td>\n",
       "      <td>Methoden und Praktiken</td>\n",
       "    </tr>\n",
       "    <tr>\n",
       "      <th>12</th>\n",
       "      <td>Aspektorientierte Programmierung (AOP)</td>\n",
       "      <td>4.600613</td>\n",
       "      <td>Methoden und Praktiken</td>\n",
       "    </tr>\n",
       "    <tr>\n",
       "      <th>54</th>\n",
       "      <td>pycharm</td>\n",
       "      <td>4.078480</td>\n",
       "      <td>Sonstige</td>\n",
       "    </tr>\n",
       "    <tr>\n",
       "      <th>54</th>\n",
       "      <td>IT Consulting</td>\n",
       "      <td>3.763674</td>\n",
       "      <td>Beratung</td>\n",
       "    </tr>\n",
       "    <tr>\n",
       "      <th>54</th>\n",
       "      <td>Symbian</td>\n",
       "      <td>3.713585</td>\n",
       "      <td>Betriebssystem</td>\n",
       "    </tr>\n",
       "    <tr>\n",
       "      <th>54</th>\n",
       "      <td>Management Consulting</td>\n",
       "      <td>3.621001</td>\n",
       "      <td>Beratung</td>\n",
       "    </tr>\n",
       "    <tr>\n",
       "      <th>54</th>\n",
       "      <td>AS400</td>\n",
       "      <td>3.615930</td>\n",
       "      <td>Betriebssystem</td>\n",
       "    </tr>\n",
       "  </tbody>\n",
       "</table>\n",
       "</div>"
      ],
      "text/plain": [
       "                                     skill    rating                category\n",
       "12                                 pycharm  5.000000                Sonstige\n",
       "12                    Dependency Injection  4.776088  Methoden und Praktiken\n",
       "12                               Swing/AWT  4.775965         Java Frameworks\n",
       "12      Behaviour Driven Development (BDD)  4.713013  Methoden und Praktiken\n",
       "12  Aspektorientierte Programmierung (AOP)  4.600613  Methoden und Praktiken\n",
       "54                                 pycharm  4.078480                Sonstige\n",
       "54                           IT Consulting  3.763674                Beratung\n",
       "54                                 Symbian  3.713585          Betriebssystem\n",
       "54                   Management Consulting  3.621001                Beratung\n",
       "54                                   AS400  3.615930          Betriebssystem"
      ]
     },
     "execution_count": 204,
     "metadata": {},
     "output_type": "execute_result"
    }
   ],
   "source": [
    "userids = [12,54]\n",
    "get_recommendations_for_employee(userids,5)"
   ]
  },
  {
   "cell_type": "markdown",
   "metadata": {},
   "source": [
    "### Recommendations for New Employees"
   ]
  },
  {
   "cell_type": "code",
   "execution_count": 292,
   "metadata": {},
   "outputs": [],
   "source": [
    "new_id = 8774\n",
    "new_skills = {\n",
    "                \"Englisch\":4,\n",
    "                \"Python\":5,\n",
    "                \"MySQL\":4,\n",
    "                \"MongoDB\":1,\n",
    "                \"vs code\":4,\n",
    "                \"Docker\":2,\n",
    "                \"GIT\":2,\n",
    "                \"GitHub\":2\n",
    "            }"
   ]
  },
  {
   "cell_type": "code",
   "execution_count": 268,
   "metadata": {},
   "outputs": [],
   "source": [
    "def get_recoms_for_new_employee(new_id:int,new_skills:dict,n:int):\n",
    "    '''\n",
    "    Function showing recommendation along with actually possessed skills and categories to provide some context.  \n",
    "    The data will be added to the data base and the model is retrained on the enlarged dataset. \n",
    "    ----------\n",
    "    Parameters: \n",
    "    new_id : int\n",
    "    The id of the user which is to be added to the database. \n",
    "    new_skills : dict\n",
    "    Dictionary containing skills as keys and corresponding rating as values.   \n",
    "    n : int \n",
    "    Amount recommendation and skills to be shown. \n",
    "    ----------\n",
    "    Returns: \n",
    "    Top n recommendations of new user.   \n",
    "    '''\n",
    "    if new_id in PERSONS:\n",
    "        return \"Error: ID already taken. Please choose a different ID an try again.\"\n",
    "    for skill in new_skills.keys():\n",
    "        if skill not in SKILLS:\n",
    "            return \"Skill \" + skill + \" not in database.\"\n",
    "            # COMMENT: this is only a placeholder. For ideas on how to handle new skills, see \"HOW TO HANDLE NEW SKILL\" section \n",
    "\n",
    "    new_employee_df = pd.DataFrame()\n",
    "    new_employee_df[\"skill\"] = new_skills.keys()\n",
    "    new_employee_df[\"rating\"] = new_skills.values()\n",
    "    new_employee_df[\"person\"] = new_id\n",
    "    new_employee_df = new_employee_df[[\"person\",\"skill\",\"rating\"]]\n",
    "\n",
    "    df_rated_new = pd.concat([df_rated,new_employee_df],ignore_index=True)\n",
    "    # COMMENT: right now this function creates a new rated df. In order for this to retain newly added employees, it needs to overwrite the old df with the new data. \n",
    "    # this had to be implemented later on\n",
    "\n",
    "    new_data = Dataset.load_from_df(df_rated_new,reader)\n",
    "\n",
    "    model = best_model_dict[results.iloc[results[\"rmse_mean\"].idxmin()][\"name\"]]\n",
    "    #  COMMENT: right now the best model from the initial gridearch is taken. if the model is indeed to be retrained, it should be executing a new gridsearch and take the best estimator from this one\n",
    "    trainset = new_data.build_full_trainset()\n",
    "    model.fit(trainset)\n",
    "\n",
    "    testset = trainset.build_anti_testset()\n",
    "    predictions = model.test(testset)\n",
    "\n",
    "    return get_top_n(predictions, n)[new_id]"
   ]
  },
  {
   "cell_type": "code",
   "execution_count": 293,
   "metadata": {},
   "outputs": [
    {
     "data": {
      "text/plain": [
       "[('OpenShop', 5),\n",
       " ('Swing/AWT', 4.844331787798043),\n",
       " ('Jogl', 4.82783655147587),\n",
       " ('Ruby', 4.8182744714887225),\n",
       " ('C#', 4.814542599700227)]"
      ]
     },
     "execution_count": 293,
     "metadata": {},
     "output_type": "execute_result"
    }
   ],
   "source": [
    "get_recoms_for_new_employee(new_id,new_skills,5)"
   ]
  },
  {
   "cell_type": "markdown",
   "metadata": {},
   "source": [
    "## Conclusion"
   ]
  },
  {
   "cell_type": "markdown",
   "metadata": {},
   "source": [
    "As shown in this notebook, the predicitons performed by SVD with params () score an average RMSE of 0.475560 during the cross validation, which means that the predicted scores are off by less than half a rating point. In regards to the rating range (1 - 5), the error can be seen as moderately low. Therefore, recommendations made using the demonstrated set up have a high potential of fulfilling the desired task, which is the recommendation of skills to a user which other similar users possess. <br>\n",
    "However, certain limitations of this approach should be considered when implementing the rated approach. First of all, the most prominent downside of this approach is that the artificially created ratings have a major impact on the recommendations. Due to the fact, that a users' skill with the highest rating will always be out of one and the same category, the recommendations have a high likelihood to also be skills of the same category."
   ]
  },
  {
   "cell_type": "code",
   "execution_count": 319,
   "metadata": {},
   "outputs": [],
   "source": [
    "occurence = np.zeros(len(PERSONS))\n",
    "for i,p in enumerate(PERSONS):\n",
    "    main_cat = df[df[\"person\"] == p][\"category\"].value_counts().index[0]\n",
    "    recommended_cat = get_recommendations_for_employee([p],10)[\"skill\"].apply(lambda x : category_dict[x]).to_numpy()\n",
    "    count = 0\n",
    "    for cat in recommended_cat:\n",
    "        if cat == main_cat:\n",
    "            count += 1\n",
    "    occurence[i] = count"
   ]
  },
  {
   "cell_type": "code",
   "execution_count": 333,
   "metadata": {},
   "outputs": [
    {
     "data": {
      "image/png": "[encoded data removed]",
      "text/plain": [
       "<Figure size 640x480 with 1 Axes>"
      ]
     },
     "metadata": {},
     "output_type": "display_data"
    }
   ],
   "source": [
    "plt.hist(occurence,color=\"#112e51\",alpha=0.8,edgecolor='k',bins=range(11),align=\"right\")\n",
    "plt.title(\"Categories of Top 10 Recommended Skill - Explicit Approach\")\n",
    "plt.xlabel(\"Amount Recommended Skills in Users Main Category\")\n",
    "plt.xticks(np.arange(0,11,1))\n",
    "plt.tight_layout()\n",
    "plt.savefig(\"Category Hist\")"
   ]
  },
  {
   "cell_type": "markdown",
   "metadata": {},
   "source": [
    "## Appendix I - Effect of Dropping Rare Skills on Recommender Precision\n"
   ]
  },
  {
   "cell_type": "markdown",
   "metadata": {},
   "source": [
    "In order to observe the effect of dropping rare skills from the dataset and therefore making the data less dense, possibly improving the performance of the matrix factorization procedure, we will conduct the experiment multiple times while dropping skills which don't meet various absolute support thresholds in the dataset (absolute support represents the number of times the skill occurs in the dataset)."
   ]
  },
  {
   "cell_type": "code",
   "execution_count": 210,
   "metadata": {},
   "outputs": [],
   "source": [
    "min_absolute_support = [0, 1, 2, 5, 10, 20]"
   ]
  },
  {
   "cell_type": "code",
   "execution_count": 211,
   "metadata": {},
   "outputs": [],
   "source": [
    "def measure_performance_for_n(n:int):\n",
    "    '''\n",
    "    Function measuring the effect of dropping skills from the dataset which occur n or less times.   \n",
    "    ----------\n",
    "    Parameters:   \n",
    "    n : int \n",
    "    Minimum absolute support threshold for skills to be dropped.   \n",
    "    ----------\n",
    "    Returns: \n",
    "    DataFrame containing performance measures such as sparsity, p@k and rmse for given n.  \n",
    "    '''\n",
    "    df = pd.read_csv(\"data/person-skills_2022-06-27.csv\",sep=\";\")\n",
    "    # trim dataset according to min absolute support of skills and insert ratings afterwards\n",
    "    rare_skills = get_rare_skills(df,n)\n",
    "    df_rated = get_rated_df(df[~df[\"skill\"].isin(rare_skills)])\n",
    "    # measure sparsity (ratio between non-zero and zero value entries)\n",
    "    sparsity = 1-(len(df_rated)/(df_rated[\"person\"].nunique()*df_rated[\"skill\"].nunique()))\n",
    "    # get holdout for later precision measurement \n",
    "    holdout = get_holdout(df_rated,0.05)\n",
    "    # transform data to surprise dataset\n",
    "    reader = Reader(rating_scale=(1,5))\n",
    "    data = Dataset.load_from_df(df_rated,reader)\n",
    "    algo = (SVD,\"SVD\",{\n",
    "                        \"n_factors\": [1, 2, 5, 10, 15, 20, 40],\n",
    "                        \"n_epochs\": [100, 200, 400, 800, 1000],\n",
    "                        \"biased\":[True,False],\n",
    "                        \"random_state\":[1]\n",
    "                                        })\n",
    "    best_model_dict = {}\n",
    "    best_params_dict = {}\n",
    "    rmse, mse, mae = gridsearch_cv_surprise(algo[0],algo[1],algo[2],data,best_model_dict,best_params_dict)\n",
    "    # define model, fit and test it on the data\n",
    "    model = best_model_dict[\"SVD\"]\n",
    "    trainset = data.build_full_trainset()\n",
    "    model.fit(trainset)\n",
    "    preds = model.test(trainset.build_anti_testset())\n",
    "    # save performance measures in df\n",
    "    return pd.DataFrame({\n",
    "                \"n\":n,\n",
    "                \"unique_skills\":df_rated[\"skill\"].nunique(),\n",
    "                \"sparsity\":sparsity,\n",
    "                \"precision_at_k\":precision_at_k(10,holdout,get_recommendations(preds,10)),\n",
    "                \"mean_average_precision\":mean_average_precision(10,holdout,get_recommendations(preds,10)),\n",
    "                \"SVD - n_factors\":best_params_dict[\"SVD\"][\"n_factors\"],\n",
    "                \"SVD - mean rmse\": np.mean(rmse),\n",
    "                \"SVD - mean mse\": np.mean(mse),\n",
    "                \"SVD - mean mae\": np.mean(mae)\n",
    "                },index=[0])"
   ]
  },
  {
   "cell_type": "code",
   "execution_count": 212,
   "metadata": {},
   "outputs": [
    {
     "name": "stdout",
     "output_type": "stream",
     "text": [
      "Running CV for model SVD in Iteration: 0 at 0.0\n",
      "Running CV for model SVD in Iteration: 1 at 289.2978768348694\n",
      "Running CV for model SVD in Iteration: 2 at 574.7142314910889\n",
      "Total time:  862.035483121872 sec.\n",
      "Running CV for model SVD in Iteration: 0 at 0.0\n",
      "Running CV for model SVD in Iteration: 1 at 291.406884431839\n",
      "Running CV for model SVD in Iteration: 2 at 581.5231790542603\n",
      "Total time:  874.5650629997253 sec.\n",
      "Running CV for model SVD in Iteration: 0 at 0.0010006427764892578\n",
      "Running CV for model SVD in Iteration: 1 at 291.21767592430115\n",
      "Running CV for model SVD in Iteration: 2 at 583.9045548439026\n",
      "Total time:  891.1521050930023 sec.\n",
      "Running CV for model SVD in Iteration: 0 at 0.0\n",
      "Running CV for model SVD in Iteration: 1 at 303.1967258453369\n",
      "Running CV for model SVD in Iteration: 2 at 588.6008150577545\n",
      "Total time:  873.5230040550232 sec.\n",
      "Running CV for model SVD in Iteration: 0 at 0.0\n",
      "Running CV for model SVD in Iteration: 1 at 274.2815456390381\n",
      "Running CV for model SVD in Iteration: 2 at 547.8178663253784\n",
      "Total time:  821.5253872871399 sec.\n",
      "Running CV for model SVD in Iteration: 0 at 0.0\n",
      "Running CV for model SVD in Iteration: 1 at 249.15465474128723\n",
      "Running CV for model SVD in Iteration: 2 at 499.3142924308777\n",
      "Total time:  749.4162120819092 sec.\n"
     ]
    },
    {
     "data": {
      "text/html": [
       "<div>\n",
       "<style scoped>\n",
       "    .dataframe tbody tr th:only-of-type {\n",
       "        vertical-align: middle;\n",
       "    }\n",
       "\n",
       "    .dataframe tbody tr th {\n",
       "        vertical-align: top;\n",
       "    }\n",
       "\n",
       "    .dataframe thead th {\n",
       "        text-align: right;\n",
       "    }\n",
       "</style>\n",
       "<table border=\"1\" class=\"dataframe\">\n",
       "  <thead>\n",
       "    <tr style=\"text-align: right;\">\n",
       "      <th></th>\n",
       "      <th>n</th>\n",
       "      <th>unique_skills</th>\n",
       "      <th>sparsity</th>\n",
       "      <th>precision_at_k</th>\n",
       "      <th>weighted_precision_at_k</th>\n",
       "      <th>SVD - n_factors</th>\n",
       "      <th>SVD - mean rmse</th>\n",
       "      <th>SVD - mean mse</th>\n",
       "      <th>SVD - mean mae</th>\n",
       "    </tr>\n",
       "  </thead>\n",
       "  <tbody>\n",
       "    <tr>\n",
       "      <th>0</th>\n",
       "      <td>0</td>\n",
       "      <td>734</td>\n",
       "      <td>0.917089</td>\n",
       "      <td>0.460261</td>\n",
       "      <td>0.211473</td>\n",
       "      <td>20</td>\n",
       "      <td>0.473774</td>\n",
       "      <td>0.224719</td>\n",
       "      <td>0.266529</td>\n",
       "    </tr>\n",
       "    <tr>\n",
       "      <th>1</th>\n",
       "      <td>1</td>\n",
       "      <td>665</td>\n",
       "      <td>0.908521</td>\n",
       "      <td>0.511547</td>\n",
       "      <td>0.248245</td>\n",
       "      <td>40</td>\n",
       "      <td>0.461308</td>\n",
       "      <td>0.213017</td>\n",
       "      <td>0.261526</td>\n",
       "    </tr>\n",
       "    <tr>\n",
       "      <th>2</th>\n",
       "      <td>2</td>\n",
       "      <td>614</td>\n",
       "      <td>0.901101</td>\n",
       "      <td>0.501121</td>\n",
       "      <td>0.254197</td>\n",
       "      <td>40</td>\n",
       "      <td>0.449384</td>\n",
       "      <td>0.202052</td>\n",
       "      <td>0.256867</td>\n",
       "    </tr>\n",
       "    <tr>\n",
       "      <th>3</th>\n",
       "      <td>5</td>\n",
       "      <td>510</td>\n",
       "      <td>0.882889</td>\n",
       "      <td>0.554174</td>\n",
       "      <td>0.265991</td>\n",
       "      <td>40</td>\n",
       "      <td>0.425817</td>\n",
       "      <td>0.181433</td>\n",
       "      <td>0.245200</td>\n",
       "    </tr>\n",
       "    <tr>\n",
       "      <th>4</th>\n",
       "      <td>10</td>\n",
       "      <td>392</td>\n",
       "      <td>0.853275</td>\n",
       "      <td>0.654780</td>\n",
       "      <td>0.332526</td>\n",
       "      <td>40</td>\n",
       "      <td>0.401620</td>\n",
       "      <td>0.161485</td>\n",
       "      <td>0.232379</td>\n",
       "    </tr>\n",
       "    <tr>\n",
       "      <th>5</th>\n",
       "      <td>20</td>\n",
       "      <td>270</td>\n",
       "      <td>0.801940</td>\n",
       "      <td>0.767028</td>\n",
       "      <td>0.414437</td>\n",
       "      <td>40</td>\n",
       "      <td>0.386230</td>\n",
       "      <td>0.149451</td>\n",
       "      <td>0.214500</td>\n",
       "    </tr>\n",
       "  </tbody>\n",
       "</table>\n",
       "</div>"
      ],
      "text/plain": [
       "    n  unique_skills  sparsity  precision_at_k  weighted_precision_at_k  \\\n",
       "0   0            734  0.917089        0.460261                 0.211473   \n",
       "1   1            665  0.908521        0.511547                 0.248245   \n",
       "2   2            614  0.901101        0.501121                 0.254197   \n",
       "3   5            510  0.882889        0.554174                 0.265991   \n",
       "4  10            392  0.853275        0.654780                 0.332526   \n",
       "5  20            270  0.801940        0.767028                 0.414437   \n",
       "\n",
       "   SVD - n_factors  SVD - mean rmse  SVD - mean mse  SVD - mean mae  \n",
       "0               20         0.473774        0.224719        0.266529  \n",
       "1               40         0.461308        0.213017        0.261526  \n",
       "2               40         0.449384        0.202052        0.256867  \n",
       "3               40         0.425817        0.181433        0.245200  \n",
       "4               40         0.401620        0.161485        0.232379  \n",
       "5               40         0.386230        0.149451        0.214500  "
      ]
     },
     "execution_count": 212,
     "metadata": {},
     "output_type": "execute_result"
    }
   ],
   "source": [
    "result_df = pd.DataFrame()#columns = [\"n\",\"sparsity\",\"precision_at_k\",\"weighted_precision_at_k\",\"SVD - n_factors\"])\n",
    "for n in min_absolute_support:\n",
    "    result_df = pd.concat([result_df,measure_performance_for_n(n)],ignore_index=True)\n",
    "result_df"
   ]
  },
  {
   "cell_type": "markdown",
   "metadata": {},
   "source": [
    "Observations: <br>\n",
    "In general, we observe that the more skills are dropped from the data, the higher the precision at k of the predictions. As expected, SVD performs better with increasing density of the user-item matrix, indicated by decresing error measures RMSE, MSE and MAE with rising. This leads to the assumption, that elimiting rare items from the data bears the protential of increasing the models' performance. <br>\n",
    "However, with n being set to 5, there are already more than 200 skills being pruned from the dataset. For n = 20, more than 500 skills are lost in the pruning procedure. Naturally, these skills will not be part of any recommendations, possibly decreasing the quality of the predictions as such. <br>\n",
    "To conclude, while pruning skills from the dataset prior to using the model potentially increases model performance, the user should bear in mind to not set the minimum support threshold too high, as this will lead to a high amount of skills not being part of the resulting recommendations."
   ]
  },
  {
   "cell_type": "markdown",
   "metadata": {},
   "source": [
    "## Appendix II - Reverse Problem for User Recommendations on Items"
   ]
  },
  {
   "cell_type": "code",
   "execution_count": 213,
   "metadata": {},
   "outputs": [
    {
     "data": {
      "text/plain": [
       "<surprise.prediction_algorithms.matrix_factorization.SVD at 0x1e0ed505a80>"
      ]
     },
     "execution_count": 213,
     "metadata": {},
     "output_type": "execute_result"
    }
   ],
   "source": [
    "df_items = df_rated[[\"skill\",\"person\",\"rating\"]].sort_values(by=\"skill\")\n",
    "reader = Reader(rating_scale=(1,5)) \n",
    "data_items = Dataset.load_from_df(df_items,reader)\n",
    "model = SVD(n_factors = 40, n_epochs = 1000, biased = False, random_state = 1)\n",
    "trainset = data_items.build_full_trainset()\n",
    "model.fit(trainset)"
   ]
  },
  {
   "cell_type": "code",
   "execution_count": 214,
   "metadata": {},
   "outputs": [],
   "source": [
    "preds = model.test(trainset.build_anti_testset())"
   ]
  },
  {
   "cell_type": "code",
   "execution_count": 215,
   "metadata": {},
   "outputs": [
    {
     "data": {
      "text/plain": [
       "[(215, 4.8648364715376715),\n",
       " (1467, 4.850964672288949),\n",
       " (631, 4.848390217671857),\n",
       " (147, 4.842250341848838),\n",
       " (1290, 4.8388572718574245),\n",
       " (272, 4.828183884593311),\n",
       " (957, 4.798802956813434),\n",
       " (172, 4.788088263930765),\n",
       " (1278, 4.769069794875521),\n",
       " (204, 3.96683095679537)]"
      ]
     },
     "execution_count": 215,
     "metadata": {},
     "output_type": "execute_result"
    }
   ],
   "source": [
    "get_top_n(preds,10)[\"Python\"]"
   ]
  },
  {
   "cell_type": "code",
   "execution_count": 216,
   "metadata": {},
   "outputs": [
    {
     "data": {
      "text/plain": [
       "Programmiersprachen / Scriptsprachen    3\n",
       "Betriebssystem                          2\n",
       "Datenbank                               1\n",
       "Java Frameworks                         1\n",
       "Webentwicklung                          1\n",
       "Name: category, dtype: int64"
      ]
     },
     "execution_count": 216,
     "metadata": {},
     "output_type": "execute_result"
    }
   ],
   "source": [
    "df[df[\"person\"] == 1467][\"category\"].value_counts()"
   ]
  }
 ],
 "metadata": {
  "kernelspec": {
   "display_name": "Python 3.10.7 ('ds_ap')",
   "language": "python",
   "name": "python3"
  },
  "language_info": {
   "codemirror_mode": {
    "name": "ipython",
    "version": 3
   },
   "file_extension": ".py",
   "mimetype": "text/x-python",
   "name": "python",
   "nbconvert_exporter": "python",
   "pygments_lexer": "ipython3",
   "version": "3.10.7"
  },
  "orig_nbformat": 4,
  "vscode": {
   "interpreter": {
    "hash": "52cefc3a9eff3ff32f2531cecf7f574c5eb7023f21571ad3a673d9838121c504"
   }
  }
 },
 "nbformat": 4,
 "nbformat_minor": 2
}
