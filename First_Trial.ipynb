{
 "cells": [
  {
   "cell_type": "markdown",
   "metadata": {},
   "source": [
    "Books: \n",
    "\n",
    "https://www.taylorfrancis.com/books/edit/10.1201/9780367631888/recommender-systems-pavan-kumar-vairachilai-sirisha-potluri-sachi-nandan-mohanty\n",
    "\n",
    "https://beluga.sub.uni-hamburg.de/vufind/Record/1656091313?rank=1"
   ]
  },
  {
   "cell_type": "code",
   "execution_count": 1,
   "metadata": {},
   "outputs": [],
   "source": [
    "import pandas as pd\n",
    "import numpy as np\n",
    "import random"
   ]
  },
  {
   "cell_type": "code",
   "execution_count": 2,
   "metadata": {},
   "outputs": [],
   "source": [
    "df = pd.read_csv(\"person-skills_2022-06-27.csv\",sep=\";\")"
   ]
  },
  {
   "cell_type": "markdown",
   "metadata": {},
   "source": [
    "## Explore data"
   ]
  },
  {
   "cell_type": "markdown",
   "metadata": {},
   "source": [
    "Check categories and drop any which of \"obsolete\" skills. "
   ]
  },
  {
   "cell_type": "code",
   "execution_count": null,
   "metadata": {},
   "outputs": [],
   "source": [
    "df[\"category\"].unique()"
   ]
  },
  {
   "cell_type": "code",
   "execution_count": null,
   "metadata": {},
   "outputs": [],
   "source": [
    "df[df[\"category\"] == \"Rolle (intern)\"][\"skill\"].unique()"
   ]
  },
  {
   "cell_type": "markdown",
   "metadata": {},
   "source": [
    "Dropping: \"Betriebssystem\", \"Dienste\", \"Einsatzfelder / Erfahrungen / Schwerpunkte\", \"Rolle (intern)\""
   ]
  },
  {
   "cell_type": "code",
   "execution_count": null,
   "metadata": {},
   "outputs": [],
   "source": [
    "data = df[~df[\"category\"].isin([\"Betriebssystem\", \"Dienste\", \"Einsatzfelder / Erfahrungen / Schwerpunkte\", \"Rolle (intern)\"])]"
   ]
  },
  {
   "cell_type": "code",
   "execution_count": null,
   "metadata": {},
   "outputs": [],
   "source": [
    "data.head(20)"
   ]
  },
  {
   "cell_type": "code",
   "execution_count": null,
   "metadata": {},
   "outputs": [],
   "source": [
    "employee_dict = {}\n",
    "for n in range(1,data[\"person\"].nunique()+1):\n",
    "    employee_dict[n] = data[\"person\"].unique()[n-1]"
   ]
  },
  {
   "cell_type": "code",
   "execution_count": null,
   "metadata": {},
   "outputs": [],
   "source": [
    "# So later functions work, it makes sense to rename persons from 1 to maxno. \n",
    "# Create dictionary which matches the employee\n",
    "persons = np.arange(1,len(data[\"person\"].unique())+1)\n",
    "skills = sorted(data[\"skill\"].unique())"
   ]
  },
  {
   "cell_type": "code",
   "execution_count": null,
   "metadata": {},
   "outputs": [],
   "source": [
    "skills_per_person = []\n",
    "for person in data[\"person\"].unique(): \n",
    "    skillset = []\n",
    "    for skill in skills:\n",
    "        if skill in data[data[\"person\"] == person][\"skill\"].unique():\n",
    "            skillset.append(1)\n",
    "        else:\n",
    "            skillset.append(0)\n",
    "    skills_per_person.append(skillset)\n"
   ]
  },
  {
   "cell_type": "code",
   "execution_count": null,
   "metadata": {},
   "outputs": [],
   "source": [
    "matrix = pd.DataFrame(index=persons,columns=skills,data=skills_per_person)"
   ]
  },
  {
   "cell_type": "code",
   "execution_count": null,
   "metadata": {},
   "outputs": [],
   "source": [
    "matrix"
   ]
  },
  {
   "cell_type": "markdown",
   "metadata": {},
   "source": [
    "Employee-employee approach"
   ]
  },
  {
   "cell_type": "markdown",
   "metadata": {},
   "source": [
    "Similarity between employees: due to dichotomous nature of data, Jaccard similarity is used for computing the similarity between employees. "
   ]
  },
  {
   "cell_type": "code",
   "execution_count": null,
   "metadata": {},
   "outputs": [],
   "source": [
    "def jaccard_binary(x,y):\n",
    "    \"\"\"A function for finding the similarity between two binary vectors\"\"\"\n",
    "    intersection = np.logical_and(x, y)\n",
    "    union = np.logical_or(x, y)\n",
    "    similarity = intersection.sum() / float(union.sum())\n",
    "    return similarity"
   ]
  },
  {
   "cell_type": "code",
   "execution_count": null,
   "metadata": {},
   "outputs": [],
   "source": [
    "def compute_jaccard_sim(data,employee):\n",
    "    sim = pd.DataFrame(index=[employee])\n",
    "    employee_data = data.loc[employee]\n",
    "    sim_data = data.drop(employee,axis=0)\n",
    "    for emp in sim_data.index:\n",
    "        new_sim = pd.DataFrame(index=[employee],columns=[emp],data=jaccard_binary(employee_data,sim_data.loc[emp]))\n",
    "        sim = pd.concat([sim,new_sim],axis=1)\n",
    "    return sim       "
   ]
  },
  {
   "cell_type": "code",
   "execution_count": null,
   "metadata": {},
   "outputs": [],
   "source": [
    "def compute_n_nearest_neighbors(data,employee,n):\n",
    "    neighbors = pd.DataFrame(index=[employee])\n",
    "    similarities = compute_jaccard_sim(data,employee)\n",
    "    for i in range(0,n):\n",
    "        nearest_neighbor = similarities[similarities.idxmax(axis=1)]\n",
    "        neighbors = pd.concat([neighbors,nearest_neighbor],axis=1)\n",
    "        similarities.drop(nearest_neighbor,axis=1,inplace=True)\n",
    "    return neighbors.columns.to_list()"
   ]
  },
  {
   "cell_type": "code",
   "execution_count": null,
   "metadata": {},
   "outputs": [],
   "source": [
    "def predict_skills_for_employee(data,employee,n_neighbors):\n",
    "    neighbors = compute_n_nearest_neighbors(data,employee,n_neighbors)\n",
    "    values_of_employee = data.loc[employee].to_numpy()\n",
    "    neighbors_matrix = data.loc[neighbors].to_numpy()\n",
    "    predicted_values = np.array([])\n",
    "    for i in range(0,len(values_of_employee)):\n",
    "        if values_of_employee[i] == 0: \n",
    "            predicted_values = np.append(predicted_values,\n",
    "                                            # weighted averahe might be more accurate\n",
    "                                            np.mean(neighbors_matrix[:,i]))\n",
    "        else: \n",
    "            predicted_values = np.append(predicted_values,values_of_employee[i])\n",
    "    return predicted_values"
   ]
  },
  {
   "cell_type": "code",
   "execution_count": null,
   "metadata": {},
   "outputs": [],
   "source": [
    "def predict_skills_for_matrix(data,n_neighbors): \n",
    "    # create emppy array of length according to columns (in order for later vstack to work)\n",
    "    return_data = np.zeros(len(data.columns))\n",
    "    for i in data.index: \n",
    "        single_predicition = predict_skills_for_employee(data,i,n_neighbors)\n",
    "        return_data = np.vstack([return_data,single_predicition])\n",
    "    # delete first entry (zeros) from return data\n",
    "    return_data = return_data[1:len(return_data)]\n",
    "    return pd.DataFrame(index=data.index,columns=data.columns,data=return_data)"
   ]
  },
  {
   "cell_type": "code",
   "execution_count": null,
   "metadata": {},
   "outputs": [],
   "source": [
    "predict_skills_for_matrix(matrix,10)"
   ]
  },
  {
   "cell_type": "markdown",
   "metadata": {},
   "source": [
    "Create matrix with values between 1 and 5 for recommender trials"
   ]
  },
  {
   "cell_type": "markdown",
   "metadata": {},
   "source": [
    "Values between 1 and 5 should not be arbitrary. As weight for their score, the frequency of the underlying category for each skill will be taken into account. For instance, if employee 12 has four skills in the category programming language and one skill in data banks, each programming skill will be evaluated with a respectivley high score. "
   ]
  },
  {
   "cell_type": "code",
   "execution_count": null,
   "metadata": {},
   "outputs": [],
   "source": [
    "skills_to_category = pd.read_csv(\"mitarbeiterportal-skills_2022-06-21.csv\",sep=\";\",header=None)\n",
    "category_dict = dict(zip(skills_to_category[0],skills_to_category[1]))"
   ]
  },
  {
   "cell_type": "code",
   "execution_count": null,
   "metadata": {},
   "outputs": [],
   "source": [
    "def scaler_1_5(x,old_max,old_min):\n",
    "    OldRange = (old_max - old_min)  \n",
    "    if (OldRange == 0):\n",
    "        return 1\n",
    "    else:\n",
    "        NewRange = (5 - 1)  \n",
    "        return round((((x - 1) * NewRange) / OldRange) + 1)"
   ]
  },
  {
   "cell_type": "code",
   "execution_count": null,
   "metadata": {},
   "outputs": [],
   "source": [
    "# create dataframe for each employee and their category count\n",
    "categories = data[\"category\"].unique()\n",
    "category_per_employee = pd.DataFrame(index=categories)\n",
    "for p in persons:\n",
    "    p_skills = data[data[\"person\"] == employee_dict[p]]\n",
    "    # count categories for each employee\n",
    "    category_count = p_skills[\"category\"].value_counts()\n",
    "    category_count = category_count.apply(lambda x:scaler_1_5(x,category_count.max(),category_count.min()))\n",
    "    skill_values = np.array([])\n",
    "    # add count for each category to an array and 0 if category wasn't found (and therefore is not part of resptive employee's skillset)\n",
    "    for cat in categories:\n",
    "        try:\n",
    "            skill_values = np.append(skill_values,category_count[cat])\n",
    "        except KeyError:\n",
    "            skill_values = np.append(skill_values,0)\n",
    "    # add employee data to dataframe\n",
    "    p_skills_df = pd.DataFrame(index=categories,columns=[p],data=skill_values)\n",
    "    category_per_employee = pd.concat([category_per_employee,p_skills_df],axis=1)"
   ]
  },
  {
   "cell_type": "code",
   "execution_count": null,
   "metadata": {},
   "outputs": [],
   "source": [
    "skills_per_person_weighted = []\n",
    "for p in persons: \n",
    "    skillset = []\n",
    "    for skill in skills:\n",
    "        if skill in data[data[\"person\"] == employee_dict[p]][\"skill\"].unique():\n",
    "            skillset.append(category_per_employee[p][category_dict[skill]])\n",
    "        else:\n",
    "            skillset.append(0)    \n",
    "    skills_per_person_weighted.append(skillset)"
   ]
  },
  {
   "cell_type": "code",
   "execution_count": null,
   "metadata": {},
   "outputs": [],
   "source": [
    "matrix_mod = pd.DataFrame(index=persons,columns=skills,data=skills_per_person_weighted)\n",
    "matrix_mod"
   ]
  },
  {
   "cell_type": "markdown",
   "metadata": {},
   "source": [
    "BRISMF"
   ]
  },
  {
   "cell_type": "markdown",
   "metadata": {},
   "source": [
    "[Singluar Value Decomposition (SVD)](https://analyticsindiamag.com/singular-value-decomposition-svd-application-recommender-system/)"
   ]
  },
  {
   "cell_type": "code",
   "execution_count": null,
   "metadata": {},
   "outputs": [],
   "source": [
    "# skills_array = np.array(skills_per_person_weighted)"
   ]
  },
  {
   "cell_type": "markdown",
   "metadata": {},
   "source": [
    "Normalize matrix"
   ]
  },
  {
   "cell_type": "code",
   "execution_count": null,
   "metadata": {},
   "outputs": [],
   "source": [
    "# normalised_mat = skills_array - np.asarray([np.mean(skills_array, 1)]).T"
   ]
  },
  {
   "cell_type": "markdown",
   "metadata": {},
   "source": [
    "Compute SVD"
   ]
  },
  {
   "cell_type": "code",
   "execution_count": null,
   "metadata": {},
   "outputs": [],
   "source": [
    "# A = normalised_mat.T / np.sqrt(skills_array.shape[0] - 1)\n",
    "# U, S, V = np.linalg.svd(A)"
   ]
  },
  {
   "cell_type": "code",
   "execution_count": null,
   "metadata": {},
   "outputs": [],
   "source": [
    "# def top_cosine_similarity(data, employee_id, top_n=10):\n",
    "#     index = employee_id - 1 # Employee id starts from 1 in the dataset\n",
    "#     employee_row = data[index, :]\n",
    "#     magnitude = np.sqrt(np.einsum('ij, ij -> i', data, data))\n",
    "#     similarity = np.dot(employee_row, data.T) / (magnitude[index] * magnitude)\n",
    "#     sort_indexes = np.argsort(-similarity)\n",
    "#     return sort_indexes[:top_n]"
   ]
  },
  {
   "cell_type": "code",
   "execution_count": null,
   "metadata": {},
   "outputs": [],
   "source": [
    "# # Function to print top N similar movies\n",
    "# def print_similar_movies(data, employee, top_indexes):\n",
    "#     print('Recommendations for {0}: \\n'.format(\n",
    "#     data[data.index == employee].title.values[0]))\n",
    "#     for id in top_indexes + 1:\n",
    "#         print(data[data[] == id].title.values[0])"
   ]
  },
  {
   "cell_type": "code",
   "execution_count": null,
   "metadata": {},
   "outputs": [],
   "source": [
    "# #k-principal components to represent movies, movie_id to find recommendations, top_n print n results        \n",
    "# k = 50\n",
    "# movie_id = 10 # (getting an id from movies.dat)\n",
    "# top_n = 10\n",
    "# sliced = V.T[:, :k] # representative data\n",
    "# indexes = top_cosine_similarity(sliced, movie_id, top_n)"
   ]
  },
  {
   "cell_type": "code",
   "execution_count": null,
   "metadata": {},
   "outputs": [],
   "source": [
    "# #Printing the top N similar movies\n",
    "# print_similar_movies(movie_data, movie_id, indexes)"
   ]
  },
  {
   "cell_type": "markdown",
   "metadata": {},
   "source": [
    "https://www.kaggle.com/code/ibtesama/getting-started-with-a-movie-recommendation-system"
   ]
  },
  {
   "cell_type": "code",
   "execution_count": null,
   "metadata": {},
   "outputs": [],
   "source": [
    "import surprise"
   ]
  },
  {
   "cell_type": "markdown",
   "metadata": {},
   "source": [
    "# Descriptive Analysis"
   ]
  },
  {
   "cell_type": "code",
   "execution_count": 7,
   "metadata": {},
   "outputs": [],
   "source": [
    "from matplotlib import pyplot as plt\n",
    "import seaborn as sns\n",
    "import matplotlib.ticker as mtick"
   ]
  },
  {
   "cell_type": "code",
   "execution_count": 20,
   "metadata": {},
   "outputs": [
    {
     "data": {
      "text/html": [
       "<div>\n",
       "<style scoped>\n",
       "    .dataframe tbody tr th:only-of-type {\n",
       "        vertical-align: middle;\n",
       "    }\n",
       "\n",
       "    .dataframe tbody tr th {\n",
       "        vertical-align: top;\n",
       "    }\n",
       "\n",
       "    .dataframe thead th {\n",
       "        text-align: right;\n",
       "    }\n",
       "</style>\n",
       "<table border=\"1\" class=\"dataframe\">\n",
       "  <thead>\n",
       "    <tr style=\"text-align: right;\">\n",
       "      <th></th>\n",
       "      <th>skill</th>\n",
       "      <th>frequence</th>\n",
       "    </tr>\n",
       "  </thead>\n",
       "  <tbody>\n",
       "    <tr>\n",
       "      <th>0</th>\n",
       "      <td>Englisch</td>\n",
       "      <td>315</td>\n",
       "    </tr>\n",
       "    <tr>\n",
       "      <th>1</th>\n",
       "      <td>MySQL</td>\n",
       "      <td>282</td>\n",
       "    </tr>\n",
       "    <tr>\n",
       "      <th>2</th>\n",
       "      <td>SCRUM</td>\n",
       "      <td>276</td>\n",
       "    </tr>\n",
       "    <tr>\n",
       "      <th>3</th>\n",
       "      <td>GIT</td>\n",
       "      <td>267</td>\n",
       "    </tr>\n",
       "    <tr>\n",
       "      <th>4</th>\n",
       "      <td>HTML</td>\n",
       "      <td>266</td>\n",
       "    </tr>\n",
       "    <tr>\n",
       "      <th>...</th>\n",
       "      <td>...</td>\n",
       "      <td>...</td>\n",
       "    </tr>\n",
       "    <tr>\n",
       "      <th>732</th>\n",
       "      <td>Final Cut</td>\n",
       "      <td>1</td>\n",
       "    </tr>\n",
       "    <tr>\n",
       "      <th>733</th>\n",
       "      <td>Datadog</td>\n",
       "      <td>1</td>\n",
       "    </tr>\n",
       "    <tr>\n",
       "      <th>734</th>\n",
       "      <td>Pulumi</td>\n",
       "      <td>1</td>\n",
       "    </tr>\n",
       "    <tr>\n",
       "      <th>735</th>\n",
       "      <td>Qlik 12 Certified Data Architekt</td>\n",
       "      <td>1</td>\n",
       "    </tr>\n",
       "    <tr>\n",
       "      <th>736</th>\n",
       "      <td>Spring-Integration</td>\n",
       "      <td>1</td>\n",
       "    </tr>\n",
       "  </tbody>\n",
       "</table>\n",
       "<p>737 rows × 2 columns</p>\n",
       "</div>"
      ],
      "text/plain": [
       "                                skill  frequence\n",
       "0                            Englisch        315\n",
       "1                               MySQL        282\n",
       "2                               SCRUM        276\n",
       "3                                 GIT        267\n",
       "4                                HTML        266\n",
       "..                                ...        ...\n",
       "732                         Final Cut          1\n",
       "733                           Datadog          1\n",
       "734                            Pulumi          1\n",
       "735  Qlik 12 Certified Data Architekt          1\n",
       "736                Spring-Integration          1\n",
       "\n",
       "[737 rows x 2 columns]"
      ]
     },
     "execution_count": 20,
     "metadata": {},
     "output_type": "execute_result"
    }
   ],
   "source": [
    "df_value_counts = df.skill.value_counts()\n",
    "df_value_counts = df_value_counts.to_frame().rename(columns = {\"skill\" : \"frequence\"}).reset_index(names = \"skill\")\n",
    "df_value_counts"
   ]
  },
  {
   "cell_type": "code",
   "execution_count": 4,
   "metadata": {},
   "outputs": [
    {
     "data": {
      "text/html": [
       "<div>\n",
       "<style scoped>\n",
       "    .dataframe tbody tr th:only-of-type {\n",
       "        vertical-align: middle;\n",
       "    }\n",
       "\n",
       "    .dataframe tbody tr th {\n",
       "        vertical-align: top;\n",
       "    }\n",
       "\n",
       "    .dataframe thead th {\n",
       "        text-align: right;\n",
       "    }\n",
       "</style>\n",
       "<table border=\"1\" class=\"dataframe\">\n",
       "  <thead>\n",
       "    <tr style=\"text-align: right;\">\n",
       "      <th></th>\n",
       "      <th>skill</th>\n",
       "      <th>frequence</th>\n",
       "      <th>frequence_percent</th>\n",
       "    </tr>\n",
       "  </thead>\n",
       "  <tbody>\n",
       "    <tr>\n",
       "      <th>0</th>\n",
       "      <td>Englisch</td>\n",
       "      <td>315</td>\n",
       "      <td>0.427408</td>\n",
       "    </tr>\n",
       "    <tr>\n",
       "      <th>1</th>\n",
       "      <td>MySQL</td>\n",
       "      <td>282</td>\n",
       "      <td>0.382632</td>\n",
       "    </tr>\n",
       "    <tr>\n",
       "      <th>2</th>\n",
       "      <td>SCRUM</td>\n",
       "      <td>276</td>\n",
       "      <td>0.374491</td>\n",
       "    </tr>\n",
       "    <tr>\n",
       "      <th>3</th>\n",
       "      <td>GIT</td>\n",
       "      <td>267</td>\n",
       "      <td>0.362280</td>\n",
       "    </tr>\n",
       "    <tr>\n",
       "      <th>4</th>\n",
       "      <td>HTML</td>\n",
       "      <td>266</td>\n",
       "      <td>0.360923</td>\n",
       "    </tr>\n",
       "    <tr>\n",
       "      <th>...</th>\n",
       "      <td>...</td>\n",
       "      <td>...</td>\n",
       "      <td>...</td>\n",
       "    </tr>\n",
       "    <tr>\n",
       "      <th>732</th>\n",
       "      <td>Final Cut</td>\n",
       "      <td>1</td>\n",
       "      <td>0.001357</td>\n",
       "    </tr>\n",
       "    <tr>\n",
       "      <th>733</th>\n",
       "      <td>Datadog</td>\n",
       "      <td>1</td>\n",
       "      <td>0.001357</td>\n",
       "    </tr>\n",
       "    <tr>\n",
       "      <th>734</th>\n",
       "      <td>Pulumi</td>\n",
       "      <td>1</td>\n",
       "      <td>0.001357</td>\n",
       "    </tr>\n",
       "    <tr>\n",
       "      <th>735</th>\n",
       "      <td>Qlik 12 Certified Data Architekt</td>\n",
       "      <td>1</td>\n",
       "      <td>0.001357</td>\n",
       "    </tr>\n",
       "    <tr>\n",
       "      <th>736</th>\n",
       "      <td>Spring-Integration</td>\n",
       "      <td>1</td>\n",
       "      <td>0.001357</td>\n",
       "    </tr>\n",
       "  </tbody>\n",
       "</table>\n",
       "<p>737 rows × 3 columns</p>\n",
       "</div>"
      ],
      "text/plain": [
       "                                skill  frequence  frequence_percent\n",
       "0                            Englisch        315           0.427408\n",
       "1                               MySQL        282           0.382632\n",
       "2                               SCRUM        276           0.374491\n",
       "3                                 GIT        267           0.362280\n",
       "4                                HTML        266           0.360923\n",
       "..                                ...        ...                ...\n",
       "732                         Final Cut          1           0.001357\n",
       "733                           Datadog          1           0.001357\n",
       "734                            Pulumi          1           0.001357\n",
       "735  Qlik 12 Certified Data Architekt          1           0.001357\n",
       "736                Spring-Integration          1           0.001357\n",
       "\n",
       "[737 rows x 3 columns]"
      ]
     },
     "execution_count": 4,
     "metadata": {},
     "output_type": "execute_result"
    }
   ],
   "source": [
    "frequence_percent = df_value_counts.frequence/len(df_value_counts.frequence/len(df))\n",
    "df_value_counts[\"frequence_percent\"] = frequence_percent\n",
    "df_value_counts"
   ]
  },
  {
   "cell_type": "code",
   "execution_count": 8,
   "metadata": {},
   "outputs": [],
   "source": [
    "def make_bar_chart(df,y_index,x_index,bol_labels,ticks ,title):\n",
    "    \"\"\"This function creates a barchart\n",
    "\n",
    "    Args:\n",
    "        df (DataFrame): data\n",
    "        y_index (int): specifies the column, which is displayed on the y-axis\n",
    "        x_index (int): specifies the column, which is displayed on the x-axis\n",
    "        bol_labels (boolean): display bar labels or not\n",
    "        ticks (_type_): list or False\n",
    "        title (string): title of the plot\n",
    "    \"\"\"\n",
    "    y_column = df.columns[y_index]\n",
    "    df_sorted = df.sort_values([str(y_column)], ascending = False)\n",
    "    plt.figure(figsize=(12, 8))\n",
    "    ax = df_sorted[str(y_column)].plot(kind=\"bar\")\n",
    "\n",
    "    x_colum = df.columns[x_index]\n",
    "\n",
    "    if isinstance(ticks, list) == False:\n",
    "        ax.set_xticklabels(df_sorted[str(x_colum)])\n",
    "    else:\n",
    "        ax.set_xticks(ticks)\n",
    "    # Create bar labels\n",
    "    if bol_labels == True:\n",
    "        rects = ax.patches\n",
    "        for rect, label in zip(rects, df_sorted[str(y_column)]):\n",
    "            height = rect.get_height()\n",
    "            ax.text(rect.get_x() + rect.get_width() / 2, height+0.01, label,\n",
    "                ha='center', va='bottom')\n",
    "    \n",
    "\n",
    "    ax.set_title(str(title))\n",
    "    plt.show()"
   ]
  },
  {
   "cell_type": "code",
   "execution_count": 9,
   "metadata": {},
   "outputs": [
    {
     "data": {
      "image/png": "[encoded data removed]",
      "text/plain": [
       "<Figure size 1200x800 with 1 Axes>"
      ]
     },
     "metadata": {},
     "output_type": "display_data"
    }
   ],
   "source": [
    "ticks = np.arange(0,750,50).tolist()\n",
    "make_bar_chart(df_value_counts.reset_index(),2,0,False,ticks,\"Skillfrequency\")"
   ]
  },
  {
   "cell_type": "code",
   "execution_count": 10,
   "metadata": {},
   "outputs": [
    {
     "data": {
      "text/html": [
       "<div>\n",
       "<style scoped>\n",
       "    .dataframe tbody tr th:only-of-type {\n",
       "        vertical-align: middle;\n",
       "    }\n",
       "\n",
       "    .dataframe tbody tr th {\n",
       "        vertical-align: top;\n",
       "    }\n",
       "\n",
       "    .dataframe thead th {\n",
       "        text-align: right;\n",
       "    }\n",
       "</style>\n",
       "<table border=\"1\" class=\"dataframe\">\n",
       "  <thead>\n",
       "    <tr style=\"text-align: right;\">\n",
       "      <th></th>\n",
       "      <th>category</th>\n",
       "      <th>number_of_agents_within_category</th>\n",
       "    </tr>\n",
       "  </thead>\n",
       "  <tbody>\n",
       "    <tr>\n",
       "      <th>0</th>\n",
       "      <td>Webentwicklung</td>\n",
       "      <td>2251</td>\n",
       "    </tr>\n",
       "    <tr>\n",
       "      <th>1</th>\n",
       "      <td>Java Frameworks</td>\n",
       "      <td>1828</td>\n",
       "    </tr>\n",
       "    <tr>\n",
       "      <th>2</th>\n",
       "      <td>Betriebssystem</td>\n",
       "      <td>1780</td>\n",
       "    </tr>\n",
       "    <tr>\n",
       "      <th>3</th>\n",
       "      <td>Einsatzfelder / Erfahrungen / Schwerpunkte</td>\n",
       "      <td>1618</td>\n",
       "    </tr>\n",
       "    <tr>\n",
       "      <th>4</th>\n",
       "      <td>Programmiersprachen / Scriptsprachen</td>\n",
       "      <td>1615</td>\n",
       "    </tr>\n",
       "    <tr>\n",
       "      <th>5</th>\n",
       "      <td>Datenbank</td>\n",
       "      <td>1468</td>\n",
       "    </tr>\n",
       "    <tr>\n",
       "      <th>6</th>\n",
       "      <td>Methoden und Praktiken</td>\n",
       "      <td>1372</td>\n",
       "    </tr>\n",
       "    <tr>\n",
       "      <th>7</th>\n",
       "      <td>CI/CD, Build- und Versionskontrollsysteme</td>\n",
       "      <td>1334</td>\n",
       "    </tr>\n",
       "    <tr>\n",
       "      <th>8</th>\n",
       "      <td>Projektmanagement / Vorgehensmodelle</td>\n",
       "      <td>905</td>\n",
       "    </tr>\n",
       "    <tr>\n",
       "      <th>9</th>\n",
       "      <td>Umgebungen</td>\n",
       "      <td>851</td>\n",
       "    </tr>\n",
       "    <tr>\n",
       "      <th>10</th>\n",
       "      <td>Dienste</td>\n",
       "      <td>850</td>\n",
       "    </tr>\n",
       "    <tr>\n",
       "      <th>11</th>\n",
       "      <td>Standards</td>\n",
       "      <td>794</td>\n",
       "    </tr>\n",
       "    <tr>\n",
       "      <th>12</th>\n",
       "      <td>.NET Frameworks und Tools</td>\n",
       "      <td>790</td>\n",
       "    </tr>\n",
       "    <tr>\n",
       "      <th>13</th>\n",
       "      <td>Produkterfahrung</td>\n",
       "      <td>751</td>\n",
       "    </tr>\n",
       "    <tr>\n",
       "      <th>14</th>\n",
       "      <td>Technik/Tools</td>\n",
       "      <td>732</td>\n",
       "    </tr>\n",
       "    <tr>\n",
       "      <th>15</th>\n",
       "      <td>Applikationsserver</td>\n",
       "      <td>612</td>\n",
       "    </tr>\n",
       "    <tr>\n",
       "      <th>16</th>\n",
       "      <td>Sprachen</td>\n",
       "      <td>562</td>\n",
       "    </tr>\n",
       "    <tr>\n",
       "      <th>17</th>\n",
       "      <td>JavaScript Frameworks</td>\n",
       "      <td>553</td>\n",
       "    </tr>\n",
       "    <tr>\n",
       "      <th>18</th>\n",
       "      <td>Sonstige</td>\n",
       "      <td>541</td>\n",
       "    </tr>\n",
       "    <tr>\n",
       "      <th>19</th>\n",
       "      <td>SAP Commerce</td>\n",
       "      <td>476</td>\n",
       "    </tr>\n",
       "    <tr>\n",
       "      <th>20</th>\n",
       "      <td>Issue Management</td>\n",
       "      <td>450</td>\n",
       "    </tr>\n",
       "    <tr>\n",
       "      <th>21</th>\n",
       "      <td>Grafik/Design</td>\n",
       "      <td>423</td>\n",
       "    </tr>\n",
       "    <tr>\n",
       "      <th>22</th>\n",
       "      <td>Entwicklung</td>\n",
       "      <td>332</td>\n",
       "    </tr>\n",
       "    <tr>\n",
       "      <th>23</th>\n",
       "      <td>TYPO3</td>\n",
       "      <td>254</td>\n",
       "    </tr>\n",
       "    <tr>\n",
       "      <th>24</th>\n",
       "      <td>Branchenerfahrung</td>\n",
       "      <td>242</td>\n",
       "    </tr>\n",
       "    <tr>\n",
       "      <th>25</th>\n",
       "      <td>UX/UI Tools</td>\n",
       "      <td>211</td>\n",
       "    </tr>\n",
       "    <tr>\n",
       "      <th>26</th>\n",
       "      <td>Beratung</td>\n",
       "      <td>203</td>\n",
       "    </tr>\n",
       "    <tr>\n",
       "      <th>27</th>\n",
       "      <td>Software Craftmanship</td>\n",
       "      <td>194</td>\n",
       "    </tr>\n",
       "    <tr>\n",
       "      <th>28</th>\n",
       "      <td>PHP</td>\n",
       "      <td>121</td>\n",
       "    </tr>\n",
       "    <tr>\n",
       "      <th>29</th>\n",
       "      <td>CMS</td>\n",
       "      <td>112</td>\n",
       "    </tr>\n",
       "    <tr>\n",
       "      <th>30</th>\n",
       "      <td>ERP</td>\n",
       "      <td>64</td>\n",
       "    </tr>\n",
       "    <tr>\n",
       "      <th>31</th>\n",
       "      <td>Zertifizierung</td>\n",
       "      <td>62</td>\n",
       "    </tr>\n",
       "    <tr>\n",
       "      <th>32</th>\n",
       "      <td>Cloud Computing</td>\n",
       "      <td>54</td>\n",
       "    </tr>\n",
       "    <tr>\n",
       "      <th>33</th>\n",
       "      <td>Data Warehouse / Business Intelligence</td>\n",
       "      <td>50</td>\n",
       "    </tr>\n",
       "    <tr>\n",
       "      <th>34</th>\n",
       "      <td>Modellierungswerkzeuge</td>\n",
       "      <td>42</td>\n",
       "    </tr>\n",
       "    <tr>\n",
       "      <th>35</th>\n",
       "      <td>BPM (Business Process Modelling)</td>\n",
       "      <td>36</td>\n",
       "    </tr>\n",
       "    <tr>\n",
       "      <th>36</th>\n",
       "      <td>Server</td>\n",
       "      <td>24</td>\n",
       "    </tr>\n",
       "    <tr>\n",
       "      <th>37</th>\n",
       "      <td>Rolle (intern)</td>\n",
       "      <td>9</td>\n",
       "    </tr>\n",
       "    <tr>\n",
       "      <th>38</th>\n",
       "      <td>Basics</td>\n",
       "      <td>8</td>\n",
       "    </tr>\n",
       "    <tr>\n",
       "      <th>39</th>\n",
       "      <td>C++ Frameworks und Tools</td>\n",
       "      <td>6</td>\n",
       "    </tr>\n",
       "    <tr>\n",
       "      <th>40</th>\n",
       "      <td>Tests</td>\n",
       "      <td>2</td>\n",
       "    </tr>\n",
       "    <tr>\n",
       "      <th>41</th>\n",
       "      <td>Agilität</td>\n",
       "      <td>2</td>\n",
       "    </tr>\n",
       "    <tr>\n",
       "      <th>42</th>\n",
       "      <td>nxp Abteilungen</td>\n",
       "      <td>2</td>\n",
       "    </tr>\n",
       "  </tbody>\n",
       "</table>\n",
       "</div>"
      ],
      "text/plain": [
       "                                      category  \\\n",
       "0                               Webentwicklung   \n",
       "1                              Java Frameworks   \n",
       "2                               Betriebssystem   \n",
       "3   Einsatzfelder / Erfahrungen / Schwerpunkte   \n",
       "4         Programmiersprachen / Scriptsprachen   \n",
       "5                                    Datenbank   \n",
       "6                       Methoden und Praktiken   \n",
       "7    CI/CD, Build- und Versionskontrollsysteme   \n",
       "8         Projektmanagement / Vorgehensmodelle   \n",
       "9                                   Umgebungen   \n",
       "10                                     Dienste   \n",
       "11                                   Standards   \n",
       "12                   .NET Frameworks und Tools   \n",
       "13                            Produkterfahrung   \n",
       "14                               Technik/Tools   \n",
       "15                          Applikationsserver   \n",
       "16                                    Sprachen   \n",
       "17                       JavaScript Frameworks   \n",
       "18                                    Sonstige   \n",
       "19                                SAP Commerce   \n",
       "20                            Issue Management   \n",
       "21                               Grafik/Design   \n",
       "22                                 Entwicklung   \n",
       "23                                       TYPO3   \n",
       "24                           Branchenerfahrung   \n",
       "25                                UX/UI Tools    \n",
       "26                                    Beratung   \n",
       "27                       Software Craftmanship   \n",
       "28                                         PHP   \n",
       "29                                         CMS   \n",
       "30                                         ERP   \n",
       "31                              Zertifizierung   \n",
       "32                             Cloud Computing   \n",
       "33      Data Warehouse / Business Intelligence   \n",
       "34                      Modellierungswerkzeuge   \n",
       "35            BPM (Business Process Modelling)   \n",
       "36                                      Server   \n",
       "37                              Rolle (intern)   \n",
       "38                                      Basics   \n",
       "39                    C++ Frameworks und Tools   \n",
       "40                                       Tests   \n",
       "41                                    Agilität   \n",
       "42                             nxp Abteilungen   \n",
       "\n",
       "    number_of_agents_within_category  \n",
       "0                               2251  \n",
       "1                               1828  \n",
       "2                               1780  \n",
       "3                               1618  \n",
       "4                               1615  \n",
       "5                               1468  \n",
       "6                               1372  \n",
       "7                               1334  \n",
       "8                                905  \n",
       "9                                851  \n",
       "10                               850  \n",
       "11                               794  \n",
       "12                               790  \n",
       "13                               751  \n",
       "14                               732  \n",
       "15                               612  \n",
       "16                               562  \n",
       "17                               553  \n",
       "18                               541  \n",
       "19                               476  \n",
       "20                               450  \n",
       "21                               423  \n",
       "22                               332  \n",
       "23                               254  \n",
       "24                               242  \n",
       "25                               211  \n",
       "26                               203  \n",
       "27                               194  \n",
       "28                               121  \n",
       "29                               112  \n",
       "30                                64  \n",
       "31                                62  \n",
       "32                                54  \n",
       "33                                50  \n",
       "34                                42  \n",
       "35                                36  \n",
       "36                                24  \n",
       "37                                 9  \n",
       "38                                 8  \n",
       "39                                 6  \n",
       "40                                 2  \n",
       "41                                 2  \n",
       "42                                 2  "
      ]
     },
     "execution_count": 10,
     "metadata": {},
     "output_type": "execute_result"
    }
   ],
   "source": [
    "########################\n",
    "# Categories\n",
    "########################\n",
    "category_count = df.groupby(['category'])[\"skill\"].count().sort_values(ascending= False).to_frame().rename(columns = {\"skill\" : \"number_of_agents_within_category\"}).reset_index()  \n",
    "category_count"
   ]
  },
  {
   "cell_type": "code",
   "execution_count": 11,
   "metadata": {},
   "outputs": [
    {
     "data": {
      "text/html": [
       "<div>\n",
       "<style scoped>\n",
       "    .dataframe tbody tr th:only-of-type {\n",
       "        vertical-align: middle;\n",
       "    }\n",
       "\n",
       "    .dataframe tbody tr th {\n",
       "        vertical-align: top;\n",
       "    }\n",
       "\n",
       "    .dataframe thead th {\n",
       "        text-align: right;\n",
       "    }\n",
       "</style>\n",
       "<table border=\"1\" class=\"dataframe\">\n",
       "  <thead>\n",
       "    <tr style=\"text-align: right;\">\n",
       "      <th></th>\n",
       "      <th>category</th>\n",
       "      <th>number_of_skills</th>\n",
       "    </tr>\n",
       "  </thead>\n",
       "  <tbody>\n",
       "    <tr>\n",
       "      <th>0</th>\n",
       "      <td>Sonstige</td>\n",
       "      <td>98</td>\n",
       "    </tr>\n",
       "    <tr>\n",
       "      <th>1</th>\n",
       "      <td>Webentwicklung</td>\n",
       "      <td>57</td>\n",
       "    </tr>\n",
       "    <tr>\n",
       "      <th>2</th>\n",
       "      <td>Einsatzfelder / Erfahrungen / Schwerpunkte</td>\n",
       "      <td>48</td>\n",
       "    </tr>\n",
       "    <tr>\n",
       "      <th>3</th>\n",
       "      <td>Java Frameworks</td>\n",
       "      <td>43</td>\n",
       "    </tr>\n",
       "    <tr>\n",
       "      <th>4</th>\n",
       "      <td>Betriebssystem</td>\n",
       "      <td>37</td>\n",
       "    </tr>\n",
       "  </tbody>\n",
       "</table>\n",
       "</div>"
      ],
      "text/plain": [
       "                                     category  number_of_skills\n",
       "0                                    Sonstige                98\n",
       "1                              Webentwicklung                57\n",
       "2  Einsatzfelder / Erfahrungen / Schwerpunkte                48\n",
       "3                             Java Frameworks                43\n",
       "4                              Betriebssystem                37"
      ]
     },
     "execution_count": 11,
     "metadata": {},
     "output_type": "execute_result"
    }
   ],
   "source": [
    "df_skills_in_categories = df[[\"skill\",\"category\"]].drop_duplicates() #only skills and categories without duplicates\n",
    "df_skills_in_categories = df_skills_in_categories.groupby(['category'])[\"skill\"].count().sort_values(ascending= False).to_frame().rename(columns = {\"skill\" : \"number_of_skills\"}).reset_index()\n",
    "df_skills_in_categories.head(5)"
   ]
  },
  {
   "cell_type": "code",
   "execution_count": 12,
   "metadata": {},
   "outputs": [
    {
     "data": {
      "image/png": "[encoded data removed]",
      "text/plain": [
       "<Figure size 1200x800 with 1 Axes>"
      ]
     },
     "metadata": {},
     "output_type": "display_data"
    }
   ],
   "source": [
    "make_bar_chart(df_skills_in_categories,1,0,True,False,\"Number of skills within a category\")\n"
   ]
  },
  {
   "cell_type": "code",
   "execution_count": 13,
   "metadata": {},
   "outputs": [
    {
     "data": {
      "text/html": [
       "<div>\n",
       "<style scoped>\n",
       "    .dataframe tbody tr th:only-of-type {\n",
       "        vertical-align: middle;\n",
       "    }\n",
       "\n",
       "    .dataframe tbody tr th {\n",
       "        vertical-align: top;\n",
       "    }\n",
       "\n",
       "    .dataframe thead th {\n",
       "        text-align: right;\n",
       "    }\n",
       "</style>\n",
       "<table border=\"1\" class=\"dataframe\">\n",
       "  <thead>\n",
       "    <tr style=\"text-align: right;\">\n",
       "      <th></th>\n",
       "      <th>category</th>\n",
       "      <th>skill</th>\n",
       "      <th>frequence</th>\n",
       "    </tr>\n",
       "  </thead>\n",
       "  <tbody>\n",
       "    <tr>\n",
       "      <th>0</th>\n",
       "      <td>.NET Frameworks und Tools</td>\n",
       "      <td>.NET Compact Framework</td>\n",
       "      <td>28</td>\n",
       "    </tr>\n",
       "    <tr>\n",
       "      <th>1</th>\n",
       "      <td>.NET Frameworks und Tools</td>\n",
       "      <td>.NET Core</td>\n",
       "      <td>10</td>\n",
       "    </tr>\n",
       "    <tr>\n",
       "      <th>2</th>\n",
       "      <td>.NET Frameworks und Tools</td>\n",
       "      <td>.NET Framework</td>\n",
       "      <td>87</td>\n",
       "    </tr>\n",
       "    <tr>\n",
       "      <th>3</th>\n",
       "      <td>.NET Frameworks und Tools</td>\n",
       "      <td>ADO.NET</td>\n",
       "      <td>23</td>\n",
       "    </tr>\n",
       "    <tr>\n",
       "      <th>4</th>\n",
       "      <td>.NET Frameworks und Tools</td>\n",
       "      <td>ASP Generalist</td>\n",
       "      <td>29</td>\n",
       "    </tr>\n",
       "  </tbody>\n",
       "</table>\n",
       "</div>"
      ],
      "text/plain": [
       "                    category                   skill  frequence\n",
       "0  .NET Frameworks und Tools  .NET Compact Framework         28\n",
       "1  .NET Frameworks und Tools               .NET Core         10\n",
       "2  .NET Frameworks und Tools          .NET Framework         87\n",
       "3  .NET Frameworks und Tools                 ADO.NET         23\n",
       "4  .NET Frameworks und Tools          ASP Generalist         29"
      ]
     },
     "execution_count": 13,
     "metadata": {},
     "output_type": "execute_result"
    }
   ],
   "source": [
    "df_groupby_category_skills = df.groupby([\"category\", \"skill\"])[\"skill\"].count().to_frame().rename(columns={\"skill\": \"frequence\"}).reset_index()\n",
    "df_groupby_category_skills.head(5)"
   ]
  },
  {
   "cell_type": "code",
   "execution_count": 14,
   "metadata": {},
   "outputs": [
    {
     "data": {
      "text/html": [
       "<div>\n",
       "<style scoped>\n",
       "    .dataframe tbody tr th:only-of-type {\n",
       "        vertical-align: middle;\n",
       "    }\n",
       "\n",
       "    .dataframe tbody tr th {\n",
       "        vertical-align: top;\n",
       "    }\n",
       "\n",
       "    .dataframe thead th {\n",
       "        text-align: right;\n",
       "    }\n",
       "</style>\n",
       "<table border=\"1\" class=\"dataframe\">\n",
       "  <thead>\n",
       "    <tr style=\"text-align: right;\">\n",
       "      <th></th>\n",
       "      <th>category</th>\n",
       "      <th>skill</th>\n",
       "      <th>frequence</th>\n",
       "      <th>frequence_category</th>\n",
       "    </tr>\n",
       "  </thead>\n",
       "  <tbody>\n",
       "    <tr>\n",
       "      <th>0</th>\n",
       "      <td>.NET Frameworks und Tools</td>\n",
       "      <td>.NET Compact Framework</td>\n",
       "      <td>28</td>\n",
       "      <td>10 - 50</td>\n",
       "    </tr>\n",
       "    <tr>\n",
       "      <th>1</th>\n",
       "      <td>.NET Frameworks und Tools</td>\n",
       "      <td>.NET Core</td>\n",
       "      <td>10</td>\n",
       "      <td>10 - 50</td>\n",
       "    </tr>\n",
       "    <tr>\n",
       "      <th>2</th>\n",
       "      <td>.NET Frameworks und Tools</td>\n",
       "      <td>.NET Framework</td>\n",
       "      <td>87</td>\n",
       "      <td>50 - 100</td>\n",
       "    </tr>\n",
       "    <tr>\n",
       "      <th>3</th>\n",
       "      <td>.NET Frameworks und Tools</td>\n",
       "      <td>ADO.NET</td>\n",
       "      <td>23</td>\n",
       "      <td>10 - 50</td>\n",
       "    </tr>\n",
       "    <tr>\n",
       "      <th>4</th>\n",
       "      <td>.NET Frameworks und Tools</td>\n",
       "      <td>ASP Generalist</td>\n",
       "      <td>29</td>\n",
       "      <td>10 - 50</td>\n",
       "    </tr>\n",
       "    <tr>\n",
       "      <th>...</th>\n",
       "      <td>...</td>\n",
       "      <td>...</td>\n",
       "      <td>...</td>\n",
       "      <td>...</td>\n",
       "    </tr>\n",
       "    <tr>\n",
       "      <th>740</th>\n",
       "      <td>Zertifizierung</td>\n",
       "      <td>CSM – Scrum Master</td>\n",
       "      <td>45</td>\n",
       "      <td>10 - 50</td>\n",
       "    </tr>\n",
       "    <tr>\n",
       "      <th>741</th>\n",
       "      <td>Zertifizierung</td>\n",
       "      <td>CSPO – Product Owner</td>\n",
       "      <td>7</td>\n",
       "      <td>&lt; 10</td>\n",
       "    </tr>\n",
       "    <tr>\n",
       "      <th>742</th>\n",
       "      <td>Zertifizierung</td>\n",
       "      <td>ISTQB - Foundation Level</td>\n",
       "      <td>10</td>\n",
       "      <td>10 - 50</td>\n",
       "    </tr>\n",
       "    <tr>\n",
       "      <th>743</th>\n",
       "      <td>nxp Abteilungen</td>\n",
       "      <td>Pimcore</td>\n",
       "      <td>1</td>\n",
       "      <td>&lt; 10</td>\n",
       "    </tr>\n",
       "    <tr>\n",
       "      <th>744</th>\n",
       "      <td>nxp Abteilungen</td>\n",
       "      <td>UX</td>\n",
       "      <td>1</td>\n",
       "      <td>&lt; 10</td>\n",
       "    </tr>\n",
       "  </tbody>\n",
       "</table>\n",
       "<p>745 rows × 4 columns</p>\n",
       "</div>"
      ],
      "text/plain": [
       "                      category                     skill  frequence  \\\n",
       "0    .NET Frameworks und Tools    .NET Compact Framework         28   \n",
       "1    .NET Frameworks und Tools                 .NET Core         10   \n",
       "2    .NET Frameworks und Tools            .NET Framework         87   \n",
       "3    .NET Frameworks und Tools                   ADO.NET         23   \n",
       "4    .NET Frameworks und Tools            ASP Generalist         29   \n",
       "..                         ...                       ...        ...   \n",
       "740             Zertifizierung        CSM – Scrum Master         45   \n",
       "741             Zertifizierung      CSPO – Product Owner          7   \n",
       "742             Zertifizierung  ISTQB - Foundation Level         10   \n",
       "743            nxp Abteilungen                   Pimcore          1   \n",
       "744            nxp Abteilungen                        UX          1   \n",
       "\n",
       "    frequence_category  \n",
       "0              10 - 50  \n",
       "1              10 - 50  \n",
       "2             50 - 100  \n",
       "3              10 - 50  \n",
       "4              10 - 50  \n",
       "..                 ...  \n",
       "740            10 - 50  \n",
       "741               < 10  \n",
       "742            10 - 50  \n",
       "743               < 10  \n",
       "744               < 10  \n",
       "\n",
       "[745 rows x 4 columns]"
      ]
     },
     "execution_count": 14,
     "metadata": {},
     "output_type": "execute_result"
    }
   ],
   "source": [
    "graduations = []\n",
    "frqeuences = []\n",
    "for i in df_groupby_category_skills.frequence: # 0te Element ist: Series([], Name: frequence, dtype: int64)\n",
    "    if i > 200: \n",
    "        \n",
    "        graduations.append(\"> 200\")\n",
    "    elif i >= 100:\n",
    "        graduations.append(\"100 - 200\")\n",
    "    elif i >= 50:\n",
    "        graduations.append(\"50 - 100\")\n",
    "    elif i >= 10:\n",
    "        graduations.append(\"10 - 50\")\n",
    "    else:\n",
    "        graduations.append(\"< 10\")\n",
    "\n",
    "df_groupby_category_skills[\"frequence_category\"] = graduations\n",
    "df_groupby_category_skills"
   ]
  },
  {
   "cell_type": "code",
   "execution_count": 15,
   "metadata": {},
   "outputs": [
    {
     "data": {
      "text/html": [
       "<div>\n",
       "<style scoped>\n",
       "    .dataframe tbody tr th:only-of-type {\n",
       "        vertical-align: middle;\n",
       "    }\n",
       "\n",
       "    .dataframe tbody tr th {\n",
       "        vertical-align: top;\n",
       "    }\n",
       "\n",
       "    .dataframe thead th {\n",
       "        text-align: right;\n",
       "    }\n",
       "</style>\n",
       "<table border=\"1\" class=\"dataframe\">\n",
       "  <thead>\n",
       "    <tr style=\"text-align: right;\">\n",
       "      <th></th>\n",
       "      <th>frequence_category</th>\n",
       "      <th>number_of_skills</th>\n",
       "    </tr>\n",
       "  </thead>\n",
       "  <tbody>\n",
       "    <tr>\n",
       "      <th>0</th>\n",
       "      <td>10 - 50</td>\n",
       "      <td>277</td>\n",
       "    </tr>\n",
       "    <tr>\n",
       "      <th>1</th>\n",
       "      <td>100 - 200</td>\n",
       "      <td>57</td>\n",
       "    </tr>\n",
       "    <tr>\n",
       "      <th>2</th>\n",
       "      <td>50 - 100</td>\n",
       "      <td>68</td>\n",
       "    </tr>\n",
       "    <tr>\n",
       "      <th>3</th>\n",
       "      <td>&lt; 10</td>\n",
       "      <td>326</td>\n",
       "    </tr>\n",
       "    <tr>\n",
       "      <th>4</th>\n",
       "      <td>&gt; 200</td>\n",
       "      <td>17</td>\n",
       "    </tr>\n",
       "  </tbody>\n",
       "</table>\n",
       "</div>"
      ],
      "text/plain": [
       "  frequence_category  number_of_skills\n",
       "0            10 - 50               277\n",
       "1          100 - 200                57\n",
       "2           50 - 100                68\n",
       "3               < 10               326\n",
       "4              > 200                17"
      ]
     },
     "execution_count": 15,
     "metadata": {},
     "output_type": "execute_result"
    }
   ],
   "source": [
    "df_frequence_category  =df_groupby_category_skills.groupby([\"frequence_category\"])[\"frequence_category\"].count().to_frame().rename(columns={\"frequence_category\": \"number_of_skills\"}).reset_index()\n",
    "df_frequence_category"
   ]
  },
  {
   "cell_type": "code",
   "execution_count": 19,
   "metadata": {},
   "outputs": [
    {
     "data": {
      "image/png": "[encoded data removed]",
      "text/plain": [
       "<Figure size 1200x800 with 1 Axes>"
      ]
     },
     "metadata": {},
     "output_type": "display_data"
    }
   ],
   "source": [
    "make_bar_chart(df_frequence_category,1,0,True,False,\"Number of skills categorized\")\n"
   ]
  },
  {
   "cell_type": "code",
   "execution_count": null,
   "metadata": {},
   "outputs": [],
   "source": [
    "######\n",
    "# Plots the distiribution within a category\n",
    "#####\n",
    "\n",
    "categories = df_groupby_category_skills.category.unique().tolist()\n",
    "def plot_distribution_in_category(category):\n",
    "\n",
    "    cat = df_groupby_category_skills.loc[df_groupby_category_skills[\"category\"] == category]\n",
    "    cat = cat.sort_values([\"frequence\"], ascending = False)\n",
    "    plt.figure(figsize=(12, 8))\n",
    "    ax = cat.frequence.plot(kind=\"bar\")\n",
    "    \n",
    "    rects = ax.patches\n",
    "    for rect, label in zip(rects, cat.frequence):\n",
    "        height = rect.get_height()\n",
    "        ax.text(rect.get_x() + rect.get_width() / 2, height+0.01, label,\n",
    "            ha='center', va='bottom')\n",
    "\n",
    "    ax.set_xticklabels(cat.skill)\n",
    "    ax.set_title(f\"Frequence of skills within {cat.category.unique()}\")\n",
    "    plt.show()\n",
    "\n",
    "\n",
    "   "
   ]
  },
  {
   "cell_type": "code",
   "execution_count": null,
   "metadata": {},
   "outputs": [],
   "source": [
    "plot_distribution_in_category(categories[0])"
   ]
  },
  {
   "cell_type": "code",
   "execution_count": null,
   "metadata": {},
   "outputs": [],
   "source": [
    "\n",
    "data = [15, 25, 25, 30, 5]\n",
    "labels = ['Group 1', 'Group 2', 'Group 3', 'Group 4', 'Group 5']\n",
    "\n",
    "#define Seaborn color palette to use\n",
    "colors = sns.color_palette('pastel')[0:5]\n",
    "\n",
    "#create pie chart\n",
    "plt.pie(data, labels = labels, colors = colors, autopct='%.0f%%')\n",
    "plt.show()"
   ]
  },
  {
   "cell_type": "code",
   "execution_count": null,
   "metadata": {},
   "outputs": [],
   "source": [
    "print(\"Test\")"
   ]
  },
  {
   "cell_type": "markdown",
   "metadata": {},
   "source": [
    "# Notizen\n",
    "* Evt Überlegen, ob wir die Kategorien wie Betriebssysteme usw. im ersten Lauf noch beibehalten sollten\n"
   ]
  }
 ],
 "metadata": {
  "kernelspec": {
   "display_name": "Python 3.10.7 ('ds_ap')",
   "language": "python",
   "name": "python3"
  },
  "language_info": {
   "codemirror_mode": {
    "name": "ipython",
    "version": 3
   },
   "file_extension": ".py",
   "mimetype": "text/x-python",
   "name": "python",
   "nbconvert_exporter": "python",
   "pygments_lexer": "ipython3",
   "version": "3.10.8"
  },
  "orig_nbformat": 4,
  "vscode": {
   "interpreter": {
    "hash": "8996f7eb5d6e71da274e2fd586344696b92822ac57b0ea3abe334ce59f7c050e"
   }
  }
 },
 "nbformat": 4,
 "nbformat_minor": 2
}
